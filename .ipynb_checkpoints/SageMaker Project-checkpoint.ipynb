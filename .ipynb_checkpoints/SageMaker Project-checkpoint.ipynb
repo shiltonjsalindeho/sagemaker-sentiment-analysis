{
 "cells": [
  {
   "cell_type": "markdown",
   "metadata": {},
   "source": [
    "# Creating a Sentiment Analysis Web App\n",
    "## Using PyTorch and SageMaker\n",
    "\n",
    "_Deep Learning Nanodegree Program | Deployment_\n",
    "\n",
    "---\n",
    "\n",
    "Now that we have a basic understanding of how SageMaker works we will try to use it to construct a complete project from end to end. Our goal will be to have a simple web page which a user can use to enter a movie review. The web page will then send the review off to our deployed model which will predict the sentiment of the entered review.\n",
    "\n",
    "## Instructions\n",
    "\n",
    "Some template code has already been provided for you, and you will need to implement additional functionality to successfully complete this notebook. You will not need to modify the included code beyond what is requested. Sections that begin with '**TODO**' in the header indicate that you need to complete or implement some portion within them. Instructions will be provided for each section and the specifics of the implementation are marked in the code block with a `# TODO: ...` comment. Please be sure to read the instructions carefully!\n",
    "\n",
    "In addition to implementing code, there will be questions for you to answer which relate to the task and your implementation. Each section where you will answer a question is preceded by a '**Question:**' header. Carefully read each question and provide your answer below the '**Answer:**' header by editing the Markdown cell.\n",
    "\n",
    "> **Note**: Code and Markdown cells can be executed using the **Shift+Enter** keyboard shortcut. In addition, a cell can be edited by typically clicking it (double-click for Markdown cells) or by pressing **Enter** while it is highlighted.\n",
    "\n",
    "## General Outline\n",
    "\n",
    "Recall the general outline for SageMaker projects using a notebook instance.\n",
    "\n",
    "1. Download or otherwise retrieve the data.\n",
    "2. Process / Prepare the data.\n",
    "3. Upload the processed data to S3.\n",
    "4. Train a chosen model.\n",
    "5. Test the trained model (typically using a batch transform job).\n",
    "6. Deploy the trained model.\n",
    "7. Use the deployed model.\n",
    "\n",
    "For this project, you will be following the steps in the general outline with some modifications. \n",
    "\n",
    "First, you will not be testing the model in its own step. You will still be testing the model, however, you will do it by deploying your model and then using the deployed model by sending the test data to it. One of the reasons for doing this is so that you can make sure that your deployed model is working correctly before moving forward.\n",
    "\n",
    "In addition, you will deploy and use your trained model a second time. In the second iteration you will customize the way that your trained model is deployed by including some of your own code. In addition, your newly deployed model will be used in the sentiment analysis web app."
   ]
  },
  {
   "cell_type": "code",
   "execution_count": 1,
   "metadata": {},
   "outputs": [
    {
     "name": "stdout",
     "output_type": "stream",
     "text": [
      "Requirement already satisfied: sagemaker==1.72.0 in /home/ec2-user/anaconda3/envs/pytorch_p36/lib/python3.6/site-packages (1.72.0)\n",
      "Requirement already satisfied: scipy>=0.19.0 in /home/ec2-user/anaconda3/envs/pytorch_p36/lib/python3.6/site-packages (from sagemaker==1.72.0) (1.5.3)\n",
      "Requirement already satisfied: protobuf3-to-dict>=0.1.5 in /home/ec2-user/anaconda3/envs/pytorch_p36/lib/python3.6/site-packages (from sagemaker==1.72.0) (0.1.5)\n",
      "Requirement already satisfied: importlib-metadata>=1.4.0 in /home/ec2-user/anaconda3/envs/pytorch_p36/lib/python3.6/site-packages (from sagemaker==1.72.0) (4.5.0)\n",
      "Requirement already satisfied: smdebug-rulesconfig==0.1.4 in /home/ec2-user/anaconda3/envs/pytorch_p36/lib/python3.6/site-packages (from sagemaker==1.72.0) (0.1.4)\n",
      "Requirement already satisfied: packaging>=20.0 in /home/ec2-user/anaconda3/envs/pytorch_p36/lib/python3.6/site-packages (from sagemaker==1.72.0) (21.3)\n",
      "Requirement already satisfied: boto3>=1.14.12 in /home/ec2-user/anaconda3/envs/pytorch_p36/lib/python3.6/site-packages (from sagemaker==1.72.0) (1.21.12)\n",
      "Requirement already satisfied: protobuf>=3.1 in /home/ec2-user/anaconda3/envs/pytorch_p36/lib/python3.6/site-packages (from sagemaker==1.72.0) (3.17.2)\n",
      "Requirement already satisfied: numpy>=1.9.0 in /home/ec2-user/anaconda3/envs/pytorch_p36/lib/python3.6/site-packages (from sagemaker==1.72.0) (1.19.5)\n",
      "Requirement already satisfied: botocore<1.25.0,>=1.24.12 in /home/ec2-user/anaconda3/envs/pytorch_p36/lib/python3.6/site-packages (from boto3>=1.14.12->sagemaker==1.72.0) (1.24.12)\n",
      "Requirement already satisfied: s3transfer<0.6.0,>=0.5.0 in /home/ec2-user/anaconda3/envs/pytorch_p36/lib/python3.6/site-packages (from boto3>=1.14.12->sagemaker==1.72.0) (0.5.0)\n",
      "Requirement already satisfied: jmespath<1.0.0,>=0.7.1 in /home/ec2-user/anaconda3/envs/pytorch_p36/lib/python3.6/site-packages (from boto3>=1.14.12->sagemaker==1.72.0) (0.10.0)\n",
      "Requirement already satisfied: zipp>=0.5 in /home/ec2-user/anaconda3/envs/pytorch_p36/lib/python3.6/site-packages (from importlib-metadata>=1.4.0->sagemaker==1.72.0) (3.4.1)\n",
      "Requirement already satisfied: typing-extensions>=3.6.4 in /home/ec2-user/anaconda3/envs/pytorch_p36/lib/python3.6/site-packages (from importlib-metadata>=1.4.0->sagemaker==1.72.0) (3.10.0.0)\n",
      "Requirement already satisfied: pyparsing!=3.0.5,>=2.0.2 in /home/ec2-user/anaconda3/envs/pytorch_p36/lib/python3.6/site-packages (from packaging>=20.0->sagemaker==1.72.0) (2.4.7)\n",
      "Requirement already satisfied: six>=1.9 in /home/ec2-user/anaconda3/envs/pytorch_p36/lib/python3.6/site-packages (from protobuf>=3.1->sagemaker==1.72.0) (1.16.0)\n",
      "Requirement already satisfied: urllib3<1.27,>=1.25.4 in /home/ec2-user/anaconda3/envs/pytorch_p36/lib/python3.6/site-packages (from botocore<1.25.0,>=1.24.12->boto3>=1.14.12->sagemaker==1.72.0) (1.26.8)\n",
      "Requirement already satisfied: python-dateutil<3.0.0,>=2.1 in /home/ec2-user/anaconda3/envs/pytorch_p36/lib/python3.6/site-packages (from botocore<1.25.0,>=1.24.12->boto3>=1.14.12->sagemaker==1.72.0) (2.8.1)\n"
     ]
    }
   ],
   "source": [
    "# Make sure that we use SageMaker 1.x\n",
    "!pip install sagemaker==1.72.0"
   ]
  },
  {
   "cell_type": "markdown",
   "metadata": {},
   "source": [
    "## Step 1: Downloading the data\n",
    "\n",
    "As in the XGBoost in SageMaker notebook, we will be using the [IMDb dataset](http://ai.stanford.edu/~amaas/data/sentiment/)\n",
    "\n",
    "> Maas, Andrew L., et al. [Learning Word Vectors for Sentiment Analysis](http://ai.stanford.edu/~amaas/data/sentiment/). In _Proceedings of the 49th Annual Meeting of the Association for Computational Linguistics: Human Language Technologies_. Association for Computational Linguistics, 2011."
   ]
  },
  {
   "cell_type": "code",
   "execution_count": 2,
   "metadata": {},
   "outputs": [
    {
     "name": "stdout",
     "output_type": "stream",
     "text": [
      "mkdir: cannot create directory ‘../data’: File exists\n",
      "--2022-03-24 12:49:18--  http://ai.stanford.edu/~amaas/data/sentiment/aclImdb_v1.tar.gz\n",
      "Resolving ai.stanford.edu (ai.stanford.edu)... 171.64.68.10\n",
      "Connecting to ai.stanford.edu (ai.stanford.edu)|171.64.68.10|:80... connected.\n",
      "HTTP request sent, awaiting response... 200 OK\n",
      "Length: 84125825 (80M) [application/x-gzip]\n",
      "Saving to: ‘../data/aclImdb_v1.tar.gz’\n",
      "\n",
      "../data/aclImdb_v1. 100%[===================>]  80.23M  23.6MB/s    in 4.4s    \n",
      "\n",
      "2022-03-24 12:49:22 (18.1 MB/s) - ‘../data/aclImdb_v1.tar.gz’ saved [84125825/84125825]\n",
      "\n"
     ]
    }
   ],
   "source": [
    "%mkdir ../data\n",
    "!wget -O ../data/aclImdb_v1.tar.gz http://ai.stanford.edu/~amaas/data/sentiment/aclImdb_v1.tar.gz\n",
    "!tar -zxf ../data/aclImdb_v1.tar.gz -C ../data"
   ]
  },
  {
   "cell_type": "markdown",
   "metadata": {},
   "source": [
    "## Step 2: Preparing and Processing the data\n",
    "\n",
    "Also, as in the XGBoost notebook, we will be doing some initial data processing. The first few steps are the same as in the XGBoost example. To begin with, we will read in each of the reviews and combine them into a single input structure. Then, we will split the dataset into a training set and a testing set."
   ]
  },
  {
   "cell_type": "code",
   "execution_count": 3,
   "metadata": {},
   "outputs": [],
   "source": [
    "import os\n",
    "import glob\n",
    "\n",
    "def read_imdb_data(data_dir='../data/aclImdb'):\n",
    "    data = {}\n",
    "    labels = {}\n",
    "    \n",
    "    for data_type in ['train', 'test']:\n",
    "        data[data_type] = {}\n",
    "        labels[data_type] = {}\n",
    "        \n",
    "        for sentiment in ['pos', 'neg']:\n",
    "            data[data_type][sentiment] = []\n",
    "            labels[data_type][sentiment] = []\n",
    "            \n",
    "            path = os.path.join(data_dir, data_type, sentiment, '*.txt')\n",
    "            files = glob.glob(path)\n",
    "            \n",
    "            for f in files:\n",
    "                with open(f) as review:\n",
    "                    data[data_type][sentiment].append(review.read())\n",
    "                    # Here we represent a positive review by '1' and a negative review by '0'\n",
    "                    labels[data_type][sentiment].append(1 if sentiment == 'pos' else 0)\n",
    "                    \n",
    "            assert len(data[data_type][sentiment]) == len(labels[data_type][sentiment]), \\\n",
    "                    \"{}/{} data size does not match labels size\".format(data_type, sentiment)\n",
    "                \n",
    "    return data, labels"
   ]
  },
  {
   "cell_type": "code",
   "execution_count": 4,
   "metadata": {},
   "outputs": [
    {
     "name": "stdout",
     "output_type": "stream",
     "text": [
      "IMDB reviews: train = 12500 pos / 12500 neg, test = 12500 pos / 12500 neg\n"
     ]
    }
   ],
   "source": [
    "data, labels = read_imdb_data()\n",
    "print(\"IMDB reviews: train = {} pos / {} neg, test = {} pos / {} neg\".format(\n",
    "            len(data['train']['pos']), len(data['train']['neg']),\n",
    "            len(data['test']['pos']), len(data['test']['neg'])))"
   ]
  },
  {
   "cell_type": "markdown",
   "metadata": {},
   "source": [
    "Now that we've read the raw training and testing data from the downloaded dataset, we will combine the positive and negative reviews and shuffle the resulting records."
   ]
  },
  {
   "cell_type": "code",
   "execution_count": 5,
   "metadata": {},
   "outputs": [],
   "source": [
    "from sklearn.utils import shuffle\n",
    "\n",
    "def prepare_imdb_data(data, labels):\n",
    "    \"\"\"Prepare training and test sets from IMDb movie reviews.\"\"\"\n",
    "    \n",
    "    #Combine positive and negative reviews and labels\n",
    "    data_train = data['train']['pos'] + data['train']['neg']\n",
    "    data_test = data['test']['pos'] + data['test']['neg']\n",
    "    labels_train = labels['train']['pos'] + labels['train']['neg']\n",
    "    labels_test = labels['test']['pos'] + labels['test']['neg']\n",
    "    \n",
    "    #Shuffle reviews and corresponding labels within training and test sets\n",
    "    data_train, labels_train = shuffle(data_train, labels_train)\n",
    "    data_test, labels_test = shuffle(data_test, labels_test)\n",
    "    \n",
    "    # Return a unified training data, test data, training labels, test labets\n",
    "    return data_train, data_test, labels_train, labels_test"
   ]
  },
  {
   "cell_type": "code",
   "execution_count": 6,
   "metadata": {},
   "outputs": [
    {
     "name": "stdout",
     "output_type": "stream",
     "text": [
      "IMDb reviews (combined): train = 25000, test = 25000\n"
     ]
    }
   ],
   "source": [
    "train_X, test_X, train_y, test_y = prepare_imdb_data(data, labels)\n",
    "print(\"IMDb reviews (combined): train = {}, test = {}\".format(len(train_X), len(test_X)))"
   ]
  },
  {
   "cell_type": "markdown",
   "metadata": {},
   "source": [
    "Now that we have our training and testing sets unified and prepared, we should do a quick check and see an example of the data our model will be trained on. This is generally a good idea as it allows you to see how each of the further processing steps affects the reviews and it also ensures that the data has been loaded correctly."
   ]
  },
  {
   "cell_type": "code",
   "execution_count": 7,
   "metadata": {},
   "outputs": [
    {
     "name": "stdout",
     "output_type": "stream",
     "text": [
      "when i saw the movie at first i thought that it was boring because nothing was happening but when all the scary things started to happen like when church dies and is brought back to life and also gage and his mom die and there idiot dad has to bring them back to life even though he nows the warnings and ignores Jud.this is not Steven kings best work. i thought that his best work was the shining. i don't think that people who see this movie and comment on how awful it was are wrong because all they think is that what were they thinking. as if that person can do a better job in making a horror flick. i mean making the gage evil and how he kills Jud is genius. making the most innocent most unsuspecting character into one of the killers is cool. people who didn't like the movie are dumb because all it is a scary movie and nothing all. don't expect something from a movie that it isn't. it still in a general area wasn't that good. i still recommend people to watch the movie\n",
      "1\n"
     ]
    }
   ],
   "source": [
    "print(train_X[100])\n",
    "print(train_y[100])"
   ]
  },
  {
   "cell_type": "markdown",
   "metadata": {},
   "source": [
    "The first step in processing the reviews is to make sure that any html tags that appear should be removed. In addition we wish to tokenize our input, that way words such as *entertained* and *entertaining* are considered the same with regard to sentiment analysis."
   ]
  },
  {
   "cell_type": "code",
   "execution_count": 8,
   "metadata": {},
   "outputs": [],
   "source": [
    "import nltk\n",
    "from nltk.corpus import stopwords\n",
    "from nltk.stem.porter import *\n",
    "\n",
    "import re\n",
    "from bs4 import BeautifulSoup\n",
    "\n",
    "def review_to_words(review):\n",
    "    nltk.download(\"stopwords\", quiet=True)\n",
    "    stemmer = PorterStemmer()\n",
    "    \n",
    "    text = BeautifulSoup(review, \"html.parser\").get_text() # Remove HTML tags\n",
    "    text = re.sub(r\"[^a-zA-Z0-9]\", \" \", text.lower()) # Convert to lower case\n",
    "    words = text.split() # Split string into words\n",
    "    words = [w for w in words if w not in stopwords.words(\"english\")] # Remove stopwords\n",
    "    words = [PorterStemmer().stem(w) for w in words] # stem\n",
    "    \n",
    "    return words"
   ]
  },
  {
   "cell_type": "markdown",
   "metadata": {},
   "source": [
    "The `review_to_words` method defined above uses `BeautifulSoup` to remove any html tags that appear and uses the `nltk` package to tokenize the reviews. As a check to ensure we know how everything is working, try applying `review_to_words` to one of the reviews in the training set."
   ]
  },
  {
   "cell_type": "code",
   "execution_count": 9,
   "metadata": {},
   "outputs": [
    {
     "data": {
      "text/plain": [
       "['saw',\n",
       " 'movi',\n",
       " 'first',\n",
       " 'thought',\n",
       " 'bore',\n",
       " 'noth',\n",
       " 'happen',\n",
       " 'scari',\n",
       " 'thing',\n",
       " 'start',\n",
       " 'happen',\n",
       " 'like',\n",
       " 'church',\n",
       " 'die',\n",
       " 'brought',\n",
       " 'back',\n",
       " 'life',\n",
       " 'also',\n",
       " 'gage',\n",
       " 'mom',\n",
       " 'die',\n",
       " 'idiot',\n",
       " 'dad',\n",
       " 'bring',\n",
       " 'back',\n",
       " 'life',\n",
       " 'even',\n",
       " 'though',\n",
       " 'now',\n",
       " 'warn',\n",
       " 'ignor',\n",
       " 'jud',\n",
       " 'steven',\n",
       " 'king',\n",
       " 'best',\n",
       " 'work',\n",
       " 'thought',\n",
       " 'best',\n",
       " 'work',\n",
       " 'shine',\n",
       " 'think',\n",
       " 'peopl',\n",
       " 'see',\n",
       " 'movi',\n",
       " 'comment',\n",
       " 'aw',\n",
       " 'wrong',\n",
       " 'think',\n",
       " 'think',\n",
       " 'person',\n",
       " 'better',\n",
       " 'job',\n",
       " 'make',\n",
       " 'horror',\n",
       " 'flick',\n",
       " 'mean',\n",
       " 'make',\n",
       " 'gage',\n",
       " 'evil',\n",
       " 'kill',\n",
       " 'jud',\n",
       " 'geniu',\n",
       " 'make',\n",
       " 'innoc',\n",
       " 'unsuspect',\n",
       " 'charact',\n",
       " 'one',\n",
       " 'killer',\n",
       " 'cool',\n",
       " 'peopl',\n",
       " 'like',\n",
       " 'movi',\n",
       " 'dumb',\n",
       " 'scari',\n",
       " 'movi',\n",
       " 'noth',\n",
       " 'expect',\n",
       " 'someth',\n",
       " 'movi',\n",
       " 'still',\n",
       " 'gener',\n",
       " 'area',\n",
       " 'good',\n",
       " 'still',\n",
       " 'recommend',\n",
       " 'peopl',\n",
       " 'watch',\n",
       " 'movi']"
      ]
     },
     "execution_count": 9,
     "metadata": {},
     "output_type": "execute_result"
    }
   ],
   "source": [
    "# TODO: Apply review_to_words to a review (train_X[100] or any other review)\n",
    "review_to_words(train_X[100])"
   ]
  },
  {
   "cell_type": "markdown",
   "metadata": {},
   "source": [
    "**Question:** Above we mentioned that `review_to_words` method removes html formatting and allows us to tokenize the words found in a review, for example, converting *entertained* and *entertaining* into *entertain* so that they are treated as though they are the same word. What else, if anything, does this method do to the input?"
   ]
  },
  {
   "cell_type": "markdown",
   "metadata": {},
   "source": [
    "**Answer:** On top of removing html formatting and tokenizing words in a review, this method first and foremost splits the whole corpus/string into words, removes stopwords based on nltk's library of stopwords, and also converts the letters in the tokenized words to lowercase."
   ]
  },
  {
   "cell_type": "markdown",
   "metadata": {},
   "source": [
    "The method below applies the `review_to_words` method to each of the reviews in the training and testing datasets. In addition it caches the results. This is because performing this processing step can take a long time. This way if you are unable to complete the notebook in the current session, you can come back without needing to process the data a second time."
   ]
  },
  {
   "cell_type": "code",
   "execution_count": 10,
   "metadata": {},
   "outputs": [],
   "source": [
    "import pickle\n",
    "\n",
    "cache_dir = os.path.join(\"../cache\", \"sentiment_analysis\")  # where to store cache files\n",
    "os.makedirs(cache_dir, exist_ok=True)  # ensure cache directory exists\n",
    "\n",
    "def preprocess_data(data_train, data_test, labels_train, labels_test,\n",
    "                    cache_dir=cache_dir, cache_file=\"preprocessed_data.pkl\"):\n",
    "    \"\"\"Convert each review to words; read from cache if available.\"\"\"\n",
    "\n",
    "    # If cache_file is not None, try to read from it first\n",
    "    cache_data = None\n",
    "    if cache_file is not None:\n",
    "        try:\n",
    "            with open(os.path.join(cache_dir, cache_file), \"rb\") as f:\n",
    "                cache_data = pickle.load(f)\n",
    "            print(\"Read preprocessed data from cache file:\", cache_file)\n",
    "        except:\n",
    "            pass  # unable to read from cache, but that's okay\n",
    "    \n",
    "    # If cache is missing, then do the heavy lifting\n",
    "    if cache_data is None:\n",
    "        # Preprocess training and test data to obtain words for each review\n",
    "        #words_train = list(map(review_to_words, data_train))\n",
    "        #words_test = list(map(review_to_words, data_test))\n",
    "        words_train = [review_to_words(review) for review in data_train]\n",
    "        words_test = [review_to_words(review) for review in data_test]\n",
    "        \n",
    "        # Write to cache file for future runs\n",
    "        if cache_file is not None:\n",
    "            cache_data = dict(words_train=words_train, words_test=words_test,\n",
    "                              labels_train=labels_train, labels_test=labels_test)\n",
    "            with open(os.path.join(cache_dir, cache_file), \"wb\") as f:\n",
    "                pickle.dump(cache_data, f)\n",
    "            print(\"Wrote preprocessed data to cache file:\", cache_file)\n",
    "    else:\n",
    "        # Unpack data loaded from cache file\n",
    "        words_train, words_test, labels_train, labels_test = (cache_data['words_train'],\n",
    "                cache_data['words_test'], cache_data['labels_train'], cache_data['labels_test'])\n",
    "    \n",
    "    return words_train, words_test, labels_train, labels_test"
   ]
  },
  {
   "cell_type": "code",
   "execution_count": 11,
   "metadata": {},
   "outputs": [
    {
     "name": "stdout",
     "output_type": "stream",
     "text": [
      "Read preprocessed data from cache file: preprocessed_data.pkl\n"
     ]
    }
   ],
   "source": [
    "# Preprocess data\n",
    "train_X, test_X, train_y, test_y = preprocess_data(train_X, test_X, train_y, test_y)"
   ]
  },
  {
   "cell_type": "markdown",
   "metadata": {},
   "source": [
    "## Transform the data\n",
    "\n",
    "In the XGBoost notebook we transformed the data from its word representation to a bag-of-words feature representation. For the model we are going to construct in this notebook we will construct a feature representation which is very similar. To start, we will represent each word as an integer. Of course, some of the words that appear in the reviews occur very infrequently and so likely don't contain much information for the purposes of sentiment analysis. The way we will deal with this problem is that we will fix the size of our working vocabulary and we will only include the words that appear most frequently. We will then combine all of the infrequent words into a single category and, in our case, we will label it as `1`.\n",
    "\n",
    "Since we will be using a recurrent neural network, it will be convenient if the length of each review is the same. To do this, we will fix a size for our reviews and then pad short reviews with the category 'no word' (which we will label `0`) and truncate long reviews."
   ]
  },
  {
   "cell_type": "markdown",
   "metadata": {},
   "source": [
    "### (TODO) Create a word dictionary\n",
    "\n",
    "To begin with, we need to construct a way to map words that appear in the reviews to integers. Here we fix the size of our vocabulary (including the 'no word' and 'infrequent' categories) to be `5000` but you may wish to change this to see how it affects the model.\n",
    "\n",
    "> **TODO:** Complete the implementation for the `build_dict()` method below. Note that even though the vocab_size is set to `5000`, we only want to construct a mapping for the most frequently appearing `4998` words. This is because we want to reserve the special labels `0` for 'no word' and `1` for 'infrequent word'."
   ]
  },
  {
   "cell_type": "code",
   "execution_count": 12,
   "metadata": {},
   "outputs": [],
   "source": [
    "import numpy as np\n",
    "\n",
    "def build_dict(data, vocab_size = 5000):\n",
    "    \"\"\"Construct and return a dictionary mapping each of the most frequently appearing words to a unique integer.\"\"\"\n",
    "    \n",
    "    # TODO: Determine how often each word appears in `data`. Note that `data` is a list of sentences and that a\n",
    "    #       sentence is a list of words.\n",
    "    \n",
    "    word_count = {} # A dict storing the words that appear in the reviews along with how often they occur\n",
    "    \n",
    "    # increment counts of each words in data in the dictionary\n",
    "    for review in data:\n",
    "        for word in review:\n",
    "            if word in word_count:\n",
    "                word_count[word] += 1\n",
    "            else:\n",
    "                word_count[word] = 1\n",
    "    \n",
    "    # TODO: Sort the words found in `data` so that sorted_words[0] is the most frequently appearing word and\n",
    "    #       sorted_words[-1] is the least frequently appearing word.\n",
    "    \n",
    "    # using Python's sorted function\n",
    "    # the key is important because we're interested to sort the 2nd element of the tuples which is the count\n",
    "    # reverse=True is important because we're interested in a descending order i.e. most to least frequently appearing\n",
    "    \n",
    "    sorted_words = [k for k,_ in (sorted(word_count.items(), key=lambda word: word[1], reverse=True))]\n",
    "    \n",
    "    word_dict = {} # This is what we are building, a dictionary that translates words into integers\n",
    "    for idx, word in enumerate(sorted_words[:vocab_size - 2]): # The -2 is so that we save room for the 'no word'\n",
    "        word_dict[word] = idx + 2                              # 'infrequent' labels\n",
    "        \n",
    "    return word_dict"
   ]
  },
  {
   "cell_type": "code",
   "execution_count": 13,
   "metadata": {},
   "outputs": [],
   "source": [
    "word_dict = build_dict(train_X)"
   ]
  },
  {
   "cell_type": "markdown",
   "metadata": {},
   "source": [
    "**Question:** What are the five most frequently appearing (tokenized) words in the training set? Does it makes sense that these words appear frequently in the training set?"
   ]
  },
  {
   "cell_type": "markdown",
   "metadata": {},
   "source": [
    "**Answer:** The five most requently appearing (tokenized) words in the training set are 'movi', 'film', 'one', 'like', 'time'. It does make sense that these words appear frequently in the training set.\n",
    "\n",
    "The first two are kind of self-explanatory. \n",
    "\n",
    "'one' is something that people say quite often when singling out something e.g. \"one of the things I enjoyed...\" or \"during one scene...\".\n",
    "\n",
    "People will mention what they 'like' and dislike in a movie, hence 'like' being number four on the list. \n",
    "\n",
    "And finally, 'time' can be used when saying how many times something happened in the movie, or referring to a specific point of time in the movie."
   ]
  },
  {
   "cell_type": "code",
   "execution_count": 14,
   "metadata": {},
   "outputs": [
    {
     "name": "stdout",
     "output_type": "stream",
     "text": [
      "{'movi': 2, 'film': 3, 'one': 4, 'like': 5, 'time': 6, 'good': 7, 'make': 8, 'charact': 9, 'get': 10, 'see': 11, 'watch': 12, 'stori': 13, 'even': 14, 'would': 15, 'realli': 16, 'well': 17, 'scene': 18, 'look': 19, 'show': 20, 'much': 21, 'end': 22, 'peopl': 23, 'bad': 24, 'go': 25, 'great': 26, 'also': 27, 'first': 28, 'love': 29, 'think': 30, 'way': 31, 'act': 32, 'play': 33, 'made': 34, 'thing': 35, 'could': 36, 'know': 37, 'say': 38, 'seem': 39, 'work': 40, 'plot': 41, 'two': 42, 'actor': 43, 'year': 44, 'come': 45, 'mani': 46, 'seen': 47, 'take': 48, 'want': 49, 'life': 50, 'never': 51, 'littl': 52, 'best': 53, 'tri': 54, 'man': 55, 'ever': 56, 'give': 57, 'better': 58, 'still': 59, 'perform': 60, 'find': 61, 'feel': 62, 'part': 63, 'back': 64, 'use': 65, 'someth': 66, 'director': 67, 'actual': 68, 'interest': 69, 'lot': 70, 'real': 71, 'old': 72, 'cast': 73, 'though': 74, 'live': 75, 'star': 76, 'enjoy': 77, 'guy': 78, 'anoth': 79, 'new': 80, 'role': 81, 'noth': 82, '10': 83, 'funni': 84, 'music': 85, 'point': 86, 'start': 87, 'set': 88, 'girl': 89, 'origin': 90, 'day': 91, 'world': 92, 'everi': 93, 'believ': 94, 'turn': 95, 'quit': 96, 'us': 97, 'direct': 98, 'thought': 99, 'fact': 100, 'minut': 101, 'horror': 102, 'kill': 103, 'action': 104, 'comedi': 105, 'pretti': 106, 'young': 107, 'wonder': 108, 'happen': 109, 'around': 110, 'got': 111, 'effect': 112, 'right': 113, 'long': 114, 'howev': 115, 'big': 116, 'line': 117, 'famili': 118, 'enough': 119, 'seri': 120, 'may': 121, 'need': 122, 'fan': 123, 'bit': 124, 'script': 125, 'beauti': 126, 'person': 127, 'becom': 128, 'without': 129, 'must': 130, 'alway': 131, 'friend': 132, 'tell': 133, 'reason': 134, 'saw': 135, 'last': 136, 'final': 137, 'kid': 138, 'almost': 139, 'put': 140, 'least': 141, 'sure': 142, 'done': 143, 'whole': 144, 'place': 145, 'complet': 146, 'kind': 147, 'differ': 148, 'expect': 149, 'shot': 150, 'far': 151, 'mean': 152, 'anyth': 153, 'book': 154, 'laugh': 155, 'might': 156, 'name': 157, 'sinc': 158, 'begin': 159, '2': 160, 'probabl': 161, 'woman': 162, 'help': 163, 'entertain': 164, 'let': 165, 'screen': 166, 'call': 167, 'tv': 168, 'moment': 169, 'away': 170, 'read': 171, 'yet': 172, 'rather': 173, 'worst': 174, 'run': 175, 'fun': 176, 'lead': 177, 'hard': 178, 'audienc': 179, 'idea': 180, 'anyon': 181, 'episod': 182, 'american': 183, 'found': 184, 'appear': 185, 'bore': 186, 'especi': 187, 'although': 188, 'hope': 189, 'keep': 190, 'cours': 191, 'anim': 192, 'job': 193, 'goe': 194, 'move': 195, 'sens': 196, 'version': 197, 'dvd': 198, 'war': 199, 'money': 200, 'someon': 201, 'mind': 202, 'mayb': 203, 'problem': 204, 'true': 205, 'hous': 206, 'everyth': 207, 'nice': 208, 'second': 209, 'rate': 210, 'three': 211, 'night': 212, 'follow': 213, 'face': 214, 'recommend': 215, 'main': 216, 'product': 217, 'worth': 218, 'leav': 219, 'human': 220, 'special': 221, 'excel': 222, 'togeth': 223, 'wast': 224, 'sound': 225, 'everyon': 226, 'john': 227, 'hand': 228, '1': 229, 'father': 230, 'later': 231, 'eye': 232, 'said': 233, 'view': 234, 'instead': 235, 'review': 236, 'boy': 237, 'high': 238, 'hour': 239, 'miss': 240, 'talk': 241, 'classic': 242, 'wife': 243, 'understand': 244, 'left': 245, 'care': 246, 'black': 247, 'death': 248, 'open': 249, 'murder': 250, 'write': 251, 'half': 252, 'head': 253, 'rememb': 254, 'chang': 255, 'viewer': 256, 'fight': 257, 'gener': 258, 'surpris': 259, 'includ': 260, 'short': 261, 'die': 262, 'fall': 263, 'less': 264, 'els': 265, 'entir': 266, 'piec': 267, 'involv': 268, 'pictur': 269, 'simpli': 270, 'home': 271, 'power': 272, 'top': 273, 'total': 274, 'usual': 275, 'budget': 276, 'attempt': 277, 'suppos': 278, 'releas': 279, 'hollywood': 280, 'terribl': 281, 'song': 282, 'men': 283, 'possibl': 284, 'featur': 285, 'portray': 286, 'disappoint': 287, 'poor': 288, '3': 289, 'coupl': 290, 'stupid': 291, 'camera': 292, 'dead': 293, 'wrong': 294, 'produc': 295, 'low': 296, 'either': 297, 'video': 298, 'aw': 299, 'definit': 300, 'except': 301, 'rest': 302, 'given': 303, 'absolut': 304, 'women': 305, 'lack': 306, 'word': 307, 'writer': 308, 'titl': 309, 'talent': 310, 'decid': 311, 'full': 312, 'perfect': 313, 'along': 314, 'style': 315, 'close': 316, 'truli': 317, 'school': 318, 'save': 319, 'emot': 320, 'sex': 321, 'age': 322, 'next': 323, 'bring': 324, 'mr': 325, 'case': 326, 'killer': 327, 'heart': 328, 'comment': 329, 'sort': 330, 'creat': 331, 'perhap': 332, 'came': 333, 'brother': 334, 'sever': 335, 'joke': 336, 'art': 337, 'dialogu': 338, 'game': 339, 'small': 340, 'base': 341, 'flick': 342, 'written': 343, 'sequenc': 344, 'meet': 345, 'earli': 346, 'often': 347, 'other': 348, 'mother': 349, 'develop': 350, 'humor': 351, 'actress': 352, 'consid': 353, 'dark': 354, 'guess': 355, 'amaz': 356, 'unfortun': 357, 'light': 358, 'lost': 359, 'exampl': 360, 'cinema': 361, 'drama': 362, 'white': 363, 'ye': 364, 'experi': 365, 'imagin': 366, 'mention': 367, 'stop': 368, 'natur': 369, 'forc': 370, 'manag': 371, 'felt': 372, 'present': 373, 'cut': 374, 'children': 375, 'fail': 376, 'son': 377, 'car': 378, 'qualiti': 379, 'support': 380, 'ask': 381, 'hit': 382, 'side': 383, 'voic': 384, 'extrem': 385, 'impress': 386, 'evil': 387, 'wors': 388, 'went': 389, 'stand': 390, 'certainli': 391, 'basic': 392, 'oh': 393, 'overal': 394, 'favorit': 395, 'horribl': 396, 'mysteri': 397, 'number': 398, 'type': 399, 'danc': 400, 'wait': 401, 'hero': 402, 'alreadi': 403, '5': 404, 'learn': 405, 'matter': 406, '4': 407, 'michael': 408, 'genr': 409, 'fine': 410, 'despit': 411, 'throughout': 412, 'walk': 413, 'success': 414, 'histori': 415, 'question': 416, 'zombi': 417, 'town': 418, 'relationship': 419, 'realiz': 420, 'child': 421, 'past': 422, 'daughter': 423, 'late': 424, 'b': 425, 'wish': 426, 'hate': 427, 'credit': 428, 'event': 429, 'theme': 430, 'touch': 431, 'citi': 432, 'today': 433, 'sometim': 434, 'behind': 435, 'god': 436, 'twist': 437, 'sit': 438, 'stay': 439, 'deal': 440, 'annoy': 441, 'abl': 442, 'rent': 443, 'pleas': 444, 'edit': 445, 'blood': 446, 'deserv': 447, 'comic': 448, 'anyway': 449, 'appar': 450, 'soon': 451, 'gave': 452, 'etc': 453, 'level': 454, 'slow': 455, 'chanc': 456, 'score': 457, 'bodi': 458, 'brilliant': 459, 'incred': 460, 'figur': 461, 'situat': 462, 'major': 463, 'self': 464, 'stuff': 465, 'decent': 466, 'element': 467, 'return': 468, 'dream': 469, 'obvious': 470, 'order': 471, 'continu': 472, 'pace': 473, 'ridicul': 474, 'happi': 475, 'add': 476, 'group': 477, 'highli': 478, 'thank': 479, 'ladi': 480, 'novel': 481, 'speak': 482, 'pain': 483, 'career': 484, 'shoot': 485, 'strang': 486, 'heard': 487, 'sad': 488, 'husband': 489, 'polic': 490, 'import': 491, 'break': 492, 'took': 493, 'strong': 494, 'cannot': 495, 'predict': 496, 'robert': 497, 'violenc': 498, 'hilari': 499, 'recent': 500, 'countri': 501, 'known': 502, 'particularli': 503, 'pick': 504, 'documentari': 505, 'season': 506, 'critic': 507, 'jame': 508, 'compar': 509, 'alon': 510, 'obviou': 511, 'told': 512, 'state': 513, 'visual': 514, 'rock': 515, 'offer': 516, 'theater': 517, 'exist': 518, 'opinion': 519, 'gore': 520, 'hold': 521, 'crap': 522, 'result': 523, 'hear': 524, 'realiti': 525, 'room': 526, 'clich': 527, 'effort': 528, 'thriller': 529, 'caus': 530, 'serious': 531, 'explain': 532, 'sequel': 533, 'king': 534, 'local': 535, 'ago': 536, 'hell': 537, 'none': 538, 'note': 539, 'allow': 540, 'sister': 541, 'david': 542, 'simpl': 543, 'femal': 544, 'deliv': 545, 'ok': 546, 'class': 547, 'convinc': 548, 'check': 549, 'suspens': 550, 'win': 551, 'buy': 552, 'oscar': 553, 'huge': 554, 'valu': 555, 'sexual': 556, 'cool': 557, 'scari': 558, 'similar': 559, 'excit': 560, 'apart': 561, 'provid': 562, 'exactli': 563, 'avoid': 564, 'shown': 565, 'seriou': 566, 'english': 567, 'whose': 568, 'taken': 569, 'cinematographi': 570, 'shock': 571, 'polit': 572, 'spoiler': 573, 'offic': 574, 'across': 575, 'middl': 576, 'street': 577, 'pass': 578, 'messag': 579, 'somewhat': 580, 'charm': 581, 'silli': 582, 'modern': 583, 'filmmak': 584, 'confus': 585, 'form': 586, 'tale': 587, 'singl': 588, 'jack': 589, 'mostli': 590, 'attent': 591, 'william': 592, 'carri': 593, 'sing': 594, 'subject': 595, 'five': 596, 'prove': 597, 'richard': 598, 'team': 599, 'stage': 600, 'unlik': 601, 'cop': 602, 'georg': 603, 'monster': 604, 'televis': 605, 'earth': 606, 'cover': 607, 'villain': 608, 'pay': 609, 'marri': 610, 'toward': 611, 'build': 612, 'parent': 613, 'pull': 614, 'due': 615, 'fill': 616, 'respect': 617, 'four': 618, 'dialog': 619, 'remind': 620, 'futur': 621, 'weak': 622, 'typic': 623, '7': 624, 'cheap': 625, 'intellig': 626, 'british': 627, 'atmospher': 628, 'clearli': 629, '80': 630, 'paul': 631, 'non': 632, 'dog': 633, 'artist': 634, '8': 635, 'fast': 636, 'knew': 637, 'crime': 638, 'easili': 639, 'escap': 640, 'adult': 641, 'doubt': 642, 'detail': 643, 'date': 644, 'romant': 645, 'fire': 646, 'member': 647, 'drive': 648, 'gun': 649, 'straight': 650, 'beyond': 651, 'fit': 652, 'attack': 653, 'imag': 654, 'upon': 655, 'posit': 656, 'whether': 657, 'fantast': 658, 'peter': 659, 'appreci': 660, 'aspect': 661, 'captur': 662, 'ten': 663, 'plan': 664, 'discov': 665, 'remain': 666, 'period': 667, 'near': 668, 'air': 669, 'realist': 670, 'mark': 671, 'red': 672, 'dull': 673, 'adapt': 674, 'within': 675, 'spend': 676, 'lose': 677, 'color': 678, 'materi': 679, 'chase': 680, 'mari': 681, 'storylin': 682, 'forget': 683, 'bunch': 684, 'clear': 685, 'lee': 686, 'victim': 687, 'nearli': 688, 'box': 689, 'york': 690, 'inspir': 691, 'match': 692, 'finish': 693, 'mess': 694, 'standard': 695, 'easi': 696, 'truth': 697, 'busi': 698, 'suffer': 699, 'bill': 700, 'space': 701, 'dramat': 702, 'western': 703, 'e': 704, 'list': 705, 'battl': 706, 'notic': 707, 'de': 708, 'french': 709, 'ad': 710, '9': 711, 'tom': 712, 'larg': 713, 'among': 714, 'eventu': 715, 'train': 716, 'accept': 717, 'agre': 718, 'spirit': 719, 'soundtrack': 720, 'third': 721, 'teenag': 722, 'soldier': 723, 'adventur': 724, 'famou': 725, 'sorri': 726, 'drug': 727, 'suggest': 728, 'babi': 729, 'cri': 730, 'normal': 731, 'troubl': 732, 'ultim': 733, 'contain': 734, 'certain': 735, 'cultur': 736, 'romanc': 737, 'rare': 738, 'lame': 739, 'somehow': 740, 'mix': 741, 'disney': 742, 'gone': 743, 'cartoon': 744, 'student': 745, 'reveal': 746, 'fear': 747, 'suck': 748, 'kept': 749, 'attract': 750, 'appeal': 751, 'premis': 752, 'secret': 753, 'design': 754, 'greatest': 755, 'shame': 756, 'throw': 757, 'copi': 758, 'scare': 759, 'wit': 760, 'america': 761, 'admit': 762, 'particular': 763, 'brought': 764, 'relat': 765, 'screenplay': 766, 'whatev': 767, 'pure': 768, '70': 769, 'harri': 770, 'averag': 771, 'master': 772, 'describ': 773, 'treat': 774, 'male': 775, '20': 776, 'fantasi': 777, 'issu': 778, 'warn': 779, 'inde': 780, 'forward': 781, 'background': 782, 'free': 783, 'project': 784, 'memor': 785, 'japanes': 786, 'poorli': 787, 'award': 788, 'locat': 789, 'potenti': 790, 'amus': 791, 'struggl': 792, 'magic': 793, 'weird': 794, 'societi': 795, 'okay': 796, 'accent': 797, 'imdb': 798, 'doctor': 799, 'hot': 800, 'water': 801, '30': 802, 'dr': 803, 'alien': 804, 'express': 805, 'odd': 806, 'choic': 807, 'crazi': 808, 'studio': 809, 'fiction': 810, 'control': 811, 'becam': 812, 'masterpiec': 813, 'difficult': 814, 'fli': 815, 'joe': 816, 'scream': 817, 'costum': 818, 'lover': 819, 'uniqu': 820, 'refer': 821, 'remak': 822, 'girlfriend': 823, 'vampir': 824, 'prison': 825, 'execut': 826, 'wear': 827, 'jump': 828, 'unless': 829, 'wood': 830, 'creepi': 831, 'cheesi': 832, 'superb': 833, 'otherwis': 834, 'parti': 835, 'roll': 836, 'ghost': 837, 'mad': 838, 'public': 839, 'depict': 840, 'week': 841, 'moral': 842, 'earlier': 843, 'badli': 844, 'jane': 845, 'fi': 846, 'dumb': 847, 'grow': 848, 'flaw': 849, 'sci': 850, 'deep': 851, 'maker': 852, 'cat': 853, 'older': 854, 'footag': 855, 'connect': 856, 'plenti': 857, 'bother': 858, 'outsid': 859, 'stick': 860, 'gay': 861, 'catch': 862, 'co': 863, 'plu': 864, 'popular': 865, 'equal': 866, 'social': 867, 'quickli': 868, 'disturb': 869, 'perfectli': 870, 'dress': 871, 'era': 872, '90': 873, 'mistak': 874, 'lie': 875, 'previou': 876, 'ride': 877, 'combin': 878, 'concept': 879, 'band': 880, 'rich': 881, 'answer': 882, 'surviv': 883, 'front': 884, 'sweet': 885, 'christma': 886, 'insid': 887, 'bare': 888, 'eat': 889, 'concern': 890, 'beat': 891, 'listen': 892, 'ben': 893, 'c': 894, 'term': 895, 'serv': 896, 'german': 897, 'meant': 898, 'la': 899, 'hardli': 900, 'stereotyp': 901, 'innoc': 902, 'law': 903, 'desper': 904, 'promis': 905, 'memori': 906, 'cute': 907, 'intent': 908, 'steal': 909, 'variou': 910, 'inform': 911, 'brain': 912, 'post': 913, 'tone': 914, 'island': 915, 'amount': 916, 'compani': 917, 'nuditi': 918, 'track': 919, 'store': 920, 'claim': 921, '50': 922, 'hair': 923, 'flat': 924, 'land': 925, 'univers': 926, 'kick': 927, 'fairli': 928, 'scott': 929, 'danger': 930, 'player': 931, 'plain': 932, 'step': 933, 'crew': 934, 'toni': 935, 'share': 936, 'centuri': 937, 'tast': 938, 'achiev': 939, 'engag': 940, 'cold': 941, 'travel': 942, 'suit': 943, 'rip': 944, 'record': 945, 'manner': 946, 'sadli': 947, 'tension': 948, 'wrote': 949, 'spot': 950, 'intens': 951, 'fascin': 952, 'familiar': 953, 'depth': 954, 'burn': 955, 'remark': 956, 'destroy': 957, 'histor': 958, 'sleep': 959, 'purpos': 960, 'languag': 961, 'ruin': 962, 'ignor': 963, 'delight': 964, 'unbeliev': 965, 'italian': 966, 'soul': 967, 'collect': 968, 'abil': 969, 'clever': 970, 'detect': 971, 'violent': 972, 'rape': 973, 'reach': 974, 'door': 975, 'trash': 976, 'scienc': 977, 'liter': 978, 'commun': 979, 'reveng': 980, 'caught': 981, 'creatur': 982, 'approach': 983, 'trip': 984, 'fashion': 985, 'intrigu': 986, 'introduc': 987, 'skill': 988, 'paint': 989, 'channel': 990, 'complex': 991, 'camp': 992, 'christian': 993, 'extra': 994, 'hole': 995, 'mental': 996, 'immedi': 997, 'limit': 998, 'ann': 999, 'mere': 1000, '6': 1001, 'million': 1002, 'slightli': 1003, 'comput': 1004, 'conclus': 1005, 'slasher': 1006, 'suddenli': 1007, 'imposs': 1008, 'crimin': 1009, 'neither': 1010, 'teen': 1011, 'nation': 1012, 'spent': 1013, 'physic': 1014, 'respons': 1015, 'planet': 1016, 'receiv': 1017, 'fake': 1018, 'sick': 1019, 'blue': 1020, 'bizarr': 1021, 'embarrass': 1022, 'indian': 1023, '15': 1024, 'ring': 1025, 'pop': 1026, 'drop': 1027, 'drag': 1028, 'haunt': 1029, 'pointless': 1030, 'suspect': 1031, 'search': 1032, 'edg': 1033, 'handl': 1034, 'common': 1035, 'biggest': 1036, 'faith': 1037, 'hurt': 1038, 'arriv': 1039, 'technic': 1040, 'angel': 1041, 'genuin': 1042, 'dad': 1043, 'awesom': 1044, 'f': 1045, 'solid': 1046, 'former': 1047, 'colleg': 1048, 'van': 1049, 'focu': 1050, 'count': 1051, 'heavi': 1052, 'tear': 1053, 'wall': 1054, 'rais': 1055, 'younger': 1056, 'visit': 1057, 'laughabl': 1058, 'fair': 1059, 'excus': 1060, 'sign': 1061, 'cult': 1062, 'key': 1063, 'tough': 1064, 'motion': 1065, 'super': 1066, 'desir': 1067, 'stun': 1068, 'addit': 1069, 'cloth': 1070, 'exploit': 1071, 'tortur': 1072, 'smith': 1073, 'davi': 1074, 'race': 1075, 'cross': 1076, 'author': 1077, 'jim': 1078, 'consist': 1079, 'focus': 1080, 'compel': 1081, 'minor': 1082, 'chemistri': 1083, 'commit': 1084, 'pathet': 1085, 'park': 1086, 'frank': 1087, 'obsess': 1088, 'tradit': 1089, 'grade': 1090, '60': 1091, 'asid': 1092, 'brutal': 1093, 'somewher': 1094, 'steve': 1095, 'explor': 1096, 'u': 1097, 'grant': 1098, 'rule': 1099, 'depress': 1100, 'opportun': 1101, 'besid': 1102, 'honest': 1103, 'dub': 1104, 'anti': 1105, 'trailer': 1106, 'intend': 1107, 'bar': 1108, 'longer': 1109, 'scientist': 1110, 'west': 1111, 'regard': 1112, 'decad': 1113, 'judg': 1114, 'silent': 1115, 'armi': 1116, 'creativ': 1117, 'wild': 1118, 'south': 1119, 'stewart': 1120, 'g': 1121, 'draw': 1122, 'road': 1123, 'govern': 1124, 'ex': 1125, 'boss': 1126, 'practic': 1127, 'surprisingli': 1128, 'festiv': 1129, 'motiv': 1130, 'club': 1131, 'gang': 1132, 'page': 1133, 'redeem': 1134, 'green': 1135, 'london': 1136, 'display': 1137, 'machin': 1138, 'militari': 1139, 'idiot': 1140, 'aliv': 1141, 'repeat': 1142, 'thrill': 1143, 'yeah': 1144, '100': 1145, 'folk': 1146, 'nobodi': 1147, '40': 1148, 'journey': 1149, 'garbag': 1150, 'ground': 1151, 'tire': 1152, 'smile': 1153, 'mood': 1154, 'bought': 1155, 'sam': 1156, 'cost': 1157, 'stone': 1158, 'mouth': 1159, 'noir': 1160, 'terrif': 1161, 'agent': 1162, 'requir': 1163, 'utterli': 1164, 'area': 1165, 'honestli': 1166, 'sexi': 1167, 'report': 1168, 'geniu': 1169, 'humour': 1170, 'enter': 1171, 'investig': 1172, 'glad': 1173, 'serial': 1174, 'passion': 1175, 'occasion': 1176, 'narr': 1177, 'climax': 1178, 'marriag': 1179, 'industri': 1180, 'studi': 1181, 'center': 1182, 'nowher': 1183, 'demon': 1184, 'ship': 1185, 'charli': 1186, 'loos': 1187, 'hors': 1188, 'bear': 1189, 'wow': 1190, 'hang': 1191, 'graphic': 1192, 'giant': 1193, 'admir': 1194, 'send': 1195, 'loud': 1196, 'damn': 1197, 'subtl': 1198, 'rel': 1199, 'nake': 1200, 'profession': 1201, 'blow': 1202, 'bottom': 1203, 'insult': 1204, 'batman': 1205, 'r': 1206, 'doubl': 1207, 'boyfriend': 1208, 'kelli': 1209, 'initi': 1210, 'frame': 1211, 'gem': 1212, 'opera': 1213, 'drawn': 1214, 'affect': 1215, 'challeng': 1216, 'cinemat': 1217, 'church': 1218, 'j': 1219, 'evid': 1220, 'l': 1221, 'seek': 1222, 'nightmar': 1223, 'fulli': 1224, 'essenti': 1225, 'arm': 1226, 'conflict': 1227, 'grace': 1228, 'christoph': 1229, 'henri': 1230, 'wind': 1231, 'witch': 1232, 'assum': 1233, 'narrat': 1234, 'push': 1235, 'hunt': 1236, 'wise': 1237, 'chri': 1238, 'nomin': 1239, 'month': 1240, 'repres': 1241, 'hide': 1242, 'sceneri': 1243, 'affair': 1244, 'avail': 1245, 'thu': 1246, 'smart': 1247, 'justic': 1248, 'bond': 1249, 'interview': 1250, 'outstand': 1251, 'flashback': 1252, 'satisfi': 1253, 'presenc': 1254, 'constantli': 1255, 'central': 1256, 'bed': 1257, 'iron': 1258, 'content': 1259, 'sell': 1260, 'gag': 1261, 'everybodi': 1262, 'hotel': 1263, 'slowli': 1264, 'hire': 1265, 'system': 1266, 'adam': 1267, 'hey': 1268, 'individu': 1269, 'thrown': 1270, 'charl': 1271, 'jone': 1272, 'mediocr': 1273, 'allen': 1274, 'lesson': 1275, 'billi': 1276, 'ray': 1277, 'photographi': 1278, 'cameo': 1279, 'fellow': 1280, 'pari': 1281, 'strike': 1282, 'rise': 1283, 'absurd': 1284, 'independ': 1285, 'brief': 1286, 'neg': 1287, 'phone': 1288, 'impact': 1289, 'ill': 1290, 'born': 1291, 'model': 1292, 'fresh': 1293, 'angl': 1294, 'spoil': 1295, 'abus': 1296, 'likabl': 1297, 'hill': 1298, 'discuss': 1299, 'ahead': 1300, 'sight': 1301, 'photograph': 1302, 'sent': 1303, 'blame': 1304, 'logic': 1305, 'shine': 1306, 'occur': 1307, 'mainli': 1308, 'bruce': 1309, 'forev': 1310, 'skip': 1311, 'commerci': 1312, 'surround': 1313, 'segment': 1314, 'teacher': 1315, 'held': 1316, 'blond': 1317, 'zero': 1318, 'satir': 1319, 'trap': 1320, 'resembl': 1321, 'summer': 1322, 'queen': 1323, 'six': 1324, 'ball': 1325, 'fool': 1326, 'twice': 1327, 'sub': 1328, 'tragedi': 1329, 'reaction': 1330, 'pack': 1331, 'bomb': 1332, 'protagonist': 1333, 'will': 1334, 'hospit': 1335, 'mile': 1336, 'sport': 1337, 'jerri': 1338, 'drink': 1339, 'vote': 1340, 'trust': 1341, 'mom': 1342, 'encount': 1343, 'plane': 1344, 'station': 1345, 'current': 1346, 'program': 1347, 'al': 1348, 'choos': 1349, 'celebr': 1350, 'martin': 1351, 'join': 1352, 'round': 1353, 'tragic': 1354, 'field': 1355, 'lord': 1356, 'favourit': 1357, 'jean': 1358, 'robot': 1359, 'vision': 1360, 'arthur': 1361, 'tie': 1362, 'fortun': 1363, 'roger': 1364, 'random': 1365, 'psycholog': 1366, 'intern': 1367, 'dread': 1368, 'prefer': 1369, 'epic': 1370, 'improv': 1371, 'nonsens': 1372, 'formula': 1373, 'highlight': 1374, 'pleasur': 1375, 'legend': 1376, 'tape': 1377, 'dollar': 1378, '11': 1379, 'fox': 1380, 'thin': 1381, 'object': 1382, 'gorgeou': 1383, 'porn': 1384, 'wide': 1385, 'ugli': 1386, 'influenc': 1387, 'buddi': 1388, 'prepar': 1389, 'nasti': 1390, 'ii': 1391, 'supposedli': 1392, 'warm': 1393, 'progress': 1394, 'reflect': 1395, 'worthi': 1396, 'youth': 1397, 'unusu': 1398, 'latter': 1399, 'length': 1400, 'crash': 1401, 'childhood': 1402, 'shop': 1403, 'seven': 1404, 'superior': 1405, 'theatr': 1406, 'remot': 1407, 'pilot': 1408, 'paid': 1409, 'disgust': 1410, 'funniest': 1411, 'convers': 1412, 'fell': 1413, 'castl': 1414, 'trick': 1415, 'establish': 1416, 'rob': 1417, 'disast': 1418, 'gangster': 1419, 'ident': 1420, 'suicid': 1421, 'heaven': 1422, 'mine': 1423, 'disappear': 1424, 'forgotten': 1425, 'heroin': 1426, 'tend': 1427, 'decis': 1428, 'mask': 1429, 'singer': 1430, 'partner': 1431, 'brian': 1432, 'recogn': 1433, 'desert': 1434, 'alan': 1435, 'sky': 1436, 'stuck': 1437, 'thoroughli': 1438, 'ms': 1439, 'p': 1440, 'accur': 1441, 'replac': 1442, 'market': 1443, 'danni': 1444, 'commentari': 1445, 'clue': 1446, 'seemingli': 1447, 'uncl': 1448, 'andi': 1449, 'eddi': 1450, 'jackson': 1451, 'devil': 1452, 'therefor': 1453, 'pair': 1454, 'that': 1455, 'refus': 1456, 'unit': 1457, 'accid': 1458, 'fault': 1459, 'ed': 1460, 'fate': 1461, 'river': 1462, 'afraid': 1463, 'tune': 1464, 'clean': 1465, 'hidden': 1466, 'stephen': 1467, 'russian': 1468, 'convey': 1469, 'irrit': 1470, 'quick': 1471, 'instanc': 1472, 'test': 1473, 'captain': 1474, 'readi': 1475, 'european': 1476, 'daniel': 1477, 'insan': 1478, 'frustrat': 1479, 'chines': 1480, '1950': 1481, 'food': 1482, 'wed': 1483, 'rescu': 1484, 'dirti': 1485, 'lock': 1486, 'angri': 1487, 'joy': 1488, 'steven': 1489, 'price': 1490, 'bland': 1491, 'cage': 1492, 'rang': 1493, 'anymor': 1494, 'wooden': 1495, 'jason': 1496, 'n': 1497, 'rush': 1498, 'news': 1499, 'board': 1500, 'martial': 1501, '12': 1502, 'twenti': 1503, 'led': 1504, 'worri': 1505, 'transform': 1506, 'hunter': 1507, 'symbol': 1508, 'cgi': 1509, 'sentiment': 1510, 'piti': 1511, 'onto': 1512, 'johnni': 1513, 'invent': 1514, 'x': 1515, 'explan': 1516, 'process': 1517, 'attitud': 1518, 'awar': 1519, 'owner': 1520, 'aim': 1521, 'necessari': 1522, 'favor': 1523, 'floor': 1524, 'target': 1525, 'energi': 1526, 'religi': 1527, 'opposit': 1528, 'window': 1529, 'chick': 1530, 'insight': 1531, 'blind': 1532, 'movement': 1533, 'possess': 1534, 'deepli': 1535, 'comparison': 1536, 'mountain': 1537, 'research': 1538, 'comed': 1539, 'whatsoev': 1540, 'rain': 1541, 'grand': 1542, 'shadow': 1543, 'mid': 1544, 'bank': 1545, 'began': 1546, 'princ': 1547, 'parodi': 1548, 'friendship': 1549, 'weapon': 1550, 'pre': 1551, 'taylor': 1552, 'credibl': 1553, 'flesh': 1554, 'dougla': 1555, 'teach': 1556, 'hint': 1557, 'terror': 1558, 'protect': 1559, 'bloodi': 1560, 'marvel': 1561, 'anybodi': 1562, 'load': 1563, 'leader': 1564, 'drunk': 1565, 'accord': 1566, 'watchabl': 1567, 'superman': 1568, 'freddi': 1569, 'brown': 1570, 'appropri': 1571, 'jeff': 1572, 'tim': 1573, 'hitler': 1574, 'seat': 1575, 'keaton': 1576, 'villag': 1577, 'unknown': 1578, 'charg': 1579, 'knock': 1580, 'empti': 1581, 'media': 1582, 'england': 1583, 'enemi': 1584, 'unnecessari': 1585, 'perspect': 1586, 'wave': 1587, 'craft': 1588, 'dare': 1589, 'buck': 1590, 'utter': 1591, 'strength': 1592, 'kiss': 1593, 'contrast': 1594, 'correct': 1595, 'nativ': 1596, 'ford': 1597, 'speed': 1598, 'magnific': 1599, 'anywher': 1600, 'nazi': 1601, 'chill': 1602, 'distract': 1603, 'soap': 1604, 'knowledg': 1605, '1980': 1606, 'breath': 1607, 'ice': 1608, 'mission': 1609, 'fred': 1610, 'joan': 1611, 'moon': 1612, 'jr': 1613, 'crowd': 1614, 'frighten': 1615, '000': 1616, 'kate': 1617, 'soft': 1618, 'nick': 1619, 'dan': 1620, 'dick': 1621, 'hundr': 1622, 'dozen': 1623, 'somebodi': 1624, 'simon': 1625, 'radio': 1626, 'andrew': 1627, 'academi': 1628, 'loss': 1629, 'thousand': 1630, 'shakespear': 1631, 'vehicl': 1632, 'account': 1633, 'quot': 1634, 'sum': 1635, 'root': 1636, '1970': 1637, 'leg': 1638, 'convent': 1639, 'behavior': 1640, 'regular': 1641, 'gold': 1642, 'compet': 1643, 'demand': 1644, 'worker': 1645, 'pretenti': 1646, 'notabl': 1647, 'lynch': 1648, 'candi': 1649, 'stretch': 1650, 'japan': 1651, 'interpret': 1652, 'privat': 1653, 'explos': 1654, 'constant': 1655, 'debut': 1656, 'tarzan': 1657, 'translat': 1658, 'revolv': 1659, 'sea': 1660, 'prais': 1661, 'spi': 1662, 'jesu': 1663, 'franc': 1664, 'ass': 1665, 'quiet': 1666, 'technolog': 1667, 'sat': 1668, 'threaten': 1669, 'failur': 1670, 'met': 1671, 'punch': 1672, 'higher': 1673, 'kevin': 1674, 'aid': 1675, 'toy': 1676, 'abandon': 1677, 'interact': 1678, 'vh': 1679, 'mike': 1680, 'separ': 1681, 'command': 1682, 'bet': 1683, 'confront': 1684, 'site': 1685, 'stunt': 1686, 'servic': 1687, 'techniqu': 1688, 'gotten': 1689, 'recal': 1690, 'belong': 1691, 'bug': 1692, 'freak': 1693, 'cabl': 1694, 'foot': 1695, 'bright': 1696, 'capabl': 1697, 'jimmi': 1698, 'fu': 1699, 'african': 1700, 'succeed': 1701, 'clark': 1702, 'presid': 1703, 'fat': 1704, 'boat': 1705, 'stock': 1706, 'spanish': 1707, 'gene': 1708, 'structur': 1709, 'paper': 1710, 'kidnap': 1711, 'whilst': 1712, 'factor': 1713, 'belief': 1714, 'bob': 1715, 'educ': 1716, 'realis': 1717, 'tree': 1718, 'witti': 1719, 'complic': 1720, 'attend': 1721, 'realism': 1722, 'finest': 1723, 'assist': 1724, 'broken': 1725, 'santa': 1726, 'determin': 1727, 'v': 1728, 'up': 1729, 'smoke': 1730, 'depart': 1731, 'observ': 1732, 'rubbish': 1733, 'domin': 1734, 'routin': 1735, 'lewi': 1736, 'hat': 1737, 'fame': 1738, 'oper': 1739, 'advanc': 1740, 'hook': 1741, 'foreign': 1742, 'safe': 1743, 'lone': 1744, 'kinda': 1745, 'morgan': 1746, 'rank': 1747, 'numer': 1748, 'civil': 1749, 'vs': 1750, 'shape': 1751, 'shallow': 1752, 'washington': 1753, 'rose': 1754, 'werewolf': 1755, 'gari': 1756, 'morn': 1757, 'winner': 1758, 'ordinari': 1759, 'kong': 1760, 'accomplish': 1761, 'whenev': 1762, 'peac': 1763, 'virtual': 1764, 'grab': 1765, 'h': 1766, 'luck': 1767, 'offens': 1768, 'welcom': 1769, 'unfunni': 1770, 'patient': 1771, 'contriv': 1772, 'complain': 1773, 'activ': 1774, 'bigger': 1775, 'con': 1776, 'trek': 1777, 'pretend': 1778, 'dimension': 1779, 'wake': 1780, 'lesbian': 1781, 'code': 1782, 'flash': 1783, 'eric': 1784, 'cain': 1785, 'dri': 1786, 'guard': 1787, 'manipul': 1788, 'corrupt': 1789, 'statu': 1790, 'albert': 1791, 'dancer': 1792, 'awkward': 1793, 'speech': 1794, 'signific': 1795, 'gain': 1796, 'sourc': 1797, 'context': 1798, 'sean': 1799, 'psycho': 1800, 'corni': 1801, 'clip': 1802, 'anthoni': 1803, '13': 1804, 'w': 1805, 'curiou': 1806, 'theatric': 1807, 'advic': 1808, 'reli': 1809, 'priest': 1810, 'religion': 1811, 'addict': 1812, 'flow': 1813, 'jennif': 1814, 'howard': 1815, 'skin': 1816, 'specif': 1817, 'asian': 1818, 'secur': 1819, 'golden': 1820, 'core': 1821, 'organ': 1822, 'luke': 1823, 'promot': 1824, 'comfort': 1825, 'lucki': 1826, 'cash': 1827, 'cheat': 1828, 'associ': 1829, 'lower': 1830, 'dislik': 1831, 'devic': 1832, 'frequent': 1833, 'frankli': 1834, 'degre': 1835, 'spell': 1836, 'contribut': 1837, 'wing': 1838, 'balanc': 1839, 'regret': 1840, 'forgiv': 1841, 'lake': 1842, 'print': 1843, 'sake': 1844, 'betti': 1845, 'mass': 1846, 'thoma': 1847, 'unexpect': 1848, 'crack': 1849, 'gordon': 1850, 'categori': 1851, 'unfold': 1852, 'grown': 1853, 'amateur': 1854, 'depend': 1855, 'invit': 1856, 'construct': 1857, 'walter': 1858, 'matur': 1859, 'condit': 1860, 'grew': 1861, 'intellectu': 1862, 'anna': 1863, 'honor': 1864, 'sudden': 1865, 'mirror': 1866, 'sole': 1867, 'spectacular': 1868, 'veteran': 1869, 'experienc': 1870, 'demonstr': 1871, 'meanwhil': 1872, 'overli': 1873, 'gift': 1874, 'grip': 1875, 'freedom': 1876, 'liner': 1877, 'robin': 1878, 'card': 1879, 'crappi': 1880, 'theori': 1881, 'unabl': 1882, 'section': 1883, 'oliv': 1884, 'circumst': 1885, 'colour': 1886, 'sheriff': 1887, 'brilliantli': 1888, 'drew': 1889, 'subtitl': 1890, 'matt': 1891, 'sheer': 1892, 'path': 1893, 'altern': 1894, 'cook': 1895, 'laughter': 1896, 'pile': 1897, 'parker': 1898, 'relief': 1899, 'accident': 1900, 'wander': 1901, 'lawyer': 1902, 'treatment': 1903, 'hall': 1904, 'sinatra': 1905, 'defin': 1906, 'hank': 1907, 'dragon': 1908, 'captiv': 1909, 'moor': 1910, 'gratuit': 1911, 'halloween': 1912, 'k': 1913, 'unintent': 1914, 'wound': 1915, 'broadway': 1916, 'jacki': 1917, 'kung': 1918, 'wayn': 1919, 'barbara': 1920, 'cowboy': 1921, 'spoof': 1922, 'statement': 1923, 'surreal': 1924, 'winter': 1925, 'canadian': 1926, 'compos': 1927, 'gonna': 1928, 'fare': 1929, 'cheer': 1930, 'treasur': 1931, 'fish': 1932, 'unrealist': 1933, 'sensit': 1934, 'victor': 1935, 'emerg': 1936, 'woodi': 1937, 'ran': 1938, 'neighbor': 1939, 'sympathet': 1940, 'driven': 1941, 'expos': 1942, 'menac': 1943, 'glass': 1944, 'overlook': 1945, 'topic': 1946, 'authent': 1947, 'ancient': 1948, 'gross': 1949, 'handsom': 1950, 'michel': 1951, 'chief': 1952, 'stranger': 1953, 'russel': 1954, 'nevertheless': 1955, 'feet': 1956, 'comedian': 1957, 'network': 1958, 'pleasant': 1959, 'contemporari': 1960, 'built': 1961, 'cinderella': 1962, 'blockbust': 1963, 'earn': 1964, 'miser': 1965, 'gori': 1966, 'underr': 1967, 'letter': 1968, 'consider': 1969, 'endless': 1970, 'switch': 1971, 'brook': 1972, 'solv': 1973, 'edward': 1974, 'joseph': 1975, 'convict': 1976, 'virgin': 1977, 'victoria': 1978, 'bullet': 1979, 'scale': 1980, 'chosen': 1981, 'scenario': 1982, 'cynic': 1983, '0': 1984, 'alex': 1985, 'outrag': 1986, 'sword': 1987, 'gut': 1988, 'curs': 1989, 'com': 1990, 'driver': 1991, 'proper': 1992, 'substanc': 1993, 'uk': 1994, 'screenwrit': 1995, 'juli': 1996, 'wrap': 1997, 'monkey': 1998, 'par': 1999, 'court': 2000, 'bird': 2001, 'indic': 2002, 'remov': 2003, 'loser': 2004, 'rental': 2005, 'consequ': 2006, 'naiv': 2007, 'roy': 2008, 'advertis': 2009, 'inevit': 2010, 'grave': 2011, 'nanci': 2012, 'brave': 2013, 'bridg': 2014, 'slap': 2015, 'germani': 2016, 'le': 2017, 'fatal': 2018, 'invis': 2019, 'anger': 2020, 'provok': 2021, 'loui': 2022, 'ador': 2023, 'footbal': 2024, 'chan': 2025, 'alcohol': 2026, 'anderson': 2027, 'ryan': 2028, 'professor': 2029, 'stumbl': 2030, 'willi': 2031, '1930': 2032, 'patrick': 2033, 'australian': 2034, 'assassin': 2035, 'bat': 2036, 'sharp': 2037, 'heck': 2038, 'amateurish': 2039, 'lousi': 2040, 'strongli': 2041, 'eight': 2042, 'trilog': 2043, 'ape': 2044, 'saturday': 2045, 'refresh': 2046, 'liber': 2047, 'cell': 2048, 'deni': 2049, 'sin': 2050, 'san': 2051, 'justifi': 2052, 'vagu': 2053, 'resid': 2054, 'reput': 2055, 'terrifi': 2056, 'mini': 2057, 'indi': 2058, 'creator': 2059, 'defeat': 2060, 'sympathi': 2061, 'task': 2062, 'endur': 2063, 'tediou': 2064, 'prevent': 2065, 'tabl': 2066, 'expert': 2067, 'rival': 2068, 'offend': 2069, 'imit': 2070, 'basebal': 2071, 'trial': 2072, 'employ': 2073, 'che': 2074, 'max': 2075, 'dig': 2076, 'weekend': 2077, 'beach': 2078, 'europ': 2079, 'complaint': 2080, 'fairi': 2081, 'pitch': 2082, 'risk': 2083, 'purchas': 2084, 'format': 2085, 'murphi': 2086, 'harsh': 2087, 'hype': 2088, 'powel': 2089, 'bite': 2090, 'nois': 2091, 'tini': 2092, 'glimps': 2093, 'reminisc': 2094, 'titan': 2095, 'fals': 2096, '14': 2097, 'till': 2098, 'strip': 2099, 'asleep': 2100, 'prime': 2101, 'north': 2102, 'revel': 2103, 'destruct': 2104, 'descript': 2105, 'africa': 2106, 'texa': 2107, 'sitcom': 2108, 'spin': 2109, 'excess': 2110, 'inner': 2111, 'arrest': 2112, 'uninterest': 2113, 'semi': 2114, 'surfac': 2115, 'maintain': 2116, 'controversi': 2117, 'makeup': 2118, 'argu': 2119, 'dinosaur': 2120, 'massiv': 2121, 'hitchcock': 2122, 'twin': 2123, 'reject': 2124, 'ludicr': 2125, 'kim': 2126, 'insist': 2127, 'expens': 2128, 'melodrama': 2129, 'ideal': 2130, 'stare': 2131, 'press': 2132, 'subplot': 2133, 'nail': 2134, 'ala': 2135, 'forest': 2136, 'erot': 2137, 'columbo': 2138, 'host': 2139, 'atroci': 2140, 'supernatur': 2141, 'ga': 2142, 'dude': 2143, 'identifi': 2144, 'cant': 2145, 'presum': 2146, 'notch': 2147, 'closer': 2148, 'guest': 2149, 'crude': 2150, 'character': 2151, 'forgett': 2152, 'method': 2153, 'plagu': 2154, 'border': 2155, 'lion': 2156, 'landscap': 2157, 'ear': 2158, 'beast': 2159, 'foster': 2160, 'princess': 2161, 'urban': 2162, 'jungl': 2163, 'previous': 2164, 'accus': 2165, 'birth': 2166, 'bound': 2167, 'damag': 2168, 'storytel': 2169, 'pacino': 2170, 'aunt': 2171, 'guid': 2172, 'nude': 2173, 'propaganda': 2174, 'chose': 2175, 'thirti': 2176, 'jess': 2177, 'emma': 2178, 'doll': 2179, 'pet': 2180, 'warrior': 2181, 'whoever': 2182, 'mate': 2183, '25': 2184, 'mainstream': 2185, 'cooper': 2186, 'poster': 2187, 'deadli': 2188, 'size': 2189, 'exact': 2190, 'friday': 2191, 'merit': 2192, 'gritti': 2193, 'upset': 2194, 'latest': 2195, 'popul': 2196, 'rough': 2197, 'buff': 2198, 'contact': 2199, 'citizen': 2200, 'settl': 2201, 'contest': 2202, '1990': 2203, 'warner': 2204, 'corps': 2205, 'sun': 2206, 'ton': 2207, 'wilson': 2208, 'blend': 2209, 'widow': 2210, 'overcom': 2211, 'select': 2212, 'mgm': 2213, 'alic': 2214, 'environ': 2215, 'pitt': 2216, 'rat': 2217, 'metal': 2218, 'bu': 2219, 'lift': 2220, 'link': 2221, 'ted': 2222, 'guilti': 2223, 'revolut': 2224, 'particip': 2225, 'exagger': 2226, 'corner': 2227, 'corpor': 2228, 'johnson': 2229, '1960': 2230, 'prostitut': 2231, 'accompani': 2232, 'afternoon': 2233, 'matrix': 2234, 'moron': 2235, 'friendli': 2236, 'doom': 2237, 'clair': 2238, 'holm': 2239, 'instal': 2240, 'sincer': 2241, 'hood': 2242, 'leagu': 2243, 'multipl': 2244, 'string': 2245, 'defend': 2246, 'hip': 2247, 'junk': 2248, 'advis': 2249, 'irish': 2250, 'examin': 2251, 'campi': 2252, 'aka': 2253, 'grim': 2254, 'sunday': 2255, 'blah': 2256, 'lugosi': 2257, 'shake': 2258, 'rachel': 2259, 'icon': 2260, 'pro': 2261, 'varieti': 2262, 'confid': 2263, 'shut': 2264, 'tight': 2265, 'goal': 2266, 'jaw': 2267, 'denni': 2268, 'sullivan': 2269, 'directli': 2270, 'medic': 2271, 'attach': 2272, 'mexican': 2273, 'sarah': 2274, 'breast': 2275, 'prior': 2276, 'legendari': 2277, 'courag': 2278, 'truck': 2279, 'sentenc': 2280, 'vietnam': 2281, 'terrorist': 2282, 'duke': 2283, 'dean': 2284, 'bourn': 2285, 'hong': 2286, 'entri': 2287, 'un': 2288, 'nose': 2289, 'yell': 2290, 'donald': 2291, 'proceed': 2292, 'split': 2293, 'behav': 2294, 'concentr': 2295, 'jerk': 2296, 'lifetim': 2297, 'gather': 2298, 'swim': 2299, 'everywher': 2300, 'borrow': 2301, 'forth': 2302, 'confess': 2303, 'stolen': 2304, 'buri': 2305, 'unconvinc': 2306, 'crush': 2307, 'deliveri': 2308, 'turkey': 2309, 'california': 2310, 'pan': 2311, 'julia': 2312, 'spite': 2313, 'lip': 2314, 'quest': 2315, 'reward': 2316, 'downright': 2317, 'offici': 2318, 'china': 2319, 'flight': 2320, 'hoffman': 2321, 'proud': 2322, 'freeman': 2323, 'notori': 2324, 'jon': 2325, 'fade': 2326, 'worthwhil': 2327, 'betray': 2328, 'fabul': 2329, 'sink': 2330, 'encourag': 2331, 'sir': 2332, 'jail': 2333, 'lazi': 2334, 'inept': 2335, 'survivor': 2336, 'bag': 2337, 'shower': 2338, 'storm': 2339, 'teeth': 2340, 'lisa': 2341, 'cousin': 2342, 'bell': 2343, 'susan': 2344, 'relev': 2345, 'branagh': 2346, 'imageri': 2347, 'retard': 2348, 'tremend': 2349, 'summari': 2350, 'finger': 2351, 'facial': 2352, 'stab': 2353, 'quirki': 2354, 'bride': 2355, 'trade': 2356, 'shark': 2357, 'toler': 2358, 'mexico': 2359, 'hugh': 2360, 'alright': 2361, 'hyster': 2362, 'blown': 2363, 'pose': 2364, 'ha': 2365, 'bitter': 2366, 'von': 2367, 'cruel': 2368, 'ron': 2369, 'address': 2370, 'afterward': 2371, 'scheme': 2372, 'larri': 2373, 'ned': 2374, 'christ': 2375, 'bone': 2376, 'pursu': 2377, 'feed': 2378, 'tour': 2379, 'swear': 2380, 'distinct': 2381, 'screw': 2382, 'beg': 2383, 'traci': 2384, 'thumb': 2385, 'snake': 2386, 'obscur': 2387, 'stomach': 2388, 'raw': 2389, 'chair': 2390, 'mechan': 2391, 'photo': 2392, 'occas': 2393, 'render': 2394, 'resist': 2395, 'hardi': 2396, 'necessarili': 2397, 'argument': 2398, 'cabin': 2399, 'chain': 2400, 'heavili': 2401, 'gruesom': 2402, 'holiday': 2403, 'southern': 2404, 'sidney': 2405, 'indulg': 2406, 'racist': 2407, 'philip': 2408, 'understood': 2409, 'india': 2410, 'satan': 2411, 'obnoxi': 2412, 'integr': 2413, 'pregnant': 2414, 'forgot': 2415, 'midnight': 2416, 'belov': 2417, 'tongu': 2418, 'stalk': 2419, 'lay': 2420, 'fourth': 2421, 'outfit': 2422, 'carol': 2423, 'garden': 2424, 'magazin': 2425, '17': 2426, 'ticket': 2427, 'slapstick': 2428, 'inhabit': 2429, 'deeper': 2430, 'restor': 2431, 'devot': 2432, 'shoe': 2433, 'incid': 2434, 'brad': 2435, 'lincoln': 2436, 'guarante': 2437, 'underground': 2438, 'maria': 2439, 'sandler': 2440, 'disbelief': 2441, 'elizabeth': 2442, 'lili': 2443, 'anticip': 2444, 'benefit': 2445, 'divorc': 2446, 'amazingli': 2447, 'creation': 2448, 'greater': 2449, 'capit': 2450, 'explod': 2451, 'mildli': 2452, 'princip': 2453, 'cring': 2454, 'bbc': 2455, 'slave': 2456, 'lesli': 2457, 'halfway': 2458, 'introduct': 2459, 'extraordinari': 2460, 'funnier': 2461, 'overwhelm': 2462, 'text': 2463, 'advantag': 2464, 'transfer': 2465, 'wreck': 2466, 'punish': 2467, 'enhanc': 2468, 'tap': 2469, 'extent': 2470, 'east': 2471, 'error': 2472, 'jessica': 2473, 'horrif': 2474, 'dynam': 2475, 'preview': 2476, 'plant': 2477, 'deliber': 2478, 'lane': 2479, 'lo': 2480, 'sophist': 2481, 'appli': 2482, 'basi': 2483, 'homosexu': 2484, 'vincent': 2485, 'vacat': 2486, 'ensu': 2487, 'miller': 2488, 'miscast': 2489, '2000': 2490, 'via': 2491, 'uncomfort': 2492, 'sleazi': 2493, 'bollywood': 2494, 'elev': 2495, 'extend': 2496, 'measur': 2497, 'mansion': 2498, 'spoken': 2499, 'reed': 2500, 'steel': 2501, 'melt': 2502, 'goofi': 2503, 'hippi': 2504, 'daili': 2505, 'stanley': 2506, 'mous': 2507, 'assign': 2508, 'conceiv': 2509, 'cathol': 2510, 'fix': 2511, 'overact': 2512, 'alter': 2513, 'breathtak': 2514, 'blair': 2515, 'beer': 2516, 'savag': 2517, 'dentist': 2518, 'everyday': 2519, 'oppos': 2520, 'subsequ': 2521, 'burt': 2522, 'succe': 2523, 'properli': 2524, 'inspector': 2525, 'nowaday': 2526, 'sacrific': 2527, 'carpent': 2528, 'block': 2529, 'circl': 2530, 'massacr': 2531, 'neck': 2532, 'laura': 2533, 'fallen': 2534, 'christi': 2535, 'seagal': 2536, 'concert': 2537, 'lesser': 2538, 'pool': 2539, 'portrait': 2540, 'mob': 2541, 'access': 2542, 'grey': 2543, 'fay': 2544, 'sinist': 2545, 'usa': 2546, 'react': 2547, 'jewish': 2548, 'relax': 2549, 'chees': 2550, 'isol': 2551, 'jake': 2552, 'competit': 2553, 'nonetheless': 2554, 'chop': 2555, 'lyric': 2556, 'creep': 2557, 'appal': 2558, '2006': 2559, 'stink': 2560, 'spiritu': 2561, 'immens': 2562, 'nine': 2563, 'ironi': 2564, 'suitabl': 2565, 'adopt': 2566, 'shirt': 2567, 'rage': 2568, 'sold': 2569, 'franchis': 2570, 'luci': 2571, 'user': 2572, 'needless': 2573, 'retir': 2574, 'spring': 2575, 'nut': 2576, 'reduc': 2577, 'showcas': 2578, 'navi': 2579, 'asham': 2580, 'digit': 2581, 'zone': 2582, 'uninspir': 2583, 'bulli': 2584, 'bath': 2585, 'jay': 2586, 'stanwyck': 2587, 'per': 2588, 'nurs': 2589, 'amongst': 2590, 'oddli': 2591, 'laid': 2592, 'broadcast': 2593, 'upper': 2594, '2001': 2595, 'illustr': 2596, 'sutherland': 2597, '1940': 2598, 'fulfil': 2599, 'stylish': 2600, 'disguis': 2601, 'throat': 2602, 'brando': 2603, 'baker': 2604, 'aspir': 2605, 'thief': 2606, 'endear': 2607, '18': 2608, 'impli': 2609, 'wanna': 2610, 'em': 2611, 'pound': 2612, 'pride': 2613, 'nobl': 2614, 'neighborhood': 2615, 'wwii': 2616, 'cinematograph': 2617, 'coher': 2618, 'albeit': 2619, '16': 2620, 'tens': 2621, 'bett': 2622, 'diseas': 2623, 'dawn': 2624, 'distribut': 2625, 'dinner': 2626, 'shift': 2627, 'prop': 2628, 'rochest': 2629, 'shoulder': 2630, 'bo': 2631, 'poignant': 2632, 'surf': 2633, 'knife': 2634, 'wash': 2635, 'snow': 2636, 'silenc': 2637, 'shout': 2638, 'forti': 2639, 'function': 2640, 'contract': 2641, 'rebel': 2642, 'matthau': 2643, 'horrend': 2644, 'silver': 2645, 'duti': 2646, 'proof': 2647, 'henc': 2648, 'height': 2649, 'instinct': 2650, 'heat': 2651, 'internet': 2652, 'eeri': 2653, 'chuck': 2654, 'widmark': 2655, 'mindless': 2656, 'cancel': 2657, 'elvira': 2658, 'derek': 2659, 'reunion': 2660, 'cannib': 2661, 'torn': 2662, 'alik': 2663, 'repetit': 2664, 'pie': 2665, 'premier': 2666, 'incoher': 2667, 'etern': 2668, 'absorb': 2669, 'musician': 2670, 'mill': 2671, 'neat': 2672, 'innov': 2673, 'greatli': 2674, 'elvi': 2675, 'glori': 2676, 'spielberg': 2677, 'horrifi': 2678, 'precis': 2679, 'blank': 2680, 'wealthi': 2681, 'diamond': 2682, 'bang': 2683, 'homag': 2684, 'itali': 2685, 'britain': 2686, 'trite': 2687, 'announc': 2688, 'redempt': 2689, 'infam': 2690, 'lovabl': 2691, 'nelson': 2692, 'crisi': 2693, 'racism': 2694, 'burton': 2695, 'fbi': 2696, 'dedic': 2697, 'hammer': 2698, 'streisand': 2699, 'helen': 2700, 'ensembl': 2701, 'wilder': 2702, 'happili': 2703, 'flop': 2704, 'chaplin': 2705, 'pat': 2706, 'parallel': 2707, 'resolut': 2708, 'mar': 2709, 'st': 2710, 'broke': 2711, 'factori': 2712, 'plastic': 2713, 'disagre': 2714, 'triumph': 2715, 'carter': 2716, 'conclud': 2717, 'cube': 2718, 'oil': 2719, 'row': 2720, 'own': 2721, 'chuckl': 2722, 'weight': 2723, 'rocket': 2724, 'vega': 2725, 'march': 2726, 'climb': 2727, 'fighter': 2728, 'bush': 2729, 'spare': 2730, 'kurt': 2731, 'wherea': 2732, 'dane': 2733, 'mst3k': 2734, 'boot': 2735, 'luca': 2736, 'sensibl': 2737, 'lust': 2738, 'meaning': 2739, 'unforgett': 2740, 'dump': 2741, 'enorm': 2742, 'thug': 2743, 'stress': 2744, 'caricatur': 2745, 'threat': 2746, 'arnold': 2747, 'bobbi': 2748, 'fifti': 2749, 'difficulti': 2750, 'engin': 2751, 'butt': 2752, 'adequ': 2753, 'brand': 2754, 'dear': 2755, 'rap': 2756, 'karloff': 2757, 'polish': 2758, 'swing': 2759, 'elabor': 2760, 'journalist': 2761, 'homeless': 2762, 'arrog': 2763, 'ego': 2764, 'fest': 2765, 'secretari': 2766, 'barri': 2767, 'ralph': 2768, 'hamlet': 2769, 'flynn': 2770, 'fanci': 2771, 'arrang': 2772, 'float': 2773, 'conspiraci': 2774, 'tool': 2775, 'spike': 2776, 'simpson': 2777, 'unbear': 2778, 'resort': 2779, 'grate': 2780, 'induc': 2781, 'puppet': 2782, 'tribut': 2783, 'exercis': 2784, 'pig': 2785, 'muppet': 2786, 'basement': 2787, 'choreograph': 2788, 'guilt': 2789, 'boll': 2790, 'cruis': 2791, 'phillip': 2792, 'medium': 2793, 'editor': 2794, 'layer': 2795, 'item': 2796, 'babe': 2797, '24': 2798, 'fianc': 2799, 'toilet': 2800, 'puzzl': 2801, 'ward': 2802, 'slip': 2803, 'scarecrow': 2804, 'korean': 2805, 'stan': 2806, 'document': 2807, 'ham': 2808, 'file': 2809, 'tower': 2810, 'glover': 2811, 'transit': 2812, 'inexplic': 2813, 'librari': 2814, 'portion': 2815, 'territori': 2816, 'philosoph': 2817, 'larger': 2818, 'assur': 2819, 'superfici': 2820, 'catherin': 2821, 'minim': 2822, 'denzel': 2823, 'persona': 2824, 'orient': 2825, 'slaughter': 2826, 'spark': 2827, 'doc': 2828, 'owe': 2829, 'jeremi': 2830, 'pg': 2831, 'curti': 2832, 'financi': 2833, 'dorothi': 2834, 'boredom': 2835, 'jet': 2836, 'wolf': 2837, 'ban': 2838, 'walken': 2839, 'shi': 2840, 'sneak': 2841, 'backdrop': 2842, 'cusack': 2843, 'eleph': 2844, 'profound': 2845, 'ambigu': 2846, 'multi': 2847, 'hudson': 2848, 'metaphor': 2849, 'whale': 2850, 'birthday': 2851, 'stiff': 2852, 'union': 2853, 'elsewher': 2854, 'rave': 2855, 'ultra': 2856, '2005': 2857, 'hack': 2858, 'implaus': 2859, 'notion': 2860, 'viru': 2861, 'gadget': 2862, 'lloyd': 2863, 'canada': 2864, 'newspap': 2865, 'reader': 2866, 'pad': 2867, 'urg': 2868, 'deriv': 2869, 'bibl': 2870, '1st': 2871, 'disc': 2872, 'eva': 2873, 'squar': 2874, 'distanc': 2875, 'eastwood': 2876, 'afford': 2877, 'hawk': 2878, 'superhero': 2879, 'slight': 2880, 'poison': 2881, 'essenc': 2882, 'restaur': 2883, 'button': 2884, 'skit': 2885, 'cure': 2886, 'spread': 2887, 'charisma': 2888, 'drown': 2889, 'health': 2890, 'montag': 2891, 'heston': 2892, 'sadist': 2893, 'huh': 2894, 'muslim': 2895, 'companion': 2896, 'gradual': 2897, 'lab': 2898, 'estat': 2899, 'godfath': 2900, 'maniac': 2901, 'peak': 2902, 'fetch': 2903, 'scoobi': 2904, 'dealt': 2905, 'invest': 2906, 'subtleti': 2907, 'countless': 2908, 'kane': 2909, 'cup': 2910, 'miik': 2911, 'alli': 2912, 'gothic': 2913, 'servant': 2914, 'ritter': 2915, 'tea': 2916, 'charismat': 2917, 'salli': 2918, 'heroic': 2919, 'briefli': 2920, 'elect': 2921, 'iii': 2922, 'electr': 2923, 'nuanc': 2924, 'ingredi': 2925, 'wannab': 2926, 'admittedli': 2927, 'resourc': 2928, 'grandmoth': 2929, 'reel': 2930, 'tender': 2931, 'bud': 2932, 'toss': 2933, 'neil': 2934, 'cole': 2935, 'gate': 2936, 'reev': 2937, 'punk': 2938, 'stronger': 2939, 'stood': 2940, 'label': 2941, 'mild': 2942, 'mafia': 2943, 'dawson': 2944, 'poverti': 2945, 'carrey': 2946, 'pit': 2947, 'shall': 2948, 'kubrick': 2949, 'pauli': 2950, 'assault': 2951, 'tag': 2952, 'smooth': 2953, 'burst': 2954, 'cardboard': 2955, 'easier': 2956, 'updat': 2957, 'fond': 2958, 'cox': 2959, 'useless': 2960, 'ian': 2961, 'terri': 2962, 'outcom': 2963, 'smash': 2964, 'astair': 2965, 'bakshi': 2966, 'divers': 2967, 'increasingli': 2968, 'qualifi': 2969, 'exchang': 2970, 'melodramat': 2971, 'samurai': 2972, 'vari': 2973, 'resolv': 2974, '2002': 2975, 'fist': 2976, 'rex': 2977, 'sketch': 2978, 'coincid': 2979, 'vulner': 2980, 'templ': 2981, 'blast': 2982, 'luckili': 2983, 'tame': 2984, 'brillianc': 2985, 'suspend': 2986, 'reynold': 2987, 'insert': 2988, 'conveni': 2989, 'scratch': 2990, 'be': 2991, 'matthew': 2992, 'pin': 2993, 'walker': 2994, 'coach': 2995, 'farm': 2996, 'jami': 2997, 'soprano': 2998, 'seventi': 2999, 'nuclear': 3000, 'ambiti': 3001, 'hamilton': 3002, 'meat': 3003, 'strictli': 3004, 'fisher': 3005, 'gotta': 3006, 'kudo': 3007, 'revers': 3008, 'worthless': 3009, 'recreat': 3010, 'closet': 3011, 'butcher': 3012, 'timeless': 3013, 'empir': 3014, 'spooki': 3015, 'convolut': 3016, 'ninja': 3017, 'eccentr': 3018, 'struck': 3019, 'cave': 3020, 'instantli': 3021, 'clock': 3022, 'discoveri': 3023, 'brosnan': 3024, 'monk': 3025, 'grasp': 3026, 'joey': 3027, 'evok': 3028, 'importantli': 3029, 'norman': 3030, 'miracl': 3031, 'declar': 3032, 'eighti': 3033, 'pal': 3034, 'inconsist': 3035, 'mitchel': 3036, 'wipe': 3037, 'cliff': 3038, 'clown': 3039, 'sidekick': 3040, 'selfish': 3041, 'sloppi': 3042, 'communist': 3043, 'gray': 3044, 'bleak': 3045, 'partli': 3046, 'fifteen': 3047, 'seller': 3048, 'chew': 3049, 'flawless': 3050, 'lifestyl': 3051, 'debat': 3052, 'enthusiast': 3053, 'psychiatrist': 3054, 'websit': 3055, 'superbl': 3056, 'cheek': 3057, 'piano': 3058, 'ho': 3059, 'destin': 3060, '45': 3061, 'aforement': 3062, 'stoog': 3063, 'seed': 3064, 'australia': 3065, 'farc': 3066, 'kitchen': 3067, 'directori': 3068, 'regardless': 3069, 'bash': 3070, 'abc': 3071, 'slice': 3072, 'emili': 3073, 'akshay': 3074, 'wrestl': 3075, 'splatter': 3076, 'drivel': 3077, 'dash': 3078, 'anni': 3079, 'incompet': 3080, 'dire': 3081, 'wick': 3082, 'soviet': 3083, 'pressur': 3084, 'duo': 3085, 'increas': 3086, 'artifici': 3087, 'beaten': 3088, 'dave': 3089, 'distant': 3090, 'curios': 3091, 'ken': 3092, 'seduc': 3093, 'cameron': 3094, 'pleasantli': 3095, 'glow': 3096, 'blob': 3097, 'prize': 3098, 'boil': 3099, 'suppli': 3100, 'cia': 3101, 'judi': 3102, 'jar': 3103, 'helicopt': 3104, 'cagney': 3105, 'chapter': 3106, 'doo': 3107, 'mann': 3108, 'recov': 3109, 'flower': 3110, 'lou': 3111, 'francisco': 3112, 'perri': 3113, 'hop': 3114, 'turner': 3115, 'web': 3116, 'psychot': 3117, 'craven': 3118, 'craig': 3119, 'goldberg': 3120, 'laurel': 3121, 'favour': 3122, 'combat': 3123, 'panic': 3124, 'ellen': 3125, 'glenn': 3126, 'ranger': 3127, 'splendid': 3128, 'drunken': 3129, 'eleg': 3130, '20th': 3131, 'fx': 3132, 'slightest': 3133, 'philosophi': 3134, 'graduat': 3135, 'min': 3136, 'plausibl': 3137, 'flip': 3138, 'rid': 3139, 'gandhi': 3140, 'wizard': 3141, 'shortli': 3142, 'hatr': 3143, 'falk': 3144, 'greek': 3145, 'alexand': 3146, 'gentl': 3147, 'modesti': 3148, 'ruth': 3149, 'felix': 3150, 'fund': 3151, 'lend': 3152, 'we': 3153, 'manhattan': 3154, 'dracula': 3155, 'preciou': 3156, 'knight': 3157, 'unpleas': 3158, 'jealou': 3159, 'harm': 3160, 'futurist': 3161, 'legal': 3162, 'tall': 3163, 'ocean': 3164, 'holi': 3165, 'digniti': 3166, 'forbidden': 3167, 'overdon': 3168, 'mock': 3169, 'childish': 3170, 'giallo': 3171, 'nod': 3172, 'tank': 3173, 'thread': 3174, 'explicit': 3175, 'scientif': 3176, 'reviv': 3177, 'bless': 3178, 'ami': 3179, 'repeatedli': 3180, 'awe': 3181, 'elderli': 3182, 'torment': 3183, 'fever': 3184, 'nerv': 3185, '2004': 3186, '99': 3187, 'awaken': 3188, 'thick': 3189, 'unwatch': 3190, 'yesterday': 3191, 'broad': 3192, 'eve': 3193, 'pirat': 3194, 'mel': 3195, 'verhoeven': 3196, 'margaret': 3197, 'launch': 3198, 'publish': 3199, 'timothi': 3200, 'bin': 3201, 'politician': 3202, 'ambit': 3203, 'rivet': 3204, 'custom': 3205, 'stiller': 3206, 'roman': 3207, 'ah': 3208, 'absenc': 3209, 'acclaim': 3210, 'royal': 3211, 'romero': 3212, 'automat': 3213, 'griffith': 3214, 'eas': 3215, 'lean': 3216, 'kay': 3217, 'uniform': 3218, 'sunshin': 3219, 'darker': 3220, 'transport': 3221, 'stinker': 3222, 'bathroom': 3223, 'pulp': 3224, 'antic': 3225, 'foul': 3226, 'gabriel': 3227, 'purpl': 3228, 'termin': 3229, 'homicid': 3230, 'tomato': 3231, 'warren': 3232, 'crook': 3233, 'pierc': 3234, 'phrase': 3235, 'wallac': 3236, 'q': 3237, 'packag': 3238, 'karen': 3239, 'juvenil': 3240, 'album': 3241, 'awak': 3242, 'coloni': 3243, 'ought': 3244, 'hollow': 3245, 'rambo': 3246, 'kenneth': 3247, '2003': 3248, 'prom': 3249, 'evolv': 3250, 'donna': 3251, 'contrari': 3252, 'revolutionari': 3253, 'marin': 3254, 'sixti': 3255, 'pray': 3256, 'brazil': 3257, 'horrid': 3258, 'viciou': 3259, 'eyr': 3260, 'saint': 3261, 'choreographi': 3262, 'li': 3263, 'option': 3264, 'conserv': 3265, 'boast': 3266, 'mildr': 3267, 'candid': 3268, 'defi': 3269, 'nerd': 3270, 'beatti': 3271, 'stole': 3272, 'blade': 3273, 'overr': 3274, 'twelv': 3275, 'kapoor': 3276, 'ramon': 3277, 'ireland': 3278, 'dose': 3279, 'mummi': 3280, 'protest': 3281, 'astonish': 3282, 'confirm': 3283, 'fulci': 3284, 'flame': 3285, 'global': 3286, 'kirk': 3287, 'collabor': 3288, 'trio': 3289, 'altman': 3290, 'detract': 3291, 'funer': 3292, 'jazz': 3293, 'natali': 3294, 'destini': 3295, 'bottl': 3296, 'nicholson': 3297, 'spit': 3298, 'tommi': 3299, 'racial': 3300, 'audio': 3301, 'enterpris': 3302, 'bull': 3303, 'delici': 3304, 'leap': 3305, 'blake': 3306, 'mystic': 3307, 'shade': 3308, 'yellow': 3309, 'whip': 3310, 'reunit': 3311, 'fonda': 3312, 'neo': 3313, 'threw': 3314, 'vivid': 3315, 'popcorn': 3316, 'altogeth': 3317, 'adolesc': 3318, 'merci': 3319, 'inherit': 3320, 'bedroom': 3321, 'visibl': 3322, 'todd': 3323, 'swedish': 3324, 'harder': 3325, 'pseudo': 3326, 'meaningless': 3327, 'enchant': 3328, 'staff': 3329, 'respond': 3330, 'leonard': 3331, 'suspici': 3332, 'decor': 3333, 'wire': 3334, 'bust': 3335, 'roommat': 3336, 'kennedi': 3337, 'ruthless': 3338, 'lawrenc': 3339, 'await': 3340, 'reserv': 3341, 'voight': 3342, 'fanat': 3343, 'madonna': 3344, 'atlanti': 3345, 'uneven': 3346, 'befriend': 3347, 'moodi': 3348, 'crocodil': 3349, 'lemmon': 3350, 'jew': 3351, 'exhibit': 3352, 'edi': 3353, 'tip': 3354, 'synopsi': 3355, 'chao': 3356, 'garner': 3357, 'bold': 3358, 'ventur': 3359, 'bargain': 3360, 'centr': 3361, '2007': 3362, 'clint': 3363, 'audit': 3364, 'holli': 3365, 'unsettl': 3366, 'palma': 3367, 'incident': 3368, 'dimens': 3369, 'clumsi': 3370, 'rural': 3371, 'abysm': 3372, 'bradi': 3373, 'voyag': 3374, 'carl': 3375, 'immigr': 3376, 'timon': 3377, 'wealth': 3378, 'humili': 3379, '2nd': 3380, 'neglect': 3381, 'imperson': 3382, 'ant': 3383, 'hart': 3384, 'trail': 3385, 'acknowledg': 3386, 'nearbi': 3387, 'characterist': 3388, 'cuba': 3389, 'echo': 3390, 'daddi': 3391, 'elimin': 3392, 'versu': 3393, 'mall': 3394, 'tiger': 3395, 'lit': 3396, 'cd': 3397, 'poetic': 3398, 'troop': 3399, 'cari': 3400, 'paus': 3401, 'celluloid': 3402, 'jeffrey': 3403, 'homer': 3404, 'repuls': 3405, 'mistaken': 3406, 'saga': 3407, 'marshal': 3408, 'pun': 3409, 'domest': 3410, 'collaps': 3411, 'infect': 3412, 'prejudic': 3413, 'solo': 3414, 'mickey': 3415, 'interrupt': 3416, 'chest': 3417, 'gear': 3418, 'promin': 3419, 'cake': 3420, 'harvey': 3421, 'hbo': 3422, 'inan': 3423, 'milk': 3424, 'pant': 3425, 'coffe': 3426, 'apolog': 3427, 'coat': 3428, 'inappropri': 3429, 'sore': 3430, 'assembl': 3431, 'undoubtedli': 3432, 'equip': 3433, 'olivi': 3434, 'tribe': 3435, '1996': 3436, 'leon': 3437, 'ginger': 3438, 'humbl': 3439, 'polanski': 3440, 'colleagu': 3441, 'devast': 3442, 'furthermor': 3443, 'pot': 3444, 'maggi': 3445, 'consum': 3446, 'aveng': 3447, 'brooklyn': 3448, 'institut': 3449, 'pen': 3450, 'retain': 3451, 'primari': 3452, 'highest': 3453, 'instant': 3454, 'colonel': 3455, 'trace': 3456, 'embrac': 3457, 'airplan': 3458, 'vulgar': 3459, 'florida': 3460, 'solut': 3461, 'jenni': 3462, 'exot': 3463, 'ya': 3464, 'rick': 3465, 'outer': 3466, 'cope': 3467, 'bowl': 3468, '3rd': 3469, 'sale': 3470, 'dian': 3471, 'illog': 3472, 'disabl': 3473, 'seduct': 3474, 'strain': 3475, 'gender': 3476, 'principl': 3477, 'wive': 3478, 'dutch': 3479, 'poke': 3480, 'smaller': 3481, 'descend': 3482, 'linda': 3483, '1999': 3484, 'godzilla': 3485, 'rabbit': 3486, 'secondli': 3487, 'scope': 3488, 'inferior': 3489, 'devoid': 3490, 'primarili': 3491, 'blatant': 3492, 'lol': 3493, 'hal': 3494, 'bubbl': 3495, 'beneath': 3496, 'yard': 3497, 'vast': 3498, 'gundam': 3499, 'glamor': 3500, 'gloriou': 3501, 'dive': 3502, 'cue': 3503, 'mixtur': 3504, 'dud': 3505, 'predecessor': 3506, 'shirley': 3507, 'arab': 3508, 'disjoint': 3509, 'pearl': 3510, 'senseless': 3511, 'alert': 3512, 'hideou': 3513, 'museum': 3514, 'myer': 3515, 'shelf': 3516, 'invas': 3517, 'aggress': 3518, 'breed': 3519, 'et': 3520, 'countrysid': 3521, 'april': 3522, 'alfr': 3523, 'talki': 3524, 'casual': 3525, 'z': 3526, 'simplist': 3527, 'domino': 3528, 'trademark': 3529, 'grinch': 3530, 'garbo': 3531, 'streep': 3532, 'obtain': 3533, 'rendit': 3534, 'illeg': 3535, 'hardcor': 3536, 'uwe': 3537, 'slide': 3538, 'acid': 3539, 'disgrac': 3540, 'maci': 3541, 'stellar': 3542, 'mail': 3543, 'unhappi': 3544, 'vanish': 3545, 'mayor': 3546, 'sh': 3547, 'experiment': 3548, 'robinson': 3549, 'oz': 3550, 'hopeless': 3551, 'loyal': 3552, 'robberi': 3553, 'boom': 3554, 'defens': 3555, 'stir': 3556, 'khan': 3557, 'applaud': 3558, 'stack': 3559, 'tenant': 3560, 'topless': 3561, 'rifl': 3562, 'span': 3563, 'incomprehens': 3564, 'dismiss': 3565, 'wont': 3566, 'declin': 3567, 'blew': 3568, 'amanda': 3569, 'dicken': 3570, 'berlin': 3571, 'soccer': 3572, 'fri': 3573, 'tempt': 3574, 'craze': 3575, 'counter': 3576, 'emphasi': 3577, 'recruit': 3578, 'grandfath': 3579, 'diana': 3580, 'psychic': 3581, 'hartley': 3582, 'scroog': 3583, 'spider': 3584, 'ethnic': 3585, 'woo': 3586, 'goer': 3587, 'ration': 3588, 'bitch': 3589, 'sympath': 3590, 'riot': 3591, 'faster': 3592, 'shed': 3593, 'revolt': 3594, 'intim': 3595, 'porno': 3596, 'wet': 3597, 'niro': 3598, 'parad': 3599, 'resurrect': 3600, 'sibl': 3601, 'justin': 3602, 'trashi': 3603, 'lumet': 3604, 'shaw': 3605, 'feminist': 3606, 'eager': 3607, 'hopper': 3608, 'andr': 3609, 'hesit': 3610, 'dealer': 3611, 'partial': 3612, 'worm': 3613, 'mario': 3614, 'ensur': 3615, 'nephew': 3616, 'wendi': 3617, 'choru': 3618, 'enlighten': 3619, 'farmer': 3620, 'commend': 3621, 'jonathan': 3622, 'rider': 3623, 'honesti': 3624, 'weakest': 3625, 'slick': 3626, 'patriot': 3627, 'biographi': 3628, 'immort': 3629, 'steam': 3630, 'lena': 3631, 'unreal': 3632, 'gap': 3633, '00': 3634, 'ballet': 3635, 'region': 3636, 'wheel': 3637, 'repress': 3638, 'util': 3639, 'vice': 3640, 'snap': 3641, 'blunt': 3642, 'sandra': 3643, 'sappi': 3644, 'wore': 3645, 'owen': 3646, 'psychopath': 3647, 'mutant': 3648, 'victori': 3649, 'skull': 3650, 'confin': 3651, 'composit': 3652, 'kingdom': 3653, 'nostalg': 3654, 'hung': 3655, 'franco': 3656, 'safeti': 3657, 'similarli': 3658, 'charlott': 3659, 'properti': 3660, 'prequel': 3661, 'macarthur': 3662, 'morri': 3663, 'leo': 3664, 'thru': 3665, 'farrel': 3666, 'dalton': 3667, 'drain': 3668, 'rambl': 3669, 'rocki': 3670, 'compass': 3671, 'emperor': 3672, 'bergman': 3673, 'bumbl': 3674, 'compens': 3675, 'dust': 3676, 'acquir': 3677, 'nervou': 3678, '1972': 3679, 'tail': 3680, 'valuabl': 3681, 'rope': 3682, 'recycl': 3683, 'bow': 3684, 'exit': 3685, 'tad': 3686, 'speci': 3687, 'repli': 3688, 'heartbreak': 3689, 'kyle': 3690, 'del': 3691, 'latin': 3692, 'snl': 3693, 'miseri': 3694, 'whoopi': 3695, 'montana': 3696, 'despair': 3697, 'campbel': 3698, 'cg': 3699, 'deed': 3700, 'drum': 3701, 'hyde': 3702, 'bonu': 3703, 'pattern': 3704, 'strand': 3705, 'da': 3706, 'pour': 3707, 'radic': 3708, 'martian': 3709, 'rotten': 3710, 'wacki': 3711, 'carradin': 3712, 'contempl': 3713, 'airport': 3714, 'tonight': 3715, 'mistress': 3716, 'rapist': 3717, '35': 3718, 'olli': 3719, 'bleed': 3720, 'gimmick': 3721, 'roth': 3722, 'downhil': 3723, 'romp': 3724, 'percept': 3725, 'chess': 3726, 'oppress': 3727, 'orson': 3728, 'gal': 3729, 'slug': 3730, 'unpredict': 3731, '1983': 3732, 'paltrow': 3733, 'mislead': 3734, 'champion': 3735, 'tackl': 3736, 'heal': 3737, 'arguabl': 3738, 'taught': 3739, 'programm': 3740, 'stilt': 3741, 'pursuit': 3742, 'slash': 3743, 'preach': 3744, 'arc': 3745, 'belt': 3746, 'edgar': 3747, 'dazzl': 3748, 'shelley': 3749, 'banal': 3750, 'melodi': 3751, 'pervert': 3752, 'pervers': 3753, 'tooth': 3754, 'attorney': 3755, 'closest': 3756, 'chicken': 3757, 'graham': 3758, 'employe': 3759, 'vengeanc': 3760, 'mesmer': 3761, 'franki': 3762, 'vocal': 3763, 'orang': 3764, 'plight': 3765, 'raymond': 3766, 'virginia': 3767, 'conneri': 3768, 'maid': 3769, 'cleverli': 3770, 'tiresom': 3771, 'uplift': 3772, 'duval': 3773, 'gambl': 3774, 'sensat': 3775, 'marti': 3776, 'rubi': 3777, 'bela': 3778, 'poem': 3779, 'passeng': 3780, 'dixon': 3781, 'suffic': 3782, 'paranoia': 3783, 'climact': 3784, 'volum': 3785, 'extens': 3786, 'numb': 3787, 'monologu': 3788, 'gerard': 3789, 'scottish': 3790, 'abraham': 3791, 'whine': 3792, 'crystal': 3793, 'giggl': 3794, 'clone': 3795, 'secretli': 3796, 'yawn': 3797, 'mute': 3798, 'swallow': 3799, 'quarter': 3800, 'convincingli': 3801, 'calm': 3802, 'tube': 3803, 'engross': 3804, 'iran': 3805, 'outing': 3806, 'profan': 3807, 'lundgren': 3808, 'habit': 3809, 'bay': 3810, 'sirk': 3811, '1968': 3812, 'amitabh': 3813, 'pokemon': 3814, 'inject': 3815, 'taxi': 3816, 'meander': 3817, 'grotesqu': 3818, 'linger': 3819, 'franci': 3820, 'chicago': 3821, 'lowest': 3822, 'poetri': 3823, 'fed': 3824, 'frankenstein': 3825, 'dispos': 3826, 'trend': 3827, 'austen': 3828, 'richardson': 3829, 'septemb': 3830, 'expand': 3831, 'earl': 3832, 'bend': 3833, 'abort': 3834, 'spock': 3835, 'plod': 3836, 'surpass': 3837, 'backward': 3838, 'im': 3839, 'junior': 3840, 'underst': 3841, 'ethan': 3842, 'nichola': 3843, 'profess': 3844, 'dysfunct': 3845, 'tourist': 3846, 'muddl': 3847, 'rant': 3848, 'der': 3849, 'mundan': 3850, 'econom': 3851, 'instrument': 3852, 'waitress': 3853, 'household': 3854, 'literatur': 3855, 'hum': 3856, 'catchi': 3857, 'greedi': 3858, 'descent': 3859, 'lure': 3860, 'stallon': 3861, 'cannon': 3862, 'spoke': 3863, 'simplic': 3864, 'compliment': 3865, 'myth': 3866, 'rubber': 3867, 'sue': 3868, 'eugen': 3869, 'nostalgia': 3870, 'louis': 3871, 'dictat': 3872, 'duck': 3873, 'firstli': 3874, 'equival': 3875, 'june': 3876, 'deaf': 3877, 'damon': 3878, 'eaten': 3879, 'phoni': 3880, 'insur': 3881, 'stale': 3882, 'cent': 3883, 'molli': 3884, 'randi': 3885, 'hello': 3886, 'map': 3887, 'flee': 3888, 'mankind': 3889, 'lang': 3890, 'recognit': 3891, 'furi': 3892, 'mortal': 3893, 'dement': 3894, 'irrelev': 3895, 'sissi': 3896, 'recognis': 3897, 'occupi': 3898, 'phantom': 3899, 'alongsid': 3900, 'crucial': 3901, 'bacal': 3902, 'carel': 3903, 'coast': 3904, 'omen': 3905, 'blackmail': 3906, 'wisdom': 3907, 'rude': 3908, 'dreari': 3909, 'twilight': 3910, '1973': 3911, 'ashley': 3912, 'biko': 3913, 'reign': 3914, 'onlin': 3915, 'loyalti': 3916, 'daisi': 3917, 'lengthi': 3918, 'bump': 3919, 'freez': 3920, 'drake': 3921, 'buffalo': 3922, 'grayson': 3923, 'distinguish': 3924, 'heel': 3925, 'cyborg': 3926, 'likewis': 3927, 'newli': 3928, 'bike': 3929, 'labor': 3930, 'antwon': 3931, 'damm': 3932, 'rooney': 3933, 'chronicl': 3934, 'vein': 3935, 'attribut': 3936, 'butler': 3937, 'exposur': 3938, 'boxer': 3939, 'inher': 3940, 'interior': 3941, 'baddi': 3942, 'ridden': 3943, 'provoc': 3944, 'basketbal': 3945, 'nineti': 3946, 'tunnel': 3947, 'analysi': 3948, 'pink': 3949, 'proce': 3950, 'unorigin': 3951, 'keith': 3952, 'emphas': 3953, 'prey': 3954, 'incorpor': 3955, 'approv': 3956, 'sailor': 3957, 'startl': 3958, 'barrymor': 3959, 'worn': 3960, 'underli': 3961, 'bunni': 3962, 'substitut': 3963, 'indiffer': 3964, 'elm': 3965, 'er': 3966, 'mighti': 3967, 'improvis': 3968, 'millionair': 3969, 'nicol': 3970, 'condemn': 3971, 'meyer': 3972, 'predat': 3973, 'belushi': 3974, 'mormon': 3975, 'fleet': 3976, 'hypnot': 3977, 'undeni': 3978, 'simmon': 3979, 'unrel': 3980, 'degrad': 3981, 'drift': 3982, 'meg': 3983, 'robbin': 3984, 'walsh': 3985, 'othello': 3986, 'stalker': 3987, 'julian': 3988, 'carla': 3989, 'barrel': 3990, 'shove': 3991, 'agenda': 3992, 'vital': 3993, 'palac': 3994, 'roof': 3995, 'disord': 3996, 'exquisit': 3997, 'alison': 3998, 'reid': 3999, 'greed': 4000, 'hay': 4001, 'enthusiasm': 4002, 'firm': 4003, 'alarm': 4004, 'unawar': 4005, 'lampoon': 4006, 'dolph': 4007, 'priceless': 4008, 'warmth': 4009, 'marion': 4010, 'watson': 4011, 'novak': 4012, 'nyc': 4013, '3d': 4014, 'mtv': 4015, 'rukh': 4016, 'edgi': 4017, 'errol': 4018, 'nun': 4019, 'glanc': 4020, 'beatl': 4021, 'preserv': 4022, '1933': 4023, 'showdown': 4024, 'campaign': 4025, 'ponder': 4026, 'crown': 4027, 'unleash': 4028, '13th': 4029, 'eastern': 4030, 'valentin': 4031, 'profit': 4032, 'championship': 4033, 'distort': 4034, 'israel': 4035, 'petti': 4036, 'randomli': 4037, 'gestur': 4038, 'orlean': 4039, 'angela': 4040, 'pamela': 4041, 'peril': 4042, 'session': 4043, 'drip': 4044, 'spain': 4045, 'simultan': 4046, 'iraq': 4047, 'thompson': 4048, 'what': 4049, 'cassidi': 4050, 'sergeant': 4051, 'testament': 4052, 'coup': 4053, 'peck': 4054, 'minimum': 4055, 'zizek': 4056, 'brenda': 4057, 'wig': 4058, 'buster': 4059, '1984': 4060, 'travesti': 4061, 'calib': 4062, 'kurosawa': 4063, 'cooki': 4064, 'climat': 4065, 'unimagin': 4066, 'exposit': 4067, 'crawl': 4068, 'regist': 4069, 'stake': 4070, 'represent': 4071, 'empathi': 4072, 'restrain': 4073, 'fido': 4074, 'stroke': 4075, 'contradict': 4076, 'mon': 4077, 'reson': 4078, 'rout': 4079, 'perpetu': 4080, 'gentleman': 4081, 'scotland': 4082, 'valley': 4083, 'shootout': 4084, 'han': 4085, 'quinn': 4086, 'realm': 4087, 'miyazaki': 4088, 'sabrina': 4089, 'cream': 4090, 'bro': 4091, 'crow': 4092, 'din': 4093, 'jan': 4094, 'delic': 4095, 'baldwin': 4096, 'tacki': 4097, 'cloud': 4098, 'absent': 4099, 'derang': 4100, 'demis': 4101, 'traumat': 4102, 'sammi': 4103, 'shoddi': 4104, 'mclaglen': 4105, 'painter': 4106, 'pole': 4107, 'censor': 4108, 'unseen': 4109, 'femm': 4110, 'sucker': 4111, 'shaki': 4112, 'passabl': 4113, 'distress': 4114, 'perceiv': 4115, 'unsatisfi': 4116, 'compromis': 4117, 'fuller': 4118, '1997': 4119, 'geek': 4120, 'stargat': 4121, 'spacey': 4122, 'wax': 4123, 'warrant': 4124, '1987': 4125, 'businessman': 4126, 'abomin': 4127, 'pretens': 4128, 'josh': 4129, 'greg': 4130, 'ross': 4131, 'dana': 4132, 'soderbergh': 4133, 'monoton': 4134, 'ustinov': 4135, 'crawford': 4136, 'meryl': 4137, 'darren': 4138, 'jewel': 4139, 'reluct': 4140, 'verbal': 4141, 'exclus': 4142, 'deniro': 4143, 'furiou': 4144, 'judgment': 4145, 'seal': 4146, 'click': 4147, 'primit': 4148, 'anchor': 4149, 'correctli': 4150, 'expedit': 4151, 'uncov': 4152, 'deceas': 4153, 'kumar': 4154, '1993': 4155, 'fog': 4156, 'tech': 4157, 'clash': 4158, 'valid': 4159, 'accuraci': 4160, 'fenc': 4161, 'norm': 4162, 'wholli': 4163, 'polici': 4164, 'unravel': 4165, 'austin': 4166, 'tarantino': 4167, 'nathan': 4168, 'sid': 4169, 'dee': 4170, 'antonioni': 4171, 'fart': 4172, 'wang': 4173, '1995': 4174, 'seldom': 4175, 'wretch': 4176, 'alec': 4177, 'roller': 4178, 'slam': 4179, 'joel': 4180, 'sand': 4181, 'pocket': 4182, '3000': 4183, 'temper': 4184, 'murray': 4185, 'darn': 4186, 'bake': 4187, 'crippl': 4188, 'sustain': 4189, '1971': 4190, 'trait': 4191, 'unfair': 4192, 'patienc': 4193, 'fabric': 4194, 'sunni': 4195, 'dreck': 4196, 'fought': 4197, 'behold': 4198, 'nicola': 4199, 'mode': 4200, 'tax': 4201, 'clerk': 4202, 'enforc': 4203, 'debt': 4204, 'hallucin': 4205, 'malon': 4206, 'vanc': 4207, 'ritual': 4208, 'conduct': 4209, '2008': 4210, 'sheet': 4211, 'shanghai': 4212, 'logan': 4213, 'penni': 4214, 'technicolor': 4215, 'pete': 4216, 'tactic': 4217, 'runner': 4218, 'schedul': 4219, 'despis': 4220, 'guitar': 4221, 'canyon': 4222, 'squad': 4223, 'bias': 4224, 'bridget': 4225, 'divid': 4226, 'critiqu': 4227, 'outlin': 4228, 'grief': 4229, 'preposter': 4230, 'preston': 4231, 'conscious': 4232, 'fundament': 4233, 'phil': 4234, 'stuart': 4235, 'rita': 4236, 'legaci': 4237, 'scriptwrit': 4238, 'soup': 4239, 'sweep': 4240, 'clau': 4241, 'isabel': 4242, 'exhaust': 4243, 'shell': 4244, 'stark': 4245, 'helpless': 4246, 'robber': 4247, 'alley': 4248, 'passag': 4249, 'sugar': 4250, 'flair': 4251, 'sentinel': 4252, 'unexpectedli': 4253, 'culmin': 4254, 'restrict': 4255, 'lacklust': 4256, 'marc': 4257, 'liberti': 4258, 'rear': 4259, 'delv': 4260, 'jodi': 4261, 'agenc': 4262, 'implic': 4263, 'invad': 4264, 'palanc': 4265, 'drove': 4266, 'vomit': 4267, 'connor': 4268, 'sniper': 4269, 'inabl': 4270, 'kansa': 4271, 'downey': 4272, 'gregori': 4273, 'bloom': 4274, 'boyl': 4275, 'alicia': 4276, 'cigarett': 4277, 'jacket': 4278, 'rehash': 4279, 'russia': 4280, 'newman': 4281, 'consciou': 4282, 'propos': 4283, 'delet': 4284, '1936': 4285, 'behaviour': 4286, 'wrench': 4287, 'cap': 4288, 'chainsaw': 4289, 'vet': 4290, 'foxx': 4291, 'pale': 4292, 'rehears': 4293, 'rampag': 4294, 'bacon': 4295, 'aesthet': 4296, 'arrow': 4297, 'ladder': 4298, 'feat': 4299, 'horn': 4300, 'sharon': 4301, 'lush': 4302, 'karl': 4303, '22': 4304, 'mccoy': 4305, 'asylum': 4306, 'rod': 4307, 'awhil': 4308, 'improb': 4309, 'tripe': 4310, 'tendenc': 4311, 'yeti': 4312, 'kolchak': 4313, 'paramount': 4314, 'globe': 4315, 'coaster': 4316, '19th': 4317, 'rhythm': 4318, '1988': 4319, 'newcom': 4320, 'weav': 4321, 'paradis': 4322, 'hungri': 4323, 'amazon': 4324, 'fright': 4325, 'wildli': 4326, 'hackney': 4327, 'underneath': 4328, 'el': 4329, '1920': 4330, 'stream': 4331, 'prank': 4332, 'loneli': 4333, '1978': 4334, 'hulk': 4335, 'suspicion': 4336, 'shortcom': 4337, 'minu': 4338, 'tomorrow': 4339, 'scoop': 4340, 'spice': 4341, 'visitor': 4342, 'sung': 4343, 'tasteless': 4344, 'conscienc': 4345, 'lurk': 4346, 'financ': 4347, 'aristocrat': 4348, 'rumor': 4349, 'suffici': 4350, 'elit': 4351, 'basing': 4352, 'wagner': 4353, 'filler': 4354, 'thunderbird': 4355, 'paxton': 4356, 'smell': 4357, 'abrupt': 4358, 'quietli': 4359, 'iv': 4360, 'couch': 4361, 'lectur': 4362, 'dirt': 4363, 'heist': 4364, 'worship': 4365, 'beverli': 4366, 'brit': 4367, 'hopkin': 4368, 'choppi': 4369, 'naughti': 4370, 'recogniz': 4371, 'ingeni': 4372, 'atroc': 4373, '1989': 4374, 'secondari': 4375, 'penn': 4376, 'bread': 4377, 'entranc': 4378, 'standout': 4379, 'chamberlain': 4380, '75': 4381, 'teas': 4382, 'literari': 4383, 'immers': 4384, 'leigh': 4385, 'en': 4386, 'counterpart': 4387, 'inmat': 4388, 'wwe': 4389, 'minist': 4390, 'rub': 4391, 'curli': 4392, 'straightforward': 4393, 'ram': 4394, 'posey': 4395, 'impos': 4396, 'springer': 4397, 'cancer': 4398, 'grudg': 4399, 'tierney': 4400, 'chavez': 4401, '1939': 4402, 'sassi': 4403, '1986': 4404, 'esther': 4405, 'policeman': 4406, 'morbid': 4407, 'yearn': 4408, 'transcend': 4409, 'nolan': 4410, 'net': 4411, 'misguid': 4412, 'skeptic': 4413, 'attenborough': 4414, 'bernard': 4415, 'ratso': 4416, 'moreov': 4417, 'watcher': 4418, 'enthral': 4419, 'clan': 4420, 'cattl': 4421, 'entitl': 4422, 'injuri': 4423, 'convert': 4424, 'quaid': 4425, 'duel': 4426, 'nemesi': 4427, 'ace': 4428, 'variat': 4429, 'sublim': 4430, 'laurenc': 4431, 'lindsay': 4432, 'heartfelt': 4433, 'geni': 4434, 'missil': 4435, 'reliabl': 4436, 'brood': 4437, 'spiral': 4438, 'obstacl': 4439, 'graini': 4440, 'unexplain': 4441, 'setup': 4442, 'characteris': 4443, 'hk': 4444, 'bean': 4445, 'artsi': 4446, 'youngest': 4447, 'puppi': 4448, 'tyler': 4449, 'dont': 4450, 'out': 4451, 'enabl': 4452, 'moder': 4453, 'bye': 4454, 'diari': 4455, 'grin': 4456, 'cruelti': 4457, 'hopelessli': 4458, '1979': 4459, 'buzz': 4460, 'facil': 4461, 'carlito': 4462, 'vader': 4463, 'uncut': 4464, 'egg': 4465, 'steadi': 4466, 'poe': 4467, 'rosemari': 4468, 'kidman': 4469, 'mytholog': 4470, 'kitti': 4471, 'bewar': 4472, 'fuel': 4473, 'acquaint': 4474, 'gina': 4475, 'heap': 4476, 'bounc': 4477, 'brendan': 4478, 'exterior': 4479, 'niec': 4480, 'athlet': 4481, 'narrow': 4482, 'sweat': 4483, 'kline': 4484, 'decept': 4485, 'baffl': 4486, 'spontan': 4487, 'underworld': 4488, 'clueless': 4489, 'hammi': 4490, '1969': 4491, 'weather': 4492, 'despic': 4493, 'disastr': 4494, 'christin': 4495, 'martha': 4496, 'patricia': 4497, 'effici': 4498, 'oblig': 4499, 'preming': 4500, 'gillian': 4501, 'hain': 4502, 'bronson': 4503, 'angst': 4504, 'astound': 4505, 'hepburn': 4506, 'preachi': 4507, 'taboo': 4508, 'harmless': 4509, 'circu': 4510, 'dandi': 4511, 'sleepwalk': 4512, 'scar': 4513, 'mayhem': 4514, 'outlaw': 4515, 'viewpoint': 4516, 'virtu': 4517, 'trigger': 4518, 'loath': 4519, 'rome': 4520, '73': 4521, '19': 4522, 'shatter': 4523, 'sooner': 4524, 'biker': 4525, 'insipid': 4526, 'dilemma': 4527, 'housewif': 4528, 'candl': 4529, 'renaiss': 4530, 'enlist': 4531, 'suprem': 4532, 'tick': 4533, 'analyz': 4534, 'headach': 4535, 'injur': 4536, 'goof': 4537, 'uh': 4538, 'lester': 4539, 'loi': 4540, 'fontain': 4541, 'mermaid': 4542, 'intric': 4543, 'scorses': 4544, 'filth': 4545, 'gere': 4546, 'idol': 4547, 'claustrophob': 4548, 'ebert': 4549, 'stair': 4550, 'contempt': 4551, 'immatur': 4552, 'glorifi': 4553, 'zoom': 4554, 'hooker': 4555, 'hokey': 4556, 'macho': 4557, 'bent': 4558, 'dismal': 4559, 'camcord': 4560, 'redund': 4561, 'cassavet': 4562, 'salt': 4563, 'spade': 4564, 'tripl': 4565, 'amor': 4566, 'fluff': 4567, 'boston': 4568, 'foolish': 4569, 'stimul': 4570, 'whore': 4571, 'oldest': 4572, 'surgeri': 4573, 'steer': 4574, 'slimi': 4575, 'overlong': 4576, 'sox': 4577, 'dish': 4578, 'hostag': 4579, 'phenomenon': 4580, 'ariel': 4581, 'guin': 4582, 'corbett': 4583, 'strongest': 4584, 'beard': 4585, 'frantic': 4586, '1981': 4587, 'flirt': 4588, 'corman': 4589, 'remad': 4590, 'cow': 4591, 'zane': 4592, 'antagonist': 4593, 'mount': 4594, 'preced': 4595, 'muscl': 4596, 'rhyme': 4597, 'shred': 4598, 'messi': 4599, 'transplant': 4600, 'proport': 4601, 'nolt': 4602, 'gasp': 4603, 'faint': 4604, 'mutual': 4605, 'assert': 4606, 'trivia': 4607, 'obligatori': 4608, 'flag': 4609, 'cush': 4610, 'flashi': 4611, 'cohen': 4612, 'margin': 4613, 'schlock': 4614, 'harold': 4615, 'astronaut': 4616, '1976': 4617, 'perman': 4618, 'spinal': 4619, 'joker': 4620, 'keen': 4621, 'spree': 4622, 'conquer': 4623, 'down': 4624, 'fascist': 4625, 'naschi': 4626, 'dwarf': 4627, 'shield': 4628, 'widescreen': 4629, 'gabl': 4630, 'radiat': 4631, 'alvin': 4632, 'persuad': 4633, 'resum': 4634, '95': 4635, 'mobil': 4636, 'mol': 4637, 'instruct': 4638, 'off': 4639, 'divin': 4640, 'danish': 4641, 'deer': 4642, 'someday': 4643, '28': 4644, 'discern': 4645, 'carey': 4646, 'scandal': 4647, 'bachelor': 4648, 'claud': 4649, 'barn': 4650, 'bitten': 4651, 'triangl': 4652, 'strive': 4653, 'interestingli': 4654, 'boob': 4655, 'repris': 4656, 'wield': 4657, 'sensual': 4658, 'departur': 4659, 'raj': 4660, 'brush': 4661, 'archiv': 4662, 'neurot': 4663, 'inflict': 4664, 'hara': 4665, '1945': 4666, 'flock': 4667, 'www': 4668, 'info': 4669, 'vaniti': 4670, 'aborigin': 4671, 'fishburn': 4672, 'ritchi': 4673, 'colin': 4674, 'proclaim': 4675, 'cb': 4676, 'heartwarm': 4677, 'hilar': 4678, 'carlo': 4679, 'hapless': 4680, 'clad': 4681, 'jade': 4682, 'anton': 4683, 'recit': 4684, 'prophet': 4685, 'biblic': 4686, 'earnest': 4687, 'bate': 4688, 'senior': 4689, 'pickford': 4690, 'traffic': 4691, 'axe': 4692, 'pacif': 4693, 'banter': 4694, 'dim': 4695, 'hug': 4696, 'ish': 4697, 'harrison': 4698, 'cliffhang': 4699, 'cycl': 4700, 'wendigo': 4701, 'fragil': 4702, 'artwork': 4703, 'parson': 4704, 'pixar': 4705, 'timberlak': 4706, 'vibrant': 4707, 'undermin': 4708, 'frontier': 4709, 'melissa': 4710, 'europa': 4711, 'casino': 4712, 'dylan': 4713, 'loretta': 4714, 'miracul': 4715, 'luka': 4716, 'submit': 4717, 'kathryn': 4718, 'dame': 4719, 'rot': 4720, 'helm': 4721, 'mobster': 4722, 'neill': 4723, 'cher': 4724, 'cerebr': 4725, 'shepherd': 4726, 'estrang': 4727, 'flavor': 4728, 'antholog': 4729, 'vile': 4730, 'akin': 4731, 'northern': 4732, 'marlon': 4733, 'misfortun': 4734, 'bondag': 4735, 'jo': 4736, 'token': 4737, 'razor': 4738, 'aris': 4739, 'redneck': 4740, 'orphan': 4741, 'uma': 4742, 'articl': 4743, 'blatantli': 4744, 'electron': 4745, 'feast': 4746, 'holocaust': 4747, 'lui': 4748, 'choke': 4749, 'winchest': 4750, 'nope': 4751, 'toronto': 4752, 'mathieu': 4753, 'foil': 4754, 'wardrob': 4755, 'seedi': 4756, 'trier': 4757, 'http': 4758, 'isra': 4759, 'legitim': 4760, 'lucil': 4761, 'static': 4762, 'eli': 4763, 'vanessa': 4764, 'sicken': 4765, 'pc': 4766, 'venom': 4767, 'alexandr': 4768, 'mason': 4769, 'breakfast': 4770, 'bikini': 4771, 'illus': 4772, 'rooki': 4773, 'milo': 4774, 'jordan': 4775, 'disregard': 4776, 'turd': 4777, 'frog': 4778, 'dudley': 4779, 'comprehend': 4780, 'styliz': 4781, 'audrey': 4782, 'nightclub': 4783, 'cartoonish': 4784, 'feminin': 4785, 'wrestler': 4786, 'deem': 4787, 'knightley': 4788, 'outdat': 4789, 'smack': 4790, 'psych': 4791, 'ideolog': 4792, 'peer': 4793, 'fifth': 4794, 'glare': 4795, 'ceremoni': 4796, 'linear': 4797, 'huston': 4798, 'gilbert': 4799, 'abund': 4800, 'leather': 4801, 'howl': 4802, 'shorter': 4803, 'charlton': 4804, 'highway': 4805, 'clinic': 4806, 'affleck': 4807, 'tack': 4808, 'oppon': 4809, 'swept': 4810, 'boyer': 4811, 'retriev': 4812, 'magician': 4813, 'gunga': 4814, 'lighter': 4815, 'durat': 4816, 'spine': 4817, 'tara': 4818, 'btw': 4819, 'sleaz': 4820, 'plate': 4821, 'corn': 4822, '1994': 4823, 'newer': 4824, 'summar': 4825, 'bogu': 4826, 'spawn': 4827, 'monument': 4828, 'deliver': 4829, 'mitch': 4830, 'breakdown': 4831, 'evolut': 4832, 'braveheart': 4833, 'lifeless': 4834, 'compris': 4835, 'phenomen': 4836, 'bastard': 4837, 'lavish': 4838, 'collector': 4839, 'whack': 4840, 'uniformli': 4841, 'client': 4842, 'potter': 4843, 'greet': 4844, 'energet': 4845, 'salman': 4846, 'snatch': 4847, '4th': 4848, 'moe': 4849, 'einstein': 4850, 'senat': 4851, 'chip': 4852, 'conrad': 4853, 'cemeteri': 4854, 'boo': 4855, 'toe': 4856, 'cuban': 4857, 'goldsworthi': 4858, '1991': 4859, 'sorrow': 4860, 'occup': 4861, 'spectacl': 4862, '1977': 4863, 'replay': 4864, 'cecil': 4865, 'neatli': 4866, 'appl': 4867, 'luxuri': 4868, 'signal': 4869, 'bulk': 4870, '1974': 4871, 'jare': 4872, 'embark': 4873, 'armstrong': 4874, 'undead': 4875, 'jule': 4876, 'historian': 4877, 'creek': 4878, 'firmli': 4879, 'eleven': 4880, 'judd': 4881, 'kazan': 4882, 'jam': 4883, 'alleg': 4884, 'inaccuraci': 4885, 'evelyn': 4886, 'liu': 4887, 'pronounc': 4888, 'trauma': 4889, 'belli': 4890, 'jedi': 4891, 'wtf': 4892, 'lex': 4893, 'randolph': 4894, 'bori': 4895, 'kent': 4896, 'gilliam': 4897, 'constitut': 4898, 'fluid': 4899, 'healthi': 4900, 'undertak': 4901, 'ie': 4902, 'outright': 4903, 'nina': 4904, 'ol': 4905, 'mcqueen': 4906, 'capot': 4907, 'clara': 4908, 'id': 4909, 'lanc': 4910, 'unsuspect': 4911, 'sacrif': 4912, 'inclus': 4913, 'fruit': 4914, '1985': 4915, 'goldblum': 4916, 'kiddi': 4917, 'groan': 4918, 'spray': 4919, 'pepper': 4920, 'cape': 4921, 'blur': 4922, 'mum': 4923, 'basket': 4924, 'roar': 4925, 'genet': 4926, 'rosario': 4927, 'bait': 4928, 'unattract': 4929, 'propheci': 4930, 'walt': 4931, 'pioneer': 4932, 'comb': 4933, 'curtain': 4934, 'inaccur': 4935, 'truman': 4936, 'bsg': 4937, 'paula': 4938, 'forgiven': 4939, 'knee': 4940, 'carmen': 4941, 'abound': 4942, 'antonio': 4943, 'congratul': 4944, 'vignett': 4945, 'conan': 4946, 'subtli': 4947, 'decapit': 4948, 'lauren': 4949, 'miami': 4950, 'poker': 4951, 'palm': 4952, 'porter': 4953, 'comprehens': 4954, 'relentless': 4955, 'meal': 4956, 'tokyo': 4957, 'sidewalk': 4958, 'ash': 4959, 'aussi': 4960, 'galaxi': 4961, 'vain': 4962, 'miniseri': 4963, 'evan': 4964, 'drone': 4965, 'jill': 4966, 'bach': 4967, 'bravo': 4968, '21st': 4969, 'rapidli': 4970, 'modest': 4971, 'ingrid': 4972, 'detach': 4973, 'casper': 4974, 'omin': 4975, 'dubiou': 4976, 'hostil': 4977, 'handicap': 4978, 'hackman': 4979, 'assort': 4980, 'verg': 4981, 'substanti': 4982, 'monti': 4983, 'frontal': 4984, 'asset': 4985, 'scariest': 4986, 'growth': 4987, 'profil': 4988, 'reincarn': 4989, 'epitom': 4990, 'victorian': 4991, 'sparkl': 4992, 'orchestr': 4993, 'ghetto': 4994, 'playboy': 4995, 'weari': 4996, 'spill': 4997, 'masterson': 4998, 'mice': 4999}\n"
     ]
    }
   ],
   "source": [
    "# TODO: Use this space to determine the five most frequently appearing words in the training set.\n",
    "print(word_dict)"
   ]
  },
  {
   "cell_type": "markdown",
   "metadata": {},
   "source": [
    "### Save `word_dict`\n",
    "\n",
    "Later on when we construct an endpoint which processes a submitted review we will need to make use of the `word_dict` which we have created. As such, we will save it to a file now for future use."
   ]
  },
  {
   "cell_type": "code",
   "execution_count": 15,
   "metadata": {},
   "outputs": [],
   "source": [
    "data_dir = '../data/pytorch' # The folder we will use for storing data\n",
    "if not os.path.exists(data_dir): # Make sure that the folder exists\n",
    "    os.makedirs(data_dir)"
   ]
  },
  {
   "cell_type": "code",
   "execution_count": 16,
   "metadata": {},
   "outputs": [],
   "source": [
    "with open(os.path.join(data_dir, 'word_dict.pkl'), \"wb\") as f:\n",
    "    pickle.dump(word_dict, f)"
   ]
  },
  {
   "cell_type": "markdown",
   "metadata": {},
   "source": [
    "### Transform the reviews\n",
    "\n",
    "Now that we have our word dictionary which allows us to transform the words appearing in the reviews into integers, it is time to make use of it and convert our reviews to their integer sequence representation, making sure to pad or truncate to a fixed length, which in our case is `500`."
   ]
  },
  {
   "cell_type": "code",
   "execution_count": 17,
   "metadata": {},
   "outputs": [],
   "source": [
    "def convert_and_pad(word_dict, sentence, pad=500):\n",
    "    NOWORD = 0 # We will use 0 to represent the 'no word' category\n",
    "    INFREQ = 1 # and we use 1 to represent the infrequent words, i.e., words not appearing in word_dict\n",
    "    \n",
    "    working_sentence = [NOWORD] * pad\n",
    "    \n",
    "    for word_index, word in enumerate(sentence[:pad]):\n",
    "        if word in word_dict:\n",
    "            working_sentence[word_index] = word_dict[word]\n",
    "        else:\n",
    "            working_sentence[word_index] = INFREQ\n",
    "            \n",
    "    return working_sentence, min(len(sentence), pad)\n",
    "\n",
    "def convert_and_pad_data(word_dict, data, pad=500):\n",
    "    result = []\n",
    "    lengths = []\n",
    "    \n",
    "    for sentence in data:\n",
    "        converted, leng = convert_and_pad(word_dict, sentence, pad)\n",
    "        result.append(converted)\n",
    "        lengths.append(leng)\n",
    "        \n",
    "    return np.array(result), np.array(lengths)"
   ]
  },
  {
   "cell_type": "code",
   "execution_count": 18,
   "metadata": {},
   "outputs": [],
   "source": [
    "train_X, train_X_len = convert_and_pad_data(word_dict, train_X)\n",
    "test_X, test_X_len = convert_and_pad_data(word_dict, test_X)"
   ]
  },
  {
   "cell_type": "markdown",
   "metadata": {},
   "source": [
    "As a quick check to make sure that things are working as intended, check to see what one of the reviews in the training set looks like after having been processeed. Does this look reasonable? What is the length of a review in the training set?"
   ]
  },
  {
   "cell_type": "code",
   "execution_count": 19,
   "metadata": {},
   "outputs": [
    {
     "name": "stdout",
     "output_type": "stream",
     "text": [
      "len of one sample review: 500\n",
      "[2274    1    5  274    1    1    1   30   29  403 1144   29 1663  793\n",
      "   29 2038  294 3007  105  990 3991  214   50  137  152  378 4357    5\n",
      " 4172  147  351  475   78   28  182  155 2362    1   19  781  323  841\n",
      "    5    1  345 1119 1086  146 1986 2274    1  201   36   12  171 1288\n",
      "  154 2308 2679  393   84   51 1311  891   45   30   21  807  679   16\n",
      "    7  465   31   31 1349  545  479 2274    1  479  105  990    0    0\n",
      "    0    0    0    0    0    0    0    0    0    0    0    0    0    0\n",
      "    0    0    0    0    0    0    0    0    0    0    0    0    0    0\n",
      "    0    0    0    0    0    0    0    0    0    0    0    0    0    0\n",
      "    0    0    0    0    0    0    0    0    0    0    0    0    0    0\n",
      "    0    0    0    0    0    0    0    0    0    0    0    0    0    0\n",
      "    0    0    0    0    0    0    0    0    0    0    0    0    0    0\n",
      "    0    0    0    0    0    0    0    0    0    0    0    0    0    0\n",
      "    0    0    0    0    0    0    0    0    0    0    0    0    0    0\n",
      "    0    0    0    0    0    0    0    0    0    0    0    0    0    0\n",
      "    0    0    0    0    0    0    0    0    0    0    0    0    0    0\n",
      "    0    0    0    0    0    0    0    0    0    0    0    0    0    0\n",
      "    0    0    0    0    0    0    0    0    0    0    0    0    0    0\n",
      "    0    0    0    0    0    0    0    0    0    0    0    0    0    0\n",
      "    0    0    0    0    0    0    0    0    0    0    0    0    0    0\n",
      "    0    0    0    0    0    0    0    0    0    0    0    0    0    0\n",
      "    0    0    0    0    0    0    0    0    0    0    0    0    0    0\n",
      "    0    0    0    0    0    0    0    0    0    0    0    0    0    0\n",
      "    0    0    0    0    0    0    0    0    0    0    0    0    0    0\n",
      "    0    0    0    0    0    0    0    0    0    0    0    0    0    0\n",
      "    0    0    0    0    0    0    0    0    0    0    0    0    0    0\n",
      "    0    0    0    0    0    0    0    0    0    0    0    0    0    0\n",
      "    0    0    0    0    0    0    0    0    0    0    0    0    0    0\n",
      "    0    0    0    0    0    0    0    0    0    0    0    0    0    0\n",
      "    0    0    0    0    0    0    0    0    0    0    0    0    0    0\n",
      "    0    0    0    0    0    0    0    0    0    0    0    0    0    0\n",
      "    0    0    0    0    0    0    0    0    0    0    0    0    0    0\n",
      "    0    0    0    0    0    0    0    0    0    0    0    0    0    0\n",
      "    0    0    0    0    0    0    0    0    0    0    0    0    0    0\n",
      "    0    0    0    0    0    0    0    0    0    0    0    0    0    0\n",
      "    0    0    0    0    0    0    0    0    0    0]\n"
     ]
    }
   ],
   "source": [
    "# Use this cell to examine one of the processed reviews to make sure everything is working as intended.\n",
    "print(\"len of one sample review:\",len(train_X[2]))\n",
    "print(train_X[2])"
   ]
  },
  {
   "cell_type": "markdown",
   "metadata": {},
   "source": [
    "**Question:** In the cells above we use the `preprocess_data` and `convert_and_pad_data` methods to process both the training and testing set. Why or why not might this be a problem?"
   ]
  },
  {
   "cell_type": "markdown",
   "metadata": {},
   "source": [
    "**Answer:** There shouldn't be a problem with using the same method to process both sets - it's actually required that both sets are processed using the same method to ensure the model is consistent."
   ]
  },
  {
   "cell_type": "markdown",
   "metadata": {},
   "source": [
    "## Step 3: Upload the data to S3\n",
    "\n",
    "As in the XGBoost notebook, we will need to upload the training dataset to S3 in order for our training code to access it. For now we will save it locally and we will upload to S3 later on.\n",
    "\n",
    "### Save the processed training dataset locally\n",
    "\n",
    "It is important to note the format of the data that we are saving as we will need to know it when we write the training code. In our case, each row of the dataset has the form `label`, `length`, `review[500]` where `review[500]` is a sequence of `500` integers representing the words in the review."
   ]
  },
  {
   "cell_type": "code",
   "execution_count": 20,
   "metadata": {},
   "outputs": [],
   "source": [
    "import pandas as pd\n",
    "    \n",
    "pd.concat([pd.DataFrame(train_y), pd.DataFrame(train_X_len), pd.DataFrame(train_X)], axis=1) \\\n",
    "        .to_csv(os.path.join(data_dir, 'train.csv'), header=False, index=False)"
   ]
  },
  {
   "cell_type": "markdown",
   "metadata": {},
   "source": [
    "### Uploading the training data\n",
    "\n",
    "\n",
    "Next, we need to upload the training data to the SageMaker default S3 bucket so that we can provide access to it while training our model."
   ]
  },
  {
   "cell_type": "code",
   "execution_count": 21,
   "metadata": {},
   "outputs": [],
   "source": [
    "import sagemaker\n",
    "\n",
    "sagemaker_session = sagemaker.Session()\n",
    "\n",
    "bucket = sagemaker_session.default_bucket()\n",
    "prefix = 'sagemaker/sentiment_rnn'\n",
    "\n",
    "role = sagemaker.get_execution_role()"
   ]
  },
  {
   "cell_type": "code",
   "execution_count": 22,
   "metadata": {},
   "outputs": [],
   "source": [
    "input_data = sagemaker_session.upload_data(path=data_dir, bucket=bucket, key_prefix=prefix)"
   ]
  },
  {
   "cell_type": "markdown",
   "metadata": {},
   "source": [
    "**NOTE:** The cell above uploads the entire contents of our data directory. This includes the `word_dict.pkl` file. This is fortunate as we will need this later on when we create an endpoint that accepts an arbitrary review. For now, we will just take note of the fact that it resides in the data directory (and so also in the S3 training bucket) and that we will need to make sure it gets saved in the model directory."
   ]
  },
  {
   "cell_type": "markdown",
   "metadata": {},
   "source": [
    "## Step 4: Build and Train the PyTorch Model\n",
    "\n",
    "In the XGBoost notebook we discussed what a model is in the SageMaker framework. In particular, a model comprises three objects\n",
    "\n",
    " - Model Artifacts,\n",
    " - Training Code, and\n",
    " - Inference Code,\n",
    " \n",
    "each of which interact with one another. In the XGBoost example we used training and inference code that was provided by Amazon. Here we will still be using containers provided by Amazon with the added benefit of being able to include our own custom code.\n",
    "\n",
    "We will start by implementing our own neural network in PyTorch along with a training script. For the purposes of this project we have provided the necessary model object in the `model.py` file, inside of the `train` folder. You can see the provided implementation by running the cell below."
   ]
  },
  {
   "cell_type": "code",
   "execution_count": 23,
   "metadata": {},
   "outputs": [
    {
     "name": "stdout",
     "output_type": "stream",
     "text": [
      "\u001b[34mimport\u001b[39;49;00m \u001b[04m\u001b[36mtorch\u001b[39;49;00m\u001b[04m\u001b[36m.\u001b[39;49;00m\u001b[04m\u001b[36mnn\u001b[39;49;00m \u001b[34mas\u001b[39;49;00m \u001b[04m\u001b[36mnn\u001b[39;49;00m\r\n",
      "\r\n",
      "\u001b[34mclass\u001b[39;49;00m \u001b[04m\u001b[32mLSTMClassifier\u001b[39;49;00m(nn.Module):\r\n",
      "    \u001b[33m\"\"\"\u001b[39;49;00m\r\n",
      "\u001b[33m    This is the simple RNN model we will be using to perform Sentiment Analysis.\u001b[39;49;00m\r\n",
      "\u001b[33m    \"\"\"\u001b[39;49;00m\r\n",
      "\r\n",
      "    \u001b[34mdef\u001b[39;49;00m \u001b[32m__init__\u001b[39;49;00m(\u001b[36mself\u001b[39;49;00m, embedding_dim, hidden_dim, vocab_size):\r\n",
      "        \u001b[33m\"\"\"\u001b[39;49;00m\r\n",
      "\u001b[33m        Initialize the model by settingg up the various layers.\u001b[39;49;00m\r\n",
      "\u001b[33m        \"\"\"\u001b[39;49;00m\r\n",
      "        \u001b[36msuper\u001b[39;49;00m(LSTMClassifier, \u001b[36mself\u001b[39;49;00m).\u001b[32m__init__\u001b[39;49;00m()\r\n",
      "\r\n",
      "        \u001b[36mself\u001b[39;49;00m.embedding = nn.Embedding(vocab_size, embedding_dim, padding_idx=\u001b[34m0\u001b[39;49;00m)\r\n",
      "        \u001b[36mself\u001b[39;49;00m.lstm = nn.LSTM(embedding_dim, hidden_dim)\r\n",
      "        \u001b[36mself\u001b[39;49;00m.dense = nn.Linear(in_features=hidden_dim, out_features=\u001b[34m1\u001b[39;49;00m)\r\n",
      "        \u001b[36mself\u001b[39;49;00m.sig = nn.Sigmoid()\r\n",
      "        \r\n",
      "        \u001b[36mself\u001b[39;49;00m.word_dict = \u001b[34mNone\u001b[39;49;00m\r\n",
      "\r\n",
      "    \u001b[34mdef\u001b[39;49;00m \u001b[32mforward\u001b[39;49;00m(\u001b[36mself\u001b[39;49;00m, x):\r\n",
      "        \u001b[33m\"\"\"\u001b[39;49;00m\r\n",
      "\u001b[33m        Perform a forward pass of our model on some input.\u001b[39;49;00m\r\n",
      "\u001b[33m        \"\"\"\u001b[39;49;00m\r\n",
      "        x = x.t()\r\n",
      "        lengths = x[\u001b[34m0\u001b[39;49;00m,:]\r\n",
      "        reviews = x[\u001b[34m1\u001b[39;49;00m:,:]\r\n",
      "        embeds = \u001b[36mself\u001b[39;49;00m.embedding(reviews)\r\n",
      "        lstm_out, _ = \u001b[36mself\u001b[39;49;00m.lstm(embeds)\r\n",
      "        out = \u001b[36mself\u001b[39;49;00m.dense(lstm_out)\r\n",
      "        out = out[lengths - \u001b[34m1\u001b[39;49;00m, \u001b[36mrange\u001b[39;49;00m(\u001b[36mlen\u001b[39;49;00m(lengths))]\r\n",
      "        \u001b[34mreturn\u001b[39;49;00m \u001b[36mself\u001b[39;49;00m.sig(out.squeeze())\r\n"
     ]
    }
   ],
   "source": [
    "!pygmentize train/model.py"
   ]
  },
  {
   "cell_type": "markdown",
   "metadata": {},
   "source": [
    "The important takeaway from the implementation provided is that there are three parameters that we may wish to tweak to improve the performance of our model. These are the embedding dimension, the hidden dimension and the size of the vocabulary. We will likely want to make these parameters configurable in the training script so that if we wish to modify them we do not need to modify the script itself. We will see how to do this later on. To start we will write some of the training code in the notebook so that we can more easily diagnose any issues that arise.\n",
    "\n",
    "First we will load a small portion of the training data set to use as a sample. It would be very time consuming to try and train the model completely in the notebook as we do not have access to a gpu and the compute instance that we are using is not particularly powerful. However, we can work on a small bit of the data to get a feel for how our training script is behaving."
   ]
  },
  {
   "cell_type": "code",
   "execution_count": 24,
   "metadata": {},
   "outputs": [],
   "source": [
    "import torch\n",
    "import torch.utils.data\n",
    "\n",
    "# Read in only the first 250 rows\n",
    "train_sample = pd.read_csv(os.path.join(data_dir, 'train.csv'), header=None, names=None, nrows=250)\n",
    "\n",
    "# Turn the input pandas dataframe into tensors\n",
    "train_sample_y = torch.from_numpy(train_sample[[0]].values).float().squeeze()\n",
    "train_sample_X = torch.from_numpy(train_sample.drop([0], axis=1).values).long()\n",
    "\n",
    "# Build the dataset\n",
    "train_sample_ds = torch.utils.data.TensorDataset(train_sample_X, train_sample_y)\n",
    "# Build the dataloader\n",
    "train_sample_dl = torch.utils.data.DataLoader(train_sample_ds, batch_size=50)"
   ]
  },
  {
   "cell_type": "markdown",
   "metadata": {},
   "source": [
    "### (TODO) Writing the training method\n",
    "\n",
    "Next we need to write the training code itself. This should be very similar to training methods that you have written before to train PyTorch models. We will leave any difficult aspects such as model saving / loading and parameter loading until a little later."
   ]
  },
  {
   "cell_type": "code",
   "execution_count": 25,
   "metadata": {},
   "outputs": [],
   "source": [
    "def train(model, train_loader, epochs, optimizer, loss_fn, device):\n",
    "    for epoch in range(1, epochs + 1):\n",
    "        model.train()\n",
    "        total_loss = 0\n",
    "        for batch in train_loader:         \n",
    "            batch_X, batch_y = batch\n",
    "            \n",
    "            batch_X = batch_X.to(device)\n",
    "            batch_y = batch_y.to(device)\n",
    "            \n",
    "            # TODO: Complete this train method to train the model provided.\n",
    "            \n",
    "            # clear out all gradients from the previous step to zero\n",
    "            optimizer.zero_grad()\n",
    "            \n",
    "            # get the initial output from the model\n",
    "            output = model(batch_X)\n",
    "            \n",
    "            # calculate the loss \n",
    "            loss = loss_fn(output.squeeze(), batch_y.float())\n",
    "            \n",
    "            # and perform back propagation\n",
    "            loss.backward()\n",
    "            \n",
    "            # makes the optimizer to take a step based on the gradients\n",
    "            optimizer.step()\n",
    "            \n",
    "            total_loss += loss.data.item()\n",
    "        print(\"Epoch: {}, BCELoss: {}\".format(epoch, total_loss / len(train_loader)))"
   ]
  },
  {
   "cell_type": "markdown",
   "metadata": {},
   "source": [
    "Supposing we have the training method above, we will test that it is working by writing a bit of code in the notebook that executes our training method on the small sample training set that we loaded earlier. The reason for doing this in the notebook is so that we have an opportunity to fix any errors that arise early when they are easier to diagnose."
   ]
  },
  {
   "cell_type": "code",
   "execution_count": 26,
   "metadata": {},
   "outputs": [
    {
     "name": "stdout",
     "output_type": "stream",
     "text": [
      "Epoch: 1, BCELoss: 0.6921144723892212\n",
      "Epoch: 2, BCELoss: 0.682222580909729\n",
      "Epoch: 3, BCELoss: 0.6733847260475159\n",
      "Epoch: 4, BCELoss: 0.6631683111190796\n",
      "Epoch: 5, BCELoss: 0.6503453254699707\n"
     ]
    }
   ],
   "source": [
    "import torch.optim as optim\n",
    "from train.model import LSTMClassifier\n",
    "\n",
    "device = torch.device(\"cuda\" if torch.cuda.is_available() else \"cpu\")\n",
    "model = LSTMClassifier(32, 100, 5000).to(device)\n",
    "optimizer = optim.Adam(model.parameters())\n",
    "loss_fn = torch.nn.BCELoss()\n",
    "\n",
    "train(model, train_sample_dl, 5, optimizer, loss_fn, device)"
   ]
  },
  {
   "cell_type": "markdown",
   "metadata": {},
   "source": [
    "In order to construct a PyTorch model using SageMaker we must provide SageMaker with a training script. We may optionally include a directory which will be copied to the container and from which our training code will be run. When the training container is executed it will check the uploaded directory (if there is one) for a `requirements.txt` file and install any required Python libraries, after which the training script will be run."
   ]
  },
  {
   "cell_type": "markdown",
   "metadata": {},
   "source": [
    "### (TODO) Training the model\n",
    "\n",
    "When a PyTorch model is constructed in SageMaker, an entry point must be specified. This is the Python file which will be executed when the model is trained. Inside of the `train` directory is a file called `train.py` which has been provided and which contains most of the necessary code to train our model. The only thing that is missing is the implementation of the `train()` method which you wrote earlier in this notebook.\n",
    "\n",
    "**TODO**: Copy the `train()` method written above and paste it into the `train/train.py` file where required.\n",
    "\n",
    "**DONE**\n",
    "\n",
    "The way that SageMaker passes hyperparameters to the training script is by way of arguments. These arguments can then be parsed and used in the training script. To see how this is done take a look at the provided `train/train.py` file."
   ]
  },
  {
   "cell_type": "code",
   "execution_count": 27,
   "metadata": {},
   "outputs": [],
   "source": [
    "from sagemaker.pytorch import PyTorch\n",
    "\n",
    "estimator = PyTorch(entry_point=\"train.py\",\n",
    "                    source_dir=\"train\",\n",
    "                    role=role,\n",
    "                    framework_version='0.4.0',\n",
    "                    train_instance_count=1,\n",
    "                    train_instance_type='ml.p2.xlarge',\n",
    "                    hyperparameters={\n",
    "                        'epochs': 10,\n",
    "                        'hidden_dim': 200,\n",
    "                    })"
   ]
  },
  {
   "cell_type": "code",
   "execution_count": 28,
   "metadata": {},
   "outputs": [
    {
     "name": "stderr",
     "output_type": "stream",
     "text": [
      "'create_image_uri' will be deprecated in favor of 'ImageURIProvider' class in SageMaker Python SDK v2.\n",
      "'s3_input' class will be renamed to 'TrainingInput' in SageMaker Python SDK v2.\n",
      "'create_image_uri' will be deprecated in favor of 'ImageURIProvider' class in SageMaker Python SDK v2.\n"
     ]
    },
    {
     "name": "stdout",
     "output_type": "stream",
     "text": [
      "2022-03-24 12:50:07 Starting - Starting the training job...\n",
      "2022-03-24 12:50:37 Starting - Preparing the instances for training.........\n",
      "2022-03-24 12:52:00 Downloading - Downloading input data.........\n",
      "2022-03-24 12:53:26 Training - Downloading the training image..\u001b[34mbash: cannot set terminal process group (-1): Inappropriate ioctl for device\u001b[0m\n",
      "\u001b[34mbash: no job control in this shell\u001b[0m\n",
      "\u001b[34m2022-03-24 12:53:45,058 sagemaker-containers INFO     Imported framework sagemaker_pytorch_container.training\u001b[0m\n",
      "\u001b[34m2022-03-24 12:53:45,087 sagemaker_pytorch_container.training INFO     Block until all host DNS lookups succeed.\u001b[0m\n",
      "\u001b[34m2022-03-24 12:53:45,093 sagemaker_pytorch_container.training INFO     Invoking user training script.\u001b[0m\n",
      "\u001b[34m2022-03-24 12:53:45,425 sagemaker-containers INFO     Module train does not provide a setup.py. \u001b[0m\n",
      "\u001b[34mGenerating setup.py\u001b[0m\n",
      "\u001b[34m2022-03-24 12:53:45,425 sagemaker-containers INFO     Generating setup.cfg\u001b[0m\n",
      "\u001b[34m2022-03-24 12:53:45,425 sagemaker-containers INFO     Generating MANIFEST.in\u001b[0m\n",
      "\u001b[34m2022-03-24 12:53:45,425 sagemaker-containers INFO     Installing module with the following command:\u001b[0m\n",
      "\u001b[34m/usr/bin/python -m pip install -U . -r requirements.txt\u001b[0m\n",
      "\u001b[34mProcessing /opt/ml/code\u001b[0m\n",
      "\u001b[34mCollecting pandas (from -r requirements.txt (line 1))\u001b[0m\n",
      "\u001b[34m  Downloading https://files.pythonhosted.org/packages/74/24/0cdbf8907e1e3bc5a8da03345c23cbed7044330bb8f73bb12e711a640a00/pandas-0.24.2-cp35-cp35m-manylinux1_x86_64.whl (10.0MB)\u001b[0m\n",
      "\u001b[34mCollecting numpy (from -r requirements.txt (line 2))\n",
      "  Downloading https://files.pythonhosted.org/packages/b5/36/88723426b4ff576809fec7d73594fe17a35c27f8d01f93637637a29ae25b/numpy-1.18.5-cp35-cp35m-manylinux1_x86_64.whl (19.9MB)\u001b[0m\n",
      "\u001b[34mCollecting nltk (from -r requirements.txt (line 3))\n",
      "  Downloading https://files.pythonhosted.org/packages/5e/37/9532ddd4b1bbb619333d5708aaad9bf1742f051a664c3c6fa6632a105fd8/nltk-3.6.2-py3-none-any.whl (1.5MB)\u001b[0m\n",
      "\u001b[34mCollecting beautifulsoup4 (from -r requirements.txt (line 4))\n",
      "  Downloading https://files.pythonhosted.org/packages/69/bf/f0f194d3379d3f3347478bd267f754fc68c11cbf2fe302a6ab69447b1417/beautifulsoup4-4.10.0-py3-none-any.whl (97kB)\u001b[0m\n",
      "\u001b[34mCollecting html5lib (from -r requirements.txt (line 5))\n",
      "  Downloading https://files.pythonhosted.org/packages/6c/dd/a834df6482147d48e225a49515aabc28974ad5a4ca3215c18a882565b028/html5lib-1.1-py2.py3-none-any.whl (112kB)\u001b[0m\n",
      "\u001b[34mRequirement already satisfied, skipping upgrade: python-dateutil>=2.5.0 in /usr/local/lib/python3.5/dist-packages (from pandas->-r requirements.txt (line 1)) (2.7.5)\u001b[0m\n",
      "\u001b[34mCollecting pytz>=2011k (from pandas->-r requirements.txt (line 1))\n",
      "  Downloading https://files.pythonhosted.org/packages/60/2e/dec1cc18c51b8df33c7c4d0a321b084cf38e1733b98f9d15018880fb4970/pytz-2022.1-py2.py3-none-any.whl (503kB)\u001b[0m\n",
      "\u001b[34mCollecting tqdm (from nltk->-r requirements.txt (line 3))\n",
      "  Downloading https://files.pythonhosted.org/packages/a6/73/7780b2c0868bdce1f13ce27b09b239f0eefc975a5c7ebc82a7613b2a2f05/tqdm-4.63.1-py2.py3-none-any.whl (76kB)\u001b[0m\n",
      "\u001b[34mCollecting regex (from nltk->-r requirements.txt (line 3))\u001b[0m\n",
      "\u001b[34m  Downloading https://files.pythonhosted.org/packages/4c/75/b5b60055897d78882da8bc4c94609067cf531a42726df2e44ce69e8ec7a9/regex-2022.1.18.tar.gz (382kB)\u001b[0m\n",
      "\u001b[34mCollecting joblib (from nltk->-r requirements.txt (line 3))\u001b[0m\n",
      "\u001b[34m  Downloading https://files.pythonhosted.org/packages/28/5c/cf6a2b65a321c4a209efcdf64c2689efae2cb62661f8f6f4bb28547cf1bf/joblib-0.14.1-py2.py3-none-any.whl (294kB)\u001b[0m\n",
      "\u001b[34mRequirement already satisfied, skipping upgrade: click in /usr/local/lib/python3.5/dist-packages (from nltk->-r requirements.txt (line 3)) (7.0)\u001b[0m\n",
      "\u001b[34mCollecting soupsieve>1.2 (from beautifulsoup4->-r requirements.txt (line 4))\n",
      "  Downloading https://files.pythonhosted.org/packages/02/fb/1c65691a9aeb7bd6ac2aa505b84cb8b49ac29c976411c6ab3659425e045f/soupsieve-2.1-py3-none-any.whl\u001b[0m\n",
      "\u001b[34mCollecting webencodings (from html5lib->-r requirements.txt (line 5))\n",
      "  Downloading https://files.pythonhosted.org/packages/f4/24/2a3e3df732393fed8b3ebf2ec078f05546de641fe1b667ee316ec1dcf3b7/webencodings-0.5.1-py2.py3-none-any.whl\u001b[0m\n",
      "\u001b[34mRequirement already satisfied, skipping upgrade: six>=1.9 in /usr/local/lib/python3.5/dist-packages (from html5lib->-r requirements.txt (line 5)) (1.11.0)\u001b[0m\n",
      "\u001b[34mCollecting importlib-resources; python_version < \"3.7\" (from tqdm->nltk->-r requirements.txt (line 3))\n",
      "  Downloading https://files.pythonhosted.org/packages/e6/b5/ca7ff4e244ae51e70f603889fcd67ee142050b539b3e2f40fbbd8ca316b5/importlib_resources-3.2.1-py2.py3-none-any.whl\u001b[0m\n",
      "\u001b[34mCollecting zipp>=0.4; python_version < \"3.8\" (from importlib-resources; python_version < \"3.7\"->tqdm->nltk->-r requirements.txt (line 3))\n",
      "  Downloading https://files.pythonhosted.org/packages/96/0a/67556e9b7782df7118c1f49bdc494da5e5e429c93aa77965f33e81287c8c/zipp-1.2.0-py2.py3-none-any.whl\u001b[0m\n",
      "\u001b[34mBuilding wheels for collected packages: train, regex\n",
      "  Running setup.py bdist_wheel for train: started\n",
      "  Running setup.py bdist_wheel for train: finished with status 'done'\n",
      "  Stored in directory: /tmp/pip-ephem-wheel-cache-8y3xxfqe/wheels/35/24/16/37574d11bf9bde50616c67372a334f94fa8356bc7164af8ca3\n",
      "  Running setup.py bdist_wheel for regex: started\u001b[0m\n",
      "\n",
      "2022-03-24 12:53:41 Training - Training image download completed. Training in progress.\u001b[34m  Running setup.py bdist_wheel for regex: finished with status 'done'\n",
      "  Stored in directory: /root/.cache/pip/wheels/91/d2/b9/77522f50d9ec6ab6c755f54d9dfed385ae6afd1b7296bbbcc2\u001b[0m\n",
      "\u001b[34mSuccessfully built train regex\u001b[0m\n",
      "\u001b[34mInstalling collected packages: numpy, pytz, pandas, zipp, importlib-resources, tqdm, regex, joblib, nltk, soupsieve, beautifulsoup4, webencodings, html5lib, train\n",
      "  Found existing installation: numpy 1.15.4\u001b[0m\n",
      "\u001b[34m    Uninstalling numpy-1.15.4:\n",
      "      Successfully uninstalled numpy-1.15.4\u001b[0m\n",
      "\u001b[34mSuccessfully installed beautifulsoup4-4.10.0 html5lib-1.1 importlib-resources-3.2.1 joblib-0.14.1 nltk-3.6.2 numpy-1.18.5 pandas-0.24.2 pytz-2022.1 regex-2022.1.18 soupsieve-2.1 tqdm-4.63.1 train-1.0.0 webencodings-0.5.1 zipp-1.2.0\u001b[0m\n",
      "\u001b[34mYou are using pip version 18.1, however version 20.3.4 is available.\u001b[0m\n",
      "\u001b[34mYou should consider upgrading via the 'pip install --upgrade pip' command.\u001b[0m\n",
      "\u001b[34m2022-03-24 12:54:10,917 sagemaker-containers INFO     Invoking user script\u001b[0m\n",
      "\u001b[34mTraining Env:\u001b[0m\n",
      "\u001b[34m{\n",
      "    \"job_name\": \"sagemaker-pytorch-2022-03-24-12-50-06-991\",\n",
      "    \"module_dir\": \"s3://sagemaker-us-east-1-237703518245/sagemaker-pytorch-2022-03-24-12-50-06-991/source/sourcedir.tar.gz\",\n",
      "    \"current_host\": \"algo-1\",\n",
      "    \"input_dir\": \"/opt/ml/input\",\n",
      "    \"output_dir\": \"/opt/ml/output\",\n",
      "    \"num_cpus\": 4,\n",
      "    \"output_intermediate_dir\": \"/opt/ml/output/intermediate\",\n",
      "    \"hosts\": [\n",
      "        \"algo-1\"\n",
      "    ],\n",
      "    \"module_name\": \"train\",\n",
      "    \"additional_framework_parameters\": {},\n",
      "    \"model_dir\": \"/opt/ml/model\",\n",
      "    \"input_data_config\": {\n",
      "        \"training\": {\n",
      "            \"S3DistributionType\": \"FullyReplicated\",\n",
      "            \"RecordWrapperType\": \"None\",\n",
      "            \"TrainingInputMode\": \"File\"\n",
      "        }\n",
      "    },\n",
      "    \"network_interface_name\": \"eth0\",\n",
      "    \"hyperparameters\": {\n",
      "        \"epochs\": 10,\n",
      "        \"hidden_dim\": 200\n",
      "    },\n",
      "    \"framework_module\": \"sagemaker_pytorch_container.training:main\",\n",
      "    \"num_gpus\": 1,\n",
      "    \"user_entry_point\": \"train.py\",\n",
      "    \"input_config_dir\": \"/opt/ml/input/config\",\n",
      "    \"log_level\": 20,\n",
      "    \"output_data_dir\": \"/opt/ml/output/data\",\n",
      "    \"resource_config\": {\n",
      "        \"current_instance_type\": \"ml.p2.xlarge\",\n",
      "        \"current_group_name\": \"homogeneousCluster\",\n",
      "        \"network_interface_name\": \"eth0\",\n",
      "        \"current_host\": \"algo-1\",\n",
      "        \"hosts\": [\n",
      "            \"algo-1\"\n",
      "        ],\n",
      "        \"instance_groups\": [\n",
      "            {\n",
      "                \"instance_group_name\": \"homogeneousCluster\",\n",
      "                \"instance_type\": \"ml.p2.xlarge\",\n",
      "                \"hosts\": [\n",
      "                    \"algo-1\"\n",
      "                ]\n",
      "            }\n",
      "        ]\n",
      "    },\n",
      "    \"channel_input_dirs\": {\n",
      "        \"training\": \"/opt/ml/input/data/training\"\n",
      "    }\u001b[0m\n",
      "\u001b[34m}\u001b[0m\n",
      "\u001b[34mEnvironment variables:\u001b[0m\n",
      "\u001b[34mSM_USER_ENTRY_POINT=train.py\u001b[0m\n",
      "\u001b[34mSM_OUTPUT_INTERMEDIATE_DIR=/opt/ml/output/intermediate\u001b[0m\n",
      "\u001b[34mSM_OUTPUT_DATA_DIR=/opt/ml/output/data\u001b[0m\n",
      "\u001b[34mSM_CHANNELS=[\"training\"]\u001b[0m\n",
      "\u001b[34mSM_NUM_GPUS=1\u001b[0m\n",
      "\u001b[34mSM_HP_HIDDEN_DIM=200\u001b[0m\n",
      "\u001b[34mPYTHONPATH=/usr/local/bin:/usr/lib/python35.zip:/usr/lib/python3.5:/usr/lib/python3.5/plat-x86_64-linux-gnu:/usr/lib/python3.5/lib-dynload:/usr/local/lib/python3.5/dist-packages:/usr/lib/python3/dist-packages\u001b[0m\n",
      "\u001b[34mSM_MODEL_DIR=/opt/ml/model\u001b[0m\n",
      "\u001b[34mSM_HPS={\"epochs\":10,\"hidden_dim\":200}\u001b[0m\n",
      "\u001b[34mSM_INPUT_CONFIG_DIR=/opt/ml/input/config\u001b[0m\n",
      "\u001b[34mSM_HOSTS=[\"algo-1\"]\u001b[0m\n",
      "\u001b[34mSM_NUM_CPUS=4\u001b[0m\n",
      "\u001b[34mSM_USER_ARGS=[\"--epochs\",\"10\",\"--hidden_dim\",\"200\"]\u001b[0m\n",
      "\u001b[34mSM_RESOURCE_CONFIG={\"current_group_name\":\"homogeneousCluster\",\"current_host\":\"algo-1\",\"current_instance_type\":\"ml.p2.xlarge\",\"hosts\":[\"algo-1\"],\"instance_groups\":[{\"hosts\":[\"algo-1\"],\"instance_group_name\":\"homogeneousCluster\",\"instance_type\":\"ml.p2.xlarge\"}],\"network_interface_name\":\"eth0\"}\u001b[0m\n",
      "\u001b[34mSM_HP_EPOCHS=10\u001b[0m\n",
      "\u001b[34mSM_TRAINING_ENV={\"additional_framework_parameters\":{},\"channel_input_dirs\":{\"training\":\"/opt/ml/input/data/training\"},\"current_host\":\"algo-1\",\"framework_module\":\"sagemaker_pytorch_container.training:main\",\"hosts\":[\"algo-1\"],\"hyperparameters\":{\"epochs\":10,\"hidden_dim\":200},\"input_config_dir\":\"/opt/ml/input/config\",\"input_data_config\":{\"training\":{\"RecordWrapperType\":\"None\",\"S3DistributionType\":\"FullyReplicated\",\"TrainingInputMode\":\"File\"}},\"input_dir\":\"/opt/ml/input\",\"job_name\":\"sagemaker-pytorch-2022-03-24-12-50-06-991\",\"log_level\":20,\"model_dir\":\"/opt/ml/model\",\"module_dir\":\"s3://sagemaker-us-east-1-237703518245/sagemaker-pytorch-2022-03-24-12-50-06-991/source/sourcedir.tar.gz\",\"module_name\":\"train\",\"network_interface_name\":\"eth0\",\"num_cpus\":4,\"num_gpus\":1,\"output_data_dir\":\"/opt/ml/output/data\",\"output_dir\":\"/opt/ml/output\",\"output_intermediate_dir\":\"/opt/ml/output/intermediate\",\"resource_config\":{\"current_group_name\":\"homogeneousCluster\",\"current_host\":\"algo-1\",\"current_instance_type\":\"ml.p2.xlarge\",\"hosts\":[\"algo-1\"],\"instance_groups\":[{\"hosts\":[\"algo-1\"],\"instance_group_name\":\"homogeneousCluster\",\"instance_type\":\"ml.p2.xlarge\"}],\"network_interface_name\":\"eth0\"},\"user_entry_point\":\"train.py\"}\u001b[0m\n",
      "\u001b[34mSM_FRAMEWORK_PARAMS={}\u001b[0m\n",
      "\u001b[34mSM_LOG_LEVEL=20\u001b[0m\n",
      "\u001b[34mSM_CHANNEL_TRAINING=/opt/ml/input/data/training\u001b[0m\n",
      "\u001b[34mSM_INPUT_DATA_CONFIG={\"training\":{\"RecordWrapperType\":\"None\",\"S3DistributionType\":\"FullyReplicated\",\"TrainingInputMode\":\"File\"}}\u001b[0m\n",
      "\u001b[34mSM_OUTPUT_DIR=/opt/ml/output\u001b[0m\n",
      "\u001b[34mSM_MODULE_NAME=train\u001b[0m\n",
      "\u001b[34mSM_FRAMEWORK_MODULE=sagemaker_pytorch_container.training:main\u001b[0m\n",
      "\u001b[34mSM_INPUT_DIR=/opt/ml/input\u001b[0m\n",
      "\u001b[34mSM_MODULE_DIR=s3://sagemaker-us-east-1-237703518245/sagemaker-pytorch-2022-03-24-12-50-06-991/source/sourcedir.tar.gz\u001b[0m\n",
      "\u001b[34mSM_NETWORK_INTERFACE_NAME=eth0\u001b[0m\n",
      "\u001b[34mSM_CURRENT_HOST=algo-1\u001b[0m\n",
      "\u001b[34mInvoking script with the following command:\u001b[0m\n",
      "\u001b[34m/usr/bin/python -m train --epochs 10 --hidden_dim 200\u001b[0m\n",
      "\u001b[34mUsing device cuda.\u001b[0m\n",
      "\u001b[34mGet train data loader.\u001b[0m\n"
     ]
    },
    {
     "name": "stdout",
     "output_type": "stream",
     "text": [
      "\u001b[34mModel loaded with embedding_dim 32, hidden_dim 200, vocab_size 5000.\u001b[0m\n",
      "\u001b[34mEpoch: 1, BCELoss: 0.6729303793031343\u001b[0m\n",
      "\u001b[34mEpoch: 2, BCELoss: 0.6364229528271422\u001b[0m\n",
      "\u001b[34mEpoch: 3, BCELoss: 0.5472883886220504\u001b[0m\n",
      "\u001b[34mEpoch: 4, BCELoss: 0.46189056975500925\u001b[0m\n",
      "\u001b[34mEpoch: 5, BCELoss: 0.39573044010571073\u001b[0m\n",
      "\u001b[34mEpoch: 6, BCELoss: 0.3630854973987657\u001b[0m\n",
      "\u001b[34mEpoch: 7, BCELoss: 0.32865413901757223\u001b[0m\n",
      "\u001b[34mEpoch: 8, BCELoss: 0.3070488109880564\u001b[0m\n",
      "\u001b[34mEpoch: 9, BCELoss: 0.30145715754859304\u001b[0m\n",
      "\n",
      "2022-03-24 12:57:18 Uploading - Uploading generated training model\u001b[34mEpoch: 10, BCELoss: 0.27946916313803927\u001b[0m\n",
      "\u001b[34m2022-03-24 12:57:12,612 sagemaker-containers INFO     Reporting training SUCCESS\u001b[0m\n",
      "\n",
      "2022-03-24 12:57:28 Completed - Training job completed\n",
      "Training seconds: 328\n",
      "Billable seconds: 328\n"
     ]
    }
   ],
   "source": [
    "estimator.fit({'training': input_data})"
   ]
  },
  {
   "cell_type": "markdown",
   "metadata": {},
   "source": [
    "## Step 5: Testing the model\n",
    "\n",
    "As mentioned at the top of this notebook, we will be testing this model by first deploying it and then sending the testing data to the deployed endpoint. We will do this so that we can make sure that the deployed model is working correctly.\n",
    "\n",
    "## Step 6: Deploy the model for testing\n",
    "\n",
    "Now that we have trained our model, we would like to test it to see how it performs. Currently our model takes input of the form `review_length, review[500]` where `review[500]` is a sequence of `500` integers which describe the words present in the review, encoded using `word_dict`. Fortunately for us, SageMaker provides built-in inference code for models with simple inputs such as this.\n",
    "\n",
    "There is one thing that we need to provide, however, and that is a function which loads the saved model. This function must be called `model_fn()` and takes as its only parameter a path to the directory where the model artifacts are stored. This function must also be present in the python file which we specified as the entry point. In our case the model loading function has been provided and so no changes need to be made.\n",
    "\n",
    "**NOTE**: When the built-in inference code is run it must import the `model_fn()` method from the `train.py` file. This is why the training code is wrapped in a main guard ( ie, `if __name__ == '__main__':` )\n",
    "\n",
    "Since we don't need to change anything in the code that was uploaded during training, we can simply deploy the current model as-is.\n",
    "\n",
    "**NOTE:** When deploying a model you are asking SageMaker to launch an compute instance that will wait for data to be sent to it. As a result, this compute instance will continue to run until *you* shut it down. This is important to know since the cost of a deployed endpoint depends on how long it has been running for.\n",
    "\n",
    "In other words **If you are no longer using a deployed endpoint, shut it down!**\n",
    "\n",
    "**TODO:** Deploy the trained model."
   ]
  },
  {
   "cell_type": "code",
   "execution_count": 29,
   "metadata": {},
   "outputs": [
    {
     "name": "stderr",
     "output_type": "stream",
     "text": [
      "Parameter image will be renamed to image_uri in SageMaker Python SDK v2.\n",
      "'create_image_uri' will be deprecated in favor of 'ImageURIProvider' class in SageMaker Python SDK v2.\n"
     ]
    },
    {
     "name": "stdout",
     "output_type": "stream",
     "text": [
      "----------!"
     ]
    }
   ],
   "source": [
    "# TODO: Deploy the trained model\n",
    "predictor = estimator.deploy(initial_instance_count = 1, instance_type = 'ml.m4.xlarge')"
   ]
  },
  {
   "cell_type": "markdown",
   "metadata": {},
   "source": [
    "## Step 7 - Use the model for testing\n",
    "\n",
    "Once deployed, we can read in the test data and send it off to our deployed model to get some results. Once we collect all of the results we can determine how accurate our model is."
   ]
  },
  {
   "cell_type": "code",
   "execution_count": 30,
   "metadata": {},
   "outputs": [],
   "source": [
    "test_X = pd.concat([pd.DataFrame(test_X_len), pd.DataFrame(test_X)], axis=1)"
   ]
  },
  {
   "cell_type": "code",
   "execution_count": 31,
   "metadata": {},
   "outputs": [],
   "source": [
    "# We split the data into chunks and send each chunk seperately, accumulating the results.\n",
    "\n",
    "def predict(data, rows=512):\n",
    "    split_array = np.array_split(data, int(data.shape[0] / float(rows) + 1))\n",
    "    predictions = np.array([])\n",
    "    for array in split_array:\n",
    "        predictions = np.append(predictions, predictor.predict(array))\n",
    "    \n",
    "    return predictions"
   ]
  },
  {
   "cell_type": "code",
   "execution_count": 32,
   "metadata": {},
   "outputs": [],
   "source": [
    "predictions = predict(test_X.values)\n",
    "predictions = [round(num) for num in predictions]"
   ]
  },
  {
   "cell_type": "code",
   "execution_count": 33,
   "metadata": {},
   "outputs": [
    {
     "data": {
      "text/plain": [
       "0.8562"
      ]
     },
     "execution_count": 33,
     "metadata": {},
     "output_type": "execute_result"
    }
   ],
   "source": [
    "from sklearn.metrics import accuracy_score\n",
    "accuracy_score(test_y, predictions)"
   ]
  },
  {
   "cell_type": "markdown",
   "metadata": {},
   "source": [
    "**Question:** How does this model compare to the XGBoost model you created earlier? Why might these two models perform differently on this dataset? Which do *you* think is better for sentiment analysis?"
   ]
  },
  {
   "cell_type": "markdown",
   "metadata": {},
   "source": [
    "**Answer:** RNN models are generally better for sentiment analysis because it takes into account the order of features inputted while XGBoost uses Bag of Words approach which does not take into account the order of features. The error might be worse initially but RNNs, like all deep neural networks, will be much better after more epochs/rounds of training due to the higher number of parameters to be trained."
   ]
  },
  {
   "cell_type": "markdown",
   "metadata": {},
   "source": [
    "### (TODO) More testing\n",
    "\n",
    "We now have a trained model which has been deployed and which we can send processed reviews to and which returns the predicted sentiment. However, ultimately we would like to be able to send our model an unprocessed review. That is, we would like to send the review itself as a string. For example, suppose we wish to send the following review to our model."
   ]
  },
  {
   "cell_type": "code",
   "execution_count": 34,
   "metadata": {},
   "outputs": [],
   "source": [
    "test_review = 'The simplest pleasures in life are the best, and this film is one of them. Combining a rather basic storyline of love and adventure this movie transcends the usual weekend fair with wit and unmitigated charm.'"
   ]
  },
  {
   "cell_type": "markdown",
   "metadata": {},
   "source": [
    "The question we now need to answer is, how do we send this review to our model?\n",
    "\n",
    "Recall in the first section of this notebook we did a bunch of data processing to the IMDb dataset. In particular, we did two specific things to the provided reviews.\n",
    " - Removed any html tags and stemmed the input\n",
    " - Encoded the review as a sequence of integers using `word_dict`\n",
    " \n",
    "In order process the review we will need to repeat these two steps.\n",
    "\n",
    "**TODO**: Using the `review_to_words` and `convert_and_pad` methods from section one, convert `test_review` into a numpy array `test_data` suitable to send to our model. Remember that our model expects input of the form `review_length, review[500]`. So make sure you produce two variables from processing: \n",
    "- A sequence of length 500 which represents the converted review\n",
    "- The length of the review"
   ]
  },
  {
   "cell_type": "code",
   "execution_count": 35,
   "metadata": {},
   "outputs": [],
   "source": [
    "# TODO: Convert test_review into a form usable by the model and save the results in test_data\n",
    "test_data_int, len_test  = convert_and_pad(word_dict, review_to_words(test_review))\n",
    "test_data = np.array([np.array([len_test] + test_data_int)])"
   ]
  },
  {
   "cell_type": "markdown",
   "metadata": {},
   "source": [
    "Now that we have processed the review, we can send the resulting array to our model to predict the sentiment of the review."
   ]
  },
  {
   "cell_type": "code",
   "execution_count": 36,
   "metadata": {},
   "outputs": [
    {
     "data": {
      "text/plain": [
       "array(0.60202897, dtype=float32)"
      ]
     },
     "execution_count": 36,
     "metadata": {},
     "output_type": "execute_result"
    }
   ],
   "source": [
    "predictor.predict(test_data)"
   ]
  },
  {
   "cell_type": "markdown",
   "metadata": {},
   "source": [
    "Since the return value of our model is close to `1`, we can be certain that the review we submitted is positive."
   ]
  },
  {
   "cell_type": "markdown",
   "metadata": {},
   "source": [
    "### Delete the endpoint\n",
    "\n",
    "Of course, just like in the XGBoost notebook, once we've deployed an endpoint it continues to run until we tell it to shut down. Since we are done using our endpoint for now, we can delete it."
   ]
  },
  {
   "cell_type": "code",
   "execution_count": 37,
   "metadata": {},
   "outputs": [
    {
     "name": "stderr",
     "output_type": "stream",
     "text": [
      "estimator.delete_endpoint() will be deprecated in SageMaker Python SDK v2. Please use the delete_endpoint() function on your predictor instead.\n"
     ]
    }
   ],
   "source": [
    "estimator.delete_endpoint()"
   ]
  },
  {
   "cell_type": "markdown",
   "metadata": {},
   "source": [
    "## Step 6 (again) - Deploy the model for the web app\n",
    "\n",
    "Now that we know that our model is working, it's time to create some custom inference code so that we can send the model a review which has not been processed and have it determine the sentiment of the review.\n",
    "\n",
    "As we saw above, by default the estimator which we created, when deployed, will use the entry script and directory which we provided when creating the model. However, since we now wish to accept a string as input and our model expects a processed review, we need to write some custom inference code.\n",
    "\n",
    "We will store the code that we write in the `serve` directory. Provided in this directory is the `model.py` file that we used to construct our model, a `utils.py` file which contains the `review_to_words` and `convert_and_pad` pre-processing functions which we used during the initial data processing, and `predict.py`, the file which will contain our custom inference code. Note also that `requirements.txt` is present which will tell SageMaker what Python libraries are required by our custom inference code.\n",
    "\n",
    "When deploying a PyTorch model in SageMaker, you are expected to provide four functions which the SageMaker inference container will use.\n",
    " - `model_fn`: This function is the same function that we used in the training script and it tells SageMaker how to load our model.\n",
    " - `input_fn`: This function receives the raw serialized input that has been sent to the model's endpoint and its job is to de-serialize and make the input available for the inference code.\n",
    " - `output_fn`: This function takes the output of the inference code and its job is to serialize this output and return it to the caller of the model's endpoint.\n",
    " - `predict_fn`: The heart of the inference script, this is where the actual prediction is done and is the function which you will need to complete.\n",
    "\n",
    "For the simple website that we are constructing during this project, the `input_fn` and `output_fn` methods are relatively straightforward. We only require being able to accept a string as input and we expect to return a single value as output. You might imagine though that in a more complex application the input or output may be image data or some other binary data which would require some effort to serialize.\n",
    "\n",
    "### (TODO) Writing inference code\n",
    "\n",
    "Before writing our custom inference code, we will begin by taking a look at the code which has been provided."
   ]
  },
  {
   "cell_type": "code",
   "execution_count": 38,
   "metadata": {},
   "outputs": [
    {
     "name": "stdout",
     "output_type": "stream",
     "text": [
      "\u001b[34mimport\u001b[39;49;00m \u001b[04m\u001b[36margparse\u001b[39;49;00m\r\n",
      "\u001b[34mimport\u001b[39;49;00m \u001b[04m\u001b[36mjson\u001b[39;49;00m\r\n",
      "\u001b[34mimport\u001b[39;49;00m \u001b[04m\u001b[36mos\u001b[39;49;00m\r\n",
      "\u001b[34mimport\u001b[39;49;00m \u001b[04m\u001b[36mpickle\u001b[39;49;00m\r\n",
      "\u001b[34mimport\u001b[39;49;00m \u001b[04m\u001b[36msys\u001b[39;49;00m\r\n",
      "\u001b[34mimport\u001b[39;49;00m \u001b[04m\u001b[36msagemaker_containers\u001b[39;49;00m\r\n",
      "\u001b[34mimport\u001b[39;49;00m \u001b[04m\u001b[36mpandas\u001b[39;49;00m \u001b[34mas\u001b[39;49;00m \u001b[04m\u001b[36mpd\u001b[39;49;00m\r\n",
      "\u001b[34mimport\u001b[39;49;00m \u001b[04m\u001b[36mnumpy\u001b[39;49;00m \u001b[34mas\u001b[39;49;00m \u001b[04m\u001b[36mnp\u001b[39;49;00m\r\n",
      "\u001b[34mimport\u001b[39;49;00m \u001b[04m\u001b[36mtorch\u001b[39;49;00m\r\n",
      "\u001b[34mimport\u001b[39;49;00m \u001b[04m\u001b[36mtorch\u001b[39;49;00m\u001b[04m\u001b[36m.\u001b[39;49;00m\u001b[04m\u001b[36mnn\u001b[39;49;00m \u001b[34mas\u001b[39;49;00m \u001b[04m\u001b[36mnn\u001b[39;49;00m\r\n",
      "\u001b[34mimport\u001b[39;49;00m \u001b[04m\u001b[36mtorch\u001b[39;49;00m\u001b[04m\u001b[36m.\u001b[39;49;00m\u001b[04m\u001b[36moptim\u001b[39;49;00m \u001b[34mas\u001b[39;49;00m \u001b[04m\u001b[36moptim\u001b[39;49;00m\r\n",
      "\u001b[34mimport\u001b[39;49;00m \u001b[04m\u001b[36mtorch\u001b[39;49;00m\u001b[04m\u001b[36m.\u001b[39;49;00m\u001b[04m\u001b[36mutils\u001b[39;49;00m\u001b[04m\u001b[36m.\u001b[39;49;00m\u001b[04m\u001b[36mdata\u001b[39;49;00m\r\n",
      "\r\n",
      "\u001b[34mfrom\u001b[39;49;00m \u001b[04m\u001b[36mmodel\u001b[39;49;00m \u001b[34mimport\u001b[39;49;00m LSTMClassifier\r\n",
      "\r\n",
      "\u001b[34mfrom\u001b[39;49;00m \u001b[04m\u001b[36mutils\u001b[39;49;00m \u001b[34mimport\u001b[39;49;00m review_to_words, convert_and_pad\r\n",
      "\r\n",
      "\u001b[34mdef\u001b[39;49;00m \u001b[32mmodel_fn\u001b[39;49;00m(model_dir):\r\n",
      "    \u001b[33m\"\"\"Load the PyTorch model from the `model_dir` directory.\"\"\"\u001b[39;49;00m\r\n",
      "    \u001b[36mprint\u001b[39;49;00m(\u001b[33m\"\u001b[39;49;00m\u001b[33mLoading model.\u001b[39;49;00m\u001b[33m\"\u001b[39;49;00m)\r\n",
      "\r\n",
      "    \u001b[37m# First, load the parameters used to create the model.\u001b[39;49;00m\r\n",
      "    model_info = {}\r\n",
      "    model_info_path = os.path.join(model_dir, \u001b[33m'\u001b[39;49;00m\u001b[33mmodel_info.pth\u001b[39;49;00m\u001b[33m'\u001b[39;49;00m)\r\n",
      "    \u001b[34mwith\u001b[39;49;00m \u001b[36mopen\u001b[39;49;00m(model_info_path, \u001b[33m'\u001b[39;49;00m\u001b[33mrb\u001b[39;49;00m\u001b[33m'\u001b[39;49;00m) \u001b[34mas\u001b[39;49;00m f:\r\n",
      "        model_info = torch.load(f)\r\n",
      "\r\n",
      "    \u001b[36mprint\u001b[39;49;00m(\u001b[33m\"\u001b[39;49;00m\u001b[33mmodel_info: \u001b[39;49;00m\u001b[33m{}\u001b[39;49;00m\u001b[33m\"\u001b[39;49;00m.format(model_info))\r\n",
      "\r\n",
      "    \u001b[37m# Determine the device and construct the model.\u001b[39;49;00m\r\n",
      "    device = torch.device(\u001b[33m\"\u001b[39;49;00m\u001b[33mcuda\u001b[39;49;00m\u001b[33m\"\u001b[39;49;00m \u001b[34mif\u001b[39;49;00m torch.cuda.is_available() \u001b[34melse\u001b[39;49;00m \u001b[33m\"\u001b[39;49;00m\u001b[33mcpu\u001b[39;49;00m\u001b[33m\"\u001b[39;49;00m)\r\n",
      "    model = LSTMClassifier(model_info[\u001b[33m'\u001b[39;49;00m\u001b[33membedding_dim\u001b[39;49;00m\u001b[33m'\u001b[39;49;00m], model_info[\u001b[33m'\u001b[39;49;00m\u001b[33mhidden_dim\u001b[39;49;00m\u001b[33m'\u001b[39;49;00m], model_info[\u001b[33m'\u001b[39;49;00m\u001b[33mvocab_size\u001b[39;49;00m\u001b[33m'\u001b[39;49;00m])\r\n",
      "\r\n",
      "    \u001b[37m# Load the store model parameters.\u001b[39;49;00m\r\n",
      "    model_path = os.path.join(model_dir, \u001b[33m'\u001b[39;49;00m\u001b[33mmodel.pth\u001b[39;49;00m\u001b[33m'\u001b[39;49;00m)\r\n",
      "    \u001b[34mwith\u001b[39;49;00m \u001b[36mopen\u001b[39;49;00m(model_path, \u001b[33m'\u001b[39;49;00m\u001b[33mrb\u001b[39;49;00m\u001b[33m'\u001b[39;49;00m) \u001b[34mas\u001b[39;49;00m f:\r\n",
      "        model.load_state_dict(torch.load(f))\r\n",
      "\r\n",
      "    \u001b[37m# Load the saved word_dict.\u001b[39;49;00m\r\n",
      "    word_dict_path = os.path.join(model_dir, \u001b[33m'\u001b[39;49;00m\u001b[33mword_dict.pkl\u001b[39;49;00m\u001b[33m'\u001b[39;49;00m)\r\n",
      "    \u001b[34mwith\u001b[39;49;00m \u001b[36mopen\u001b[39;49;00m(word_dict_path, \u001b[33m'\u001b[39;49;00m\u001b[33mrb\u001b[39;49;00m\u001b[33m'\u001b[39;49;00m) \u001b[34mas\u001b[39;49;00m f:\r\n",
      "        model.word_dict = pickle.load(f)\r\n",
      "\r\n",
      "    model.to(device).eval()\r\n",
      "\r\n",
      "    \u001b[36mprint\u001b[39;49;00m(\u001b[33m\"\u001b[39;49;00m\u001b[33mDone loading model.\u001b[39;49;00m\u001b[33m\"\u001b[39;49;00m)\r\n",
      "    \u001b[34mreturn\u001b[39;49;00m model\r\n",
      "\r\n",
      "\u001b[34mdef\u001b[39;49;00m \u001b[32minput_fn\u001b[39;49;00m(serialized_input_data, content_type):\r\n",
      "    \u001b[36mprint\u001b[39;49;00m(\u001b[33m'\u001b[39;49;00m\u001b[33mDeserializing the input data.\u001b[39;49;00m\u001b[33m'\u001b[39;49;00m)\r\n",
      "    \u001b[34mif\u001b[39;49;00m content_type == \u001b[33m'\u001b[39;49;00m\u001b[33mtext/plain\u001b[39;49;00m\u001b[33m'\u001b[39;49;00m:\r\n",
      "        data = serialized_input_data.decode(\u001b[33m'\u001b[39;49;00m\u001b[33mutf-8\u001b[39;49;00m\u001b[33m'\u001b[39;49;00m)\r\n",
      "        \u001b[34mreturn\u001b[39;49;00m data\r\n",
      "    \u001b[34mraise\u001b[39;49;00m \u001b[36mException\u001b[39;49;00m(\u001b[33m'\u001b[39;49;00m\u001b[33mRequested unsupported ContentType in content_type: \u001b[39;49;00m\u001b[33m'\u001b[39;49;00m + content_type)\r\n",
      "\r\n",
      "\u001b[34mdef\u001b[39;49;00m \u001b[32moutput_fn\u001b[39;49;00m(prediction_output, accept):\r\n",
      "    \u001b[36mprint\u001b[39;49;00m(\u001b[33m'\u001b[39;49;00m\u001b[33mSerializing the generated output.\u001b[39;49;00m\u001b[33m'\u001b[39;49;00m)\r\n",
      "    \u001b[34mreturn\u001b[39;49;00m \u001b[36mstr\u001b[39;49;00m(prediction_output)\r\n",
      "\r\n",
      "\u001b[34mdef\u001b[39;49;00m \u001b[32mpredict_fn\u001b[39;49;00m(input_data, model):\r\n",
      "    \u001b[36mprint\u001b[39;49;00m(\u001b[33m'\u001b[39;49;00m\u001b[33mInferring sentiment of input data.\u001b[39;49;00m\u001b[33m'\u001b[39;49;00m)\r\n",
      "\r\n",
      "    device = torch.device(\u001b[33m\"\u001b[39;49;00m\u001b[33mcuda\u001b[39;49;00m\u001b[33m\"\u001b[39;49;00m \u001b[34mif\u001b[39;49;00m torch.cuda.is_available() \u001b[34melse\u001b[39;49;00m \u001b[33m\"\u001b[39;49;00m\u001b[33mcpu\u001b[39;49;00m\u001b[33m\"\u001b[39;49;00m)\r\n",
      "    \r\n",
      "    \u001b[34mif\u001b[39;49;00m model.word_dict \u001b[35mis\u001b[39;49;00m \u001b[34mNone\u001b[39;49;00m:\r\n",
      "        \u001b[34mraise\u001b[39;49;00m \u001b[36mException\u001b[39;49;00m(\u001b[33m'\u001b[39;49;00m\u001b[33mModel has not been loaded properly, no word_dict.\u001b[39;49;00m\u001b[33m'\u001b[39;49;00m)\r\n",
      "    \r\n",
      "    \u001b[37m# TODO: Process input_data so that it is ready to be sent to our model.\u001b[39;49;00m\r\n",
      "    \u001b[37m#       You should produce two variables:\u001b[39;49;00m\r\n",
      "    \u001b[37m#         data_X   - A sequence of length 500 which represents the converted review\u001b[39;49;00m\r\n",
      "    \u001b[37m#         data_len - The length of the review\u001b[39;49;00m\r\n",
      "\r\n",
      "    data_X ,data_len = convert_and_pad(model.word_dict, review_to_words(input_data))\r\n",
      "\r\n",
      "    \u001b[37m# Using data_X and data_len we construct an appropriate input tensor. Remember\u001b[39;49;00m\r\n",
      "    \u001b[37m# that our model expects input data of the form 'len, review[500]'.\u001b[39;49;00m\r\n",
      "    data_pack = np.hstack((data_len, data_X))\r\n",
      "    data_pack = data_pack.reshape(\u001b[34m1\u001b[39;49;00m, -\u001b[34m1\u001b[39;49;00m)\r\n",
      "    \r\n",
      "    data = torch.from_numpy(data_pack)\r\n",
      "    data = data.to(device)\r\n",
      "\r\n",
      "    \u001b[37m# Make sure to put the model into evaluation mode\u001b[39;49;00m\r\n",
      "    model.eval()\r\n",
      "\r\n",
      "    \u001b[37m# TODO: Compute the result of applying the model to the input data. The variable `result` should\u001b[39;49;00m\r\n",
      "    \u001b[37m#       be a numpy array which contains a single integer which is either 1 or 0\u001b[39;49;00m\r\n",
      "\r\n",
      "    \u001b[34mwith\u001b[39;49;00m torch.no_grad():\r\n",
      "        output = model.forward(data)\r\n",
      "    \r\n",
      "    result = np.round(output.numpy())\r\n",
      "\r\n",
      "    \u001b[34mreturn\u001b[39;49;00m result\r\n"
     ]
    }
   ],
   "source": [
    "!pygmentize serve/predict.py"
   ]
  },
  {
   "cell_type": "markdown",
   "metadata": {},
   "source": [
    "As mentioned earlier, the `model_fn` method is the same as the one provided in the training code and the `input_fn` and `output_fn` methods are very simple and your task will be to complete the `predict_fn` method. \n",
    "\n",
    "**Note**: Our model expects input data of the form 'len, review[500]'. So make sure you produce two variables from processing: \n",
    "- `data_X`:  A sequence of length 500 which represents the converted review\n",
    "- `data_len`: - The length of the review\n",
    "\n",
    "Make sure that you save the completed file as `predict.py` in the `serve` directory.\n",
    "\n",
    "**TODO**: Complete the `predict_fn()` method in the `serve/predict.py` file."
   ]
  },
  {
   "cell_type": "markdown",
   "metadata": {},
   "source": [
    "### Deploying the model\n",
    "\n",
    "Now that the custom inference code has been written, we will create and deploy our model. To begin with, we need to construct a new PyTorchModel object which points to the model artifacts created during training and also points to the inference code that we wish to use. Then we can call the deploy method to launch the deployment container.\n",
    "\n",
    "**NOTE**: The default behaviour for a deployed PyTorch model is to assume that any input passed to the predictor is a `numpy` array. In our case we want to send a string so we need to construct a simple wrapper around the `RealTimePredictor` class to accomodate simple strings. In a more complicated situation you may want to provide a serialization object, for example if you wanted to sent image data."
   ]
  },
  {
   "cell_type": "code",
   "execution_count": 39,
   "metadata": {},
   "outputs": [
    {
     "name": "stderr",
     "output_type": "stream",
     "text": [
      "Parameter image will be renamed to image_uri in SageMaker Python SDK v2.\n",
      "'create_image_uri' will be deprecated in favor of 'ImageURIProvider' class in SageMaker Python SDK v2.\n"
     ]
    },
    {
     "name": "stdout",
     "output_type": "stream",
     "text": [
      "----------!"
     ]
    }
   ],
   "source": [
    "from sagemaker.predictor import RealTimePredictor\n",
    "from sagemaker.pytorch import PyTorchModel\n",
    "\n",
    "class StringPredictor(RealTimePredictor):\n",
    "    def __init__(self, endpoint_name, sagemaker_session):\n",
    "        super(StringPredictor, self).__init__(endpoint_name, sagemaker_session, content_type='text/plain')\n",
    "\n",
    "model = PyTorchModel(model_data=estimator.model_data,\n",
    "                     role = role,\n",
    "                     framework_version='0.4.0',\n",
    "                     entry_point='predict.py',\n",
    "                     source_dir='serve',\n",
    "                     predictor_cls=StringPredictor)\n",
    "predictor = model.deploy(initial_instance_count=1, instance_type='ml.m4.xlarge')"
   ]
  },
  {
   "cell_type": "markdown",
   "metadata": {},
   "source": [
    "### Testing the model\n",
    "\n",
    "Now that we have deployed our model with the custom inference code, we should test to see if everything is working. Here we test our model by loading the first `250` positive and negative reviews and send them to the endpoint, then collect the results. The reason for only sending some of the data is that the amount of time it takes for our model to process the input and then perform inference is quite long and so testing the entire data set would be prohibitive."
   ]
  },
  {
   "cell_type": "code",
   "execution_count": 40,
   "metadata": {},
   "outputs": [],
   "source": [
    "import glob\n",
    "\n",
    "def test_reviews(data_dir='../data/aclImdb', stop=250):\n",
    "    \n",
    "    results = []\n",
    "    ground = []\n",
    "    \n",
    "    # We make sure to test both positive and negative reviews    \n",
    "    for sentiment in ['pos', 'neg']:\n",
    "        \n",
    "        path = os.path.join(data_dir, 'test', sentiment, '*.txt')\n",
    "        files = glob.glob(path)\n",
    "        \n",
    "        files_read = 0\n",
    "        \n",
    "        print('Starting ', sentiment, ' files')\n",
    "        \n",
    "        # Iterate through the files and send them to the predictor\n",
    "        for f in files:\n",
    "            with open(f) as review:\n",
    "                # First, we store the ground truth (was the review positive or negative)\n",
    "                if sentiment == 'pos':\n",
    "                    ground.append(1)\n",
    "                else:\n",
    "                    ground.append(0)\n",
    "                # Read in the review and convert to 'utf-8' for transmission via HTTP\n",
    "                review_input = review.read().encode('utf-8')\n",
    "                # Send the review to the predictor and store the results\n",
    "                results.append(float(predictor.predict(review_input)))\n",
    "                \n",
    "            # Sending reviews to our endpoint one at a time takes a while so we\n",
    "            # only send a small number of reviews\n",
    "            files_read += 1\n",
    "            if files_read == stop:\n",
    "                break\n",
    "            \n",
    "    return ground, results"
   ]
  },
  {
   "cell_type": "code",
   "execution_count": 41,
   "metadata": {},
   "outputs": [
    {
     "name": "stdout",
     "output_type": "stream",
     "text": [
      "Starting  pos  files\n",
      "Starting  neg  files\n"
     ]
    }
   ],
   "source": [
    "ground, results = test_reviews()"
   ]
  },
  {
   "cell_type": "code",
   "execution_count": 42,
   "metadata": {},
   "outputs": [
    {
     "data": {
      "text/plain": [
       "0.862"
      ]
     },
     "execution_count": 42,
     "metadata": {},
     "output_type": "execute_result"
    }
   ],
   "source": [
    "from sklearn.metrics import accuracy_score\n",
    "accuracy_score(ground, results)"
   ]
  },
  {
   "cell_type": "markdown",
   "metadata": {},
   "source": [
    "As an additional test, we can try sending the `test_review` that we looked at earlier."
   ]
  },
  {
   "cell_type": "code",
   "execution_count": 43,
   "metadata": {},
   "outputs": [
    {
     "data": {
      "text/plain": [
       "b'1.0'"
      ]
     },
     "execution_count": 43,
     "metadata": {},
     "output_type": "execute_result"
    }
   ],
   "source": [
    "predictor.predict(test_review)"
   ]
  },
  {
   "cell_type": "markdown",
   "metadata": {},
   "source": [
    "Now that we know our endpoint is working as expected, we can set up the web page that will interact with it. If you don't have time to finish the project now, make sure to skip down to the end of this notebook and shut down your endpoint. You can deploy it again when you come back."
   ]
  },
  {
   "cell_type": "markdown",
   "metadata": {},
   "source": [
    "## Step 7 (again): Use the model for the web app\n",
    "\n",
    "> **TODO:** This entire section and the next contain tasks for you to complete, mostly using the AWS console.\n",
    "\n",
    "So far we have been accessing our model endpoint by constructing a predictor object which uses the endpoint and then just using the predictor object to perform inference. What if we wanted to create a web app which accessed our model? The way things are set up currently makes that not possible since in order to access a SageMaker endpoint the app would first have to authenticate with AWS using an IAM role which included access to SageMaker endpoints. However, there is an easier way! We just need to use some additional AWS services.\n",
    "\n",
    "<img src=\"Web App Diagram.svg\">\n",
    "\n",
    "The diagram above gives an overview of how the various services will work together. On the far right is the model which we trained above and which is deployed using SageMaker. On the far left is our web app that collects a user's movie review, sends it off and expects a positive or negative sentiment in return.\n",
    "\n",
    "In the middle is where some of the magic happens. We will construct a Lambda function, which you can think of as a straightforward Python function that can be executed whenever a specified event occurs. We will give this function permission to send and recieve data from a SageMaker endpoint.\n",
    "\n",
    "Lastly, the method we will use to execute the Lambda function is a new endpoint that we will create using API Gateway. This endpoint will be a url that listens for data to be sent to it. Once it gets some data it will pass that data on to the Lambda function and then return whatever the Lambda function returns. Essentially it will act as an interface that lets our web app communicate with the Lambda function.\n",
    "\n",
    "### Setting up a Lambda function\n",
    "\n",
    "The first thing we are going to do is set up a Lambda function. This Lambda function will be executed whenever our public API has data sent to it. When it is executed it will receive the data, perform any sort of processing that is required, send the data (the review) to the SageMaker endpoint we've created and then return the result.\n",
    "\n",
    "#### Part A: Create an IAM Role for the Lambda function\n",
    "\n",
    "Since we want the Lambda function to call a SageMaker endpoint, we need to make sure that it has permission to do so. To do this, we will construct a role that we can later give the Lambda function.\n",
    "\n",
    "Using the AWS Console, navigate to the **IAM** page and click on **Roles**. Then, click on **Create role**. Make sure that the **AWS service** is the type of trusted entity selected and choose **Lambda** as the service that will use this role, then click **Next: Permissions**.\n",
    "\n",
    "In the search box type `sagemaker` and select the check box next to the **AmazonSageMakerFullAccess** policy. Then, click on **Next: Review**.\n",
    "\n",
    "Lastly, give this role a name. Make sure you use a name that you will remember later on, for example `LambdaSageMakerRole`. Then, click on **Create role**.\n",
    "\n",
    "#### Part B: Create a Lambda function\n",
    "\n",
    "Now it is time to actually create the Lambda function.\n",
    "\n",
    "Using the AWS Console, navigate to the AWS Lambda page and click on **Create a function**. When you get to the next page, make sure that **Author from scratch** is selected. Now, name your Lambda function, using a name that you will remember later on, for example `sentiment_analysis_func`. Make sure that the **Python 3.6** runtime is selected and then choose the role that you created in the previous part. Then, click on **Create Function**.\n",
    "\n",
    "On the next page you will see some information about the Lambda function you've just created. If you scroll down you should see an editor in which you can write the code that will be executed when your Lambda function is triggered. In our example, we will use the code below. \n",
    "\n",
    "```python\n",
    "# We need to use the low-level library to interact with SageMaker since the SageMaker API\n",
    "# is not available natively through Lambda.\n",
    "import boto3\n",
    "\n",
    "def lambda_handler(event, context):\n",
    "\n",
    "    # The SageMaker runtime is what allows us to invoke the endpoint that we've created.\n",
    "    runtime = boto3.Session().client('sagemaker-runtime')\n",
    "\n",
    "    # Now we use the SageMaker runtime to invoke our endpoint, sending the review we were given\n",
    "    response = runtime.invoke_endpoint(EndpointName = '**ENDPOINT NAME HERE**',    # The name of the endpoint we created\n",
    "                                       ContentType = 'text/plain',                 # The data format that is expected\n",
    "                                       Body = event['body'])                       # The actual review\n",
    "\n",
    "    # The response is an HTTP response whose body contains the result of our inference\n",
    "    result = response['Body'].read().decode('utf-8')\n",
    "\n",
    "    return {\n",
    "        'statusCode' : 200,\n",
    "        'headers' : { 'Content-Type' : 'text/plain', 'Access-Control-Allow-Origin' : '*' },\n",
    "        'body' : result\n",
    "    }\n",
    "```\n",
    "\n",
    "Once you have copy and pasted the code above into the Lambda code editor, replace the `**ENDPOINT NAME HERE**` portion with the name of the endpoint that we deployed earlier. You can determine the name of the endpoint using the code cell below."
   ]
  },
  {
   "cell_type": "code",
   "execution_count": 44,
   "metadata": {},
   "outputs": [
    {
     "data": {
      "text/plain": [
       "'sagemaker-pytorch-2022-03-24-13-06-57-629'"
      ]
     },
     "execution_count": 44,
     "metadata": {},
     "output_type": "execute_result"
    }
   ],
   "source": [
    "predictor.endpoint"
   ]
  },
  {
   "cell_type": "markdown",
   "metadata": {},
   "source": [
    "Once you have added the endpoint name to the Lambda function, click on **Save**. Your Lambda function is now up and running. Next we need to create a way for our web app to execute the Lambda function.\n",
    "\n",
    "### Setting up API Gateway\n",
    "\n",
    "Now that our Lambda function is set up, it is time to create a new API using API Gateway that will trigger the Lambda function we have just created.\n",
    "\n",
    "Using AWS Console, navigate to **Amazon API Gateway** and then click on **Get started**.\n",
    "\n",
    "On the next page, make sure that **New API** is selected and give the new api a name, for example, `sentiment_analysis_api`. Then, click on **Create API**.\n",
    "\n",
    "Now we have created an API, however it doesn't currently do anything. What we want it to do is to trigger the Lambda function that we created earlier.\n",
    "\n",
    "Select the **Actions** dropdown menu and click **Create Method**. A new blank method will be created, select its dropdown menu and select **POST**, then click on the check mark beside it.\n",
    "\n",
    "For the integration point, make sure that **Lambda Function** is selected and click on the **Use Lambda Proxy integration**. This option makes sure that the data that is sent to the API is then sent directly to the Lambda function with no processing. It also means that the return value must be a proper response object as it will also not be processed by API Gateway.\n",
    "\n",
    "Type the name of the Lambda function you created earlier into the **Lambda Function** text entry box and then click on **Save**. Click on **OK** in the pop-up box that then appears, giving permission to API Gateway to invoke the Lambda function you created.\n",
    "\n",
    "The last step in creating the API Gateway is to select the **Actions** dropdown and click on **Deploy API**. You will need to create a new Deployment stage and name it anything you like, for example `prod`.\n",
    "\n",
    "You have now successfully set up a public API to access your SageMaker model. Make sure to copy or write down the URL provided to invoke your newly created public API as this will be needed in the next step. This URL can be found at the top of the page, highlighted in blue next to the text **Invoke URL**."
   ]
  },
  {
   "cell_type": "markdown",
   "metadata": {},
   "source": [
    "## Step 4: Deploying our web app\n",
    "\n",
    "Now that we have a publicly available API, we can start using it in a web app. For our purposes, we have provided a simple static html file which can make use of the public api you created earlier.\n",
    "\n",
    "In the `website` folder there should be a file called `index.html`. Download the file to your computer and open that file up in a text editor of your choice. There should be a line which contains **\\*\\*REPLACE WITH PUBLIC API URL\\*\\***. Replace this string with the url that you wrote down in the last step and then save the file.\n",
    "\n",
    "Now, if you open `index.html` on your local computer, your browser will behave as a local web server and you can use the provided site to interact with your SageMaker model.\n",
    "\n",
    "If you'd like to go further, you can host this html file anywhere you'd like, for example using github or hosting a static site on Amazon's S3. Once you have done this you can share the link with anyone you'd like and have them play with it too!\n",
    "\n",
    "> **Important Note** In order for the web app to communicate with the SageMaker endpoint, the endpoint has to actually be deployed and running. This means that you are paying for it. Make sure that the endpoint is running when you want to use the web app but that you shut it down when you don't need it, otherwise you will end up with a surprisingly large AWS bill.\n",
    "\n",
    "**TODO:** Make sure that you include the edited `index.html` file in your project submission."
   ]
  },
  {
   "cell_type": "markdown",
   "metadata": {},
   "source": [
    "Now that your web app is working, trying playing around with it and see how well it works.\n",
    "\n",
    "**Question**: Post a screenshot showing a sample review that you entered into your web app and the predicted sentiment. What was the predicted sentiment of your example review?"
   ]
  },
  {
   "cell_type": "markdown",
   "metadata": {},
   "source": [
    "**Screenshot:**\n",
    "\n",
    "<img src=\"../Project/website/Screenshot 2022-03-24 at 8.46.06 PM.png\"/>\n",
    "\n",
    "**Answer:**\n",
    "\n",
    "This is an actual review from the movie \"Encanto\" - the user gave the movie 9/10 in his/her review so I believe our model is accurate."
   ]
  },
  {
   "cell_type": "markdown",
   "metadata": {},
   "source": [
    "### Delete the endpoint\n",
    "\n",
    "Remember to always shut down your endpoint if you are no longer using it. You are charged for the length of time that the endpoint is running so if you forget and leave it on you could end up with an unexpectedly large bill."
   ]
  },
  {
   "cell_type": "code",
   "execution_count": 45,
   "metadata": {},
   "outputs": [],
   "source": [
    "predictor.delete_endpoint()"
   ]
  }
 ],
 "metadata": {
  "kernelspec": {
   "display_name": "Python 3",
   "language": "python",
   "name": "python3"
  },
  "language_info": {
   "codemirror_mode": {
    "name": "ipython",
    "version": 3
   },
   "file_extension": ".py",
   "mimetype": "text/x-python",
   "name": "python",
   "nbconvert_exporter": "python",
   "pygments_lexer": "ipython3",
   "version": "3.8.5"
  }
 },
 "nbformat": 4,
 "nbformat_minor": 4
}

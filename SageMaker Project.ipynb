{
 "cells": [
  {
   "cell_type": "markdown",
   "metadata": {},
   "source": [
    "# Creating a Sentiment Analysis Web App\n",
    "## Using PyTorch and SageMaker\n",
    "\n",
    "_Deep Learning Nanodegree Program | Deployment_\n",
    "\n",
    "---\n",
    "\n",
    "Now that we have a basic understanding of how SageMaker works we will try to use it to construct a complete project from end to end. Our goal will be to have a simple web page which a user can use to enter a movie review. The web page will then send the review off to our deployed model which will predict the sentiment of the entered review.\n",
    "\n",
    "## Instructions\n",
    "\n",
    "Some template code has already been provided for you, and you will need to implement additional functionality to successfully complete this notebook. You will not need to modify the included code beyond what is requested. Sections that begin with '**TODO**' in the header indicate that you need to complete or implement some portion within them. Instructions will be provided for each section and the specifics of the implementation are marked in the code block with a `# TODO: ...` comment. Please be sure to read the instructions carefully!\n",
    "\n",
    "In addition to implementing code, there will be questions for you to answer which relate to the task and your implementation. Each section where you will answer a question is preceded by a '**Question:**' header. Carefully read each question and provide your answer below the '**Answer:**' header by editing the Markdown cell.\n",
    "\n",
    "> **Note**: Code and Markdown cells can be executed using the **Shift+Enter** keyboard shortcut. In addition, a cell can be edited by typically clicking it (double-click for Markdown cells) or by pressing **Enter** while it is highlighted.\n",
    "\n",
    "## General Outline\n",
    "\n",
    "Recall the general outline for SageMaker projects using a notebook instance.\n",
    "\n",
    "1. Download or otherwise retrieve the data.\n",
    "2. Process / Prepare the data.\n",
    "3. Upload the processed data to S3.\n",
    "4. Train a chosen model.\n",
    "5. Test the trained model (typically using a batch transform job).\n",
    "6. Deploy the trained model.\n",
    "7. Use the deployed model.\n",
    "\n",
    "For this project, you will be following the steps in the general outline with some modifications. \n",
    "\n",
    "First, you will not be testing the model in its own step. You will still be testing the model, however, you will do it by deploying your model and then using the deployed model by sending the test data to it. One of the reasons for doing this is so that you can make sure that your deployed model is working correctly before moving forward.\n",
    "\n",
    "In addition, you will deploy and use your trained model a second time. In the second iteration you will customize the way that your trained model is deployed by including some of your own code. In addition, your newly deployed model will be used in the sentiment analysis web app."
   ]
  },
  {
   "cell_type": "code",
   "execution_count": 1,
   "metadata": {},
   "outputs": [
    {
     "name": "stdout",
     "output_type": "stream",
     "text": [
      "Collecting sagemaker==1.72.0\n",
      "  Downloading sagemaker-1.72.0.tar.gz (297 kB)\n",
      "     |████████████████████████████████| 297 kB 30.5 MB/s            \n",
      "\u001b[?25h  Preparing metadata (setup.py) ... \u001b[?25ldone\n",
      "\u001b[?25hRequirement already satisfied: boto3>=1.14.12 in /home/ec2-user/anaconda3/envs/pytorch_p36/lib/python3.6/site-packages (from sagemaker==1.72.0) (1.21.25)\n",
      "Requirement already satisfied: numpy>=1.9.0 in /home/ec2-user/anaconda3/envs/pytorch_p36/lib/python3.6/site-packages (from sagemaker==1.72.0) (1.19.5)\n",
      "Requirement already satisfied: protobuf>=3.1 in /home/ec2-user/anaconda3/envs/pytorch_p36/lib/python3.6/site-packages (from sagemaker==1.72.0) (3.17.2)\n",
      "Requirement already satisfied: scipy>=0.19.0 in /home/ec2-user/anaconda3/envs/pytorch_p36/lib/python3.6/site-packages (from sagemaker==1.72.0) (1.5.3)\n",
      "Requirement already satisfied: protobuf3-to-dict>=0.1.5 in /home/ec2-user/anaconda3/envs/pytorch_p36/lib/python3.6/site-packages (from sagemaker==1.72.0) (0.1.5)\n",
      "Collecting smdebug-rulesconfig==0.1.4\n",
      "  Downloading smdebug_rulesconfig-0.1.4-py2.py3-none-any.whl (10 kB)\n",
      "Requirement already satisfied: importlib-metadata>=1.4.0 in /home/ec2-user/anaconda3/envs/pytorch_p36/lib/python3.6/site-packages (from sagemaker==1.72.0) (4.5.0)\n",
      "Requirement already satisfied: packaging>=20.0 in /home/ec2-user/anaconda3/envs/pytorch_p36/lib/python3.6/site-packages (from sagemaker==1.72.0) (21.3)\n",
      "Requirement already satisfied: botocore<1.25.0,>=1.24.25 in /home/ec2-user/anaconda3/envs/pytorch_p36/lib/python3.6/site-packages (from boto3>=1.14.12->sagemaker==1.72.0) (1.24.25)\n",
      "Requirement already satisfied: s3transfer<0.6.0,>=0.5.0 in /home/ec2-user/anaconda3/envs/pytorch_p36/lib/python3.6/site-packages (from boto3>=1.14.12->sagemaker==1.72.0) (0.5.0)\n",
      "Requirement already satisfied: jmespath<2.0.0,>=0.7.1 in /home/ec2-user/anaconda3/envs/pytorch_p36/lib/python3.6/site-packages (from boto3>=1.14.12->sagemaker==1.72.0) (0.10.0)\n",
      "Requirement already satisfied: typing-extensions>=3.6.4 in /home/ec2-user/anaconda3/envs/pytorch_p36/lib/python3.6/site-packages (from importlib-metadata>=1.4.0->sagemaker==1.72.0) (3.10.0.0)\n",
      "Requirement already satisfied: zipp>=0.5 in /home/ec2-user/anaconda3/envs/pytorch_p36/lib/python3.6/site-packages (from importlib-metadata>=1.4.0->sagemaker==1.72.0) (3.4.1)\n",
      "Requirement already satisfied: pyparsing!=3.0.5,>=2.0.2 in /home/ec2-user/anaconda3/envs/pytorch_p36/lib/python3.6/site-packages (from packaging>=20.0->sagemaker==1.72.0) (2.4.7)\n",
      "Requirement already satisfied: six>=1.9 in /home/ec2-user/anaconda3/envs/pytorch_p36/lib/python3.6/site-packages (from protobuf>=3.1->sagemaker==1.72.0) (1.16.0)\n",
      "Requirement already satisfied: urllib3<1.27,>=1.25.4 in /home/ec2-user/anaconda3/envs/pytorch_p36/lib/python3.6/site-packages (from botocore<1.25.0,>=1.24.25->boto3>=1.14.12->sagemaker==1.72.0) (1.26.8)\n",
      "Requirement already satisfied: python-dateutil<3.0.0,>=2.1 in /home/ec2-user/anaconda3/envs/pytorch_p36/lib/python3.6/site-packages (from botocore<1.25.0,>=1.24.25->boto3>=1.14.12->sagemaker==1.72.0) (2.8.1)\n",
      "Building wheels for collected packages: sagemaker\n",
      "  Building wheel for sagemaker (setup.py) ... \u001b[?25ldone\n",
      "\u001b[?25h  Created wheel for sagemaker: filename=sagemaker-1.72.0-py2.py3-none-any.whl size=388327 sha256=30bfcfce35a6a392f4e38732a7e749177494cf9983fd979035cafd9251949dcd\n",
      "  Stored in directory: /home/ec2-user/.cache/pip/wheels/c3/58/70/85faf4437568bfaa4c419937569ba1fe54d44c5db42406bbd7\n",
      "Successfully built sagemaker\n",
      "Installing collected packages: smdebug-rulesconfig, sagemaker\n",
      "  Attempting uninstall: smdebug-rulesconfig\n",
      "    Found existing installation: smdebug-rulesconfig 1.0.1\n",
      "    Uninstalling smdebug-rulesconfig-1.0.1:\n",
      "      Successfully uninstalled smdebug-rulesconfig-1.0.1\n",
      "  Attempting uninstall: sagemaker\n",
      "    Found existing installation: sagemaker 2.80.0\n",
      "    Uninstalling sagemaker-2.80.0:\n",
      "      Successfully uninstalled sagemaker-2.80.0\n",
      "Successfully installed sagemaker-1.72.0 smdebug-rulesconfig-0.1.4\n"
     ]
    }
   ],
   "source": [
    "# Make sure that we use SageMaker 1.x\n",
    "!pip install sagemaker==1.72.0"
   ]
  },
  {
   "cell_type": "markdown",
   "metadata": {},
   "source": [
    "## Step 1: Downloading the data\n",
    "\n",
    "As in the XGBoost in SageMaker notebook, we will be using the [IMDb dataset](http://ai.stanford.edu/~amaas/data/sentiment/)\n",
    "\n",
    "> Maas, Andrew L., et al. [Learning Word Vectors for Sentiment Analysis](http://ai.stanford.edu/~amaas/data/sentiment/). In _Proceedings of the 49th Annual Meeting of the Association for Computational Linguistics: Human Language Technologies_. Association for Computational Linguistics, 2011."
   ]
  },
  {
   "cell_type": "code",
   "execution_count": 2,
   "metadata": {},
   "outputs": [
    {
     "name": "stdout",
     "output_type": "stream",
     "text": [
      "mkdir: cannot create directory ‘../data’: File exists\n",
      "--2022-04-13 23:26:09--  http://ai.stanford.edu/~amaas/data/sentiment/aclImdb_v1.tar.gz\n",
      "Resolving ai.stanford.edu (ai.stanford.edu)... 171.64.68.10\n",
      "Connecting to ai.stanford.edu (ai.stanford.edu)|171.64.68.10|:80... connected.\n",
      "HTTP request sent, awaiting response... 200 OK\n",
      "Length: 84125825 (80M) [application/x-gzip]\n",
      "Saving to: ‘../data/aclImdb_v1.tar.gz’\n",
      "\n",
      "../data/aclImdb_v1. 100%[===================>]  80.23M  14.9MB/s    in 5.3s    \n",
      "\n",
      "2022-04-13 23:26:15 (15.2 MB/s) - ‘../data/aclImdb_v1.tar.gz’ saved [84125825/84125825]\n",
      "\n"
     ]
    }
   ],
   "source": [
    "%mkdir ../data\n",
    "!wget -O ../data/aclImdb_v1.tar.gz http://ai.stanford.edu/~amaas/data/sentiment/aclImdb_v1.tar.gz\n",
    "!tar -zxf ../data/aclImdb_v1.tar.gz -C ../data"
   ]
  },
  {
   "cell_type": "markdown",
   "metadata": {},
   "source": [
    "## Step 2: Preparing and Processing the data\n",
    "\n",
    "Also, as in the XGBoost notebook, we will be doing some initial data processing. The first few steps are the same as in the XGBoost example. To begin with, we will read in each of the reviews and combine them into a single input structure. Then, we will split the dataset into a training set and a testing set."
   ]
  },
  {
   "cell_type": "code",
   "execution_count": 3,
   "metadata": {},
   "outputs": [],
   "source": [
    "import os\n",
    "import glob\n",
    "\n",
    "def read_imdb_data(data_dir='../data/aclImdb'):\n",
    "    data = {}\n",
    "    labels = {}\n",
    "    \n",
    "    for data_type in ['train', 'test']:\n",
    "        data[data_type] = {}\n",
    "        labels[data_type] = {}\n",
    "        \n",
    "        for sentiment in ['pos', 'neg']:\n",
    "            data[data_type][sentiment] = []\n",
    "            labels[data_type][sentiment] = []\n",
    "            \n",
    "            path = os.path.join(data_dir, data_type, sentiment, '*.txt')\n",
    "            files = glob.glob(path)\n",
    "            \n",
    "            for f in files:\n",
    "                with open(f) as review:\n",
    "                    data[data_type][sentiment].append(review.read())\n",
    "                    # Here we represent a positive review by '1' and a negative review by '0'\n",
    "                    labels[data_type][sentiment].append(1 if sentiment == 'pos' else 0)\n",
    "                    \n",
    "            assert len(data[data_type][sentiment]) == len(labels[data_type][sentiment]), \\\n",
    "                    \"{}/{} data size does not match labels size\".format(data_type, sentiment)\n",
    "                \n",
    "    return data, labels"
   ]
  },
  {
   "cell_type": "code",
   "execution_count": 4,
   "metadata": {},
   "outputs": [
    {
     "name": "stdout",
     "output_type": "stream",
     "text": [
      "IMDB reviews: train = 12500 pos / 12500 neg, test = 12500 pos / 12500 neg\n"
     ]
    }
   ],
   "source": [
    "data, labels = read_imdb_data()\n",
    "print(\"IMDB reviews: train = {} pos / {} neg, test = {} pos / {} neg\".format(\n",
    "            len(data['train']['pos']), len(data['train']['neg']),\n",
    "            len(data['test']['pos']), len(data['test']['neg'])))"
   ]
  },
  {
   "cell_type": "markdown",
   "metadata": {},
   "source": [
    "Now that we've read the raw training and testing data from the downloaded dataset, we will combine the positive and negative reviews and shuffle the resulting records."
   ]
  },
  {
   "cell_type": "code",
   "execution_count": 5,
   "metadata": {},
   "outputs": [],
   "source": [
    "from sklearn.utils import shuffle\n",
    "\n",
    "def prepare_imdb_data(data, labels):\n",
    "    \"\"\"Prepare training and test sets from IMDb movie reviews.\"\"\"\n",
    "    \n",
    "    #Combine positive and negative reviews and labels\n",
    "    data_train = data['train']['pos'] + data['train']['neg']\n",
    "    data_test = data['test']['pos'] + data['test']['neg']\n",
    "    labels_train = labels['train']['pos'] + labels['train']['neg']\n",
    "    labels_test = labels['test']['pos'] + labels['test']['neg']\n",
    "    \n",
    "    #Shuffle reviews and corresponding labels within training and test sets\n",
    "    data_train, labels_train = shuffle(data_train, labels_train)\n",
    "    data_test, labels_test = shuffle(data_test, labels_test)\n",
    "    \n",
    "    # Return a unified training data, test data, training labels, test labets\n",
    "    return data_train, data_test, labels_train, labels_test"
   ]
  },
  {
   "cell_type": "code",
   "execution_count": 6,
   "metadata": {},
   "outputs": [
    {
     "name": "stdout",
     "output_type": "stream",
     "text": [
      "IMDb reviews (combined): train = 25000, test = 25000\n"
     ]
    }
   ],
   "source": [
    "train_X, test_X, train_y, test_y = prepare_imdb_data(data, labels)\n",
    "print(\"IMDb reviews (combined): train = {}, test = {}\".format(len(train_X), len(test_X)))"
   ]
  },
  {
   "cell_type": "markdown",
   "metadata": {},
   "source": [
    "Now that we have our training and testing sets unified and prepared, we should do a quick check and see an example of the data our model will be trained on. This is generally a good idea as it allows you to see how each of the further processing steps affects the reviews and it also ensures that the data has been loaded correctly."
   ]
  },
  {
   "cell_type": "code",
   "execution_count": 7,
   "metadata": {},
   "outputs": [
    {
     "name": "stdout",
     "output_type": "stream",
     "text": [
      "When my now college age daughter was in preschool, this miniseries appeared on A&E from 8-9 each morning. My neighbor and I made a pact that we wouldn't miss a minute of Jane Eyre and our kids were late for preschool every morning for the whole week. Good choice.<br /><br />I'd forgotten how much I loved this movie until I got out my old VHS copy recently. Timothy Dalton is very handsome, but still perfect as Rochester. The dark, craggy face, the imperious demeanor tempered with humor and tenderness were straight from the pages of the book. Although Dalton eats a little scenery, I couldn't sit through an adaptation starring wimpy William Hurt or grumpy Ciaran Hinds. The magic here is that women love Dalton and get caught up in the romance.<br /><br />I would love to know what's become of Zelah Clarke. She is dead on as Jane, quiet, formal, saying volumes with but a look. The sparkle in her eyes gives viewers a glimpse of the strength and spirited nature that helped Jane survive the mistreatment she endured in youth. Criticism of her performance as \"wooden\" is misplaced. A servant in a proper English household would have maintained just such a demeanor, but she speaks passionately when overcome with emotion. Unlike many other screen Janes, she appears plain enough to be Jane yet pretty enough to allow the audience to buy Rochester's attraction to her.<br /><br />Bronte's dialog is a large part of why the book endures the script keeps much of it intact. Dalton and Clarke capture the interplay between Jane and Rochester with wit and quiet intensity. Although Jane appears as plain and sweet as vanilla custard, she refuses to be cowed by the dark, blustery Rochester. The two leads play off each other beautifully. <br /><br />This is the most perfect adaptation of the best romance novel ever.\n",
      "1\n"
     ]
    }
   ],
   "source": [
    "print(train_X[100])\n",
    "print(train_y[100])"
   ]
  },
  {
   "cell_type": "markdown",
   "metadata": {},
   "source": [
    "The first step in processing the reviews is to make sure that any html tags that appear should be removed. In addition we wish to tokenize our input, that way words such as *entertained* and *entertaining* are considered the same with regard to sentiment analysis."
   ]
  },
  {
   "cell_type": "code",
   "execution_count": 8,
   "metadata": {},
   "outputs": [],
   "source": [
    "import nltk\n",
    "from nltk.corpus import stopwords\n",
    "from nltk.stem.porter import *\n",
    "\n",
    "import re\n",
    "from bs4 import BeautifulSoup\n",
    "\n",
    "def review_to_words(review):\n",
    "    nltk.download(\"stopwords\", quiet=True)\n",
    "    stemmer = PorterStemmer()\n",
    "    \n",
    "    text = BeautifulSoup(review, \"html.parser\").get_text() # Remove HTML tags\n",
    "    text = re.sub(r\"[^a-zA-Z0-9]\", \" \", text.lower()) # Convert to lower case\n",
    "    words = text.split() # Split string into words\n",
    "    words = [w for w in words if w not in stopwords.words(\"english\")] # Remove stopwords\n",
    "    words = [PorterStemmer().stem(w) for w in words] # stem\n",
    "    \n",
    "    return words"
   ]
  },
  {
   "cell_type": "markdown",
   "metadata": {},
   "source": [
    "The `review_to_words` method defined above uses `BeautifulSoup` to remove any html tags that appear and uses the `nltk` package to tokenize the reviews. As a check to ensure we know how everything is working, try applying `review_to_words` to one of the reviews in the training set."
   ]
  },
  {
   "cell_type": "code",
   "execution_count": 9,
   "metadata": {},
   "outputs": [
    {
     "data": {
      "text/plain": [
       "['colleg',\n",
       " 'age',\n",
       " 'daughter',\n",
       " 'preschool',\n",
       " 'miniseri',\n",
       " 'appear',\n",
       " 'e',\n",
       " '8',\n",
       " '9',\n",
       " 'morn',\n",
       " 'neighbor',\n",
       " 'made',\n",
       " 'pact',\n",
       " 'miss',\n",
       " 'minut',\n",
       " 'jane',\n",
       " 'eyr',\n",
       " 'kid',\n",
       " 'late',\n",
       " 'preschool',\n",
       " 'everi',\n",
       " 'morn',\n",
       " 'whole',\n",
       " 'week',\n",
       " 'good',\n",
       " 'choic',\n",
       " 'forgotten',\n",
       " 'much',\n",
       " 'love',\n",
       " 'movi',\n",
       " 'got',\n",
       " 'old',\n",
       " 'vh',\n",
       " 'copi',\n",
       " 'recent',\n",
       " 'timothi',\n",
       " 'dalton',\n",
       " 'handsom',\n",
       " 'still',\n",
       " 'perfect',\n",
       " 'rochest',\n",
       " 'dark',\n",
       " 'craggi',\n",
       " 'face',\n",
       " 'imperi',\n",
       " 'demeanor',\n",
       " 'temper',\n",
       " 'humor',\n",
       " 'tender',\n",
       " 'straight',\n",
       " 'page',\n",
       " 'book',\n",
       " 'although',\n",
       " 'dalton',\n",
       " 'eat',\n",
       " 'littl',\n",
       " 'sceneri',\n",
       " 'sit',\n",
       " 'adapt',\n",
       " 'star',\n",
       " 'wimpi',\n",
       " 'william',\n",
       " 'hurt',\n",
       " 'grumpi',\n",
       " 'ciaran',\n",
       " 'hind',\n",
       " 'magic',\n",
       " 'women',\n",
       " 'love',\n",
       " 'dalton',\n",
       " 'get',\n",
       " 'caught',\n",
       " 'romanc',\n",
       " 'would',\n",
       " 'love',\n",
       " 'know',\n",
       " 'becom',\n",
       " 'zelah',\n",
       " 'clark',\n",
       " 'dead',\n",
       " 'jane',\n",
       " 'quiet',\n",
       " 'formal',\n",
       " 'say',\n",
       " 'volum',\n",
       " 'look',\n",
       " 'sparkl',\n",
       " 'eye',\n",
       " 'give',\n",
       " 'viewer',\n",
       " 'glimps',\n",
       " 'strength',\n",
       " 'spirit',\n",
       " 'natur',\n",
       " 'help',\n",
       " 'jane',\n",
       " 'surviv',\n",
       " 'mistreat',\n",
       " 'endur',\n",
       " 'youth',\n",
       " 'critic',\n",
       " 'perform',\n",
       " 'wooden',\n",
       " 'misplac',\n",
       " 'servant',\n",
       " 'proper',\n",
       " 'english',\n",
       " 'household',\n",
       " 'would',\n",
       " 'maintain',\n",
       " 'demeanor',\n",
       " 'speak',\n",
       " 'passion',\n",
       " 'overcom',\n",
       " 'emot',\n",
       " 'unlik',\n",
       " 'mani',\n",
       " 'screen',\n",
       " 'jane',\n",
       " 'appear',\n",
       " 'plain',\n",
       " 'enough',\n",
       " 'jane',\n",
       " 'yet',\n",
       " 'pretti',\n",
       " 'enough',\n",
       " 'allow',\n",
       " 'audienc',\n",
       " 'buy',\n",
       " 'rochest',\n",
       " 'attract',\n",
       " 'bront',\n",
       " 'dialog',\n",
       " 'larg',\n",
       " 'part',\n",
       " 'book',\n",
       " 'endur',\n",
       " 'script',\n",
       " 'keep',\n",
       " 'much',\n",
       " 'intact',\n",
       " 'dalton',\n",
       " 'clark',\n",
       " 'captur',\n",
       " 'interplay',\n",
       " 'jane',\n",
       " 'rochest',\n",
       " 'wit',\n",
       " 'quiet',\n",
       " 'intens',\n",
       " 'although',\n",
       " 'jane',\n",
       " 'appear',\n",
       " 'plain',\n",
       " 'sweet',\n",
       " 'vanilla',\n",
       " 'custard',\n",
       " 'refus',\n",
       " 'cow',\n",
       " 'dark',\n",
       " 'blusteri',\n",
       " 'rochest',\n",
       " 'two',\n",
       " 'lead',\n",
       " 'play',\n",
       " 'beauti',\n",
       " 'perfect',\n",
       " 'adapt',\n",
       " 'best',\n",
       " 'romanc',\n",
       " 'novel',\n",
       " 'ever']"
      ]
     },
     "execution_count": 9,
     "metadata": {},
     "output_type": "execute_result"
    }
   ],
   "source": [
    "# TODO: Apply review_to_words to a review (train_X[100] or any other review)\n",
    "review_to_words(train_X[100])"
   ]
  },
  {
   "cell_type": "markdown",
   "metadata": {},
   "source": [
    "**Question:** Above we mentioned that `review_to_words` method removes html formatting and allows us to tokenize the words found in a review, for example, converting *entertained* and *entertaining* into *entertain* so that they are treated as though they are the same word. What else, if anything, does this method do to the input?"
   ]
  },
  {
   "cell_type": "markdown",
   "metadata": {},
   "source": [
    "**Answer:** On top of removing html formatting and tokenizing words in a review, this method first and foremost splits the whole corpus/string into words, removes stopwords based on nltk's library of stopwords, and also converts the letters in the tokenized words to lowercase."
   ]
  },
  {
   "cell_type": "markdown",
   "metadata": {},
   "source": [
    "The method below applies the `review_to_words` method to each of the reviews in the training and testing datasets. In addition it caches the results. This is because performing this processing step can take a long time. This way if you are unable to complete the notebook in the current session, you can come back without needing to process the data a second time."
   ]
  },
  {
   "cell_type": "code",
   "execution_count": 10,
   "metadata": {},
   "outputs": [],
   "source": [
    "import pickle\n",
    "\n",
    "cache_dir = os.path.join(\"../cache\", \"sentiment_analysis\")  # where to store cache files\n",
    "os.makedirs(cache_dir, exist_ok=True)  # ensure cache directory exists\n",
    "\n",
    "def preprocess_data(data_train, data_test, labels_train, labels_test,\n",
    "                    cache_dir=cache_dir, cache_file=\"preprocessed_data.pkl\"):\n",
    "    \"\"\"Convert each review to words; read from cache if available.\"\"\"\n",
    "\n",
    "    # If cache_file is not None, try to read from it first\n",
    "    cache_data = None\n",
    "    if cache_file is not None:\n",
    "        try:\n",
    "            with open(os.path.join(cache_dir, cache_file), \"rb\") as f:\n",
    "                cache_data = pickle.load(f)\n",
    "            print(\"Read preprocessed data from cache file:\", cache_file)\n",
    "        except:\n",
    "            pass  # unable to read from cache, but that's okay\n",
    "    \n",
    "    # If cache is missing, then do the heavy lifting\n",
    "    if cache_data is None:\n",
    "        # Preprocess training and test data to obtain words for each review\n",
    "        #words_train = list(map(review_to_words, data_train))\n",
    "        #words_test = list(map(review_to_words, data_test))\n",
    "        words_train = [review_to_words(review) for review in data_train]\n",
    "        words_test = [review_to_words(review) for review in data_test]\n",
    "        \n",
    "        # Write to cache file for future runs\n",
    "        if cache_file is not None:\n",
    "            cache_data = dict(words_train=words_train, words_test=words_test,\n",
    "                              labels_train=labels_train, labels_test=labels_test)\n",
    "            with open(os.path.join(cache_dir, cache_file), \"wb\") as f:\n",
    "                pickle.dump(cache_data, f)\n",
    "            print(\"Wrote preprocessed data to cache file:\", cache_file)\n",
    "    else:\n",
    "        # Unpack data loaded from cache file\n",
    "        words_train, words_test, labels_train, labels_test = (cache_data['words_train'],\n",
    "                cache_data['words_test'], cache_data['labels_train'], cache_data['labels_test'])\n",
    "    \n",
    "    return words_train, words_test, labels_train, labels_test"
   ]
  },
  {
   "cell_type": "code",
   "execution_count": 11,
   "metadata": {},
   "outputs": [
    {
     "name": "stdout",
     "output_type": "stream",
     "text": [
      "Read preprocessed data from cache file: preprocessed_data.pkl\n"
     ]
    }
   ],
   "source": [
    "# Preprocess data\n",
    "train_X, test_X, train_y, test_y = preprocess_data(train_X, test_X, train_y, test_y)"
   ]
  },
  {
   "cell_type": "markdown",
   "metadata": {},
   "source": [
    "## Transform the data\n",
    "\n",
    "In the XGBoost notebook we transformed the data from its word representation to a bag-of-words feature representation. For the model we are going to construct in this notebook we will construct a feature representation which is very similar. To start, we will represent each word as an integer. Of course, some of the words that appear in the reviews occur very infrequently and so likely don't contain much information for the purposes of sentiment analysis. The way we will deal with this problem is that we will fix the size of our working vocabulary and we will only include the words that appear most frequently. We will then combine all of the infrequent words into a single category and, in our case, we will label it as `1`.\n",
    "\n",
    "Since we will be using a recurrent neural network, it will be convenient if the length of each review is the same. To do this, we will fix a size for our reviews and then pad short reviews with the category 'no word' (which we will label `0`) and truncate long reviews."
   ]
  },
  {
   "cell_type": "markdown",
   "metadata": {},
   "source": [
    "### (TODO) Create a word dictionary\n",
    "\n",
    "To begin with, we need to construct a way to map words that appear in the reviews to integers. Here we fix the size of our vocabulary (including the 'no word' and 'infrequent' categories) to be `5000` but you may wish to change this to see how it affects the model.\n",
    "\n",
    "> **TODO:** Complete the implementation for the `build_dict()` method below. Note that even though the vocab_size is set to `5000`, we only want to construct a mapping for the most frequently appearing `4998` words. This is because we want to reserve the special labels `0` for 'no word' and `1` for 'infrequent word'."
   ]
  },
  {
   "cell_type": "code",
   "execution_count": 12,
   "metadata": {},
   "outputs": [],
   "source": [
    "import numpy as np\n",
    "\n",
    "def build_dict(data, vocab_size = 5000):\n",
    "    \"\"\"Construct and return a dictionary mapping each of the most frequently appearing words to a unique integer.\"\"\"\n",
    "    \n",
    "    # TODO: Determine how often each word appears in `data`. Note that `data` is a list of sentences and that a\n",
    "    #       sentence is a list of words.\n",
    "    \n",
    "    word_count = {} # A dict storing the words that appear in the reviews along with how often they occur\n",
    "    \n",
    "    # increment counts of each words in data in the dictionary\n",
    "    for review in data:\n",
    "        for word in review:\n",
    "            if word in word_count:\n",
    "                word_count[word] += 1\n",
    "            else:\n",
    "                word_count[word] = 1\n",
    "    \n",
    "    # TODO: Sort the words found in `data` so that sorted_words[0] is the most frequently appearing word and\n",
    "    #       sorted_words[-1] is the least frequently appearing word.\n",
    "    \n",
    "    # using Python's sorted function\n",
    "    # the key is important because we're interested to sort the 2nd element of the tuples which is the count\n",
    "    # reverse=True is important because we're interested in a descending order i.e. most to least frequently appearing\n",
    "    \n",
    "    sorted_words = [k for k,_ in (sorted(word_count.items(), key=lambda word: word[1], reverse=True))]\n",
    "    \n",
    "    word_dict = {} # This is what we are building, a dictionary that translates words into integers\n",
    "    for idx, word in enumerate(sorted_words[:vocab_size - 2]): # The -2 is so that we save room for the 'no word'\n",
    "        word_dict[word] = idx + 2                              # 'infrequent' labels\n",
    "        \n",
    "    return word_dict"
   ]
  },
  {
   "cell_type": "code",
   "execution_count": 13,
   "metadata": {},
   "outputs": [],
   "source": [
    "word_dict = build_dict(train_X)"
   ]
  },
  {
   "cell_type": "markdown",
   "metadata": {},
   "source": [
    "**Question:** What are the five most frequently appearing (tokenized) words in the training set? Does it makes sense that these words appear frequently in the training set?"
   ]
  },
  {
   "cell_type": "markdown",
   "metadata": {},
   "source": [
    "**Answer:** The five most requently appearing (tokenized) words in the training set are 'movi', 'film', 'one', 'like', 'time'. It does make sense that these words appear frequently in the training set.\n",
    "\n",
    "The first two are kind of self-explanatory. \n",
    "\n",
    "'one' is something that people say quite often when singling out something e.g. \"one of the things I enjoyed...\" or \"during one scene...\".\n",
    "\n",
    "People will mention what they 'like' and dislike in a movie, hence 'like' being number four on the list. \n",
    "\n",
    "And finally, 'time' can be used when saying how many times something happened in the movie, or referring to a specific point of time in the movie."
   ]
  },
  {
   "cell_type": "code",
   "execution_count": 14,
   "metadata": {},
   "outputs": [
    {
     "name": "stdout",
     "output_type": "stream",
     "text": [
      "{'movi': 2, 'film': 3, 'one': 4, 'like': 5, 'time': 6, 'good': 7, 'make': 8, 'charact': 9, 'get': 10, 'see': 11, 'watch': 12, 'stori': 13, 'even': 14, 'would': 15, 'realli': 16, 'well': 17, 'scene': 18, 'look': 19, 'show': 20, 'much': 21, 'end': 22, 'peopl': 23, 'bad': 24, 'go': 25, 'great': 26, 'also': 27, 'first': 28, 'love': 29, 'think': 30, 'way': 31, 'act': 32, 'play': 33, 'made': 34, 'thing': 35, 'could': 36, 'know': 37, 'say': 38, 'seem': 39, 'work': 40, 'plot': 41, 'two': 42, 'actor': 43, 'year': 44, 'come': 45, 'mani': 46, 'seen': 47, 'take': 48, 'want': 49, 'life': 50, 'never': 51, 'littl': 52, 'best': 53, 'tri': 54, 'man': 55, 'ever': 56, 'give': 57, 'better': 58, 'still': 59, 'perform': 60, 'find': 61, 'feel': 62, 'part': 63, 'back': 64, 'use': 65, 'someth': 66, 'director': 67, 'actual': 68, 'interest': 69, 'lot': 70, 'real': 71, 'old': 72, 'cast': 73, 'though': 74, 'live': 75, 'star': 76, 'enjoy': 77, 'guy': 78, 'anoth': 79, 'new': 80, 'role': 81, 'noth': 82, '10': 83, 'funni': 84, 'music': 85, 'point': 86, 'start': 87, 'set': 88, 'girl': 89, 'origin': 90, 'day': 91, 'world': 92, 'everi': 93, 'believ': 94, 'turn': 95, 'quit': 96, 'us': 97, 'direct': 98, 'thought': 99, 'fact': 100, 'minut': 101, 'horror': 102, 'kill': 103, 'action': 104, 'comedi': 105, 'pretti': 106, 'young': 107, 'wonder': 108, 'happen': 109, 'around': 110, 'got': 111, 'effect': 112, 'right': 113, 'long': 114, 'howev': 115, 'big': 116, 'line': 117, 'famili': 118, 'enough': 119, 'seri': 120, 'may': 121, 'need': 122, 'fan': 123, 'bit': 124, 'script': 125, 'beauti': 126, 'person': 127, 'becom': 128, 'without': 129, 'must': 130, 'alway': 131, 'friend': 132, 'tell': 133, 'reason': 134, 'saw': 135, 'last': 136, 'final': 137, 'kid': 138, 'almost': 139, 'put': 140, 'least': 141, 'sure': 142, 'done': 143, 'whole': 144, 'place': 145, 'complet': 146, 'kind': 147, 'expect': 148, 'differ': 149, 'shot': 150, 'far': 151, 'mean': 152, 'anyth': 153, 'book': 154, 'laugh': 155, 'might': 156, 'name': 157, 'sinc': 158, 'begin': 159, '2': 160, 'probabl': 161, 'woman': 162, 'help': 163, 'entertain': 164, 'let': 165, 'screen': 166, 'call': 167, 'tv': 168, 'moment': 169, 'away': 170, 'read': 171, 'yet': 172, 'rather': 173, 'worst': 174, 'run': 175, 'fun': 176, 'lead': 177, 'hard': 178, 'audienc': 179, 'idea': 180, 'anyon': 181, 'episod': 182, 'american': 183, 'found': 184, 'appear': 185, 'bore': 186, 'especi': 187, 'although': 188, 'hope': 189, 'cours': 190, 'keep': 191, 'anim': 192, 'job': 193, 'goe': 194, 'move': 195, 'sens': 196, 'dvd': 197, 'version': 198, 'war': 199, 'money': 200, 'someon': 201, 'mind': 202, 'mayb': 203, 'problem': 204, 'true': 205, 'hous': 206, 'everyth': 207, 'nice': 208, 'second': 209, 'rate': 210, 'three': 211, 'night': 212, 'follow': 213, 'face': 214, 'recommend': 215, 'product': 216, 'main': 217, 'worth': 218, 'leav': 219, 'human': 220, 'special': 221, 'excel': 222, 'togeth': 223, 'wast': 224, 'everyon': 225, 'sound': 226, 'john': 227, 'hand': 228, '1': 229, 'father': 230, 'later': 231, 'eye': 232, 'said': 233, 'view': 234, 'instead': 235, 'review': 236, 'boy': 237, 'high': 238, 'hour': 239, 'miss': 240, 'classic': 241, 'talk': 242, 'wife': 243, 'understand': 244, 'left': 245, 'care': 246, 'black': 247, 'death': 248, 'open': 249, 'murder': 250, 'write': 251, 'half': 252, 'head': 253, 'rememb': 254, 'chang': 255, 'viewer': 256, 'fight': 257, 'gener': 258, 'surpris': 259, 'includ': 260, 'short': 261, 'die': 262, 'fall': 263, 'less': 264, 'els': 265, 'entir': 266, 'piec': 267, 'involv': 268, 'pictur': 269, 'simpli': 270, 'top': 271, 'power': 272, 'home': 273, 'total': 274, 'usual': 275, 'budget': 276, 'attempt': 277, 'suppos': 278, 'releas': 279, 'hollywood': 280, 'terribl': 281, 'song': 282, 'men': 283, 'possibl': 284, 'featur': 285, 'portray': 286, 'disappoint': 287, 'poor': 288, '3': 289, 'coupl': 290, 'stupid': 291, 'camera': 292, 'dead': 293, 'wrong': 294, 'produc': 295, 'low': 296, 'video': 297, 'either': 298, 'aw': 299, 'definit': 300, 'except': 301, 'rest': 302, 'given': 303, 'absolut': 304, 'women': 305, 'lack': 306, 'word': 307, 'writer': 308, 'titl': 309, 'talent': 310, 'decid': 311, 'full': 312, 'perfect': 313, 'along': 314, 'style': 315, 'close': 316, 'truli': 317, 'school': 318, 'save': 319, 'emot': 320, 'age': 321, 'sex': 322, 'next': 323, 'bring': 324, 'mr': 325, 'case': 326, 'killer': 327, 'heart': 328, 'comment': 329, 'sort': 330, 'creat': 331, 'perhap': 332, 'came': 333, 'brother': 334, 'sever': 335, 'joke': 336, 'art': 337, 'dialogu': 338, 'game': 339, 'small': 340, 'base': 341, 'flick': 342, 'written': 343, 'sequenc': 344, 'meet': 345, 'earli': 346, 'often': 347, 'other': 348, 'mother': 349, 'develop': 350, 'humor': 351, 'actress': 352, 'consid': 353, 'dark': 354, 'guess': 355, 'amaz': 356, 'unfortun': 357, 'light': 358, 'lost': 359, 'exampl': 360, 'cinema': 361, 'drama': 362, 'white': 363, 'ye': 364, 'experi': 365, 'imagin': 366, 'mention': 367, 'stop': 368, 'natur': 369, 'forc': 370, 'manag': 371, 'felt': 372, 'cut': 373, 'present': 374, 'children': 375, 'fail': 376, 'son': 377, 'support': 378, 'qualiti': 379, 'car': 380, 'ask': 381, 'hit': 382, 'side': 383, 'voic': 384, 'extrem': 385, 'impress': 386, 'wors': 387, 'evil': 388, 'stand': 389, 'went': 390, 'certainli': 391, 'basic': 392, 'oh': 393, 'overal': 394, 'favorit': 395, 'horribl': 396, 'mysteri': 397, 'number': 398, 'type': 399, 'danc': 400, 'wait': 401, 'hero': 402, '5': 403, 'alreadi': 404, 'learn': 405, 'matter': 406, '4': 407, 'michael': 408, 'genr': 409, 'fine': 410, 'despit': 411, 'throughout': 412, 'walk': 413, 'success': 414, 'histori': 415, 'question': 416, 'zombi': 417, 'town': 418, 'relationship': 419, 'realiz': 420, 'past': 421, 'child': 422, 'daughter': 423, 'late': 424, 'b': 425, 'wish': 426, 'credit': 427, 'hate': 428, 'event': 429, 'theme': 430, 'touch': 431, 'citi': 432, 'today': 433, 'sometim': 434, 'behind': 435, 'god': 436, 'twist': 437, 'sit': 438, 'stay': 439, 'annoy': 440, 'deal': 441, 'abl': 442, 'rent': 443, 'pleas': 444, 'edit': 445, 'blood': 446, 'deserv': 447, 'comic': 448, 'anyway': 449, 'appar': 450, 'soon': 451, 'gave': 452, 'etc': 453, 'level': 454, 'slow': 455, 'chanc': 456, 'score': 457, 'bodi': 458, 'brilliant': 459, 'incred': 460, 'figur': 461, 'situat': 462, 'major': 463, 'self': 464, 'stuff': 465, 'decent': 466, 'element': 467, 'return': 468, 'dream': 469, 'obvious': 470, 'order': 471, 'continu': 472, 'pace': 473, 'ridicul': 474, 'happi': 475, 'group': 476, 'highli': 477, 'add': 478, 'thank': 479, 'ladi': 480, 'novel': 481, 'speak': 482, 'pain': 483, 'career': 484, 'shoot': 485, 'strang': 486, 'heard': 487, 'sad': 488, 'polic': 489, 'husband': 490, 'import': 491, 'break': 492, 'took': 493, 'cannot': 494, 'strong': 495, 'robert': 496, 'predict': 497, 'violenc': 498, 'hilari': 499, 'recent': 500, 'countri': 501, 'known': 502, 'particularli': 503, 'pick': 504, 'documentari': 505, 'season': 506, 'critic': 507, 'jame': 508, 'compar': 509, 'obviou': 510, 'alon': 511, 'told': 512, 'state': 513, 'rock': 514, 'visual': 515, 'theater': 516, 'offer': 517, 'exist': 518, 'opinion': 519, 'gore': 520, 'hold': 521, 'crap': 522, 'result': 523, 'room': 524, 'hear': 525, 'realiti': 526, 'effort': 527, 'clich': 528, 'thriller': 529, 'caus': 530, 'sequel': 531, 'serious': 532, 'explain': 533, 'king': 534, 'local': 535, 'ago': 536, 'none': 537, 'hell': 538, 'note': 539, 'allow': 540, 'david': 541, 'sister': 542, 'simpl': 543, 'femal': 544, 'deliv': 545, 'ok': 546, 'convinc': 547, 'class': 548, 'check': 549, 'suspens': 550, 'win': 551, 'buy': 552, 'oscar': 553, 'huge': 554, 'valu': 555, 'sexual': 556, 'scari': 557, 'cool': 558, 'excit': 559, 'similar': 560, 'apart': 561, 'exactli': 562, 'provid': 563, 'shown': 564, 'avoid': 565, 'seriou': 566, 'english': 567, 'whose': 568, 'taken': 569, 'cinematographi': 570, 'shock': 571, 'polit': 572, 'spoiler': 573, 'offic': 574, 'across': 575, 'middl': 576, 'pass': 577, 'street': 578, 'messag': 579, 'charm': 580, 'somewhat': 581, 'silli': 582, 'modern': 583, 'filmmak': 584, 'confus': 585, 'form': 586, 'tale': 587, 'singl': 588, 'jack': 589, 'mostli': 590, 'william': 591, 'carri': 592, 'attent': 593, 'sing': 594, 'subject': 595, 'five': 596, 'richard': 597, 'prove': 598, 'stage': 599, 'team': 600, 'cop': 601, 'unlik': 602, 'georg': 603, 'monster': 604, 'televis': 605, 'earth': 606, 'cover': 607, 'villain': 608, 'pay': 609, 'marri': 610, 'toward': 611, 'build': 612, 'pull': 613, 'parent': 614, 'due': 615, 'fill': 616, 'respect': 617, 'four': 618, 'dialog': 619, 'remind': 620, 'futur': 621, 'weak': 622, 'typic': 623, '7': 624, 'cheap': 625, 'intellig': 626, 'atmospher': 627, 'british': 628, '80': 629, 'clearli': 630, 'paul': 631, 'non': 632, 'dog': 633, 'fast': 634, 'artist': 635, 'knew': 636, '8': 637, 'crime': 638, 'easili': 639, 'escap': 640, 'adult': 641, 'doubt': 642, 'detail': 643, 'date': 644, 'fire': 645, 'member': 646, 'romant': 647, 'gun': 648, 'drive': 649, 'straight': 650, 'beyond': 651, 'fit': 652, 'attack': 653, 'imag': 654, 'upon': 655, 'posit': 656, 'whether': 657, 'fantast': 658, 'peter': 659, 'captur': 660, 'appreci': 661, 'aspect': 662, 'ten': 663, 'plan': 664, 'discov': 665, 'remain': 666, 'near': 667, 'period': 668, 'air': 669, 'realist': 670, 'mark': 671, 'red': 672, 'dull': 673, 'adapt': 674, 'within': 675, 'lose': 676, 'spend': 677, 'materi': 678, 'color': 679, 'chase': 680, 'mari': 681, 'storylin': 682, 'forget': 683, 'bunch': 684, 'clear': 685, 'lee': 686, 'victim': 687, 'nearli': 688, 'box': 689, 'york': 690, 'match': 691, 'inspir': 692, 'mess': 693, 'finish': 694, 'standard': 695, 'easi': 696, 'truth': 697, 'suffer': 698, 'busi': 699, 'space': 700, 'dramat': 701, 'bill': 702, 'western': 703, 'e': 704, 'list': 705, 'battl': 706, 'notic': 707, 'de': 708, 'french': 709, 'ad': 710, '9': 711, 'tom': 712, 'larg': 713, 'among': 714, 'eventu': 715, 'accept': 716, 'train': 717, 'agre': 718, 'soundtrack': 719, 'spirit': 720, 'third': 721, 'teenag': 722, 'adventur': 723, 'soldier': 724, 'famou': 725, 'sorri': 726, 'drug': 727, 'suggest': 728, 'cri': 729, 'normal': 730, 'babi': 731, 'troubl': 732, 'ultim': 733, 'contain': 734, 'certain': 735, 'cultur': 736, 'romanc': 737, 'rare': 738, 'lame': 739, 'somehow': 740, 'disney': 741, 'mix': 742, 'gone': 743, 'cartoon': 744, 'student': 745, 'fear': 746, 'reveal': 747, 'suck': 748, 'kept': 749, 'attract': 750, 'appeal': 751, 'premis': 752, 'secret': 753, 'greatest': 754, 'design': 755, 'shame': 756, 'throw': 757, 'copi': 758, 'scare': 759, 'wit': 760, 'america': 761, 'admit': 762, 'brought': 763, 'particular': 764, 'relat': 765, 'screenplay': 766, 'whatev': 767, 'pure': 768, '70': 769, 'averag': 770, 'harri': 771, 'master': 772, 'describ': 773, 'treat': 774, 'male': 775, '20': 776, 'issu': 777, 'fantasi': 778, 'warn': 779, 'inde': 780, 'forward': 781, 'background': 782, 'project': 783, 'free': 784, 'memor': 785, 'japanes': 786, 'poorli': 787, 'award': 788, 'locat': 789, 'amus': 790, 'potenti': 791, 'struggl': 792, 'magic': 793, 'weird': 794, 'societi': 795, 'okay': 796, 'accent': 797, 'imdb': 798, 'doctor': 799, 'water': 800, 'hot': 801, '30': 802, 'express': 803, 'alien': 804, 'dr': 805, 'odd': 806, 'choic': 807, 'crazi': 808, 'fiction': 809, 'studio': 810, 'becam': 811, 'control': 812, 'masterpiec': 813, 'difficult': 814, 'fli': 815, 'joe': 816, 'scream': 817, 'costum': 818, 'lover': 819, 'uniqu': 820, 'refer': 821, 'remak': 822, 'girlfriend': 823, 'vampir': 824, 'prison': 825, 'execut': 826, 'wear': 827, 'jump': 828, 'wood': 829, 'unless': 830, 'creepi': 831, 'cheesi': 832, 'superb': 833, 'otherwis': 834, 'parti': 835, 'roll': 836, 'ghost': 837, 'public': 838, 'mad': 839, 'depict': 840, 'week': 841, 'jane': 842, 'moral': 843, 'badli': 844, 'earlier': 845, 'fi': 846, 'dumb': 847, 'grow': 848, 'flaw': 849, 'deep': 850, 'sci': 851, 'maker': 852, 'cat': 853, 'older': 854, 'connect': 855, 'footag': 856, 'bother': 857, 'plenti': 858, 'outsid': 859, 'stick': 860, 'gay': 861, 'catch': 862, 'co': 863, 'plu': 864, 'popular': 865, 'equal': 866, 'social': 867, 'quickli': 868, 'disturb': 869, 'perfectli': 870, 'dress': 871, 'era': 872, '90': 873, 'mistak': 874, 'lie': 875, 'previou': 876, 'ride': 877, 'combin': 878, 'concept': 879, 'band': 880, 'answer': 881, 'rich': 882, 'surviv': 883, 'front': 884, 'christma': 885, 'sweet': 886, 'insid': 887, 'bare': 888, 'concern': 889, 'eat': 890, 'listen': 891, 'beat': 892, 'ben': 893, 'c': 894, 'term': 895, 'serv': 896, 'la': 897, 'meant': 898, 'german': 899, 'stereotyp': 900, 'hardli': 901, 'law': 902, 'innoc': 903, 'desper': 904, 'memori': 905, 'promis': 906, 'intent': 907, 'cute': 908, 'inform': 909, 'steal': 910, 'variou': 911, 'brain': 912, 'post': 913, 'tone': 914, 'island': 915, 'amount': 916, 'compani': 917, 'track': 918, 'nuditi': 919, 'claim': 920, 'store': 921, 'flat': 922, 'hair': 923, '50': 924, 'land': 925, 'univers': 926, 'fairli': 927, 'kick': 928, 'scott': 929, 'danger': 930, 'player': 931, 'plain': 932, 'crew': 933, 'step': 934, 'toni': 935, 'share': 936, 'centuri': 937, 'tast': 938, 'achiev': 939, 'engag': 940, 'travel': 941, 'cold': 942, 'record': 943, 'suit': 944, 'rip': 945, 'sadli': 946, 'manner': 947, 'tension': 948, 'spot': 949, 'wrote': 950, 'intens': 951, 'fascin': 952, 'familiar': 953, 'depth': 954, 'burn': 955, 'remark': 956, 'destroy': 957, 'histor': 958, 'sleep': 959, 'purpos': 960, 'languag': 961, 'ignor': 962, 'ruin': 963, 'delight': 964, 'unbeliev': 965, 'italian': 966, 'abil': 967, 'collect': 968, 'soul': 969, 'clever': 970, 'detect': 971, 'violent': 972, 'rape': 973, 'reach': 974, 'door': 975, 'scienc': 976, 'trash': 977, 'liter': 978, 'caught': 979, 'commun': 980, 'reveng': 981, 'creatur': 982, 'approach': 983, 'trip': 984, 'fashion': 985, 'intrigu': 986, 'paint': 987, 'introduc': 988, 'skill': 989, 'complex': 990, 'channel': 991, 'camp': 992, 'christian': 993, 'extra': 994, 'hole': 995, 'limit': 996, 'mental': 997, 'immedi': 998, 'ann': 999, '6': 1000, 'comput': 1001, 'mere': 1002, 'slightli': 1003, 'million': 1004, 'conclus': 1005, 'slasher': 1006, 'imposs': 1007, 'suddenli': 1008, 'teen': 1009, 'neither': 1010, 'crimin': 1011, 'nation': 1012, 'physic': 1013, 'spent': 1014, 'respons': 1015, 'planet': 1016, 'receiv': 1017, 'fake': 1018, 'sick': 1019, 'blue': 1020, 'bizarr': 1021, 'embarrass': 1022, 'indian': 1023, '15': 1024, 'ring': 1025, 'drop': 1026, 'pop': 1027, 'drag': 1028, 'haunt': 1029, 'suspect': 1030, 'pointless': 1031, 'edg': 1032, 'search': 1033, 'handl': 1034, 'biggest': 1035, 'common': 1036, 'arriv': 1037, 'hurt': 1038, 'faith': 1039, 'technic': 1040, 'angel': 1041, 'dad': 1042, 'genuin': 1043, 'f': 1044, 'solid': 1045, 'awesom': 1046, 'former': 1047, 'van': 1048, 'colleg': 1049, 'focu': 1050, 'count': 1051, 'tear': 1052, 'heavi': 1053, 'wall': 1054, 'rais': 1055, 'younger': 1056, 'laughabl': 1057, 'visit': 1058, 'fair': 1059, 'sign': 1060, 'excus': 1061, 'cult': 1062, 'key': 1063, 'motion': 1064, 'tough': 1065, 'desir': 1066, 'super': 1067, 'addit': 1068, 'stun': 1069, 'cloth': 1070, 'exploit': 1071, 'tortur': 1072, 'smith': 1073, 'davi': 1074, 'race': 1075, 'cross': 1076, 'author': 1077, 'jim': 1078, 'minor': 1079, 'consist': 1080, 'focus': 1081, 'compel': 1082, 'pathet': 1083, 'chemistri': 1084, 'commit': 1085, 'park': 1086, 'obsess': 1087, 'frank': 1088, 'tradit': 1089, 'grade': 1090, 'asid': 1091, '60': 1092, 'brutal': 1093, 'somewher': 1094, 'steve': 1095, 'depress': 1096, 'grant': 1097, 'explor': 1098, 'u': 1099, 'opportun': 1100, 'rule': 1101, 'honest': 1102, 'besid': 1103, 'dub': 1104, 'anti': 1105, 'intend': 1106, 'trailer': 1107, 'bar': 1108, 'west': 1109, 'scientist': 1110, 'regard': 1111, 'longer': 1112, 'decad': 1113, 'judg': 1114, 'silent': 1115, 'armi': 1116, 'creativ': 1117, 'wild': 1118, 'stewart': 1119, 'south': 1120, 'g': 1121, 'draw': 1122, 'road': 1123, 'govern': 1124, 'boss': 1125, 'ex': 1126, 'practic': 1127, 'surprisingli': 1128, 'gang': 1129, 'club': 1130, 'motiv': 1131, 'festiv': 1132, 'green': 1133, 'redeem': 1134, 'london': 1135, 'page': 1136, 'aliv': 1137, 'idiot': 1138, 'machin': 1139, 'militari': 1140, 'display': 1141, 'repeat': 1142, 'thrill': 1143, 'yeah': 1144, '100': 1145, 'nobodi': 1146, 'folk': 1147, '40': 1148, 'journey': 1149, 'garbag': 1150, 'smile': 1151, 'ground': 1152, 'tire': 1153, 'mood': 1154, 'bought': 1155, 'sam': 1156, 'cost': 1157, 'stone': 1158, 'mouth': 1159, 'noir': 1160, 'agent': 1161, 'terrif': 1162, 'utterli': 1163, 'requir': 1164, 'sexi': 1165, 'area': 1166, 'honestli': 1167, 'report': 1168, 'geniu': 1169, 'glad': 1170, 'humour': 1171, 'enter': 1172, 'investig': 1173, 'serial': 1174, 'narr': 1175, 'occasion': 1176, 'passion': 1177, 'marriag': 1178, 'climax': 1179, 'studi': 1180, 'industri': 1181, 'nowher': 1182, 'charli': 1183, 'ship': 1184, 'center': 1185, 'demon': 1186, 'hors': 1187, 'bear': 1188, 'loos': 1189, 'hang': 1190, 'wow': 1191, 'graphic': 1192, 'giant': 1193, 'admir': 1194, 'send': 1195, 'loud': 1196, 'damn': 1197, 'subtl': 1198, 'nake': 1199, 'rel': 1200, 'profession': 1201, 'blow': 1202, 'bottom': 1203, 'batman': 1204, 'insult': 1205, 'doubl': 1206, 'r': 1207, 'boyfriend': 1208, 'kelli': 1209, 'initi': 1210, 'frame': 1211, 'opera': 1212, 'gem': 1213, 'drawn': 1214, 'affect': 1215, 'church': 1216, 'cinemat': 1217, 'challeng': 1218, 'seek': 1219, 'evid': 1220, 'fulli': 1221, 'j': 1222, 'l': 1223, 'nightmar': 1224, 'arm': 1225, 'essenti': 1226, 'conflict': 1227, 'grace': 1228, 'christoph': 1229, 'henri': 1230, 'wind': 1231, 'assum': 1232, 'narrat': 1233, 'witch': 1234, 'push': 1235, 'hunt': 1236, 'chri': 1237, 'wise': 1238, 'month': 1239, 'nomin': 1240, 'repres': 1241, 'avail': 1242, 'sceneri': 1243, 'hide': 1244, 'affair': 1245, 'bond': 1246, 'smart': 1247, 'justic': 1248, 'thu': 1249, 'interview': 1250, 'outstand': 1251, 'flashback': 1252, 'satisfi': 1253, 'constantli': 1254, 'presenc': 1255, 'bed': 1256, 'central': 1257, 'iron': 1258, 'content': 1259, 'sell': 1260, 'gag': 1261, 'everybodi': 1262, 'slowli': 1263, 'hotel': 1264, 'hire': 1265, 'system': 1266, 'adam': 1267, 'hey': 1268, 'individu': 1269, 'thrown': 1270, 'charl': 1271, 'allen': 1272, 'mediocr': 1273, 'jone': 1274, 'ray': 1275, 'lesson': 1276, 'billi': 1277, 'cameo': 1278, 'photographi': 1279, 'pari': 1280, 'fellow': 1281, 'strike': 1282, 'brief': 1283, 'absurd': 1284, 'rise': 1285, 'independ': 1286, 'neg': 1287, 'impact': 1288, 'phone': 1289, 'ill': 1290, 'model': 1291, 'born': 1292, 'fresh': 1293, 'spoil': 1294, 'angl': 1295, 'likabl': 1296, 'abus': 1297, 'hill': 1298, 'discuss': 1299, 'sight': 1300, 'ahead': 1301, 'photograph': 1302, 'sent': 1303, 'shine': 1304, 'occur': 1305, 'logic': 1306, 'blame': 1307, 'bruce': 1308, 'mainli': 1309, 'forev': 1310, 'skip': 1311, 'commerci': 1312, 'held': 1313, 'surround': 1314, 'segment': 1315, 'teacher': 1316, 'blond': 1317, 'zero': 1318, 'summer': 1319, 'satir': 1320, 'resembl': 1321, 'trap': 1322, 'fool': 1323, 'six': 1324, 'queen': 1325, 'ball': 1326, 'twice': 1327, 'sub': 1328, 'tragedi': 1329, 'pack': 1330, 'reaction': 1331, 'bomb': 1332, 'protagonist': 1333, 'hospit': 1334, 'will': 1335, 'sport': 1336, 'mile': 1337, 'mom': 1338, 'jerri': 1339, 'trust': 1340, 'vote': 1341, 'drink': 1342, 'encount': 1343, 'plane': 1344, 'station': 1345, 'current': 1346, 'al': 1347, 'program': 1348, 'choos': 1349, 'martin': 1350, 'celebr': 1351, 'join': 1352, 'lord': 1353, 'field': 1354, 'tragic': 1355, 'round': 1356, 'favourit': 1357, 'vision': 1358, 'robot': 1359, 'jean': 1360, 'tie': 1361, 'arthur': 1362, 'random': 1363, 'fortun': 1364, 'roger': 1365, 'dread': 1366, 'psycholog': 1367, 'intern': 1368, 'improv': 1369, 'epic': 1370, 'nonsens': 1371, 'prefer': 1372, 'formula': 1373, 'legend': 1374, 'pleasur': 1375, 'highlight': 1376, 'dollar': 1377, '11': 1378, 'tape': 1379, 'gorgeou': 1380, 'wide': 1381, 'thin': 1382, 'fox': 1383, 'porn': 1384, 'object': 1385, 'influenc': 1386, 'buddi': 1387, 'ugli': 1388, 'nasti': 1389, 'prepar': 1390, 'ii': 1391, 'warm': 1392, 'supposedli': 1393, 'progress': 1394, 'reflect': 1395, 'youth': 1396, 'worthi': 1397, 'length': 1398, 'latter': 1399, 'unusu': 1400, 'crash': 1401, 'superior': 1402, 'shop': 1403, 'seven': 1404, 'childhood': 1405, 'remot': 1406, 'theatr': 1407, 'funniest': 1408, 'pilot': 1409, 'disgust': 1410, 'paid': 1411, 'fell': 1412, 'castl': 1413, 'convers': 1414, 'trick': 1415, 'rob': 1416, 'establish': 1417, 'disast': 1418, 'gangster': 1419, 'mine': 1420, 'suicid': 1421, 'ident': 1422, 'disappear': 1423, 'heaven': 1424, 'mask': 1425, 'heroin': 1426, 'tend': 1427, 'forgotten': 1428, 'decis': 1429, 'singer': 1430, 'brian': 1431, 'partner': 1432, 'recogn': 1433, 'desert': 1434, 'alan': 1435, 'thoroughli': 1436, 'ms': 1437, 'stuck': 1438, 'sky': 1439, 'p': 1440, 'replac': 1441, 'accur': 1442, 'market': 1443, 'eddi': 1444, 'uncl': 1445, 'commentari': 1446, 'andi': 1447, 'clue': 1448, 'seemingli': 1449, 'danni': 1450, 'devil': 1451, 'jackson': 1452, 'therefor': 1453, 'pair': 1454, 'that': 1455, 'refus': 1456, 'fault': 1457, 'fate': 1458, 'accid': 1459, 'river': 1460, 'ed': 1461, 'unit': 1462, 'tune': 1463, 'afraid': 1464, 'clean': 1465, 'hidden': 1466, 'russian': 1467, 'stephen': 1468, 'test': 1469, 'instanc': 1470, 'readi': 1471, 'captain': 1472, 'convey': 1473, 'irrit': 1474, 'quick': 1475, 'european': 1476, 'insan': 1477, 'frustrat': 1478, 'daniel': 1479, '1950': 1480, 'food': 1481, 'chines': 1482, 'rescu': 1483, 'wed': 1484, 'dirti': 1485, 'angri': 1486, 'lock': 1487, 'joy': 1488, 'steven': 1489, 'price': 1490, 'bland': 1491, 'cage': 1492, 'anymor': 1493, 'rang': 1494, 'wooden': 1495, 'jason': 1496, 'rush': 1497, 'n': 1498, 'news': 1499, 'twenti': 1500, 'worri': 1501, '12': 1502, 'led': 1503, 'board': 1504, 'martial': 1505, 'transform': 1506, 'cgi': 1507, 'symbol': 1508, 'hunter': 1509, 'piti': 1510, 'invent': 1511, 'johnni': 1512, 'onto': 1513, 'x': 1514, 'sentiment': 1515, 'attitud': 1516, 'explan': 1517, 'process': 1518, 'owner': 1519, 'awar': 1520, 'aim': 1521, 'favor': 1522, 'target': 1523, 'energi': 1524, 'necessari': 1525, 'floor': 1526, 'opposit': 1527, 'religi': 1528, 'chick': 1529, 'window': 1530, 'blind': 1531, 'insight': 1532, 'movement': 1533, 'comparison': 1534, 'possess': 1535, 'deepli': 1536, 'research': 1537, 'mountain': 1538, 'grand': 1539, 'comed': 1540, 'whatsoev': 1541, 'rain': 1542, 'shadow': 1543, 'bank': 1544, 'began': 1545, 'mid': 1546, 'parodi': 1547, 'princ': 1548, 'pre': 1549, 'friendship': 1550, 'credibl': 1551, 'weapon': 1552, 'taylor': 1553, 'flesh': 1554, 'teach': 1555, 'dougla': 1556, 'bloodi': 1557, 'protect': 1558, 'terror': 1559, 'hint': 1560, 'marvel': 1561, 'load': 1562, 'leader': 1563, 'accord': 1564, 'anybodi': 1565, 'watchabl': 1566, 'superman': 1567, 'drunk': 1568, 'brown': 1569, 'freddi': 1570, 'appropri': 1571, 'jeff': 1572, 'tim': 1573, 'seat': 1574, 'hitler': 1575, 'knock': 1576, 'unknown': 1577, 'villag': 1578, 'keaton': 1579, 'charg': 1580, 'empti': 1581, 'unnecessari': 1582, 'england': 1583, 'media': 1584, 'enemi': 1585, 'wave': 1586, 'perspect': 1587, 'craft': 1588, 'buck': 1589, 'utter': 1590, 'dare': 1591, 'strength': 1592, 'kiss': 1593, 'correct': 1594, 'nativ': 1595, 'ford': 1596, 'contrast': 1597, 'distract': 1598, 'anywher': 1599, 'magnific': 1600, 'soap': 1601, 'knowledg': 1602, 'chill': 1603, 'nazi': 1604, 'speed': 1605, '1980': 1606, 'mission': 1607, 'fred': 1608, 'breath': 1609, 'ice': 1610, 'crowd': 1611, 'moon': 1612, 'jr': 1613, 'joan': 1614, '000': 1615, 'frighten': 1616, 'kate': 1617, 'soft': 1618, 'dan': 1619, 'dick': 1620, 'nick': 1621, 'hundr': 1622, 'dozen': 1623, 'radio': 1624, 'somebodi': 1625, 'simon': 1626, 'shakespear': 1627, 'thousand': 1628, 'andrew': 1629, 'loss': 1630, 'academi': 1631, 'account': 1632, 'root': 1633, 'vehicl': 1634, 'quot': 1635, 'sum': 1636, 'behavior': 1637, '1970': 1638, 'leg': 1639, 'convent': 1640, 'gold': 1641, 'regular': 1642, 'demand': 1643, 'worker': 1644, 'pretenti': 1645, 'compet': 1646, 'interpret': 1647, 'stretch': 1648, 'privat': 1649, 'candi': 1650, 'explos': 1651, 'notabl': 1652, 'japan': 1653, 'lynch': 1654, 'debut': 1655, 'constant': 1656, 'tarzan': 1657, 'translat': 1658, 'prais': 1659, 'sea': 1660, 'spi': 1661, 'revolv': 1662, 'ass': 1663, 'quiet': 1664, 'technolog': 1665, 'threaten': 1666, 'failur': 1667, 'jesu': 1668, 'sat': 1669, 'franc': 1670, 'punch': 1671, 'toy': 1672, 'aid': 1673, 'kevin': 1674, 'higher': 1675, 'met': 1676, 'vh': 1677, 'abandon': 1678, 'mike': 1679, 'interact': 1680, 'confront': 1681, 'command': 1682, 'bet': 1683, 'separ': 1684, 'stunt': 1685, 'gotten': 1686, 'recal': 1687, 'techniqu': 1688, 'servic': 1689, 'site': 1690, 'belong': 1691, 'freak': 1692, 'bug': 1693, 'foot': 1694, 'cabl': 1695, 'bright': 1696, 'fu': 1697, 'jimmi': 1698, 'capabl': 1699, 'african': 1700, 'fat': 1701, 'clark': 1702, 'boat': 1703, 'stock': 1704, 'presid': 1705, 'succeed': 1706, 'structur': 1707, 'gene': 1708, 'spanish': 1709, 'paper': 1710, 'kidnap': 1711, 'factor': 1712, 'whilst': 1713, 'belief': 1714, 'realism': 1715, 'tree': 1716, 'witti': 1717, 'educ': 1718, 'attend': 1719, 'bob': 1720, 'complic': 1721, 'realis': 1722, 'finest': 1723, 'assist': 1724, 'broken': 1725, 'santa': 1726, 'smoke': 1727, 'up': 1728, 'determin': 1729, 'depart': 1730, 'observ': 1731, 'v': 1732, 'fame': 1733, 'oper': 1734, 'rubbish': 1735, 'domin': 1736, 'hat': 1737, 'routin': 1738, 'lewi': 1739, 'kinda': 1740, 'safe': 1741, 'hook': 1742, 'advanc': 1743, 'morgan': 1744, 'foreign': 1745, 'lone': 1746, 'rank': 1747, 'numer': 1748, 'rose': 1749, 'werewolf': 1750, 'shape': 1751, 'civil': 1752, 'vs': 1753, 'shallow': 1754, 'washington': 1755, 'gari': 1756, 'morn': 1757, 'winner': 1758, 'accomplish': 1759, 'kong': 1760, 'ordinari': 1761, 'virtual': 1762, 'grab': 1763, 'peac': 1764, 'whenev': 1765, 'h': 1766, 'luck': 1767, 'offens': 1768, 'activ': 1769, 'complain': 1770, 'bigger': 1771, 'welcom': 1772, 'unfunni': 1773, 'patient': 1774, 'contriv': 1775, 'dimension': 1776, 'pretend': 1777, 'trek': 1778, 'con': 1779, 'flash': 1780, 'eric': 1781, 'wake': 1782, 'dri': 1783, 'cain': 1784, 'code': 1785, 'lesbian': 1786, 'corrupt': 1787, 'manipul': 1788, 'albert': 1789, 'guard': 1790, 'dancer': 1791, 'statu': 1792, 'gain': 1793, 'awkward': 1794, 'context': 1795, 'signific': 1796, 'speech': 1797, 'sourc': 1798, 'clip': 1799, 'anthoni': 1800, '13': 1801, 'corni': 1802, 'sean': 1803, 'psycho': 1804, 'theatric': 1805, 'religion': 1806, 'priest': 1807, 'reli': 1808, 'advic': 1809, 'curiou': 1810, 'w': 1811, 'addict': 1812, 'flow': 1813, 'jennif': 1814, 'specif': 1815, 'skin': 1816, 'asian': 1817, 'secur': 1818, 'howard': 1819, 'golden': 1820, 'core': 1821, 'promot': 1822, 'organ': 1823, 'comfort': 1824, 'luke': 1825, 'cheat': 1826, 'lucki': 1827, 'cash': 1828, 'dislik': 1829, 'associ': 1830, 'lower': 1831, 'devic': 1832, 'wing': 1833, 'balanc': 1834, 'contribut': 1835, 'spell': 1836, 'degre': 1837, 'frequent': 1838, 'regret': 1839, 'frankli': 1840, 'print': 1841, 'lake': 1842, 'sake': 1843, 'forgiv': 1844, 'thoma': 1845, 'mass': 1846, 'betti': 1847, 'gordon': 1848, 'unexpect': 1849, 'crack': 1850, 'invit': 1851, 'amateur': 1852, 'categori': 1853, 'grown': 1854, 'unfold': 1855, 'construct': 1856, 'depend': 1857, 'walter': 1858, 'honor': 1859, 'grew': 1860, 'condit': 1861, 'anna': 1862, 'matur': 1863, 'intellectu': 1864, 'sole': 1865, 'spectacular': 1866, 'mirror': 1867, 'veteran': 1868, 'sudden': 1869, 'robin': 1870, 'overli': 1871, 'meanwhil': 1872, 'demonstr': 1873, 'experienc': 1874, 'grip': 1875, 'gift': 1876, 'card': 1877, 'freedom': 1878, 'liner': 1879, 'oliv': 1880, 'drew': 1881, 'crappi': 1882, 'subtitl': 1883, 'unabl': 1884, 'brilliantli': 1885, 'theori': 1886, 'section': 1887, 'circumst': 1888, 'colour': 1889, 'sheriff': 1890, 'laughter': 1891, 'matt': 1892, 'altern': 1893, 'parker': 1894, 'cook': 1895, 'sheer': 1896, 'pile': 1897, 'path': 1898, 'hall': 1899, 'accident': 1900, 'treatment': 1901, 'relief': 1902, 'defin': 1903, 'wander': 1904, 'lawyer': 1905, 'sinatra': 1906, 'captiv': 1907, 'hank': 1908, 'dragon': 1909, 'gratuit': 1910, 'moor': 1911, 'halloween': 1912, 'barbara': 1913, 'broadway': 1914, 'wayn': 1915, 'kung': 1916, 'wound': 1917, 'k': 1918, 'cowboy': 1919, 'jacki': 1920, 'unintent': 1921, 'winter': 1922, 'statement': 1923, 'surreal': 1924, 'canadian': 1925, 'spoof': 1926, 'compos': 1927, 'treasur': 1928, 'fish': 1929, 'cheer': 1930, 'fare': 1931, 'gonna': 1932, 'woodi': 1933, 'unrealist': 1934, 'victor': 1935, 'sensit': 1936, 'emerg': 1937, 'neighbor': 1938, 'driven': 1939, 'sympathet': 1940, 'ran': 1941, 'glass': 1942, 'topic': 1943, 'authent': 1944, 'expos': 1945, 'menac': 1946, 'overlook': 1947, 'gross': 1948, 'michel': 1949, 'ancient': 1950, 'chief': 1951, 'handsom': 1952, 'comedian': 1953, 'network': 1954, 'cinderella': 1955, 'built': 1956, 'russel': 1957, 'stranger': 1958, 'feet': 1959, 'nevertheless': 1960, 'pleasant': 1961, 'contemporari': 1962, 'gori': 1963, 'letter': 1964, 'earn': 1965, 'miser': 1966, 'blockbust': 1967, 'underr': 1968, 'consider': 1969, 'endless': 1970, 'solv': 1971, 'brook': 1972, 'switch': 1973, 'victoria': 1974, 'edward': 1975, 'convict': 1976, 'joseph': 1977, 'bullet': 1978, 'virgin': 1979, 'scale': 1980, 'scenario': 1981, 'cynic': 1982, 'chosen': 1983, '0': 1984, 'alex': 1985, 'com': 1986, 'gut': 1987, 'sword': 1988, 'outrag': 1989, 'curs': 1990, 'juli': 1991, 'proper': 1992, 'monkey': 1993, 'driver': 1994, 'wrap': 1995, 'substanc': 1996, 'uk': 1997, 'screenwrit': 1998, 'indic': 1999, 'bird': 2000, 'par': 2001, 'court': 2002, 'remov': 2003, 'nanci': 2004, 'advertis': 2005, 'rental': 2006, 'naiv': 2007, 'consequ': 2008, 'inevit': 2009, 'loser': 2010, 'grave': 2011, 'roy': 2012, 'le': 2013, 'brave': 2014, 'germani': 2015, 'bridg': 2016, 'slap': 2017, 'fatal': 2018, 'invis': 2019, 'footbal': 2020, 'anger': 2021, 'provok': 2022, 'loui': 2023, 'ador': 2024, 'anderson': 2025, 'alcohol': 2026, 'chan': 2027, 'professor': 2028, 'willi': 2029, 'ryan': 2030, 'stumbl': 2031, 'sharp': 2032, 'patrick': 2033, '1930': 2034, 'assassin': 2035, 'bat': 2036, 'australian': 2037, 'ape': 2038, 'refresh': 2039, 'liber': 2040, 'amateurish': 2041, 'lousi': 2042, 'heck': 2043, 'deni': 2044, 'saturday': 2045, 'strongli': 2046, 'cell': 2047, 'trilog': 2048, 'eight': 2049, 'sin': 2050, 'justifi': 2051, 'san': 2052, 'vagu': 2053, 'resid': 2054, 'sympathi': 2055, 'reput': 2056, 'mini': 2057, 'creator': 2058, 'defeat': 2059, 'indi': 2060, 'terrifi': 2061, 'expert': 2062, 'task': 2063, 'tediou': 2064, 'endur': 2065, 'tabl': 2066, 'prevent': 2067, 'imit': 2068, 'basebal': 2069, 'che': 2070, 'rival': 2071, 'offend': 2072, 'employ': 2073, 'trial': 2074, 'complaint': 2075, 'weekend': 2076, 'max': 2077, 'fairi': 2078, 'europ': 2079, 'dig': 2080, 'pitch': 2081, 'beach': 2082, 'murphi': 2083, 'purchas': 2084, 'format': 2085, 'risk': 2086, 'reminisc': 2087, 'harsh': 2088, 'nois': 2089, 'powel': 2090, 'bite': 2091, 'glimps': 2092, 'titan': 2093, 'tini': 2094, 'hype': 2095, 'prime': 2096, 'fals': 2097, 'north': 2098, '14': 2099, 'asleep': 2100, 'till': 2101, 'strip': 2102, 'destruct': 2103, 'africa': 2104, 'texa': 2105, 'descript': 2106, 'revel': 2107, 'sitcom': 2108, 'surfac': 2109, 'semi': 2110, 'uninterest': 2111, 'inner': 2112, 'spin': 2113, 'excess': 2114, 'arrest': 2115, 'massiv': 2116, 'argu': 2117, 'dinosaur': 2118, 'twin': 2119, 'hitchcock': 2120, 'controversi': 2121, 'maintain': 2122, 'makeup': 2123, 'expens': 2124, 'kim': 2125, 'melodrama': 2126, 'ideal': 2127, 'stare': 2128, 'reject': 2129, 'ludicr': 2130, 'insist': 2131, 'ga': 2132, 'forest': 2133, 'subplot': 2134, 'ala': 2135, 'press': 2136, 'host': 2137, 'nail': 2138, 'supernatur': 2139, 'atroci': 2140, 'columbo': 2141, 'erot': 2142, 'dude': 2143, 'identifi': 2144, 'notch': 2145, 'cant': 2146, 'presum': 2147, 'crude': 2148, 'plagu': 2149, 'method': 2150, 'closer': 2151, 'forgett': 2152, 'guest': 2153, 'character': 2154, 'ear': 2155, 'princess': 2156, 'landscap': 2157, 'border': 2158, 'beast': 2159, 'lion': 2160, 'foster': 2161, 'damag': 2162, 'pacino': 2163, 'storytel': 2164, 'bound': 2165, 'birth': 2166, 'aunt': 2167, 'urban': 2168, 'previous': 2169, 'jungl': 2170, 'accus': 2171, 'emma': 2172, 'chose': 2173, 'thirti': 2174, 'propaganda': 2175, 'guid': 2176, 'jess': 2177, 'doll': 2178, 'nude': 2179, 'warrior': 2180, 'whoever': 2181, 'mainstream': 2182, '25': 2183, 'mate': 2184, 'pet': 2185, 'latest': 2186, 'friday': 2187, 'size': 2188, 'gritti': 2189, 'deadli': 2190, 'merit': 2191, 'exact': 2192, 'poster': 2193, 'upset': 2194, 'cooper': 2195, '1990': 2196, 'contact': 2197, 'blend': 2198, 'sun': 2199, 'rough': 2200, 'corps': 2201, 'popul': 2202, 'ton': 2203, 'contest': 2204, 'citizen': 2205, 'buff': 2206, 'settl': 2207, 'warner': 2208, 'wilson': 2209, 'overcom': 2210, 'widow': 2211, 'rat': 2212, 'mgm': 2213, 'environ': 2214, 'metal': 2215, 'select': 2216, 'alic': 2217, 'bu': 2218, 'pitt': 2219, 'link': 2220, 'particip': 2221, 'guilti': 2222, 'lift': 2223, 'revolut': 2224, 'ted': 2225, 'afternoon': 2226, 'corner': 2227, 'prostitut': 2228, 'moron': 2229, 'corpor': 2230, 'johnson': 2231, 'matrix': 2232, 'accompani': 2233, 'exagger': 2234, '1960': 2235, 'sincer': 2236, 'multipl': 2237, 'hood': 2238, 'instal': 2239, 'doom': 2240, 'leagu': 2241, 'holm': 2242, 'clair': 2243, 'friendli': 2244, 'grim': 2245, 'aka': 2246, 'advis': 2247, 'junk': 2248, 'defend': 2249, 'irish': 2250, 'campi': 2251, 'lugosi': 2252, 'sunday': 2253, 'hip': 2254, 'string': 2255, 'blah': 2256, 'examin': 2257, 'rachel': 2258, 'confid': 2259, 'shut': 2260, 'icon': 2261, 'tight': 2262, 'shake': 2263, 'pro': 2264, 'varieti': 2265, 'jaw': 2266, 'goal': 2267, 'medic': 2268, 'sullivan': 2269, 'mexican': 2270, 'denni': 2271, 'attach': 2272, 'directli': 2273, 'legendari': 2274, 'prior': 2275, 'courag': 2276, 'vietnam': 2277, 'sentenc': 2278, 'breast': 2279, 'duke': 2280, 'sarah': 2281, 'dean': 2282, 'terrorist': 2283, 'truck': 2284, 'bourn': 2285, 'proceed': 2286, 'entri': 2287, 'un': 2288, 'split': 2289, 'hong': 2290, 'behav': 2291, 'donald': 2292, 'yell': 2293, 'nose': 2294, 'everywher': 2295, 'unconvinc': 2296, 'lifetim': 2297, 'gather': 2298, 'borrow': 2299, 'forth': 2300, 'buri': 2301, 'stolen': 2302, 'crush': 2303, 'concentr': 2304, 'swim': 2305, 'confess': 2306, 'jerk': 2307, 'julia': 2308, 'deliveri': 2309, 'pan': 2310, 'california': 2311, 'spite': 2312, 'turkey': 2313, 'lip': 2314, 'proud': 2315, 'china': 2316, 'reward': 2317, 'flight': 2318, 'offici': 2319, 'hoffman': 2320, 'quest': 2321, 'freeman': 2322, 'downright': 2323, 'worthwhil': 2324, 'fade': 2325, 'inept': 2326, 'fabul': 2327, 'sir': 2328, 'sink': 2329, 'lazi': 2330, 'betray': 2331, 'jail': 2332, 'jon': 2333, 'notori': 2334, 'encourag': 2335, 'bag': 2336, 'branagh': 2337, 'bell': 2338, 'lisa': 2339, 'retard': 2340, 'teeth': 2341, 'survivor': 2342, 'cousin': 2343, 'storm': 2344, 'imageri': 2345, 'shower': 2346, 'susan': 2347, 'relev': 2348, 'trade': 2349, 'tremend': 2350, 'toler': 2351, 'shark': 2352, 'summari': 2353, 'alright': 2354, 'facial': 2355, 'mexico': 2356, 'bride': 2357, 'quirki': 2358, 'stab': 2359, 'finger': 2360, 'hugh': 2361, 'hyster': 2362, 'pose': 2363, 'blown': 2364, 'ha': 2365, 'bitter': 2366, 'von': 2367, 'cruel': 2368, 'address': 2369, 'larri': 2370, 'christ': 2371, 'scheme': 2372, 'ned': 2373, 'afterward': 2374, 'bone': 2375, 'ron': 2376, 'thumb': 2377, 'tour': 2378, 'pursu': 2379, 'beg': 2380, 'swear': 2381, 'snake': 2382, 'screw': 2383, 'feed': 2384, 'distinct': 2385, 'traci': 2386, 'raw': 2387, 'obscur': 2388, 'mechan': 2389, 'stomach': 2390, 'photo': 2391, 'occas': 2392, 'chair': 2393, 'hardi': 2394, 'holiday': 2395, 'heavili': 2396, 'chain': 2397, 'cabin': 2398, 'render': 2399, 'necessarili': 2400, 'gruesom': 2401, 'southern': 2402, 'sidney': 2403, 'argument': 2404, 'resist': 2405, 'indulg': 2406, 'racist': 2407, 'philip': 2408, 'india': 2409, 'satan': 2410, 'understood': 2411, 'midnight': 2412, 'pregnant': 2413, 'obnoxi': 2414, 'tongu': 2415, 'outfit': 2416, 'fourth': 2417, 'stalk': 2418, 'belov': 2419, 'forgot': 2420, 'integr': 2421, 'lay': 2422, 'slapstick': 2423, 'restor': 2424, 'magazin': 2425, 'carol': 2426, 'ticket': 2427, 'inhabit': 2428, 'deeper': 2429, '17': 2430, 'garden': 2431, 'incid': 2432, 'shoe': 2433, 'devot': 2434, 'brad': 2435, 'lincoln': 2436, 'divorc': 2437, 'benefit': 2438, 'underground': 2439, 'lili': 2440, 'anticip': 2441, 'elizabeth': 2442, 'disbelief': 2443, 'maria': 2444, 'guarante': 2445, 'sandler': 2446, 'bbc': 2447, 'princip': 2448, 'explod': 2449, 'creation': 2450, 'mildli': 2451, 'cring': 2452, 'amazingli': 2453, 'capit': 2454, 'greater': 2455, 'slave': 2456, 'funnier': 2457, 'introduct': 2458, 'extraordinari': 2459, 'halfway': 2460, 'lesli': 2461, 'text': 2462, 'transfer': 2463, 'tap': 2464, 'extent': 2465, 'overwhelm': 2466, 'wreck': 2467, 'punish': 2468, 'enhanc': 2469, 'advantag': 2470, 'horrif': 2471, 'preview': 2472, 'dynam': 2473, 'jessica': 2474, 'lo': 2475, 'plant': 2476, 'lane': 2477, 'deliber': 2478, 'error': 2479, 'east': 2480, 'ensu': 2481, '2000': 2482, 'sophist': 2483, 'vacat': 2484, 'miller': 2485, 'basi': 2486, 'homosexu': 2487, 'vincent': 2488, 'miscast': 2489, 'appli': 2490, 'extend': 2491, 'uncomfort': 2492, 'measur': 2493, 'elev': 2494, 'via': 2495, 'sleazi': 2496, 'reed': 2497, 'mansion': 2498, 'steel': 2499, 'bollywood': 2500, 'spoken': 2501, 'hippi': 2502, 'alter': 2503, 'breathtak': 2504, 'conceiv': 2505, 'fix': 2506, 'beer': 2507, 'blair': 2508, 'stanley': 2509, 'savag': 2510, 'daili': 2511, 'melt': 2512, 'goofi': 2513, 'cathol': 2514, 'assign': 2515, 'dentist': 2516, 'mous': 2517, 'overact': 2518, 'succe': 2519, 'burt': 2520, 'subsequ': 2521, 'everyday': 2522, 'sacrific': 2523, 'nowaday': 2524, 'oppos': 2525, 'properli': 2526, 'inspector': 2527, 'carpent': 2528, 'circl': 2529, 'laura': 2530, 'neck': 2531, 'massacr': 2532, 'block': 2533, 'christi': 2534, 'access': 2535, 'portrait': 2536, 'mob': 2537, 'grey': 2538, 'fallen': 2539, 'lesser': 2540, 'seagal': 2541, 'pool': 2542, 'fay': 2543, 'concert': 2544, 'competit': 2545, 'usa': 2546, 'jewish': 2547, 'react': 2548, 'relax': 2549, 'sinist': 2550, 'isol': 2551, 'jake': 2552, 'chees': 2553, '2006': 2554, 'suitabl': 2555, 'chop': 2556, 'ironi': 2557, 'creep': 2558, 'stink': 2559, 'immens': 2560, 'lyric': 2561, 'nine': 2562, 'nonetheless': 2563, 'spiritu': 2564, 'appal': 2565, 'user': 2566, 'rage': 2567, 'sold': 2568, 'shirt': 2569, 'franchis': 2570, 'needless': 2571, 'reduc': 2572, 'adopt': 2573, 'spring': 2574, 'retir': 2575, 'luci': 2576, 'nut': 2577, 'showcas': 2578, 'navi': 2579, 'stanwyck': 2580, 'uninspir': 2581, 'digit': 2582, 'zone': 2583, 'bath': 2584, 'per': 2585, 'jay': 2586, 'bulli': 2587, 'asham': 2588, 'nurs': 2589, 'amongst': 2590, 'upper': 2591, 'oddli': 2592, '2001': 2593, 'illustr': 2594, 'broadcast': 2595, 'sutherland': 2596, '1940': 2597, 'laid': 2598, 'aspir': 2599, 'fulfil': 2600, 'throat': 2601, 'baker': 2602, 'stylish': 2603, 'disguis': 2604, 'brando': 2605, 'thief': 2606, 'wanna': 2607, 'pound': 2608, 'wwii': 2609, 'pride': 2610, 'neighborhood': 2611, 'em': 2612, 'nobl': 2613, 'endear': 2614, 'impli': 2615, '18': 2616, 'tens': 2617, '16': 2618, 'prop': 2619, 'dawn': 2620, 'diseas': 2621, 'bett': 2622, 'shift': 2623, 'distribut': 2624, 'albeit': 2625, 'coher': 2626, 'cinematograph': 2627, 'rochest': 2628, 'shoulder': 2629, 'dinner': 2630, 'bo': 2631, 'surf': 2632, 'matthau': 2633, 'rebel': 2634, 'function': 2635, 'knife': 2636, 'forti': 2637, 'wash': 2638, 'snow': 2639, 'silenc': 2640, 'shout': 2641, 'contract': 2642, 'poignant': 2643, 'derek': 2644, 'henc': 2645, 'proof': 2646, 'horrend': 2647, 'cannib': 2648, 'chuck': 2649, 'heat': 2650, 'cancel': 2651, 'mindless': 2652, 'duti': 2653, 'elvira': 2654, 'instinct': 2655, 'height': 2656, 'eeri': 2657, 'silver': 2658, 'internet': 2659, 'widmark': 2660, 'reunion': 2661, 'incoher': 2662, 'innov': 2663, 'alik': 2664, 'glori': 2665, 'elvi': 2666, 'greatli': 2667, 'torn': 2668, 'absorb': 2669, 'premier': 2670, 'repetit': 2671, 'neat': 2672, 'spielberg': 2673, 'pie': 2674, 'etern': 2675, 'musician': 2676, 'mill': 2677, 'precis': 2678, 'nelson': 2679, 'burton': 2680, 'horrifi': 2681, 'diamond': 2682, 'infam': 2683, 'lovabl': 2684, 'announc': 2685, 'itali': 2686, 'homag': 2687, 'wealthi': 2688, 'fbi': 2689, 'bang': 2690, 'crisi': 2691, 'racism': 2692, 'britain': 2693, 'trite': 2694, 'blank': 2695, 'redempt': 2696, 'parallel': 2697, 'resolut': 2698, 'flop': 2699, 'happili': 2700, 'ensembl': 2701, 'helen': 2702, 'hammer': 2703, 'dedic': 2704, 'pat': 2705, 'wilder': 2706, 'chaplin': 2707, 'streisand': 2708, 'disagre': 2709, 'mar': 2710, 'factori': 2711, 'conclud': 2712, 'st': 2713, 'plastic': 2714, 'broke': 2715, 'cube': 2716, 'carter': 2717, 'triumph': 2718, 'oil': 2719, 'row': 2720, 'climb': 2721, 'chuckl': 2722, 'own': 2723, 'fighter': 2724, 'rocket': 2725, 'march': 2726, 'weight': 2727, 'bush': 2728, 'vega': 2729, 'dump': 2730, 'boot': 2731, 'kurt': 2732, 'thug': 2733, 'spare': 2734, 'dane': 2735, 'lust': 2736, 'meaning': 2737, 'unforgett': 2738, 'enorm': 2739, 'mst3k': 2740, 'luca': 2741, 'sensibl': 2742, 'wherea': 2743, 'stress': 2744, 'caricatur': 2745, 'arnold': 2746, 'karloff': 2747, 'adequ': 2748, 'dear': 2749, 'bobbi': 2750, 'threat': 2751, 'butt': 2752, 'engin': 2753, 'difficulti': 2754, 'fifti': 2755, 'rap': 2756, 'brand': 2757, 'hamlet': 2758, 'journalist': 2759, 'fest': 2760, 'swing': 2761, 'ego': 2762, 'flynn': 2763, 'arrog': 2764, 'polish': 2765, 'ralph': 2766, 'barri': 2767, 'homeless': 2768, 'secretari': 2769, 'elabor': 2770, 'resort': 2771, 'fanci': 2772, 'grate': 2773, 'conspiraci': 2774, 'arrang': 2775, 'tool': 2776, 'simpson': 2777, 'induc': 2778, 'puppet': 2779, 'unbear': 2780, 'float': 2781, 'spike': 2782, 'cruis': 2783, 'tribut': 2784, 'boll': 2785, 'pig': 2786, 'muppet': 2787, 'guilt': 2788, 'phillip': 2789, 'choreograph': 2790, 'exercis': 2791, 'basement': 2792, 'stan': 2793, 'toilet': 2794, 'document': 2795, 'slip': 2796, 'ham': 2797, 'korean': 2798, 'scarecrow': 2799, 'layer': 2800, 'puzzl': 2801, 'medium': 2802, 'file': 2803, 'item': 2804, 'babe': 2805, 'editor': 2806, 'ward': 2807, '24': 2808, 'fianc': 2809, 'tower': 2810, 'larger': 2811, 'minim': 2812, 'persona': 2813, 'glover': 2814, 'superfici': 2815, 'librari': 2816, 'catherin': 2817, 'slaughter': 2818, 'inexplic': 2819, 'portion': 2820, 'assur': 2821, 'territori': 2822, 'spark': 2823, 'philosoph': 2824, 'doc': 2825, 'denzel': 2826, 'orient': 2827, 'transit': 2828, 'jeremi': 2829, 'curti': 2830, 'ban': 2831, 'wolf': 2832, 'financi': 2833, 'owe': 2834, 'pg': 2835, 'walken': 2836, 'jet': 2837, 'boredom': 2838, 'sneak': 2839, 'dorothi': 2840, 'shi': 2841, 'multi': 2842, 'metaphor': 2843, 'eleph': 2844, 'hudson': 2845, 'backdrop': 2846, 'profound': 2847, 'whale': 2848, 'cusack': 2849, 'ambigu': 2850, 'implaus': 2851, 'birthday': 2852, 'hack': 2853, 'stiff': 2854, 'viru': 2855, '2005': 2856, 'ultra': 2857, 'union': 2858, 'gadget': 2859, 'elsewher': 2860, 'notion': 2861, 'rave': 2862, '1st': 2863, 'squar': 2864, 'deriv': 2865, 'bibl': 2866, 'newspap': 2867, 'distanc': 2868, 'reader': 2869, 'lloyd': 2870, 'superhero': 2871, 'hawk': 2872, 'pad': 2873, 'urg': 2874, 'canada': 2875, 'poison': 2876, 'eastwood': 2877, 'slight': 2878, 'afford': 2879, 'eva': 2880, 'disc': 2881, 'heston': 2882, 'charisma': 2883, 'cure': 2884, 'skit': 2885, 'sadist': 2886, 'button': 2887, 'huh': 2888, 'montag': 2889, 'health': 2890, 'spread': 2891, 'essenc': 2892, 'restaur': 2893, 'drown': 2894, 'invest': 2895, 'companion': 2896, 'peak': 2897, 'godfath': 2898, 'maniac': 2899, 'lab': 2900, 'muslim': 2901, 'fetch': 2902, 'gradual': 2903, 'estat': 2904, 'dealt': 2905, 'scoobi': 2906, 'tea': 2907, 'servant': 2908, 'countless': 2909, 'gothic': 2910, 'subtleti': 2911, 'cup': 2912, 'alli': 2913, 'miik': 2914, 'kane': 2915, 'ritter': 2916, 'iii': 2917, 'charismat': 2918, 'electr': 2919, 'briefli': 2920, 'salli': 2921, 'elect': 2922, 'heroic': 2923, 'tender': 2924, 'ingredi': 2925, 'neil': 2926, 'resourc': 2927, 'reel': 2928, 'bud': 2929, 'nuanc': 2930, 'grandmoth': 2931, 'admittedli': 2932, 'cole': 2933, 'wannab': 2934, 'toss': 2935, 'mild': 2936, 'stood': 2937, 'poverti': 2938, 'punk': 2939, 'reev': 2940, 'mafia': 2941, 'label': 2942, 'pauli': 2943, 'stronger': 2944, 'shall': 2945, 'kubrick': 2946, 'gate': 2947, 'pit': 2948, 'carrey': 2949, 'dawson': 2950, 'fond': 2951, 'cox': 2952, 'assault': 2953, 'burst': 2954, 'useless': 2955, 'tag': 2956, 'bakshi': 2957, 'smooth': 2958, 'cardboard': 2959, 'outcom': 2960, 'updat': 2961, 'easier': 2962, 'smash': 2963, 'ian': 2964, 'terri': 2965, 'astair': 2966, 'melodramat': 2967, 'coincid': 2968, 'rex': 2969, 'increasingli': 2970, '2002': 2971, 'vulner': 2972, 'samurai': 2973, 'qualifi': 2974, 'sketch': 2975, 'resolv': 2976, 'exchang': 2977, 'vari': 2978, 'fist': 2979, 'divers': 2980, 'tame': 2981, 'insert': 2982, 'conveni': 2983, 'scratch': 2984, 'luckili': 2985, 'blast': 2986, 'reynold': 2987, 'suspend': 2988, 'brillianc': 2989, 'be': 2990, 'templ': 2991, 'matthew': 2992, 'ambiti': 2993, 'strictli': 2994, 'seventi': 2995, 'gotta': 2996, 'coach': 2997, 'hamilton': 2998, 'walker': 2999, 'pin': 3000, 'farm': 3001, 'jami': 3002, 'meat': 3003, 'fisher': 3004, 'nuclear': 3005, 'soprano': 3006, 'revers': 3007, 'instantli': 3008, 'empir': 3009, 'timeless': 3010, 'butcher': 3011, 'worthless': 3012, 'discoveri': 3013, 'convolut': 3014, 'cave': 3015, 'grasp': 3016, 'monk': 3017, 'joey': 3018, 'recreat': 3019, 'closet': 3020, 'eccentr': 3021, 'brosnan': 3022, 'kudo': 3023, 'struck': 3024, 'spooki': 3025, 'clock': 3026, 'ninja': 3027, 'inconsist': 3028, 'evok': 3029, 'mitchel': 3030, 'bleak': 3031, 'wipe': 3032, 'importantli': 3033, 'cliff': 3034, 'eighti': 3035, 'partli': 3036, 'fifteen': 3037, 'selfish': 3038, 'miracl': 3039, 'gray': 3040, 'pal': 3041, 'sloppi': 3042, 'norman': 3043, 'clown': 3044, 'communist': 3045, 'seller': 3046, 'declar': 3047, 'sidekick': 3048, '45': 3049, 'enthusiast': 3050, 'lifestyl': 3051, 'websit': 3052, 'aforement': 3053, 'cheek': 3054, 'stoog': 3055, 'flawless': 3056, 'chew': 3057, 'australia': 3058, 'farc': 3059, 'psychiatrist': 3060, 'debat': 3061, 'ho': 3062, 'piano': 3063, 'destin': 3064, 'seed': 3065, 'superbl': 3066, 'bash': 3067, 'emili': 3068, 'kitchen': 3069, 'regardless': 3070, 'slice': 3071, 'akshay': 3072, 'abc': 3073, 'directori': 3074, 'dire': 3075, 'splatter': 3076, 'dash': 3077, 'wrestl': 3078, 'soviet': 3079, 'pressur': 3080, 'drivel': 3081, 'anni': 3082, 'wick': 3083, 'incompet': 3084, 'duo': 3085, 'lou': 3086, 'mann': 3087, 'boil': 3088, 'prize': 3089, 'helicopt': 3090, 'dave': 3091, 'suppli': 3092, 'flower': 3093, 'cagney': 3094, 'curios': 3095, 'recov': 3096, 'seduc': 3097, 'chapter': 3098, 'increas': 3099, 'glow': 3100, 'doo': 3101, 'pleasantli': 3102, 'distant': 3103, 'jar': 3104, 'artifici': 3105, 'beaten': 3106, 'ken': 3107, 'judi': 3108, 'cia': 3109, 'blob': 3110, 'cameron': 3111, 'laurel': 3112, 'splendid': 3113, 'perri': 3114, 'ranger': 3115, 'eleg': 3116, 'favour': 3117, 'ellen': 3118, 'francisco': 3119, 'psychot': 3120, 'panic': 3121, 'drunken': 3122, 'hop': 3123, 'goldberg': 3124, 'web': 3125, 'combat': 3126, 'craig': 3127, 'craven': 3128, 'turner': 3129, 'glenn': 3130, 'min': 3131, 'shortli': 3132, 'plausibl': 3133, 'falk': 3134, 'flip': 3135, 'philosophi': 3136, 'rid': 3137, 'fx': 3138, 'gentl': 3139, 'graduat': 3140, 'hatr': 3141, 'wizard': 3142, 'slightest': 3143, 'modesti': 3144, 'ruth': 3145, 'gandhi': 3146, 'alexand': 3147, '20th': 3148, 'greek': 3149, 'holi': 3150, 'manhattan': 3151, 'unpleas': 3152, 'preciou': 3153, 'tall': 3154, 'ocean': 3155, 'felix': 3156, 'knight': 3157, 'harm': 3158, 'lend': 3159, 'futurist': 3160, 'legal': 3161, 'jealou': 3162, 'fund': 3163, 'dracula': 3164, 'we': 3165, 'tank': 3166, 'digniti': 3167, 'bless': 3168, 'overdon': 3169, 'forbidden': 3170, 'ami': 3171, 'childish': 3172, 'reviv': 3173, 'thread': 3174, 'mock': 3175, 'giallo': 3176, 'explicit': 3177, 'nod': 3178, 'scientif': 3179, '99': 3180, 'yesterday': 3181, 'pirat': 3182, 'thick': 3183, 'nerv': 3184, '2004': 3185, 'torment': 3186, 'awaken': 3187, 'fever': 3188, 'verhoeven': 3189, 'repeatedli': 3190, 'margaret': 3191, 'awe': 3192, 'elderli': 3193, 'eve': 3194, 'unwatch': 3195, 'broad': 3196, 'mel': 3197, 'romero': 3198, 'royal': 3199, 'rivet': 3200, 'lean': 3201, 'uniform': 3202, 'ambit': 3203, 'roman': 3204, 'automat': 3205, 'bin': 3206, 'stiller': 3207, 'ah': 3208, 'acclaim': 3209, 'timothi': 3210, 'absenc': 3211, 'custom': 3212, 'launch': 3213, 'kay': 3214, 'politician': 3215, 'eas': 3216, 'griffith': 3217, 'publish': 3218, 'foul': 3219, 'purpl': 3220, 'crook': 3221, 'transport': 3222, 'bathroom': 3223, 'termin': 3224, 'tomato': 3225, 'darker': 3226, 'antic': 3227, 'pierc': 3228, 'stinker': 3229, 'phrase': 3230, 'warren': 3231, 'homicid': 3232, 'sunshin': 3233, 'pulp': 3234, 'gabriel': 3235, 'wallac': 3236, 'packag': 3237, 'ought': 3238, 'hollow': 3239, 'coloni': 3240, 'horrid': 3241, 'juvenil': 3242, 'pray': 3243, 'awak': 3244, 'evolv': 3245, 'marin': 3246, 'karen': 3247, 'viciou': 3248, 'saint': 3249, 'prom': 3250, 'kenneth': 3251, 'li': 3252, 'contrari': 3253, 'rambo': 3254, 'sixti': 3255, 'q': 3256, '2003': 3257, 'eyr': 3258, 'choreographi': 3259, 'brazil': 3260, 'revolutionari': 3261, 'album': 3262, 'donna': 3263, 'option': 3264, 'dose': 3265, 'mummi': 3266, 'candid': 3267, 'ireland': 3268, 'twelv': 3269, 'kapoor': 3270, 'ramon': 3271, 'boast': 3272, 'stole': 3273, 'conserv': 3274, 'overr': 3275, 'defi': 3276, 'blade': 3277, 'mildr': 3278, 'beatti': 3279, 'nerd': 3280, 'altman': 3281, 'collabor': 3282, 'fulci': 3283, 'global': 3284, 'jazz': 3285, 'flame': 3286, 'funer': 3287, 'natali': 3288, 'astonish': 3289, 'confirm': 3290, 'detract': 3291, 'trio': 3292, 'protest': 3293, 'kirk': 3294, 'mystic': 3295, 'spit': 3296, 'shade': 3297, 'tommi': 3298, 'delici': 3299, 'destini': 3300, 'bull': 3301, 'yellow': 3302, 'leap': 3303, 'bottl': 3304, 'whip': 3305, 'audio': 3306, 'enterpris': 3307, 'racial': 3308, 'blake': 3309, 'nicholson': 3310, 'reunit': 3311, 'altogeth': 3312, 'fonda': 3313, 'popcorn': 3314, 'adolesc': 3315, 'harder': 3316, 'todd': 3317, 'enchant': 3318, 'visibl': 3319, 'swedish': 3320, 'pseudo': 3321, 'merci': 3322, 'staff': 3323, 'vivid': 3324, 'meaningless': 3325, 'threw': 3326, 'inherit': 3327, 'bedroom': 3328, 'neo': 3329, 'lemmon': 3330, 'uneven': 3331, 'tip': 3332, 'respond': 3333, 'suspici': 3334, 'exhibit': 3335, 'lawrenc': 3336, 'jew': 3337, 'reserv': 3338, 'ruthless': 3339, 'await': 3340, 'fanat': 3341, 'madonna': 3342, 'moodi': 3343, 'synopsi': 3344, 'leonard': 3345, 'voight': 3346, 'decor': 3347, 'befriend': 3348, 'roommat': 3349, 'crocodil': 3350, 'bust': 3351, 'kennedi': 3352, 'wire': 3353, 'edi': 3354, 'atlanti': 3355, 'bold': 3356, 'bradi': 3357, 'ventur': 3358, 'dimens': 3359, 'chao': 3360, 'unsettl': 3361, 'rural': 3362, 'centr': 3363, 'abysm': 3364, 'bargain': 3365, 'garner': 3366, '2007': 3367, 'carl': 3368, 'clint': 3369, 'audit': 3370, 'incident': 3371, 'holli': 3372, 'clumsi': 3373, 'voyag': 3374, 'palma': 3375, 'elimin': 3376, 'wealth': 3377, 'ant': 3378, 'cari': 3379, 'acknowledg': 3380, 'immigr': 3381, 'cuba': 3382, 'imperson': 3383, 'trail': 3384, 'poetic': 3385, 'tiger': 3386, 'daddi': 3387, '2nd': 3388, 'echo': 3389, 'neglect': 3390, 'troop': 3391, 'nearbi': 3392, 'characterist': 3393, 'timon': 3394, 'cd': 3395, 'mall': 3396, 'lit': 3397, 'humili': 3398, 'hart': 3399, 'versu': 3400, 'marshal': 3401, 'repuls': 3402, 'mistaken': 3403, 'paus': 3404, 'celluloid': 3405, 'infect': 3406, 'prejudic': 3407, 'mickey': 3408, 'collaps': 3409, 'pun': 3410, 'solo': 3411, 'domest': 3412, 'jeffrey': 3413, 'saga': 3414, 'homer': 3415, 'olivi': 3416, 'chest': 3417, 'cake': 3418, 'sore': 3419, 'interrupt': 3420, 'hbo': 3421, 'harvey': 3422, 'tribe': 3423, 'coat': 3424, '1996': 3425, 'pant': 3426, 'leon': 3427, 'assembl': 3428, 'coffe': 3429, 'promin': 3430, 'equip': 3431, 'inappropri': 3432, 'gear': 3433, 'ginger': 3434, 'inan': 3435, 'apolog': 3436, 'undoubtedli': 3437, 'milk': 3438, 'embrac': 3439, 'furthermor': 3440, 'solut': 3441, 'trace': 3442, 'devast': 3443, 'florida': 3444, 'exot': 3445, 'colonel': 3446, 'brooklyn': 3447, 'humbl': 3448, 'institut': 3449, 'primari': 3450, 'consum': 3451, 'pot': 3452, 'highest': 3453, 'polanski': 3454, 'maggi': 3455, 'pen': 3456, 'airplan': 3457, 'colleagu': 3458, 'retain': 3459, 'aveng': 3460, 'instant': 3461, 'jenni': 3462, 'vulgar': 3463, '1999': 3464, 'dutch': 3465, 'dian': 3466, 'wive': 3467, 'ya': 3468, 'sale': 3469, 'outer': 3470, 'descend': 3471, 'linda': 3472, 'seduct': 3473, 'bowl': 3474, 'strain': 3475, 'illog': 3476, 'principl': 3477, 'rick': 3478, '3rd': 3479, 'godzilla': 3480, 'poke': 3481, 'smaller': 3482, 'disabl': 3483, 'gender': 3484, 'cope': 3485, 'blatant': 3486, 'primarili': 3487, 'bubbl': 3488, 'predecessor': 3489, 'vast': 3490, 'dud': 3491, 'inferior': 3492, 'secondli': 3493, 'yard': 3494, 'beneath': 3495, 'mixtur': 3496, 'glamor': 3497, 'lol': 3498, 'dive': 3499, 'cue': 3500, 'scope': 3501, 'devoid': 3502, 'gloriou': 3503, 'rabbit': 3504, 'hal': 3505, 'gundam': 3506, 'trademark': 3507, 'casual': 3508, 'invas': 3509, 'countrysid': 3510, 'senseless': 3511, 'shelf': 3512, 'hideou': 3513, 'disjoint': 3514, 'streep': 3515, 'z': 3516, 'alert': 3517, 'et': 3518, 'pearl': 3519, 'myer': 3520, 'alfr': 3521, 'arab': 3522, 'talki': 3523, 'aggress': 3524, 'shirley': 3525, 'grinch': 3526, 'museum': 3527, 'simplist': 3528, 'april': 3529, 'domino': 3530, 'breed': 3531, 'garbo': 3532, 'obtain': 3533, 'maci': 3534, 'rendit': 3535, 'khan': 3536, 'defens': 3537, 'stack': 3538, 'boom': 3539, 'uwe': 3540, 'acid': 3541, 'slide': 3542, 'oz': 3543, 'disgrac': 3544, 'stir': 3545, 'vanish': 3546, 'hopeless': 3547, 'loyal': 3548, 'applaud': 3549, 'stellar': 3550, 'mail': 3551, 'illeg': 3552, 'robinson': 3553, 'sh': 3554, 'robberi': 3555, 'mayor': 3556, 'experiment': 3557, 'unhappi': 3558, 'hardcor': 3559, 'dismiss': 3560, 'spider': 3561, 'topless': 3562, 'rifl': 3563, 'span': 3564, 'craze': 3565, 'emphasi': 3566, 'counter': 3567, 'recruit': 3568, 'tempt': 3569, 'diana': 3570, 'psychic': 3571, 'soccer': 3572, 'blew': 3573, 'incomprehens': 3574, 'berlin': 3575, 'wont': 3576, 'declin': 3577, 'grandfath': 3578, 'fri': 3579, 'amanda': 3580, 'dicken': 3581, 'scroog': 3582, 'tenant': 3583, 'hartley': 3584, 'lumet': 3585, 'niro': 3586, 'trashi': 3587, 'bitch': 3588, 'shed': 3589, 'resurrect': 3590, 'riot': 3591, 'intim': 3592, 'sympath': 3593, 'porno': 3594, 'shaw': 3595, 'sibl': 3596, 'woo': 3597, 'ration': 3598, 'wet': 3599, 'justin': 3600, 'revolt': 3601, 'ethnic': 3602, 'parad': 3603, 'goer': 3604, 'faster': 3605, 'enlighten': 3606, 'jonathan': 3607, 'hopper': 3608, 'wheel': 3609, 'partial': 3610, 'nephew': 3611, 'gap': 3612, 'honesti': 3613, '00': 3614, 'unreal': 3615, 'eager': 3616, 'region': 3617, 'biographi': 3618, 'commend': 3619, 'choru': 3620, 'patriot': 3621, 'rider': 3622, 'slick': 3623, 'feminist': 3624, 'farmer': 3625, 'dealer': 3626, 'worm': 3627, 'ballet': 3628, 'wendi': 3629, 'andr': 3630, 'ensur': 3631, 'immort': 3632, 'hesit': 3633, 'steam': 3634, 'mario': 3635, 'weakest': 3636, 'lena': 3637, 'nostalg': 3638, 'leo': 3639, 'psychopath': 3640, 'similarli': 3641, 'composit': 3642, 'sappi': 3643, 'charlott': 3644, 'blunt': 3645, 'sandra': 3646, 'mutant': 3647, 'skull': 3648, 'vice': 3649, 'safeti': 3650, 'wore': 3651, 'franco': 3652, 'macarthur': 3653, 'kingdom': 3654, 'confin': 3655, 'properti': 3656, 'prequel': 3657, 'util': 3658, 'hung': 3659, 'repress': 3660, 'owen': 3661, 'victori': 3662, 'morri': 3663, 'snap': 3664, 'repli': 3665, 'bonu': 3666, 'pattern': 3667, 'miseri': 3668, 'latin': 3669, 'exit': 3670, 'whoopi': 3671, 'montana': 3672, '1972': 3673, 'tad': 3674, 'dust': 3675, 'compass': 3676, 'strand': 3677, 'kyle': 3678, 'drum': 3679, 'speci': 3680, 'valuabl': 3681, 'del': 3682, 'acquir': 3683, 'bow': 3684, 'rope': 3685, 'tail': 3686, 'nervou': 3687, 'rambl': 3688, 'rocki': 3689, 'bumbl': 3690, 'despair': 3691, 'recycl': 3692, 'bergman': 3693, 'campbel': 3694, 'dalton': 3695, 'compens': 3696, 'emperor': 3697, 'snl': 3698, 'thru': 3699, 'heartbreak': 3700, 'drain': 3701, 'farrel': 3702, 'cg': 3703, 'hyde': 3704, 'deed': 3705, 'olli': 3706, 'chess': 3707, 'bleed': 3708, 'gimmick': 3709, 'romp': 3710, 'rotten': 3711, 'tonight': 3712, 'roth': 3713, 'mistress': 3714, 'radic': 3715, 'contempl': 3716, 'carradin': 3717, 'percept': 3718, '35': 3719, 'rapist': 3720, 'oppress': 3721, 'da': 3722, 'wacki': 3723, 'orson': 3724, 'gal': 3725, 'downhil': 3726, 'pour': 3727, 'martian': 3728, 'airport': 3729, 'slug': 3730, 'pursuit': 3731, 'shelley': 3732, 'taught': 3733, 'belt': 3734, 'pervert': 3735, 'attorney': 3736, 'arc': 3737, 'tackl': 3738, 'edgar': 3739, 'pervers': 3740, 'heal': 3741, 'stilt': 3742, 'mislead': 3743, 'programm': 3744, 'slash': 3745, 'melodi': 3746, 'preach': 3747, 'banal': 3748, 'unpredict': 3749, 'dazzl': 3750, '1983': 3751, 'arguabl': 3752, 'champion': 3753, 'tooth': 3754, 'paltrow': 3755, 'mesmer': 3756, 'vocal': 3757, 'closest': 3758, 'maid': 3759, 'chicken': 3760, 'cleverli': 3761, 'tiresom': 3762, 'uplift': 3763, 'sensat': 3764, 'plight': 3765, 'duval': 3766, 'virginia': 3767, 'conneri': 3768, 'raymond': 3769, 'poem': 3770, 'vengeanc': 3771, 'dixon': 3772, 'marti': 3773, 'gambl': 3774, 'rubi': 3775, 'orang': 3776, 'franki': 3777, 'graham': 3778, 'bela': 3779, 'employe': 3780, 'passeng': 3781, 'extens': 3782, 'suffic': 3783, 'clone': 3784, 'volum': 3785, 'profan': 3786, 'secretli': 3787, 'whine': 3788, 'swallow': 3789, 'numb': 3790, 'inject': 3791, 'bay': 3792, 'gerard': 3793, 'quarter': 3794, 'monologu': 3795, 'giggl': 3796, 'engross': 3797, 'crystal': 3798, 'iran': 3799, 'pokemon': 3800, 'outing': 3801, 'mute': 3802, 'yawn': 3803, 'climact': 3804, '1968': 3805, 'lundgren': 3806, 'amitabh': 3807, 'convincingli': 3808, 'sirk': 3809, 'calm': 3810, 'habit': 3811, 'scottish': 3812, 'paranoia': 3813, 'abraham': 3814, 'tube': 3815, 'chicago': 3816, 'franci': 3817, 'nichola': 3818, 'linger': 3819, 'junior': 3820, 'grotesqu': 3821, 'lowest': 3822, 'expand': 3823, 'richardson': 3824, 'ethan': 3825, 'abort': 3826, 'fed': 3827, 'underst': 3828, 'plod': 3829, 'earl': 3830, 'poetri': 3831, 'surpass': 3832, 'im': 3833, 'taxi': 3834, 'septemb': 3835, 'bend': 3836, 'dispos': 3837, 'frankenstein': 3838, 'backward': 3839, 'meander': 3840, 'austen': 3841, 'trend': 3842, 'spock': 3843, 'profess': 3844, 'nostalgia': 3845, 'instrument': 3846, 'eugen': 3847, 'mundan': 3848, 'tourist': 3849, 'stallon': 3850, 'spoke': 3851, 'lure': 3852, 'dysfunct': 3853, 'cannon': 3854, 'sue': 3855, 'descent': 3856, 'household': 3857, 'econom': 3858, 'rubber': 3859, 'muddl': 3860, 'greedi': 3861, 'hum': 3862, 'literatur': 3863, 'simplic': 3864, 'myth': 3865, 'der': 3866, 'compliment': 3867, 'waitress': 3868, 'catchi': 3869, 'rant': 3870, 'duck': 3871, 'map': 3872, 'dictat': 3873, 'recognis': 3874, 'lang': 3875, 'hello': 3876, 'irrelev': 3877, 'cent': 3878, 'sissi': 3879, 'mankind': 3880, 'coast': 3881, 'dement': 3882, 'firstli': 3883, 'insur': 3884, 'furi': 3885, 'alongsid': 3886, 'eaten': 3887, 'flee': 3888, 'phantom': 3889, 'equival': 3890, 'omen': 3891, 'mortal': 3892, 'june': 3893, 'crucial': 3894, 'deaf': 3895, 'recognit': 3896, 'bacal': 3897, 'phoni': 3898, 'damon': 3899, 'randi': 3900, 'occupi': 3901, 'molli': 3902, 'stale': 3903, 'louis': 3904, 'carel': 3905, 'newli': 3906, 'drake': 3907, 'distinguish': 3908, 'bump': 3909, 'ashley': 3910, 'rude': 3911, 'freez': 3912, 'blackmail': 3913, 'damm': 3914, 'daisi': 3915, 'labor': 3916, 'dreari': 3917, 'heel': 3918, 'loyalti': 3919, 'antwon': 3920, 'bike': 3921, 'onlin': 3922, 'rooney': 3923, 'likewis': 3924, 'twilight': 3925, 'reign': 3926, '1973': 3927, 'lengthi': 3928, 'grayson': 3929, 'wisdom': 3930, 'cyborg': 3931, 'buffalo': 3932, 'biko': 3933, 'butler': 3934, 'worn': 3935, 'ridden': 3936, 'proce': 3937, 'startl': 3938, 'keith': 3939, 'vein': 3940, 'approv': 3941, 'exposur': 3942, 'boxer': 3943, 'prey': 3944, 'barrymor': 3945, 'chronicl': 3946, 'emphas': 3947, 'provoc': 3948, 'unorigin': 3949, 'pink': 3950, 'baddi': 3951, 'nineti': 3952, 'attribut': 3953, 'basketbal': 3954, 'tunnel': 3955, 'analysi': 3956, 'inher': 3957, 'sailor': 3958, 'incorpor': 3959, 'interior': 3960, 'fleet': 3961, 'robbin': 3962, 'meg': 3963, 'underli': 3964, 'condemn': 3965, 'drift': 3966, 'degrad': 3967, 'improvis': 3968, 'walsh': 3969, 'hypnot': 3970, 'barrel': 3971, 'millionair': 3972, 'er': 3973, 'mighti': 3974, 'unrel': 3975, 'stalker': 3976, 'undeni': 3977, 'substitut': 3978, 'simmon': 3979, 'indiffer': 3980, 'bunni': 3981, 'predat': 3982, 'meyer': 3983, 'mormon': 3984, 'julian': 3985, 'nicol': 3986, 'elm': 3987, 'belushi': 3988, 'carla': 3989, 'othello': 3990, 'roof': 3991, 'warmth': 3992, 'watson': 3993, 'enthusiasm': 3994, 'firm': 3995, 'greed': 3996, 'hay': 3997, 'vital': 3998, 'lampoon': 3999, 'mtv': 4000, 'agenda': 4001, 'disord': 4002, 'unawar': 4003, 'nyc': 4004, '3d': 4005, 'edgi': 4006, 'novak': 4007, 'shove': 4008, 'dolph': 4009, 'alison': 4010, 'priceless': 4011, 'reid': 4012, 'alarm': 4013, 'palac': 4014, 'marion': 4015, 'exquisit': 4016, 'rukh': 4017, 'errol': 4018, 'randomli': 4019, 'minimum': 4020, 'peck': 4021, 'what': 4022, 'iraq': 4023, 'preserv': 4024, 'ponder': 4025, 'sergeant': 4026, 'campaign': 4027, 'unleash': 4028, 'eastern': 4029, '13th': 4030, 'petti': 4031, 'gestur': 4032, 'spain': 4033, 'angela': 4034, 'crown': 4035, 'testament': 4036, 'nun': 4037, 'session': 4038, 'orlean': 4039, 'israel': 4040, 'glanc': 4041, 'coup': 4042, 'thompson': 4043, 'distort': 4044, 'drip': 4045, 'championship': 4046, 'cassidi': 4047, 'beatl': 4048, 'simultan': 4049, 'showdown': 4050, 'peril': 4051, 'profit': 4052, 'zizek': 4053, 'pamela': 4054, '1933': 4055, 'valentin': 4056, 'gentleman': 4057, 'rout': 4058, 'climat': 4059, 'unimagin': 4060, 'jan': 4061, 'stroke': 4062, '1984': 4063, 'contradict': 4064, 'scotland': 4065, 'brenda': 4066, 'stake': 4067, 'represent': 4068, 'exposit': 4069, 'calib': 4070, 'wig': 4071, 'regist': 4072, 'cooki': 4073, 'restrain': 4074, 'buster': 4075, 'valley': 4076, 'sabrina': 4077, 'travesti': 4078, 'empathi': 4079, 'cream': 4080, 'crawl': 4081, 'kurosawa': 4082, 'shootout': 4083, 'perpetu': 4084, 'han': 4085, 'bro': 4086, 'mon': 4087, 'miyazaki': 4088, 'realm': 4089, 'quinn': 4090, 'reson': 4091, 'fido': 4092, 'crow': 4093, 'din': 4094, 'warrant': 4095, 'compromis': 4096, 'ross': 4097, 'sammi': 4098, 'fuller': 4099, 'absent': 4100, 'greg': 4101, 'monoton': 4102, 'abomin': 4103, 'stargat': 4104, 'painter': 4105, 'traumat': 4106, 'spacey': 4107, 'baldwin': 4108, 'derang': 4109, 'sucker': 4110, 'meryl': 4111, 'delic': 4112, 'businessman': 4113, 'demis': 4114, 'crawford': 4115, 'perceiv': 4116, 'unsatisfi': 4117, 'passabl': 4118, 'shaki': 4119, 'ustinov': 4120, 'dana': 4121, 'distress': 4122, 'cloud': 4123, 'wax': 4124, '1997': 4125, 'censor': 4126, 'mclaglen': 4127, '1987': 4128, 'pretens': 4129, 'darren': 4130, 'josh': 4131, 'shoddi': 4132, 'unseen': 4133, 'soderbergh': 4134, 'femm': 4135, 'pole': 4136, 'geek': 4137, 'tacki': 4138, 'norm': 4139, 'click': 4140, 'exclus': 4141, 'sid': 4142, 'valid': 4143, '1993': 4144, 'deniro': 4145, 'austin': 4146, 'seal': 4147, 'reluct': 4148, 'kumar': 4149, 'tarantino': 4150, 'verbal': 4151, 'furiou': 4152, 'fog': 4153, 'tech': 4154, 'wholli': 4155, 'jewel': 4156, 'expedit': 4157, 'nathan': 4158, 'correctli': 4159, 'judgment': 4160, 'primit': 4161, 'uncov': 4162, 'fenc': 4163, 'accuraci': 4164, 'polici': 4165, 'dee': 4166, 'antonioni': 4167, 'unravel': 4168, 'anchor': 4169, 'deceas': 4170, 'clash': 4171, 'roller': 4172, '3000': 4173, 'debt': 4174, 'fought': 4175, 'crippl': 4176, 'darn': 4177, 'fabric': 4178, 'sheet': 4179, 'vanc': 4180, 'seldom': 4181, 'sunni': 4182, 'ritual': 4183, 'alec': 4184, 'patienc': 4185, 'dreck': 4186, 'trait': 4187, 'temper': 4188, '1995': 4189, '2008': 4190, 'logan': 4191, '1971': 4192, 'sustain': 4193, 'conduct': 4194, 'tax': 4195, 'behold': 4196, 'wretch': 4197, 'slam': 4198, 'nicola': 4199, 'unfair': 4200, 'bake': 4201, 'joel': 4202, 'pocket': 4203, 'wang': 4204, 'hallucin': 4205, 'malon': 4206, 'fart': 4207, 'mode': 4208, 'shanghai': 4209, 'enforc': 4210, 'sand': 4211, 'murray': 4212, 'clerk': 4213, 'sweep': 4214, 'penni': 4215, 'guitar': 4216, 'bias': 4217, 'critiqu': 4218, 'soup': 4219, 'squad': 4220, 'preposter': 4221, 'clau': 4222, 'pete': 4223, 'rita': 4224, 'grief': 4225, 'schedul': 4226, 'conscious': 4227, 'legaci': 4228, 'outlin': 4229, 'despis': 4230, 'robber': 4231, 'runner': 4232, 'technicolor': 4233, 'preston': 4234, 'divid': 4235, 'scriptwrit': 4236, 'tactic': 4237, 'exhaust': 4238, 'phil': 4239, 'isabel': 4240, 'bridget': 4241, 'stark': 4242, 'fundament': 4243, 'helpless': 4244, 'canyon': 4245, 'stuart': 4246, 'shell': 4247, 'propos': 4248, 'delv': 4249, 'consciou': 4250, 'drove': 4251, 'marc': 4252, 'jodi': 4253, 'lacklust': 4254, 'boyl': 4255, 'sugar': 4256, 'inabl': 4257, 'gregori': 4258, 'liberti': 4259, 'kansa': 4260, 'newman': 4261, 'jacket': 4262, 'restrict': 4263, 'palanc': 4264, 'vomit': 4265, 'rear': 4266, 'bloom': 4267, 'russia': 4268, 'alley': 4269, 'flair': 4270, 'sniper': 4271, 'agenc': 4272, 'rehash': 4273, 'downey': 4274, 'connor': 4275, 'invad': 4276, 'unexpectedli': 4277, 'sentinel': 4278, 'passag': 4279, 'implic': 4280, 'culmin': 4281, 'cigarett': 4282, 'alicia': 4283, 'tendenc': 4284, 'ladder': 4285, 'awhil': 4286, 'tripe': 4287, 'lush': 4288, 'sharon': 4289, 'horn': 4290, 'karl': 4291, 'arrow': 4292, 'cap': 4293, '1936': 4294, 'asylum': 4295, 'rehears': 4296, 'rod': 4297, 'foxx': 4298, 'delet': 4299, 'vet': 4300, 'wrench': 4301, 'feat': 4302, 'improb': 4303, 'rampag': 4304, 'aesthet': 4305, 'pale': 4306, 'kolchak': 4307, 'mccoy': 4308, 'yeti': 4309, '22': 4310, 'bacon': 4311, 'chainsaw': 4312, 'behaviour': 4313, 'basing': 4314, 'el': 4315, 'stream': 4316, 'scoop': 4317, 'elit': 4318, 'sung': 4319, 'coaster': 4320, 'amazon': 4321, 'underneath': 4322, 'weav': 4323, '1978': 4324, 'hungri': 4325, 'shortcom': 4326, 'newcom': 4327, 'globe': 4328, 'hulk': 4329, 'rhythm': 4330, 'paradis': 4331, 'financ': 4332, 'spice': 4333, 'hackney': 4334, '19th': 4335, 'visitor': 4336, 'wildli': 4337, 'tomorrow': 4338, 'loneli': 4339, 'filler': 4340, 'paramount': 4341, 'wagner': 4342, 'suffici': 4343, 'conscienc': 4344, '1988': 4345, 'minu': 4346, 'aristocrat': 4347, 'suspicion': 4348, 'lurk': 4349, 'prank': 4350, 'thunderbird': 4351, 'tasteless': 4352, 'fright': 4353, '1920': 4354, 'rumor': 4355, 'beverli': 4356, 'literari': 4357, 'worship': 4358, 'leigh': 4359, 'atroc': 4360, 'rub': 4361, 'posey': 4362, 'curli': 4363, 'grudg': 4364, 'couch': 4365, 'smell': 4366, 'entranc': 4367, 'teas': 4368, 'cancer': 4369, 'abrupt': 4370, 'bread': 4371, 'penn': 4372, 'immers': 4373, 'inmat': 4374, 'hopkin': 4375, 'minist': 4376, 'brit': 4377, 'en': 4378, 'lectur': 4379, 'quietli': 4380, 'counterpart': 4381, '1989': 4382, 'ingeni': 4383, 'standout': 4384, 'recogniz': 4385, 'tierney': 4386, 'chamberlain': 4387, 'chavez': 4388, 'dirt': 4389, '75': 4390, 'straightforward': 4391, 'heist': 4392, 'secondari': 4393, '1939': 4394, 'springer': 4395, 'ram': 4396, 'impos': 4397, 'iv': 4398, 'choppi': 4399, 'naughti': 4400, 'paxton': 4401, 'wwe': 4402, 'transcend': 4403, 'misguid': 4404, 'net': 4405, 'sassi': 4406, 'convert': 4407, 'heartfelt': 4408, 'watcher': 4409, 'enthral': 4410, 'nemesi': 4411, 'skeptic': 4412, 'laurenc': 4413, 'variat': 4414, 'attenborough': 4415, 'ace': 4416, 'bernard': 4417, '1986': 4418, 'lindsay': 4419, 'missil': 4420, 'quaid': 4421, 'sublim': 4422, 'clan': 4423, 'moreov': 4424, 'policeman': 4425, 'yearn': 4426, 'morbid': 4427, 'nolan': 4428, 'cattl': 4429, 'entitl': 4430, 'ratso': 4431, 'duel': 4432, 'esther': 4433, 'injuri': 4434, 'geni': 4435, 'egg': 4436, 'moder': 4437, 'youngest': 4438, 'unexplain': 4439, 'graini': 4440, 'enabl': 4441, '1979': 4442, 'cruelti': 4443, 'reliabl': 4444, 'bean': 4445, 'artsi': 4446, 'poe': 4447, 'kitti': 4448, 'spiral': 4449, 'mytholog': 4450, 'steadi': 4451, 'out': 4452, 'uncut': 4453, 'hopelessli': 4454, 'brood': 4455, 'hk': 4456, 'puppi': 4457, 'buzz': 4458, 'grin': 4459, 'tyler': 4460, 'obstacl': 4461, 'carlito': 4462, 'characteris': 4463, 'diari': 4464, 'rosemari': 4465, 'bye': 4466, 'vader': 4467, 'dont': 4468, 'kidman': 4469, 'setup': 4470, 'facil': 4471, 'hammi': 4472, 'brendan': 4473, 'disastr': 4474, 'niec': 4475, 'sweat': 4476, 'fuel': 4477, 'heap': 4478, 'effici': 4479, 'spontan': 4480, 'christin': 4481, '1969': 4482, 'athlet': 4483, 'gillian': 4484, 'underworld': 4485, 'bounc': 4486, 'weather': 4487, 'clueless': 4488, 'baffl': 4489, 'preming': 4490, 'martha': 4491, 'narrow': 4492, 'gina': 4493, 'oblig': 4494, 'bewar': 4495, 'despic': 4496, 'hain': 4497, 'acquaint': 4498, 'decept': 4499, 'exterior': 4500, 'patricia': 4501, 'kline': 4502, 'bronson': 4503, 'astound': 4504, 'suprem': 4505, 'angst': 4506, 'insipid': 4507, 'dilemma': 4508, 'circu': 4509, 'outlaw': 4510, '73': 4511, 'injur': 4512, 'shatter': 4513, 'analyz': 4514, 'headach': 4515, 'housewif': 4516, 'goof': 4517, '19': 4518, 'mayhem': 4519, 'enlist': 4520, 'sooner': 4521, 'loath': 4522, 'biker': 4523, 'uh': 4524, 'rome': 4525, 'preachi': 4526, 'sleepwalk': 4527, 'taboo': 4528, 'scar': 4529, 'fontain': 4530, 'harmless': 4531, 'viewpoint': 4532, 'loi': 4533, 'tick': 4534, 'virtu': 4535, 'dandi': 4536, 'candl': 4537, 'lester': 4538, 'hepburn': 4539, 'mermaid': 4540, 'trigger': 4541, 'renaiss': 4542, 'bent': 4543, 'filth': 4544, 'immatur': 4545, 'whore': 4546, 'fluff': 4547, 'slimi': 4548, 'foolish': 4549, 'macho': 4550, 'stimul': 4551, 'claustrophob': 4552, 'steer': 4553, 'hokey': 4554, 'dish': 4555, 'hostag': 4556, 'ebert': 4557, 'contempt': 4558, 'glorifi': 4559, 'oldest': 4560, 'dismal': 4561, 'scorses': 4562, 'stair': 4563, 'salt': 4564, 'gere': 4565, 'amor': 4566, 'surgeri': 4567, 'boston': 4568, 'redund': 4569, 'overlong': 4570, 'intric': 4571, 'phenomenon': 4572, 'guin': 4573, 'ariel': 4574, 'corbett': 4575, 'sox': 4576, 'tripl': 4577, 'idol': 4578, 'spade': 4579, 'hooker': 4580, 'camcord': 4581, 'zoom': 4582, 'cassavet': 4583, 'muscl': 4584, 'preced': 4585, 'spinal': 4586, 'radiat': 4587, 'gasp': 4588, 'faint': 4589, 'proport': 4590, 'flag': 4591, 'dwarf': 4592, 'schlock': 4593, 'astronaut': 4594, 'shield': 4595, 'obligatori': 4596, 'cow': 4597, 'shred': 4598, '1976': 4599, 'conquer': 4600, 'mutual': 4601, 'fascist': 4602, 'corman': 4603, 'rhyme': 4604, 'zane': 4605, 'assert': 4606, 'down': 4607, 'frantic': 4608, 'widescreen': 4609, 'remad': 4610, 'naschi': 4611, '1981': 4612, 'margin': 4613, 'mount': 4614, 'perman': 4615, 'trivia': 4616, 'strongest': 4617, 'flirt': 4618, 'transplant': 4619, 'messi': 4620, 'flashi': 4621, 'gabl': 4622, 'cohen': 4623, 'beard': 4624, 'joker': 4625, 'harold': 4626, 'antagonist': 4627, 'spree': 4628, 'cush': 4629, 'nolt': 4630, 'keen': 4631, 'alvin': 4632, 'brush': 4633, 'someday': 4634, 'flock': 4635, 'bitten': 4636, 'resum': 4637, 'off': 4638, 'www': 4639, 'deer': 4640, 'neurot': 4641, 'repris': 4642, 'scandal': 4643, 'hara': 4644, 'info': 4645, 'sensual': 4646, 'divin': 4647, 'barn': 4648, 'ritchi': 4649, '95': 4650, 'vaniti': 4651, 'wield': 4652, 'departur': 4653, 'interestingli': 4654, 'claud': 4655, 'inflict': 4656, 'boob': 4657, 'archiv': 4658, 'fishburn': 4659, 'discern': 4660, 'aborigin': 4661, '28': 4662, 'mobil': 4663, 'instruct': 4664, 'persuad': 4665, 'triangl': 4666, 'carey': 4667, 'raj': 4668, 'strive': 4669, 'danish': 4670, '1945': 4671, 'mol': 4672, 'bachelor': 4673, 'biblic': 4674, 'pixar': 4675, 'ish': 4676, 'proclaim': 4677, 'frontier': 4678, 'prophet': 4679, 'cher': 4680, 'fragil': 4681, 'bate': 4682, 'clad': 4683, 'cycl': 4684, 'luka': 4685, 'dylan': 4686, 'hug': 4687, 'neill': 4688, 'traffic': 4689, 'harrison': 4690, 'rot': 4691, 'recit': 4692, 'axe': 4693, 'artwork': 4694, 'jade': 4695, 'senior': 4696, 'dame': 4697, 'pickford': 4698, 'cliffhang': 4699, 'parson': 4700, 'hapless': 4701, 'mobster': 4702, 'earnest': 4703, 'dim': 4704, 'banter': 4705, 'vibrant': 4706, 'melissa': 4707, 'casino': 4708, 'carlo': 4709, 'loretta': 4710, 'kathryn': 4711, 'cb': 4712, 'hilar': 4713, 'undermin': 4714, 'anton': 4715, 'heartwarm': 4716, 'colin': 4717, 'pacif': 4718, 'miracul': 4719, 'timberlak': 4720, 'helm': 4721, 'submit': 4722, 'europa': 4723, 'wendigo': 4724, 'eli': 4725, 'orphan': 4726, 'http': 4727, 'choke': 4728, 'winchest': 4729, 'feast': 4730, 'nope': 4731, 'static': 4732, 'vanessa': 4733, 'akin': 4734, 'venom': 4735, 'bondag': 4736, 'vile': 4737, 'flavor': 4738, 'cerebr': 4739, 'redneck': 4740, 'seedi': 4741, 'jo': 4742, 'pc': 4743, 'bikini': 4744, 'northern': 4745, 'sicken': 4746, 'token': 4747, 'holocaust': 4748, 'lui': 4749, 'toronto': 4750, 'antholog': 4751, 'mason': 4752, 'articl': 4753, 'wardrob': 4754, 'blatantli': 4755, 'shepherd': 4756, 'marlon': 4757, 'legitim': 4758, 'estrang': 4759, 'aris': 4760, 'jordan': 4761, 'rooki': 4762, 'electron': 4763, 'illus': 4764, 'foil': 4765, 'mathieu': 4766, 'alexandr': 4767, 'razor': 4768, 'trier': 4769, 'misfortun': 4770, 'breakfast': 4771, 'milo': 4772, 'uma': 4773, 'lucil': 4774, 'isra': 4775, 'charlton': 4776, 'tack': 4777, 'psych': 4778, 'magician': 4779, 'shorter': 4780, 'swept': 4781, 'audrey': 4782, 'gilbert': 4783, 'huston': 4784, 'dudley': 4785, 'howl': 4786, 'clinic': 4787, 'peer': 4788, 'leather': 4789, 'turd': 4790, 'disregard': 4791, 'linear': 4792, 'highway': 4793, 'boyer': 4794, 'feminin': 4795, 'styliz': 4796, 'ceremoni': 4797, 'retriev': 4798, 'abund': 4799, 'affleck': 4800, 'outdat': 4801, 'smack': 4802, 'cartoonish': 4803, 'nightclub': 4804, 'oppon': 4805, 'ideolog': 4806, 'comprehend': 4807, 'frog': 4808, 'wrestler': 4809, 'deem': 4810, 'fifth': 4811, 'knightley': 4812, 'gunga': 4813, 'glare': 4814, 'client': 4815, 'boo': 4816, 'btw': 4817, 'cuban': 4818, 'lighter': 4819, 'corn': 4820, 'einstein': 4821, 'chip': 4822, 'moe': 4823, 'spine': 4824, 'potter': 4825, '4th': 4826, '1991': 4827, 'summar': 4828, 'collector': 4829, 'snatch': 4830, 'sleaz': 4831, '1994': 4832, 'uniformli': 4833, 'newer': 4834, 'lifeless': 4835, 'bastard': 4836, 'evolut': 4837, 'toe': 4838, 'cemeteri': 4839, 'mitch': 4840, 'senat': 4841, 'phenomen': 4842, 'monument': 4843, 'tara': 4844, 'lavish': 4845, 'compris': 4846, 'deliver': 4847, 'salman': 4848, 'whack': 4849, 'breakdown': 4850, 'durat': 4851, 'energet': 4852, 'bogu': 4853, 'greet': 4854, 'spawn': 4855, 'plate': 4856, 'conrad': 4857, 'braveheart': 4858, 'goldsworthi': 4859, 'replay': 4860, 'pronounc': 4861, 'bulk': 4862, 'kent': 4863, 'fluid': 4864, 'ie': 4865, 'eleven': 4866, 'appl': 4867, 'signal': 4868, 'embark': 4869, 'undertak': 4870, 'ol': 4871, 'firmli': 4872, '1974': 4873, 'bori': 4874, 'luxuri': 4875, 'alleg': 4876, 'outright': 4877, 'spectacl': 4878, 'liu': 4879, 'jule': 4880, 'neatli': 4881, 'sorrow': 4882, 'healthi': 4883, 'inaccuraci': 4884, 'randolph': 4885, 'wtf': 4886, 'constitut': 4887, '1977': 4888, 'cecil': 4889, 'kazan': 4890, 'lex': 4891, 'nina': 4892, 'mcqueen': 4893, 'trauma': 4894, 'gilliam': 4895, 'belli': 4896, 'undead': 4897, 'jam': 4898, 'occup': 4899, 'creek': 4900, 'evelyn': 4901, 'armstrong': 4902, 'historian': 4903, 'judd': 4904, 'jare': 4905, 'jedi': 4906, 'clara': 4907, 'capot': 4908, 'ash': 4909, 'bsg': 4910, 'vain': 4911, 'spray': 4912, 'meal': 4913, 'blur': 4914, 'porter': 4915, 'vignett': 4916, 'goldblum': 4917, 'pepper': 4918, 'knee': 4919, 'genet': 4920, 'conan': 4921, 'tokyo': 4922, 'miniseri': 4923, 'palm': 4924, 'unsuspect': 4925, 'id': 4926, 'cape': 4927, 'subtli': 4928, 'truman': 4929, 'inclus': 4930, 'congratul': 4931, 'aussi': 4932, 'bait': 4933, 'poker': 4934, 'antonio': 4935, 'kiddi': 4936, 'unattract': 4937, 'decapit': 4938, 'groan': 4939, 'roar': 4940, 'propheci': 4941, 'fruit': 4942, 'inaccur': 4943, 'sidewalk': 4944, '1985': 4945, 'galaxi': 4946, 'curtain': 4947, 'lauren': 4948, 'forgiven': 4949, 'comprehens': 4950, 'paula': 4951, 'sacrif': 4952, 'miami': 4953, 'walt': 4954, 'abound': 4955, 'lanc': 4956, 'rosario': 4957, 'pioneer': 4958, 'basket': 4959, 'carmen': 4960, 'comb': 4961, 'mum': 4962, 'relentless': 4963, 'omin': 4964, 'casper': 4965, 'asset': 4966, 'ghetto': 4967, 'monti': 4968, 'hackman': 4969, 'masterson': 4970, 'reincarn': 4971, 'orchestr': 4972, 'assort': 4973, 'handicap': 4974, 'playboy': 4975, 'detach': 4976, 'bravo': 4977, 'drone': 4978, 'scarfac': 4979, 'macabr': 4980, 'substanti': 4981, 'weari': 4982, 'profil': 4983, 'rapidli': 4984, 'incorrect': 4985, 'hostil': 4986, 'growth': 4987, 'motorcycl': 4988, 'modest': 4989, 'verg': 4990, 'epitom': 4991, 'dubiou': 4992, 'evan': 4993, '21st': 4994, 'sophi': 4995, 'optimist': 4996, 'mice': 4997, 'scariest': 4998, 'sparkl': 4999}\n"
     ]
    }
   ],
   "source": [
    "# TODO: Use this space to determine the five most frequently appearing words in the training set.\n",
    "print(word_dict)"
   ]
  },
  {
   "cell_type": "markdown",
   "metadata": {},
   "source": [
    "### Save `word_dict`\n",
    "\n",
    "Later on when we construct an endpoint which processes a submitted review we will need to make use of the `word_dict` which we have created. As such, we will save it to a file now for future use."
   ]
  },
  {
   "cell_type": "code",
   "execution_count": 15,
   "metadata": {},
   "outputs": [],
   "source": [
    "data_dir = '../data/pytorch' # The folder we will use for storing data\n",
    "if not os.path.exists(data_dir): # Make sure that the folder exists\n",
    "    os.makedirs(data_dir)"
   ]
  },
  {
   "cell_type": "code",
   "execution_count": 16,
   "metadata": {},
   "outputs": [],
   "source": [
    "with open(os.path.join(data_dir, 'word_dict.pkl'), \"wb\") as f:\n",
    "    pickle.dump(word_dict, f)"
   ]
  },
  {
   "cell_type": "markdown",
   "metadata": {},
   "source": [
    "### Transform the reviews\n",
    "\n",
    "Now that we have our word dictionary which allows us to transform the words appearing in the reviews into integers, it is time to make use of it and convert our reviews to their integer sequence representation, making sure to pad or truncate to a fixed length, which in our case is `500`."
   ]
  },
  {
   "cell_type": "code",
   "execution_count": 17,
   "metadata": {},
   "outputs": [],
   "source": [
    "def convert_and_pad(word_dict, sentence, pad=500):\n",
    "    NOWORD = 0 # We will use 0 to represent the 'no word' category\n",
    "    INFREQ = 1 # and we use 1 to represent the infrequent words, i.e., words not appearing in word_dict\n",
    "    \n",
    "    working_sentence = [NOWORD] * pad\n",
    "    \n",
    "    for word_index, word in enumerate(sentence[:pad]):\n",
    "        if word in word_dict:\n",
    "            working_sentence[word_index] = word_dict[word]\n",
    "        else:\n",
    "            working_sentence[word_index] = INFREQ\n",
    "            \n",
    "    return working_sentence, min(len(sentence), pad)\n",
    "\n",
    "def convert_and_pad_data(word_dict, data, pad=500):\n",
    "    result = []\n",
    "    lengths = []\n",
    "    \n",
    "    for sentence in data:\n",
    "        converted, leng = convert_and_pad(word_dict, sentence, pad)\n",
    "        result.append(converted)\n",
    "        lengths.append(leng)\n",
    "        \n",
    "    return np.array(result), np.array(lengths)"
   ]
  },
  {
   "cell_type": "code",
   "execution_count": 18,
   "metadata": {},
   "outputs": [],
   "source": [
    "train_X, train_X_len = convert_and_pad_data(word_dict, train_X)\n",
    "test_X, test_X_len = convert_and_pad_data(word_dict, test_X)"
   ]
  },
  {
   "cell_type": "markdown",
   "metadata": {},
   "source": [
    "As a quick check to make sure that things are working as intended, check to see what one of the reviews in the training set looks like after having been processeed. Does this look reasonable? What is the length of a review in the training set?"
   ]
  },
  {
   "cell_type": "code",
   "execution_count": 19,
   "metadata": {},
   "outputs": [
    {
     "name": "stdout",
     "output_type": "stream",
     "text": [
      "len of one sample review: 500\n",
      "[1023 1319 1392 2842    9    3   15    8  410 2226    3  124  445    3\n",
      "  159  421  476  375  564    1   88  914  870  373  374  476  641 1820\n",
      "  321  992 1851   64  677  841 2395  253  992 1445 3086    3  540  256\n",
      "  677    6    9  254    6  992  586   80  905 2186  439    3 2519   26\n",
      "   31  324  575    9 1380   88  540  524  350  129 1501   41  350   12\n",
      "   23 2087  419    3   40   17   51  194  271 2967  131  191 3992  580\n",
      " 1715   51   47    3 3845  660   17  184   10 1214  411   51    4  992\n",
      "  422 1392 3638    9    2 2236  215    0    0    0    0    0    0    0\n",
      "    0    0    0    0    0    0    0    0    0    0    0    0    0    0\n",
      "    0    0    0    0    0    0    0    0    0    0    0    0    0    0\n",
      "    0    0    0    0    0    0    0    0    0    0    0    0    0    0\n",
      "    0    0    0    0    0    0    0    0    0    0    0    0    0    0\n",
      "    0    0    0    0    0    0    0    0    0    0    0    0    0    0\n",
      "    0    0    0    0    0    0    0    0    0    0    0    0    0    0\n",
      "    0    0    0    0    0    0    0    0    0    0    0    0    0    0\n",
      "    0    0    0    0    0    0    0    0    0    0    0    0    0    0\n",
      "    0    0    0    0    0    0    0    0    0    0    0    0    0    0\n",
      "    0    0    0    0    0    0    0    0    0    0    0    0    0    0\n",
      "    0    0    0    0    0    0    0    0    0    0    0    0    0    0\n",
      "    0    0    0    0    0    0    0    0    0    0    0    0    0    0\n",
      "    0    0    0    0    0    0    0    0    0    0    0    0    0    0\n",
      "    0    0    0    0    0    0    0    0    0    0    0    0    0    0\n",
      "    0    0    0    0    0    0    0    0    0    0    0    0    0    0\n",
      "    0    0    0    0    0    0    0    0    0    0    0    0    0    0\n",
      "    0    0    0    0    0    0    0    0    0    0    0    0    0    0\n",
      "    0    0    0    0    0    0    0    0    0    0    0    0    0    0\n",
      "    0    0    0    0    0    0    0    0    0    0    0    0    0    0\n",
      "    0    0    0    0    0    0    0    0    0    0    0    0    0    0\n",
      "    0    0    0    0    0    0    0    0    0    0    0    0    0    0\n",
      "    0    0    0    0    0    0    0    0    0    0    0    0    0    0\n",
      "    0    0    0    0    0    0    0    0    0    0    0    0    0    0\n",
      "    0    0    0    0    0    0    0    0    0    0    0    0    0    0\n",
      "    0    0    0    0    0    0    0    0    0    0    0    0    0    0\n",
      "    0    0    0    0    0    0    0    0    0    0    0    0    0    0\n",
      "    0    0    0    0    0    0    0    0    0    0    0    0    0    0\n",
      "    0    0    0    0    0    0    0    0    0    0]\n"
     ]
    }
   ],
   "source": [
    "# Use this cell to examine one of the processed reviews to make sure everything is working as intended.\n",
    "print(\"len of one sample review:\",len(train_X[2]))\n",
    "print(train_X[2])"
   ]
  },
  {
   "cell_type": "markdown",
   "metadata": {},
   "source": [
    "**Question:** In the cells above we use the `preprocess_data` and `convert_and_pad_data` methods to process both the training and testing set. Why or why not might this be a problem?"
   ]
  },
  {
   "cell_type": "markdown",
   "metadata": {},
   "source": [
    "**Answer:** There shouldn't be a problem with using the same method to process both sets - it's actually required that both sets are processed using the same method to ensure the model is consistent."
   ]
  },
  {
   "cell_type": "markdown",
   "metadata": {},
   "source": [
    "## Step 3: Upload the data to S3\n",
    "\n",
    "As in the XGBoost notebook, we will need to upload the training dataset to S3 in order for our training code to access it. For now we will save it locally and we will upload to S3 later on.\n",
    "\n",
    "### Save the processed training dataset locally\n",
    "\n",
    "It is important to note the format of the data that we are saving as we will need to know it when we write the training code. In our case, each row of the dataset has the form `label`, `length`, `review[500]` where `review[500]` is a sequence of `500` integers representing the words in the review."
   ]
  },
  {
   "cell_type": "code",
   "execution_count": 20,
   "metadata": {},
   "outputs": [],
   "source": [
    "import pandas as pd\n",
    "    \n",
    "pd.concat([pd.DataFrame(train_y), pd.DataFrame(train_X_len), pd.DataFrame(train_X)], axis=1) \\\n",
    "        .to_csv(os.path.join(data_dir, 'train.csv'), header=False, index=False)"
   ]
  },
  {
   "cell_type": "markdown",
   "metadata": {},
   "source": [
    "### Uploading the training data\n",
    "\n",
    "\n",
    "Next, we need to upload the training data to the SageMaker default S3 bucket so that we can provide access to it while training our model."
   ]
  },
  {
   "cell_type": "code",
   "execution_count": 21,
   "metadata": {},
   "outputs": [],
   "source": [
    "import sagemaker\n",
    "\n",
    "sagemaker_session = sagemaker.Session()\n",
    "\n",
    "bucket = sagemaker_session.default_bucket()\n",
    "prefix = 'sagemaker/sentiment_rnn'\n",
    "\n",
    "role = sagemaker.get_execution_role()"
   ]
  },
  {
   "cell_type": "code",
   "execution_count": 22,
   "metadata": {},
   "outputs": [],
   "source": [
    "input_data = sagemaker_session.upload_data(path=data_dir, bucket=bucket, key_prefix=prefix)"
   ]
  },
  {
   "cell_type": "markdown",
   "metadata": {},
   "source": [
    "**NOTE:** The cell above uploads the entire contents of our data directory. This includes the `word_dict.pkl` file. This is fortunate as we will need this later on when we create an endpoint that accepts an arbitrary review. For now, we will just take note of the fact that it resides in the data directory (and so also in the S3 training bucket) and that we will need to make sure it gets saved in the model directory."
   ]
  },
  {
   "cell_type": "markdown",
   "metadata": {},
   "source": [
    "## Step 4: Build and Train the PyTorch Model\n",
    "\n",
    "In the XGBoost notebook we discussed what a model is in the SageMaker framework. In particular, a model comprises three objects\n",
    "\n",
    " - Model Artifacts,\n",
    " - Training Code, and\n",
    " - Inference Code,\n",
    " \n",
    "each of which interact with one another. In the XGBoost example we used training and inference code that was provided by Amazon. Here we will still be using containers provided by Amazon with the added benefit of being able to include our own custom code.\n",
    "\n",
    "We will start by implementing our own neural network in PyTorch along with a training script. For the purposes of this project we have provided the necessary model object in the `model.py` file, inside of the `train` folder. You can see the provided implementation by running the cell below."
   ]
  },
  {
   "cell_type": "code",
   "execution_count": 23,
   "metadata": {},
   "outputs": [
    {
     "name": "stdout",
     "output_type": "stream",
     "text": [
      "\u001b[34mimport\u001b[39;49;00m \u001b[04m\u001b[36mtorch\u001b[39;49;00m\u001b[04m\u001b[36m.\u001b[39;49;00m\u001b[04m\u001b[36mnn\u001b[39;49;00m \u001b[34mas\u001b[39;49;00m \u001b[04m\u001b[36mnn\u001b[39;49;00m\r\n",
      "\r\n",
      "\u001b[34mclass\u001b[39;49;00m \u001b[04m\u001b[32mLSTMClassifier\u001b[39;49;00m(nn.Module):\r\n",
      "    \u001b[33m\"\"\"\u001b[39;49;00m\r\n",
      "\u001b[33m    This is the simple RNN model we will be using to perform Sentiment Analysis.\u001b[39;49;00m\r\n",
      "\u001b[33m    \"\"\"\u001b[39;49;00m\r\n",
      "\r\n",
      "    \u001b[34mdef\u001b[39;49;00m \u001b[32m__init__\u001b[39;49;00m(\u001b[36mself\u001b[39;49;00m, embedding_dim, hidden_dim, vocab_size):\r\n",
      "        \u001b[33m\"\"\"\u001b[39;49;00m\r\n",
      "\u001b[33m        Initialize the model by settingg up the various layers.\u001b[39;49;00m\r\n",
      "\u001b[33m        \"\"\"\u001b[39;49;00m\r\n",
      "        \u001b[36msuper\u001b[39;49;00m(LSTMClassifier, \u001b[36mself\u001b[39;49;00m).\u001b[32m__init__\u001b[39;49;00m()\r\n",
      "\r\n",
      "        \u001b[36mself\u001b[39;49;00m.embedding = nn.Embedding(vocab_size, embedding_dim, padding_idx=\u001b[34m0\u001b[39;49;00m)\r\n",
      "        \u001b[36mself\u001b[39;49;00m.lstm = nn.LSTM(embedding_dim, hidden_dim)\r\n",
      "        \u001b[36mself\u001b[39;49;00m.dense = nn.Linear(in_features=hidden_dim, out_features=\u001b[34m1\u001b[39;49;00m)\r\n",
      "        \u001b[36mself\u001b[39;49;00m.sig = nn.Sigmoid()\r\n",
      "        \r\n",
      "        \u001b[36mself\u001b[39;49;00m.word_dict = \u001b[34mNone\u001b[39;49;00m\r\n",
      "\r\n",
      "    \u001b[34mdef\u001b[39;49;00m \u001b[32mforward\u001b[39;49;00m(\u001b[36mself\u001b[39;49;00m, x):\r\n",
      "        \u001b[33m\"\"\"\u001b[39;49;00m\r\n",
      "\u001b[33m        Perform a forward pass of our model on some input.\u001b[39;49;00m\r\n",
      "\u001b[33m        \"\"\"\u001b[39;49;00m\r\n",
      "        x = x.t()\r\n",
      "        lengths = x[\u001b[34m0\u001b[39;49;00m,:]\r\n",
      "        reviews = x[\u001b[34m1\u001b[39;49;00m:,:]\r\n",
      "        embeds = \u001b[36mself\u001b[39;49;00m.embedding(reviews)\r\n",
      "        lstm_out, _ = \u001b[36mself\u001b[39;49;00m.lstm(embeds)\r\n",
      "        out = \u001b[36mself\u001b[39;49;00m.dense(lstm_out)\r\n",
      "        out = out[lengths - \u001b[34m1\u001b[39;49;00m, \u001b[36mrange\u001b[39;49;00m(\u001b[36mlen\u001b[39;49;00m(lengths))]\r\n",
      "        \u001b[34mreturn\u001b[39;49;00m \u001b[36mself\u001b[39;49;00m.sig(out.squeeze())\r\n"
     ]
    }
   ],
   "source": [
    "!pygmentize train/model.py"
   ]
  },
  {
   "cell_type": "markdown",
   "metadata": {},
   "source": [
    "The important takeaway from the implementation provided is that there are three parameters that we may wish to tweak to improve the performance of our model. These are the embedding dimension, the hidden dimension and the size of the vocabulary. We will likely want to make these parameters configurable in the training script so that if we wish to modify them we do not need to modify the script itself. We will see how to do this later on. To start we will write some of the training code in the notebook so that we can more easily diagnose any issues that arise.\n",
    "\n",
    "First we will load a small portion of the training data set to use as a sample. It would be very time consuming to try and train the model completely in the notebook as we do not have access to a gpu and the compute instance that we are using is not particularly powerful. However, we can work on a small bit of the data to get a feel for how our training script is behaving."
   ]
  },
  {
   "cell_type": "code",
   "execution_count": 24,
   "metadata": {},
   "outputs": [],
   "source": [
    "import torch\n",
    "import torch.utils.data\n",
    "\n",
    "# Read in only the first 250 rows\n",
    "train_sample = pd.read_csv(os.path.join(data_dir, 'train.csv'), header=None, names=None, nrows=250)\n",
    "\n",
    "# Turn the input pandas dataframe into tensors\n",
    "train_sample_y = torch.from_numpy(train_sample[[0]].values).float().squeeze()\n",
    "train_sample_X = torch.from_numpy(train_sample.drop([0], axis=1).values).long()\n",
    "\n",
    "# Build the dataset\n",
    "train_sample_ds = torch.utils.data.TensorDataset(train_sample_X, train_sample_y)\n",
    "# Build the dataloader\n",
    "train_sample_dl = torch.utils.data.DataLoader(train_sample_ds, batch_size=50)"
   ]
  },
  {
   "cell_type": "markdown",
   "metadata": {},
   "source": [
    "### (TODO) Writing the training method\n",
    "\n",
    "Next we need to write the training code itself. This should be very similar to training methods that you have written before to train PyTorch models. We will leave any difficult aspects such as model saving / loading and parameter loading until a little later."
   ]
  },
  {
   "cell_type": "code",
   "execution_count": 25,
   "metadata": {},
   "outputs": [],
   "source": [
    "def train(model, train_loader, epochs, optimizer, loss_fn, device):\n",
    "    for epoch in range(1, epochs + 1):\n",
    "        model.train()\n",
    "        total_loss = 0\n",
    "        for batch in train_loader:         \n",
    "            batch_X, batch_y = batch\n",
    "            \n",
    "            batch_X = batch_X.to(device)\n",
    "            batch_y = batch_y.to(device)\n",
    "            \n",
    "            # TODO: Complete this train method to train the model provided.\n",
    "            \n",
    "            # clear out all gradients from the previous step to zero\n",
    "            optimizer.zero_grad()\n",
    "            \n",
    "            # get the initial output from the model\n",
    "            output = model(batch_X)\n",
    "            \n",
    "            # calculate the loss \n",
    "            loss = loss_fn(output.squeeze(), batch_y.float())\n",
    "            \n",
    "            # and perform back propagation\n",
    "            loss.backward()\n",
    "            \n",
    "            # makes the optimizer to take a step based on the gradients\n",
    "            optimizer.step()\n",
    "            \n",
    "            total_loss += loss.data.item()\n",
    "        print(\"Epoch: {}, BCELoss: {}\".format(epoch, total_loss / len(train_loader)))"
   ]
  },
  {
   "cell_type": "markdown",
   "metadata": {},
   "source": [
    "Supposing we have the training method above, we will test that it is working by writing a bit of code in the notebook that executes our training method on the small sample training set that we loaded earlier. The reason for doing this in the notebook is so that we have an opportunity to fix any errors that arise early when they are easier to diagnose."
   ]
  },
  {
   "cell_type": "code",
   "execution_count": 26,
   "metadata": {},
   "outputs": [
    {
     "name": "stdout",
     "output_type": "stream",
     "text": [
      "Epoch: 1, BCELoss: 0.6898251891136169\n",
      "Epoch: 2, BCELoss: 0.6809437155723572\n",
      "Epoch: 3, BCELoss: 0.6727875828742981\n",
      "Epoch: 4, BCELoss: 0.6630271792411804\n",
      "Epoch: 5, BCELoss: 0.6497781634330749\n"
     ]
    }
   ],
   "source": [
    "import torch.optim as optim\n",
    "from train.model import LSTMClassifier\n",
    "\n",
    "device = torch.device(\"cuda\" if torch.cuda.is_available() else \"cpu\")\n",
    "model = LSTMClassifier(32, 100, 5000).to(device)\n",
    "optimizer = optim.Adam(model.parameters())\n",
    "loss_fn = torch.nn.BCELoss()\n",
    "\n",
    "train(model, train_sample_dl, 5, optimizer, loss_fn, device)"
   ]
  },
  {
   "cell_type": "markdown",
   "metadata": {},
   "source": [
    "In order to construct a PyTorch model using SageMaker we must provide SageMaker with a training script. We may optionally include a directory which will be copied to the container and from which our training code will be run. When the training container is executed it will check the uploaded directory (if there is one) for a `requirements.txt` file and install any required Python libraries, after which the training script will be run."
   ]
  },
  {
   "cell_type": "markdown",
   "metadata": {},
   "source": [
    "### (TODO) Training the model\n",
    "\n",
    "When a PyTorch model is constructed in SageMaker, an entry point must be specified. This is the Python file which will be executed when the model is trained. Inside of the `train` directory is a file called `train.py` which has been provided and which contains most of the necessary code to train our model. The only thing that is missing is the implementation of the `train()` method which you wrote earlier in this notebook.\n",
    "\n",
    "**TODO**: Copy the `train()` method written above and paste it into the `train/train.py` file where required.\n",
    "\n",
    "**DONE**\n",
    "\n",
    "The way that SageMaker passes hyperparameters to the training script is by way of arguments. These arguments can then be parsed and used in the training script. To see how this is done take a look at the provided `train/train.py` file."
   ]
  },
  {
   "cell_type": "code",
   "execution_count": 27,
   "metadata": {},
   "outputs": [],
   "source": [
    "from sagemaker.pytorch import PyTorch\n",
    "\n",
    "estimator = PyTorch(entry_point=\"train.py\",\n",
    "                    source_dir=\"train\",\n",
    "                    role=role,\n",
    "                    framework_version='0.4.0',\n",
    "                    train_instance_count=1,\n",
    "                    train_instance_type='ml.m4.xlarge',\n",
    "                    hyperparameters={\n",
    "                        'epochs': 10,\n",
    "                        'hidden_dim': 200,\n",
    "                    })"
   ]
  },
  {
   "cell_type": "code",
   "execution_count": 28,
   "metadata": {},
   "outputs": [
    {
     "name": "stderr",
     "output_type": "stream",
     "text": [
      "'create_image_uri' will be deprecated in favor of 'ImageURIProvider' class in SageMaker Python SDK v2.\n",
      "'s3_input' class will be renamed to 'TrainingInput' in SageMaker Python SDK v2.\n",
      "'create_image_uri' will be deprecated in favor of 'ImageURIProvider' class in SageMaker Python SDK v2.\n"
     ]
    },
    {
     "name": "stdout",
     "output_type": "stream",
     "text": [
      "2022-04-13 23:27:09 Starting - Starting the training job......\n",
      "2022-04-13 23:27:43 Starting - Preparing the instances for training......\n",
      "2022-04-13 23:28:58 Downloading - Downloading input data...\n",
      "2022-04-13 23:29:24 Training - Downloading the training image...\n",
      "2022-04-13 23:30:02 Training - Training image download completed. Training in progress..\u001b[34mbash: cannot set terminal process group (-1): Inappropriate ioctl for device\u001b[0m\n",
      "\u001b[34mbash: no job control in this shell\u001b[0m\n",
      "\u001b[34m2022-04-13 23:30:05,570 sagemaker-containers INFO     Imported framework sagemaker_pytorch_container.training\u001b[0m\n",
      "\u001b[34m2022-04-13 23:30:05,573 sagemaker-containers INFO     No GPUs detected (normal if no gpus installed)\u001b[0m\n",
      "\u001b[34m2022-04-13 23:30:05,592 sagemaker_pytorch_container.training INFO     Block until all host DNS lookups succeed.\u001b[0m\n",
      "\u001b[34m2022-04-13 23:30:05,596 sagemaker_pytorch_container.training INFO     Invoking user training script.\u001b[0m\n",
      "\u001b[34m2022-04-13 23:30:05,977 sagemaker-containers INFO     Module train does not provide a setup.py. \u001b[0m\n",
      "\u001b[34mGenerating setup.py\u001b[0m\n",
      "\u001b[34m2022-04-13 23:30:05,977 sagemaker-containers INFO     Generating setup.cfg\u001b[0m\n",
      "\u001b[34m2022-04-13 23:30:05,977 sagemaker-containers INFO     Generating MANIFEST.in\u001b[0m\n",
      "\u001b[34m2022-04-13 23:30:05,978 sagemaker-containers INFO     Installing module with the following command:\u001b[0m\n",
      "\u001b[34m/usr/bin/python -m pip install -U . -r requirements.txt\u001b[0m\n",
      "\u001b[34mProcessing /opt/ml/code\u001b[0m\n",
      "\u001b[34mCollecting pandas (from -r requirements.txt (line 1))\n",
      "  Downloading https://files.pythonhosted.org/packages/74/24/0cdbf8907e1e3bc5a8da03345c23cbed7044330bb8f73bb12e711a640a00/pandas-0.24.2-cp35-cp35m-manylinux1_x86_64.whl (10.0MB)\u001b[0m\n",
      "\u001b[34mCollecting numpy (from -r requirements.txt (line 2))\n",
      "  Downloading https://files.pythonhosted.org/packages/b5/36/88723426b4ff576809fec7d73594fe17a35c27f8d01f93637637a29ae25b/numpy-1.18.5-cp35-cp35m-manylinux1_x86_64.whl (19.9MB)\u001b[0m\n",
      "\u001b[34mCollecting nltk (from -r requirements.txt (line 3))\n",
      "  Downloading https://files.pythonhosted.org/packages/5e/37/9532ddd4b1bbb619333d5708aaad9bf1742f051a664c3c6fa6632a105fd8/nltk-3.6.2-py3-none-any.whl (1.5MB)\u001b[0m\n",
      "\u001b[34mCollecting beautifulsoup4 (from -r requirements.txt (line 4))\n",
      "  Downloading https://files.pythonhosted.org/packages/69/bf/f0f194d3379d3f3347478bd267f754fc68c11cbf2fe302a6ab69447b1417/beautifulsoup4-4.10.0-py3-none-any.whl (97kB)\u001b[0m\n",
      "\u001b[34mCollecting html5lib (from -r requirements.txt (line 5))\n",
      "  Downloading https://files.pythonhosted.org/packages/6c/dd/a834df6482147d48e225a49515aabc28974ad5a4ca3215c18a882565b028/html5lib-1.1-py2.py3-none-any.whl (112kB)\u001b[0m\n",
      "\u001b[34mRequirement already satisfied, skipping upgrade: python-dateutil>=2.5.0 in /usr/local/lib/python3.5/dist-packages (from pandas->-r requirements.txt (line 1)) (2.7.5)\u001b[0m\n",
      "\u001b[34mCollecting pytz>=2011k (from pandas->-r requirements.txt (line 1))\n",
      "  Downloading https://files.pythonhosted.org/packages/60/2e/dec1cc18c51b8df33c7c4d0a321b084cf38e1733b98f9d15018880fb4970/pytz-2022.1-py2.py3-none-any.whl (503kB)\u001b[0m\n",
      "\u001b[34mRequirement already satisfied, skipping upgrade: click in /usr/local/lib/python3.5/dist-packages (from nltk->-r requirements.txt (line 3)) (7.0)\u001b[0m\n",
      "\u001b[34mCollecting tqdm (from nltk->-r requirements.txt (line 3))\n",
      "  Downloading https://files.pythonhosted.org/packages/8a/c4/d15f1e627fff25443ded77ea70a7b5532d6371498f9285d44d62587e209c/tqdm-4.64.0-py2.py3-none-any.whl (78kB)\u001b[0m\n",
      "\u001b[34mCollecting joblib (from nltk->-r requirements.txt (line 3))\n",
      "  Downloading https://files.pythonhosted.org/packages/28/5c/cf6a2b65a321c4a209efcdf64c2689efae2cb62661f8f6f4bb28547cf1bf/joblib-0.14.1-py2.py3-none-any.whl (294kB)\u001b[0m\n",
      "\u001b[34mCollecting regex (from nltk->-r requirements.txt (line 3))\u001b[0m\n",
      "\u001b[34m  Downloading https://files.pythonhosted.org/packages/4c/75/b5b60055897d78882da8bc4c94609067cf531a42726df2e44ce69e8ec7a9/regex-2022.1.18.tar.gz (382kB)\u001b[0m\n",
      "\u001b[34mCollecting soupsieve>1.2 (from beautifulsoup4->-r requirements.txt (line 4))\u001b[0m\n",
      "\u001b[34m  Downloading https://files.pythonhosted.org/packages/02/fb/1c65691a9aeb7bd6ac2aa505b84cb8b49ac29c976411c6ab3659425e045f/soupsieve-2.1-py3-none-any.whl\u001b[0m\n",
      "\u001b[34mRequirement already satisfied, skipping upgrade: six>=1.9 in /usr/local/lib/python3.5/dist-packages (from html5lib->-r requirements.txt (line 5)) (1.11.0)\u001b[0m\n",
      "\u001b[34mCollecting webencodings (from html5lib->-r requirements.txt (line 5))\n",
      "  Downloading https://files.pythonhosted.org/packages/f4/24/2a3e3df732393fed8b3ebf2ec078f05546de641fe1b667ee316ec1dcf3b7/webencodings-0.5.1-py2.py3-none-any.whl\u001b[0m\n",
      "\u001b[34mCollecting importlib-resources; python_version < \"3.7\" (from tqdm->nltk->-r requirements.txt (line 3))\n",
      "  Downloading https://files.pythonhosted.org/packages/e6/b5/ca7ff4e244ae51e70f603889fcd67ee142050b539b3e2f40fbbd8ca316b5/importlib_resources-3.2.1-py2.py3-none-any.whl\u001b[0m\n",
      "\u001b[34mCollecting zipp>=0.4; python_version < \"3.8\" (from importlib-resources; python_version < \"3.7\"->tqdm->nltk->-r requirements.txt (line 3))\n",
      "  Downloading https://files.pythonhosted.org/packages/96/0a/67556e9b7782df7118c1f49bdc494da5e5e429c93aa77965f33e81287c8c/zipp-1.2.0-py2.py3-none-any.whl\u001b[0m\n",
      "\u001b[34mBuilding wheels for collected packages: train, regex\n",
      "  Running setup.py bdist_wheel for train: started\n",
      "  Running setup.py bdist_wheel for train: finished with status 'done'\n",
      "  Stored in directory: /tmp/pip-ephem-wheel-cache-qwxsy626/wheels/35/24/16/37574d11bf9bde50616c67372a334f94fa8356bc7164af8ca3\n",
      "  Running setup.py bdist_wheel for regex: started\u001b[0m\n",
      "\u001b[34m  Running setup.py bdist_wheel for regex: finished with status 'done'\n",
      "  Stored in directory: /root/.cache/pip/wheels/91/d2/b9/77522f50d9ec6ab6c755f54d9dfed385ae6afd1b7296bbbcc2\u001b[0m\n",
      "\u001b[34mSuccessfully built train regex\u001b[0m\n",
      "\u001b[34mInstalling collected packages: pytz, numpy, pandas, zipp, importlib-resources, tqdm, joblib, regex, nltk, soupsieve, beautifulsoup4, webencodings, html5lib, train\n",
      "  Found existing installation: numpy 1.15.4\n",
      "    Uninstalling numpy-1.15.4:\u001b[0m\n",
      "\u001b[34m      Successfully uninstalled numpy-1.15.4\u001b[0m\n",
      "\u001b[34mSuccessfully installed beautifulsoup4-4.10.0 html5lib-1.1 importlib-resources-3.2.1 joblib-0.14.1 nltk-3.6.2 numpy-1.18.5 pandas-0.24.2 pytz-2022.1 regex-2022.1.18 soupsieve-2.1 tqdm-4.64.0 train-1.0.0 webencodings-0.5.1 zipp-1.2.0\u001b[0m\n",
      "\u001b[34mYou are using pip version 18.1, however version 20.3.4 is available.\u001b[0m\n",
      "\u001b[34mYou should consider upgrading via the 'pip install --upgrade pip' command.\u001b[0m\n",
      "\u001b[34m2022-04-13 23:30:31,028 sagemaker-containers INFO     No GPUs detected (normal if no gpus installed)\u001b[0m\n",
      "\u001b[34m2022-04-13 23:30:31,053 sagemaker-containers INFO     Invoking user script\u001b[0m\n",
      "\u001b[34mTraining Env:\u001b[0m\n",
      "\u001b[34m{\n",
      "    \"input_config_dir\": \"/opt/ml/input/config\",\n",
      "    \"module_dir\": \"s3://sagemaker-us-east-1-237703518245/sagemaker-pytorch-2022-04-13-23-27-09-099/source/sourcedir.tar.gz\",\n",
      "    \"job_name\": \"sagemaker-pytorch-2022-04-13-23-27-09-099\",\n",
      "    \"input_dir\": \"/opt/ml/input\",\n",
      "    \"num_gpus\": 0,\n",
      "    \"user_entry_point\": \"train.py\",\n",
      "    \"channel_input_dirs\": {\n",
      "        \"training\": \"/opt/ml/input/data/training\"\n",
      "    },\n",
      "    \"output_dir\": \"/opt/ml/output\",\n",
      "    \"model_dir\": \"/opt/ml/model\",\n",
      "    \"hosts\": [\n",
      "        \"algo-1\"\n",
      "    ],\n",
      "    \"hyperparameters\": {\n",
      "        \"epochs\": 10,\n",
      "        \"hidden_dim\": 200\n",
      "    },\n",
      "    \"num_cpus\": 4,\n",
      "    \"network_interface_name\": \"eth0\",\n",
      "    \"resource_config\": {\n",
      "        \"hosts\": [\n",
      "            \"algo-1\"\n",
      "        ],\n",
      "        \"current_instance_type\": \"ml.m4.xlarge\",\n",
      "        \"current_host\": \"algo-1\",\n",
      "        \"network_interface_name\": \"eth0\",\n",
      "        \"current_group_name\": \"homogeneousCluster\",\n",
      "        \"instance_groups\": [\n",
      "            {\n",
      "                \"hosts\": [\n",
      "                    \"algo-1\"\n",
      "                ],\n",
      "                \"instance_type\": \"ml.m4.xlarge\",\n",
      "                \"instance_group_name\": \"homogeneousCluster\"\n",
      "            }\n",
      "        ]\n",
      "    },\n",
      "    \"module_name\": \"train\",\n",
      "    \"output_data_dir\": \"/opt/ml/output/data\",\n",
      "    \"input_data_config\": {\n",
      "        \"training\": {\n",
      "            \"RecordWrapperType\": \"None\",\n",
      "            \"S3DistributionType\": \"FullyReplicated\",\n",
      "            \"TrainingInputMode\": \"File\"\n",
      "        }\n",
      "    },\n",
      "    \"output_intermediate_dir\": \"/opt/ml/output/intermediate\",\n",
      "    \"current_host\": \"algo-1\",\n",
      "    \"additional_framework_parameters\": {},\n",
      "    \"framework_module\": \"sagemaker_pytorch_container.training:main\",\n",
      "    \"log_level\": 20\u001b[0m\n",
      "\u001b[34m}\u001b[0m\n",
      "\u001b[34mEnvironment variables:\u001b[0m\n",
      "\u001b[34mSM_MODULE_NAME=train\u001b[0m\n",
      "\u001b[34mSM_USER_ENTRY_POINT=train.py\u001b[0m\n",
      "\u001b[34mSM_MODULE_DIR=s3://sagemaker-us-east-1-237703518245/sagemaker-pytorch-2022-04-13-23-27-09-099/source/sourcedir.tar.gz\u001b[0m\n",
      "\u001b[34mSM_INPUT_DATA_CONFIG={\"training\":{\"RecordWrapperType\":\"None\",\"S3DistributionType\":\"FullyReplicated\",\"TrainingInputMode\":\"File\"}}\u001b[0m\n",
      "\u001b[34mSM_CHANNELS=[\"training\"]\u001b[0m\n",
      "\u001b[34mSM_NETWORK_INTERFACE_NAME=eth0\u001b[0m\n",
      "\u001b[34mSM_INPUT_DIR=/opt/ml/input\u001b[0m\n",
      "\u001b[34mSM_RESOURCE_CONFIG={\"current_group_name\":\"homogeneousCluster\",\"current_host\":\"algo-1\",\"current_instance_type\":\"ml.m4.xlarge\",\"hosts\":[\"algo-1\"],\"instance_groups\":[{\"hosts\":[\"algo-1\"],\"instance_group_name\":\"homogeneousCluster\",\"instance_type\":\"ml.m4.xlarge\"}],\"network_interface_name\":\"eth0\"}\u001b[0m\n",
      "\u001b[34mSM_FRAMEWORK_MODULE=sagemaker_pytorch_container.training:main\u001b[0m\n",
      "\u001b[34mSM_HPS={\"epochs\":10,\"hidden_dim\":200}\u001b[0m\n",
      "\u001b[34mSM_FRAMEWORK_PARAMS={}\u001b[0m\n",
      "\u001b[34mPYTHONPATH=/usr/local/bin:/usr/lib/python35.zip:/usr/lib/python3.5:/usr/lib/python3.5/plat-x86_64-linux-gnu:/usr/lib/python3.5/lib-dynload:/usr/local/lib/python3.5/dist-packages:/usr/lib/python3/dist-packages\u001b[0m\n",
      "\u001b[34mSM_LOG_LEVEL=20\u001b[0m\n",
      "\u001b[34mSM_HP_EPOCHS=10\u001b[0m\n",
      "\u001b[34mSM_CURRENT_HOST=algo-1\u001b[0m\n",
      "\u001b[34mSM_HOSTS=[\"algo-1\"]\u001b[0m\n",
      "\u001b[34mSM_NUM_GPUS=0\u001b[0m\n",
      "\u001b[34mSM_OUTPUT_INTERMEDIATE_DIR=/opt/ml/output/intermediate\u001b[0m\n",
      "\u001b[34mSM_OUTPUT_DATA_DIR=/opt/ml/output/data\u001b[0m\n",
      "\u001b[34mSM_INPUT_CONFIG_DIR=/opt/ml/input/config\u001b[0m\n",
      "\u001b[34mSM_USER_ARGS=[\"--epochs\",\"10\",\"--hidden_dim\",\"200\"]\u001b[0m\n",
      "\u001b[34mSM_OUTPUT_DIR=/opt/ml/output\u001b[0m\n",
      "\u001b[34mSM_MODEL_DIR=/opt/ml/model\u001b[0m\n",
      "\u001b[34mSM_CHANNEL_TRAINING=/opt/ml/input/data/training\u001b[0m\n",
      "\u001b[34mSM_TRAINING_ENV={\"additional_framework_parameters\":{},\"channel_input_dirs\":{\"training\":\"/opt/ml/input/data/training\"},\"current_host\":\"algo-1\",\"framework_module\":\"sagemaker_pytorch_container.training:main\",\"hosts\":[\"algo-1\"],\"hyperparameters\":{\"epochs\":10,\"hidden_dim\":200},\"input_config_dir\":\"/opt/ml/input/config\",\"input_data_config\":{\"training\":{\"RecordWrapperType\":\"None\",\"S3DistributionType\":\"FullyReplicated\",\"TrainingInputMode\":\"File\"}},\"input_dir\":\"/opt/ml/input\",\"job_name\":\"sagemaker-pytorch-2022-04-13-23-27-09-099\",\"log_level\":20,\"model_dir\":\"/opt/ml/model\",\"module_dir\":\"s3://sagemaker-us-east-1-237703518245/sagemaker-pytorch-2022-04-13-23-27-09-099/source/sourcedir.tar.gz\",\"module_name\":\"train\",\"network_interface_name\":\"eth0\",\"num_cpus\":4,\"num_gpus\":0,\"output_data_dir\":\"/opt/ml/output/data\",\"output_dir\":\"/opt/ml/output\",\"output_intermediate_dir\":\"/opt/ml/output/intermediate\",\"resource_config\":{\"current_group_name\":\"homogeneousCluster\",\"current_host\":\"algo-1\",\"current_instance_type\":\"ml.m4.xlarge\",\"hosts\":[\"algo-1\"],\"instance_groups\":[{\"hosts\":[\"algo-1\"],\"instance_group_name\":\"homogeneousCluster\",\"instance_type\":\"ml.m4.xlarge\"}],\"network_interface_name\":\"eth0\"},\"user_entry_point\":\"train.py\"}\u001b[0m\n",
      "\u001b[34mSM_NUM_CPUS=4\u001b[0m\n",
      "\u001b[34mSM_HP_HIDDEN_DIM=200\u001b[0m\n",
      "\u001b[34mInvoking script with the following command:\u001b[0m\n",
      "\u001b[34m/usr/bin/python -m train --epochs 10 --hidden_dim 200\u001b[0m\n",
      "\u001b[34mUsing device cpu.\u001b[0m\n",
      "\u001b[34mGet train data loader.\u001b[0m\n",
      "\u001b[34mModel loaded with embedding_dim 32, hidden_dim 200, vocab_size 5000.\u001b[0m\n"
     ]
    },
    {
     "name": "stdout",
     "output_type": "stream",
     "text": [
      "\u001b[34mEpoch: 1, BCELoss: 0.6687039878903603\u001b[0m\n",
      "\u001b[34mEpoch: 2, BCELoss: 0.5847814849444798\u001b[0m\n",
      "\u001b[34mEpoch: 3, BCELoss: 0.4997271621713833\u001b[0m\n",
      "\u001b[34mEpoch: 4, BCELoss: 0.4247352061223011\u001b[0m\n",
      "\u001b[34mEpoch: 5, BCELoss: 0.3903323466680488\u001b[0m\n",
      "\u001b[34mEpoch: 6, BCELoss: 0.35481057544143835\u001b[0m\n",
      "\u001b[34mEpoch: 7, BCELoss: 0.33576351525832193\u001b[0m\n",
      "\u001b[34mEpoch: 8, BCELoss: 0.3164407337198452\u001b[0m\n",
      "\u001b[34mEpoch: 9, BCELoss: 0.3201040196783689\u001b[0m\n",
      "\u001b[34mEpoch: 10, BCELoss: 0.29138197795468934\u001b[0m\n",
      "\u001b[34m2022-04-14 02:12:50,255 sagemaker-containers INFO     Reporting training SUCCESS\u001b[0m\n",
      "\n",
      "2022-04-14 02:13:39 Uploading - Uploading generated training model\n",
      "2022-04-14 02:13:39 Completed - Training job completed\n",
      "Training seconds: 9881\n",
      "Billable seconds: 9881\n"
     ]
    }
   ],
   "source": [
    "estimator.fit({'training': input_data})"
   ]
  },
  {
   "cell_type": "markdown",
   "metadata": {},
   "source": [
    "## Step 5: Testing the model\n",
    "\n",
    "As mentioned at the top of this notebook, we will be testing this model by first deploying it and then sending the testing data to the deployed endpoint. We will do this so that we can make sure that the deployed model is working correctly.\n",
    "\n",
    "## Step 6: Deploy the model for testing\n",
    "\n",
    "Now that we have trained our model, we would like to test it to see how it performs. Currently our model takes input of the form `review_length, review[500]` where `review[500]` is a sequence of `500` integers which describe the words present in the review, encoded using `word_dict`. Fortunately for us, SageMaker provides built-in inference code for models with simple inputs such as this.\n",
    "\n",
    "There is one thing that we need to provide, however, and that is a function which loads the saved model. This function must be called `model_fn()` and takes as its only parameter a path to the directory where the model artifacts are stored. This function must also be present in the python file which we specified as the entry point. In our case the model loading function has been provided and so no changes need to be made.\n",
    "\n",
    "**NOTE**: When the built-in inference code is run it must import the `model_fn()` method from the `train.py` file. This is why the training code is wrapped in a main guard ( ie, `if __name__ == '__main__':` )\n",
    "\n",
    "Since we don't need to change anything in the code that was uploaded during training, we can simply deploy the current model as-is.\n",
    "\n",
    "**NOTE:** When deploying a model you are asking SageMaker to launch an compute instance that will wait for data to be sent to it. As a result, this compute instance will continue to run until *you* shut it down. This is important to know since the cost of a deployed endpoint depends on how long it has been running for.\n",
    "\n",
    "In other words **If you are no longer using a deployed endpoint, shut it down!**\n",
    "\n",
    "**TODO:** Deploy the trained model."
   ]
  },
  {
   "cell_type": "code",
   "execution_count": 29,
   "metadata": {},
   "outputs": [
    {
     "name": "stderr",
     "output_type": "stream",
     "text": [
      "Parameter image will be renamed to image_uri in SageMaker Python SDK v2.\n",
      "'create_image_uri' will be deprecated in favor of 'ImageURIProvider' class in SageMaker Python SDK v2.\n"
     ]
    },
    {
     "name": "stdout",
     "output_type": "stream",
     "text": [
      "------!"
     ]
    }
   ],
   "source": [
    "# TODO: Deploy the trained model\n",
    "predictor = estimator.deploy(initial_instance_count = 1, instance_type = 'ml.m4.xlarge')"
   ]
  },
  {
   "cell_type": "markdown",
   "metadata": {},
   "source": [
    "## Step 7 - Use the model for testing\n",
    "\n",
    "Once deployed, we can read in the test data and send it off to our deployed model to get some results. Once we collect all of the results we can determine how accurate our model is."
   ]
  },
  {
   "cell_type": "code",
   "execution_count": 30,
   "metadata": {},
   "outputs": [],
   "source": [
    "test_X = pd.concat([pd.DataFrame(test_X_len), pd.DataFrame(test_X)], axis=1)"
   ]
  },
  {
   "cell_type": "code",
   "execution_count": 31,
   "metadata": {},
   "outputs": [],
   "source": [
    "# We split the data into chunks and send each chunk seperately, accumulating the results.\n",
    "\n",
    "def predict(data, rows=512):\n",
    "    split_array = np.array_split(data, int(data.shape[0] / float(rows) + 1))\n",
    "    predictions = np.array([])\n",
    "    for array in split_array:\n",
    "        predictions = np.append(predictions, predictor.predict(array))\n",
    "    \n",
    "    return predictions"
   ]
  },
  {
   "cell_type": "code",
   "execution_count": 32,
   "metadata": {},
   "outputs": [],
   "source": [
    "predictions = predict(test_X.values)\n",
    "predictions = [round(num) for num in predictions]"
   ]
  },
  {
   "cell_type": "code",
   "execution_count": 33,
   "metadata": {},
   "outputs": [
    {
     "data": {
      "text/plain": [
       "0.82888"
      ]
     },
     "execution_count": 33,
     "metadata": {},
     "output_type": "execute_result"
    }
   ],
   "source": [
    "from sklearn.metrics import accuracy_score\n",
    "accuracy_score(test_y, predictions)"
   ]
  },
  {
   "cell_type": "markdown",
   "metadata": {},
   "source": [
    "**Question:** How does this model compare to the XGBoost model you created earlier? Why might these two models perform differently on this dataset? Which do *you* think is better for sentiment analysis?"
   ]
  },
  {
   "cell_type": "markdown",
   "metadata": {},
   "source": [
    "**Answer:** RNN models are generally better for sentiment analysis because it takes into account the order of features inputted while XGBoost uses Bag of Words approach which does not take into account the order of features. The error might be worse initially but RNNs, like all deep neural networks, will be much better after more epochs/rounds of training due to the higher number of parameters to be trained."
   ]
  },
  {
   "cell_type": "markdown",
   "metadata": {},
   "source": [
    "### (TODO) More testing\n",
    "\n",
    "We now have a trained model which has been deployed and which we can send processed reviews to and which returns the predicted sentiment. However, ultimately we would like to be able to send our model an unprocessed review. That is, we would like to send the review itself as a string. For example, suppose we wish to send the following review to our model."
   ]
  },
  {
   "cell_type": "code",
   "execution_count": 34,
   "metadata": {},
   "outputs": [],
   "source": [
    "test_review = 'The simplest pleasures in life are the best, and this film is one of them. Combining a rather basic storyline of love and adventure this movie transcends the usual weekend fair with wit and unmitigated charm.'"
   ]
  },
  {
   "cell_type": "markdown",
   "metadata": {},
   "source": [
    "The question we now need to answer is, how do we send this review to our model?\n",
    "\n",
    "Recall in the first section of this notebook we did a bunch of data processing to the IMDb dataset. In particular, we did two specific things to the provided reviews.\n",
    " - Removed any html tags and stemmed the input\n",
    " - Encoded the review as a sequence of integers using `word_dict`\n",
    " \n",
    "In order process the review we will need to repeat these two steps.\n",
    "\n",
    "**TODO**: Using the `review_to_words` and `convert_and_pad` methods from section one, convert `test_review` into a numpy array `test_data` suitable to send to our model. Remember that our model expects input of the form `review_length, review[500]`. So make sure you produce two variables from processing: \n",
    "- A sequence of length 500 which represents the converted review\n",
    "- The length of the review"
   ]
  },
  {
   "cell_type": "code",
   "execution_count": 35,
   "metadata": {},
   "outputs": [],
   "source": [
    "# TODO: Convert test_review into a form usable by the model and save the results in test_data\n",
    "test_data_int, len_test  = convert_and_pad(word_dict, review_to_words(test_review))\n",
    "test_data = np.array([np.array([len_test] + test_data_int)])"
   ]
  },
  {
   "cell_type": "markdown",
   "metadata": {},
   "source": [
    "Now that we have processed the review, we can send the resulting array to our model to predict the sentiment of the review."
   ]
  },
  {
   "cell_type": "code",
   "execution_count": 36,
   "metadata": {},
   "outputs": [
    {
     "data": {
      "text/plain": [
       "array(0.7881438, dtype=float32)"
      ]
     },
     "execution_count": 36,
     "metadata": {},
     "output_type": "execute_result"
    }
   ],
   "source": [
    "predictor.predict(test_data)"
   ]
  },
  {
   "cell_type": "markdown",
   "metadata": {},
   "source": [
    "Since the return value of our model is close to `1`, we can be certain that the review we submitted is positive."
   ]
  },
  {
   "cell_type": "markdown",
   "metadata": {},
   "source": [
    "### Delete the endpoint\n",
    "\n",
    "Of course, just like in the XGBoost notebook, once we've deployed an endpoint it continues to run until we tell it to shut down. Since we are done using our endpoint for now, we can delete it."
   ]
  },
  {
   "cell_type": "code",
   "execution_count": 37,
   "metadata": {},
   "outputs": [
    {
     "name": "stderr",
     "output_type": "stream",
     "text": [
      "estimator.delete_endpoint() will be deprecated in SageMaker Python SDK v2. Please use the delete_endpoint() function on your predictor instead.\n"
     ]
    }
   ],
   "source": [
    "estimator.delete_endpoint()"
   ]
  },
  {
   "cell_type": "markdown",
   "metadata": {},
   "source": [
    "## Step 6 (again) - Deploy the model for the web app\n",
    "\n",
    "Now that we know that our model is working, it's time to create some custom inference code so that we can send the model a review which has not been processed and have it determine the sentiment of the review.\n",
    "\n",
    "As we saw above, by default the estimator which we created, when deployed, will use the entry script and directory which we provided when creating the model. However, since we now wish to accept a string as input and our model expects a processed review, we need to write some custom inference code.\n",
    "\n",
    "We will store the code that we write in the `serve` directory. Provided in this directory is the `model.py` file that we used to construct our model, a `utils.py` file which contains the `review_to_words` and `convert_and_pad` pre-processing functions which we used during the initial data processing, and `predict.py`, the file which will contain our custom inference code. Note also that `requirements.txt` is present which will tell SageMaker what Python libraries are required by our custom inference code.\n",
    "\n",
    "When deploying a PyTorch model in SageMaker, you are expected to provide four functions which the SageMaker inference container will use.\n",
    " - `model_fn`: This function is the same function that we used in the training script and it tells SageMaker how to load our model.\n",
    " - `input_fn`: This function receives the raw serialized input that has been sent to the model's endpoint and its job is to de-serialize and make the input available for the inference code.\n",
    " - `output_fn`: This function takes the output of the inference code and its job is to serialize this output and return it to the caller of the model's endpoint.\n",
    " - `predict_fn`: The heart of the inference script, this is where the actual prediction is done and is the function which you will need to complete.\n",
    "\n",
    "For the simple website that we are constructing during this project, the `input_fn` and `output_fn` methods are relatively straightforward. We only require being able to accept a string as input and we expect to return a single value as output. You might imagine though that in a more complex application the input or output may be image data or some other binary data which would require some effort to serialize.\n",
    "\n",
    "### (TODO) Writing inference code\n",
    "\n",
    "Before writing our custom inference code, we will begin by taking a look at the code which has been provided."
   ]
  },
  {
   "cell_type": "code",
   "execution_count": 38,
   "metadata": {},
   "outputs": [
    {
     "name": "stdout",
     "output_type": "stream",
     "text": [
      "\u001b[34mimport\u001b[39;49;00m \u001b[04m\u001b[36margparse\u001b[39;49;00m\r\n",
      "\u001b[34mimport\u001b[39;49;00m \u001b[04m\u001b[36mjson\u001b[39;49;00m\r\n",
      "\u001b[34mimport\u001b[39;49;00m \u001b[04m\u001b[36mos\u001b[39;49;00m\r\n",
      "\u001b[34mimport\u001b[39;49;00m \u001b[04m\u001b[36mpickle\u001b[39;49;00m\r\n",
      "\u001b[34mimport\u001b[39;49;00m \u001b[04m\u001b[36msys\u001b[39;49;00m\r\n",
      "\u001b[34mimport\u001b[39;49;00m \u001b[04m\u001b[36msagemaker_containers\u001b[39;49;00m\r\n",
      "\u001b[34mimport\u001b[39;49;00m \u001b[04m\u001b[36mpandas\u001b[39;49;00m \u001b[34mas\u001b[39;49;00m \u001b[04m\u001b[36mpd\u001b[39;49;00m\r\n",
      "\u001b[34mimport\u001b[39;49;00m \u001b[04m\u001b[36mnumpy\u001b[39;49;00m \u001b[34mas\u001b[39;49;00m \u001b[04m\u001b[36mnp\u001b[39;49;00m\r\n",
      "\u001b[34mimport\u001b[39;49;00m \u001b[04m\u001b[36mtorch\u001b[39;49;00m\r\n",
      "\u001b[34mimport\u001b[39;49;00m \u001b[04m\u001b[36mtorch\u001b[39;49;00m\u001b[04m\u001b[36m.\u001b[39;49;00m\u001b[04m\u001b[36mnn\u001b[39;49;00m \u001b[34mas\u001b[39;49;00m \u001b[04m\u001b[36mnn\u001b[39;49;00m\r\n",
      "\u001b[34mimport\u001b[39;49;00m \u001b[04m\u001b[36mtorch\u001b[39;49;00m\u001b[04m\u001b[36m.\u001b[39;49;00m\u001b[04m\u001b[36moptim\u001b[39;49;00m \u001b[34mas\u001b[39;49;00m \u001b[04m\u001b[36moptim\u001b[39;49;00m\r\n",
      "\u001b[34mimport\u001b[39;49;00m \u001b[04m\u001b[36mtorch\u001b[39;49;00m\u001b[04m\u001b[36m.\u001b[39;49;00m\u001b[04m\u001b[36mutils\u001b[39;49;00m\u001b[04m\u001b[36m.\u001b[39;49;00m\u001b[04m\u001b[36mdata\u001b[39;49;00m\r\n",
      "\r\n",
      "\u001b[34mfrom\u001b[39;49;00m \u001b[04m\u001b[36mmodel\u001b[39;49;00m \u001b[34mimport\u001b[39;49;00m LSTMClassifier\r\n",
      "\r\n",
      "\u001b[34mfrom\u001b[39;49;00m \u001b[04m\u001b[36mutils\u001b[39;49;00m \u001b[34mimport\u001b[39;49;00m review_to_words, convert_and_pad\r\n",
      "\r\n",
      "\u001b[34mdef\u001b[39;49;00m \u001b[32mmodel_fn\u001b[39;49;00m(model_dir):\r\n",
      "    \u001b[33m\"\"\"Load the PyTorch model from the `model_dir` directory.\"\"\"\u001b[39;49;00m\r\n",
      "    \u001b[36mprint\u001b[39;49;00m(\u001b[33m\"\u001b[39;49;00m\u001b[33mLoading model.\u001b[39;49;00m\u001b[33m\"\u001b[39;49;00m)\r\n",
      "\r\n",
      "    \u001b[37m# First, load the parameters used to create the model.\u001b[39;49;00m\r\n",
      "    model_info = {}\r\n",
      "    model_info_path = os.path.join(model_dir, \u001b[33m'\u001b[39;49;00m\u001b[33mmodel_info.pth\u001b[39;49;00m\u001b[33m'\u001b[39;49;00m)\r\n",
      "    \u001b[34mwith\u001b[39;49;00m \u001b[36mopen\u001b[39;49;00m(model_info_path, \u001b[33m'\u001b[39;49;00m\u001b[33mrb\u001b[39;49;00m\u001b[33m'\u001b[39;49;00m) \u001b[34mas\u001b[39;49;00m f:\r\n",
      "        model_info = torch.load(f)\r\n",
      "\r\n",
      "    \u001b[36mprint\u001b[39;49;00m(\u001b[33m\"\u001b[39;49;00m\u001b[33mmodel_info: \u001b[39;49;00m\u001b[33m{}\u001b[39;49;00m\u001b[33m\"\u001b[39;49;00m.format(model_info))\r\n",
      "\r\n",
      "    \u001b[37m# Determine the device and construct the model.\u001b[39;49;00m\r\n",
      "    device = torch.device(\u001b[33m\"\u001b[39;49;00m\u001b[33mcuda\u001b[39;49;00m\u001b[33m\"\u001b[39;49;00m \u001b[34mif\u001b[39;49;00m torch.cuda.is_available() \u001b[34melse\u001b[39;49;00m \u001b[33m\"\u001b[39;49;00m\u001b[33mcpu\u001b[39;49;00m\u001b[33m\"\u001b[39;49;00m)\r\n",
      "    model = LSTMClassifier(model_info[\u001b[33m'\u001b[39;49;00m\u001b[33membedding_dim\u001b[39;49;00m\u001b[33m'\u001b[39;49;00m], model_info[\u001b[33m'\u001b[39;49;00m\u001b[33mhidden_dim\u001b[39;49;00m\u001b[33m'\u001b[39;49;00m], model_info[\u001b[33m'\u001b[39;49;00m\u001b[33mvocab_size\u001b[39;49;00m\u001b[33m'\u001b[39;49;00m])\r\n",
      "\r\n",
      "    \u001b[37m# Load the store model parameters.\u001b[39;49;00m\r\n",
      "    model_path = os.path.join(model_dir, \u001b[33m'\u001b[39;49;00m\u001b[33mmodel.pth\u001b[39;49;00m\u001b[33m'\u001b[39;49;00m)\r\n",
      "    \u001b[34mwith\u001b[39;49;00m \u001b[36mopen\u001b[39;49;00m(model_path, \u001b[33m'\u001b[39;49;00m\u001b[33mrb\u001b[39;49;00m\u001b[33m'\u001b[39;49;00m) \u001b[34mas\u001b[39;49;00m f:\r\n",
      "        model.load_state_dict(torch.load(f))\r\n",
      "\r\n",
      "    \u001b[37m# Load the saved word_dict.\u001b[39;49;00m\r\n",
      "    word_dict_path = os.path.join(model_dir, \u001b[33m'\u001b[39;49;00m\u001b[33mword_dict.pkl\u001b[39;49;00m\u001b[33m'\u001b[39;49;00m)\r\n",
      "    \u001b[34mwith\u001b[39;49;00m \u001b[36mopen\u001b[39;49;00m(word_dict_path, \u001b[33m'\u001b[39;49;00m\u001b[33mrb\u001b[39;49;00m\u001b[33m'\u001b[39;49;00m) \u001b[34mas\u001b[39;49;00m f:\r\n",
      "        model.word_dict = pickle.load(f)\r\n",
      "\r\n",
      "    model.to(device).eval()\r\n",
      "\r\n",
      "    \u001b[36mprint\u001b[39;49;00m(\u001b[33m\"\u001b[39;49;00m\u001b[33mDone loading model.\u001b[39;49;00m\u001b[33m\"\u001b[39;49;00m)\r\n",
      "    \u001b[34mreturn\u001b[39;49;00m model\r\n",
      "\r\n",
      "\u001b[34mdef\u001b[39;49;00m \u001b[32minput_fn\u001b[39;49;00m(serialized_input_data, content_type):\r\n",
      "    \u001b[36mprint\u001b[39;49;00m(\u001b[33m'\u001b[39;49;00m\u001b[33mDeserializing the input data.\u001b[39;49;00m\u001b[33m'\u001b[39;49;00m)\r\n",
      "    \u001b[34mif\u001b[39;49;00m content_type == \u001b[33m'\u001b[39;49;00m\u001b[33mtext/plain\u001b[39;49;00m\u001b[33m'\u001b[39;49;00m:\r\n",
      "        data = serialized_input_data.decode(\u001b[33m'\u001b[39;49;00m\u001b[33mutf-8\u001b[39;49;00m\u001b[33m'\u001b[39;49;00m)\r\n",
      "        \u001b[34mreturn\u001b[39;49;00m data\r\n",
      "    \u001b[34mraise\u001b[39;49;00m \u001b[36mException\u001b[39;49;00m(\u001b[33m'\u001b[39;49;00m\u001b[33mRequested unsupported ContentType in content_type: \u001b[39;49;00m\u001b[33m'\u001b[39;49;00m + content_type)\r\n",
      "\r\n",
      "\u001b[34mdef\u001b[39;49;00m \u001b[32moutput_fn\u001b[39;49;00m(prediction_output, accept):\r\n",
      "    \u001b[36mprint\u001b[39;49;00m(\u001b[33m'\u001b[39;49;00m\u001b[33mSerializing the generated output.\u001b[39;49;00m\u001b[33m'\u001b[39;49;00m)\r\n",
      "    \u001b[34mreturn\u001b[39;49;00m \u001b[36mstr\u001b[39;49;00m(prediction_output)\r\n",
      "\r\n",
      "\u001b[34mdef\u001b[39;49;00m \u001b[32mpredict_fn\u001b[39;49;00m(input_data, model):\r\n",
      "    \u001b[36mprint\u001b[39;49;00m(\u001b[33m'\u001b[39;49;00m\u001b[33mInferring sentiment of input data.\u001b[39;49;00m\u001b[33m'\u001b[39;49;00m)\r\n",
      "\r\n",
      "    device = torch.device(\u001b[33m\"\u001b[39;49;00m\u001b[33mcuda\u001b[39;49;00m\u001b[33m\"\u001b[39;49;00m \u001b[34mif\u001b[39;49;00m torch.cuda.is_available() \u001b[34melse\u001b[39;49;00m \u001b[33m\"\u001b[39;49;00m\u001b[33mcpu\u001b[39;49;00m\u001b[33m\"\u001b[39;49;00m)\r\n",
      "    \r\n",
      "    \u001b[34mif\u001b[39;49;00m model.word_dict \u001b[35mis\u001b[39;49;00m \u001b[34mNone\u001b[39;49;00m:\r\n",
      "        \u001b[34mraise\u001b[39;49;00m \u001b[36mException\u001b[39;49;00m(\u001b[33m'\u001b[39;49;00m\u001b[33mModel has not been loaded properly, no word_dict.\u001b[39;49;00m\u001b[33m'\u001b[39;49;00m)\r\n",
      "    \r\n",
      "    \u001b[37m# TODO: Process input_data so that it is ready to be sent to our model.\u001b[39;49;00m\r\n",
      "    \u001b[37m#       You should produce two variables:\u001b[39;49;00m\r\n",
      "    \u001b[37m#         data_X   - A sequence of length 500 which represents the converted review\u001b[39;49;00m\r\n",
      "    \u001b[37m#         data_len - The length of the review\u001b[39;49;00m\r\n",
      "\r\n",
      "    data_X ,data_len = convert_and_pad(model.word_dict, review_to_words(input_data))\r\n",
      "\r\n",
      "    \u001b[37m# Using data_X and data_len we construct an appropriate input tensor. Remember\u001b[39;49;00m\r\n",
      "    \u001b[37m# that our model expects input data of the form 'len, review[500]'.\u001b[39;49;00m\r\n",
      "    data_pack = np.hstack((data_len, data_X))\r\n",
      "    data_pack = data_pack.reshape(\u001b[34m1\u001b[39;49;00m, -\u001b[34m1\u001b[39;49;00m)\r\n",
      "    \r\n",
      "    data = torch.from_numpy(data_pack)\r\n",
      "    data = data.to(device)\r\n",
      "\r\n",
      "    \u001b[37m# Make sure to put the model into evaluation mode\u001b[39;49;00m\r\n",
      "    model.eval()\r\n",
      "\r\n",
      "    \u001b[37m# TODO: Compute the result of applying the model to the input data. The variable `result` should\u001b[39;49;00m\r\n",
      "    \u001b[37m#       be a numpy array which contains a single integer which is either 1 or 0\u001b[39;49;00m\r\n",
      "\r\n",
      "    \u001b[34mwith\u001b[39;49;00m torch.no_grad():\r\n",
      "        output = model.forward(data)\r\n",
      "    \r\n",
      "    result = np.round(output.numpy())\r\n",
      "\r\n",
      "    \u001b[34mreturn\u001b[39;49;00m result\r\n"
     ]
    }
   ],
   "source": [
    "!pygmentize serve/predict.py"
   ]
  },
  {
   "cell_type": "markdown",
   "metadata": {},
   "source": [
    "As mentioned earlier, the `model_fn` method is the same as the one provided in the training code and the `input_fn` and `output_fn` methods are very simple and your task will be to complete the `predict_fn` method. \n",
    "\n",
    "**Note**: Our model expects input data of the form 'len, review[500]'. So make sure you produce two variables from processing: \n",
    "- `data_X`:  A sequence of length 500 which represents the converted review\n",
    "- `data_len`: - The length of the review\n",
    "\n",
    "Make sure that you save the completed file as `predict.py` in the `serve` directory.\n",
    "\n",
    "**TODO**: Complete the `predict_fn()` method in the `serve/predict.py` file."
   ]
  },
  {
   "cell_type": "markdown",
   "metadata": {},
   "source": [
    "### Deploying the model\n",
    "\n",
    "Now that the custom inference code has been written, we will create and deploy our model. To begin with, we need to construct a new PyTorchModel object which points to the model artifacts created during training and also points to the inference code that we wish to use. Then we can call the deploy method to launch the deployment container.\n",
    "\n",
    "**NOTE**: The default behaviour for a deployed PyTorch model is to assume that any input passed to the predictor is a `numpy` array. In our case we want to send a string so we need to construct a simple wrapper around the `RealTimePredictor` class to accomodate simple strings. In a more complicated situation you may want to provide a serialization object, for example if you wanted to sent image data."
   ]
  },
  {
   "cell_type": "code",
   "execution_count": 39,
   "metadata": {},
   "outputs": [
    {
     "name": "stderr",
     "output_type": "stream",
     "text": [
      "Parameter image will be renamed to image_uri in SageMaker Python SDK v2.\n",
      "'create_image_uri' will be deprecated in favor of 'ImageURIProvider' class in SageMaker Python SDK v2.\n"
     ]
    },
    {
     "name": "stdout",
     "output_type": "stream",
     "text": [
      "----------!"
     ]
    }
   ],
   "source": [
    "from sagemaker.predictor import RealTimePredictor\n",
    "from sagemaker.pytorch import PyTorchModel\n",
    "\n",
    "class StringPredictor(RealTimePredictor):\n",
    "    def __init__(self, endpoint_name, sagemaker_session):\n",
    "        super(StringPredictor, self).__init__(endpoint_name, sagemaker_session, content_type='text/plain')\n",
    "\n",
    "model = PyTorchModel(model_data=estimator.model_data,\n",
    "                     role = role,\n",
    "                     framework_version='0.4.0',\n",
    "                     entry_point='predict.py',\n",
    "                     source_dir='serve',\n",
    "                     predictor_cls=StringPredictor)\n",
    "predictor = model.deploy(initial_instance_count=1, instance_type='ml.m4.xlarge')"
   ]
  },
  {
   "cell_type": "markdown",
   "metadata": {},
   "source": [
    "### Testing the model\n",
    "\n",
    "Now that we have deployed our model with the custom inference code, we should test to see if everything is working. Here we test our model by loading the first `250` positive and negative reviews and send them to the endpoint, then collect the results. The reason for only sending some of the data is that the amount of time it takes for our model to process the input and then perform inference is quite long and so testing the entire data set would be prohibitive."
   ]
  },
  {
   "cell_type": "code",
   "execution_count": 40,
   "metadata": {},
   "outputs": [],
   "source": [
    "import glob\n",
    "\n",
    "def test_reviews(data_dir='../data/aclImdb', stop=250):\n",
    "    \n",
    "    results = []\n",
    "    ground = []\n",
    "    \n",
    "    # We make sure to test both positive and negative reviews    \n",
    "    for sentiment in ['pos', 'neg']:\n",
    "        \n",
    "        path = os.path.join(data_dir, 'test', sentiment, '*.txt')\n",
    "        files = glob.glob(path)\n",
    "        \n",
    "        files_read = 0\n",
    "        \n",
    "        print('Starting ', sentiment, ' files')\n",
    "        \n",
    "        # Iterate through the files and send them to the predictor\n",
    "        for f in files:\n",
    "            with open(f) as review:\n",
    "                # First, we store the ground truth (was the review positive or negative)\n",
    "                if sentiment == 'pos':\n",
    "                    ground.append(1)\n",
    "                else:\n",
    "                    ground.append(0)\n",
    "                # Read in the review and convert to 'utf-8' for transmission via HTTP\n",
    "                review_input = review.read().encode('utf-8')\n",
    "                # Send the review to the predictor and store the results\n",
    "                results.append(float(predictor.predict(review_input)))\n",
    "                \n",
    "            # Sending reviews to our endpoint one at a time takes a while so we\n",
    "            # only send a small number of reviews\n",
    "            files_read += 1\n",
    "            if files_read == stop:\n",
    "                break\n",
    "            \n",
    "    return ground, results"
   ]
  },
  {
   "cell_type": "code",
   "execution_count": 41,
   "metadata": {},
   "outputs": [
    {
     "name": "stdout",
     "output_type": "stream",
     "text": [
      "Starting  pos  files\n",
      "Starting  neg  files\n"
     ]
    }
   ],
   "source": [
    "ground, results = test_reviews()"
   ]
  },
  {
   "cell_type": "code",
   "execution_count": 42,
   "metadata": {},
   "outputs": [
    {
     "data": {
      "text/plain": [
       "0.846"
      ]
     },
     "execution_count": 42,
     "metadata": {},
     "output_type": "execute_result"
    }
   ],
   "source": [
    "from sklearn.metrics import accuracy_score\n",
    "accuracy_score(ground, results)"
   ]
  },
  {
   "cell_type": "markdown",
   "metadata": {},
   "source": [
    "As an additional test, we can try sending the `test_review` that we looked at earlier."
   ]
  },
  {
   "cell_type": "code",
   "execution_count": 43,
   "metadata": {},
   "outputs": [
    {
     "data": {
      "text/plain": [
       "b'1.0'"
      ]
     },
     "execution_count": 43,
     "metadata": {},
     "output_type": "execute_result"
    }
   ],
   "source": [
    "predictor.predict(test_review)"
   ]
  },
  {
   "cell_type": "markdown",
   "metadata": {},
   "source": [
    "Now that we know our endpoint is working as expected, we can set up the web page that will interact with it. If you don't have time to finish the project now, make sure to skip down to the end of this notebook and shut down your endpoint. You can deploy it again when you come back."
   ]
  },
  {
   "cell_type": "markdown",
   "metadata": {},
   "source": [
    "## Step 7 (again): Use the model for the web app\n",
    "\n",
    "> **TODO:** This entire section and the next contain tasks for you to complete, mostly using the AWS console.\n",
    "\n",
    "So far we have been accessing our model endpoint by constructing a predictor object which uses the endpoint and then just using the predictor object to perform inference. What if we wanted to create a web app which accessed our model? The way things are set up currently makes that not possible since in order to access a SageMaker endpoint the app would first have to authenticate with AWS using an IAM role which included access to SageMaker endpoints. However, there is an easier way! We just need to use some additional AWS services.\n",
    "\n",
    "<img src=\"Web App Diagram.svg\">\n",
    "\n",
    "The diagram above gives an overview of how the various services will work together. On the far right is the model which we trained above and which is deployed using SageMaker. On the far left is our web app that collects a user's movie review, sends it off and expects a positive or negative sentiment in return.\n",
    "\n",
    "In the middle is where some of the magic happens. We will construct a Lambda function, which you can think of as a straightforward Python function that can be executed whenever a specified event occurs. We will give this function permission to send and recieve data from a SageMaker endpoint.\n",
    "\n",
    "Lastly, the method we will use to execute the Lambda function is a new endpoint that we will create using API Gateway. This endpoint will be a url that listens for data to be sent to it. Once it gets some data it will pass that data on to the Lambda function and then return whatever the Lambda function returns. Essentially it will act as an interface that lets our web app communicate with the Lambda function.\n",
    "\n",
    "### Setting up a Lambda function\n",
    "\n",
    "The first thing we are going to do is set up a Lambda function. This Lambda function will be executed whenever our public API has data sent to it. When it is executed it will receive the data, perform any sort of processing that is required, send the data (the review) to the SageMaker endpoint we've created and then return the result.\n",
    "\n",
    "#### Part A: Create an IAM Role for the Lambda function\n",
    "\n",
    "Since we want the Lambda function to call a SageMaker endpoint, we need to make sure that it has permission to do so. To do this, we will construct a role that we can later give the Lambda function.\n",
    "\n",
    "Using the AWS Console, navigate to the **IAM** page and click on **Roles**. Then, click on **Create role**. Make sure that the **AWS service** is the type of trusted entity selected and choose **Lambda** as the service that will use this role, then click **Next: Permissions**.\n",
    "\n",
    "In the search box type `sagemaker` and select the check box next to the **AmazonSageMakerFullAccess** policy. Then, click on **Next: Review**.\n",
    "\n",
    "Lastly, give this role a name. Make sure you use a name that you will remember later on, for example `LambdaSageMakerRole`. Then, click on **Create role**.\n",
    "\n",
    "#### Part B: Create a Lambda function\n",
    "\n",
    "Now it is time to actually create the Lambda function.\n",
    "\n",
    "Using the AWS Console, navigate to the AWS Lambda page and click on **Create a function**. When you get to the next page, make sure that **Author from scratch** is selected. Now, name your Lambda function, using a name that you will remember later on, for example `sentiment_analysis_func`. Make sure that the **Python 3.6** runtime is selected and then choose the role that you created in the previous part. Then, click on **Create Function**.\n",
    "\n",
    "On the next page you will see some information about the Lambda function you've just created. If you scroll down you should see an editor in which you can write the code that will be executed when your Lambda function is triggered. In our example, we will use the code below. \n",
    "\n",
    "```python\n",
    "# We need to use the low-level library to interact with SageMaker since the SageMaker API\n",
    "# is not available natively through Lambda.\n",
    "import boto3\n",
    "\n",
    "def lambda_handler(event, context):\n",
    "\n",
    "    # The SageMaker runtime is what allows us to invoke the endpoint that we've created.\n",
    "    runtime = boto3.Session().client('sagemaker-runtime')\n",
    "\n",
    "    # Now we use the SageMaker runtime to invoke our endpoint, sending the review we were given\n",
    "    response = runtime.invoke_endpoint(EndpointName = '**ENDPOINT NAME HERE**',    # The name of the endpoint we created\n",
    "                                       ContentType = 'text/plain',                 # The data format that is expected\n",
    "                                       Body = event['body'])                       # The actual review\n",
    "\n",
    "    # The response is an HTTP response whose body contains the result of our inference\n",
    "    result = response['Body'].read().decode('utf-8')\n",
    "\n",
    "    return {\n",
    "        'statusCode' : 200,\n",
    "        'headers' : { 'Content-Type' : 'text/plain', 'Access-Control-Allow-Origin' : '*' },\n",
    "        'body' : result\n",
    "    }\n",
    "```\n",
    "\n",
    "Once you have copy and pasted the code above into the Lambda code editor, replace the `**ENDPOINT NAME HERE**` portion with the name of the endpoint that we deployed earlier. You can determine the name of the endpoint using the code cell below."
   ]
  },
  {
   "cell_type": "code",
   "execution_count": 44,
   "metadata": {},
   "outputs": [
    {
     "data": {
      "text/plain": [
       "'sagemaker-pytorch-2022-04-14-02-20-58-946'"
      ]
     },
     "execution_count": 44,
     "metadata": {},
     "output_type": "execute_result"
    }
   ],
   "source": [
    "predictor.endpoint"
   ]
  },
  {
   "cell_type": "markdown",
   "metadata": {},
   "source": [
    "Once you have added the endpoint name to the Lambda function, click on **Save**. Your Lambda function is now up and running. Next we need to create a way for our web app to execute the Lambda function.\n",
    "\n",
    "### Setting up API Gateway\n",
    "\n",
    "Now that our Lambda function is set up, it is time to create a new API using API Gateway that will trigger the Lambda function we have just created.\n",
    "\n",
    "Using AWS Console, navigate to **Amazon API Gateway** and then click on **Get started**.\n",
    "\n",
    "On the next page, make sure that **New API** is selected and give the new api a name, for example, `sentiment_analysis_api`. Then, click on **Create API**.\n",
    "\n",
    "Now we have created an API, however it doesn't currently do anything. What we want it to do is to trigger the Lambda function that we created earlier.\n",
    "\n",
    "Select the **Actions** dropdown menu and click **Create Method**. A new blank method will be created, select its dropdown menu and select **POST**, then click on the check mark beside it.\n",
    "\n",
    "For the integration point, make sure that **Lambda Function** is selected and click on the **Use Lambda Proxy integration**. This option makes sure that the data that is sent to the API is then sent directly to the Lambda function with no processing. It also means that the return value must be a proper response object as it will also not be processed by API Gateway.\n",
    "\n",
    "Type the name of the Lambda function you created earlier into the **Lambda Function** text entry box and then click on **Save**. Click on **OK** in the pop-up box that then appears, giving permission to API Gateway to invoke the Lambda function you created.\n",
    "\n",
    "The last step in creating the API Gateway is to select the **Actions** dropdown and click on **Deploy API**. You will need to create a new Deployment stage and name it anything you like, for example `prod`.\n",
    "\n",
    "You have now successfully set up a public API to access your SageMaker model. Make sure to copy or write down the URL provided to invoke your newly created public API as this will be needed in the next step. This URL can be found at the top of the page, highlighted in blue next to the text **Invoke URL**."
   ]
  },
  {
   "cell_type": "markdown",
   "metadata": {},
   "source": [
    "## Step 4: Deploying our web app\n",
    "\n",
    "Now that we have a publicly available API, we can start using it in a web app. For our purposes, we have provided a simple static html file which can make use of the public api you created earlier.\n",
    "\n",
    "In the `website` folder there should be a file called `index.html`. Download the file to your computer and open that file up in a text editor of your choice. There should be a line which contains **\\*\\*REPLACE WITH PUBLIC API URL\\*\\***. Replace this string with the url that you wrote down in the last step and then save the file.\n",
    "\n",
    "Now, if you open `index.html` on your local computer, your browser will behave as a local web server and you can use the provided site to interact with your SageMaker model.\n",
    "\n",
    "If you'd like to go further, you can host this html file anywhere you'd like, for example using github or hosting a static site on Amazon's S3. Once you have done this you can share the link with anyone you'd like and have them play with it too!\n",
    "\n",
    "> **Important Note** In order for the web app to communicate with the SageMaker endpoint, the endpoint has to actually be deployed and running. This means that you are paying for it. Make sure that the endpoint is running when you want to use the web app but that you shut it down when you don't need it, otherwise you will end up with a surprisingly large AWS bill.\n",
    "\n",
    "**TODO:** Make sure that you include the edited `index.html` file in your project submission."
   ]
  },
  {
   "cell_type": "markdown",
   "metadata": {},
   "source": [
    "Now that your web app is working, trying playing around with it and see how well it works.\n",
    "\n",
    "**Question**: Post a screenshot showing a sample review that you entered into your web app and the predicted sentiment. What was the predicted sentiment of your example review?"
   ]
  },
  {
   "cell_type": "markdown",
   "metadata": {},
   "source": [
    "**Screenshot:**\n",
    "\n",
    "<img src=\"../sagemaker-sentiment-analysis/website/Screenshot 2022-03-24 at 8.46.06 PM.png\"/>\n",
    "\n",
    "**Answer:**\n",
    "\n",
    "This is an actual review from the movie \"Encanto\" - the user gave the movie 9/10 in his/her review so I believe our model is accurate."
   ]
  },
  {
   "cell_type": "markdown",
   "metadata": {},
   "source": [
    "### Delete the endpoint\n",
    "\n",
    "Remember to always shut down your endpoint if you are no longer using it. You are charged for the length of time that the endpoint is running so if you forget and leave it on you could end up with an unexpectedly large bill."
   ]
  },
  {
   "cell_type": "code",
   "execution_count": 45,
   "metadata": {},
   "outputs": [],
   "source": [
    "predictor.delete_endpoint()"
   ]
  }
 ],
 "metadata": {
  "kernelspec": {
   "display_name": "conda_pytorch_p36",
   "language": "python",
   "name": "conda_pytorch_p36"
  },
  "language_info": {
   "codemirror_mode": {
    "name": "ipython",
    "version": 3
   },
   "file_extension": ".py",
   "mimetype": "text/x-python",
   "name": "python",
   "nbconvert_exporter": "python",
   "pygments_lexer": "ipython3",
   "version": "3.6.13"
  }
 },
 "nbformat": 4,
 "nbformat_minor": 4
}
